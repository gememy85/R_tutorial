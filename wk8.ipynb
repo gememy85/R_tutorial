{
 "cells": [
  {
   "cell_type": "markdown",
   "metadata": {},
   "source": [
    "- knitr 패키지를 이용해서 Latex를 사용할 수 있다."
   ]
  },
  {
   "cell_type": "code",
   "execution_count": 1,
   "metadata": {},
   "outputs": [
    {
     "ename": "ERROR",
     "evalue": "Error in parse(text = x, srcfile = src): <text>:1:2: unexpected symbol\n1: \\documentclass\n     ^\n",
     "output_type": "error",
     "traceback": [
      "Error in parse(text = x, srcfile = src): <text>:1:2: unexpected symbol\n1: \\documentclass\n     ^\nTraceback:\n"
     ]
    }
   ],
   "source": [
    "\\documentclass{article}\n",
    "% this is a comment\n",
    "\n",
    "\n",
    "\\usepackage{graphicx}\n",
    "\\DeclareGraphicsExtension{.png, .jpg}\n",
    "\n",
    "\\newcommand{\\dataframe}{\\texttt{data.frame}}\n",
    "\n",
    "\n",
    "\\author{Jared P. Lander}\n",
    "\\titel{A simple Article}\n",
    "\\date{August 28th, 2013}\n",
    "\n",
    "\n",
    "\\begin{document}\n",
    "\\maketitle\n",
    "\\tableofcontents\n",
    "\n",
    "\\section{Getting Started}\n",
    "\\label{sec: GettingStarted}\n",
    "This is the end\n",
    "\n",
    "A new paragraph comes after a blank line.\n",
    "\\end{document}\n",
    "\\label{sec:MoreInfo}\n",
    "Here is another section. In \\ref{sec:Getting Started} we learned about \\dataframe{}s/\n",
    "\n",
    "\\subsection{First subsection}\n",
    "\\label{Firstsub}\n",
    "Content for a s subsection\n",
    "\n",
    "\\"
   ]
  },
  {
   "cell_type": "code",
   "execution_count": null,
   "metadata": {},
   "outputs": [],
   "source": []
  }
 ],
 "metadata": {
  "kernelspec": {
   "display_name": "R",
   "language": "R",
   "name": "ir"
  },
  "language_info": {
   "codemirror_mode": "r",
   "file_extension": ".r",
   "mimetype": "text/x-r-source",
   "name": "R",
   "pygments_lexer": "r",
   "version": "4.1.0"
  },
  "toc": {
   "base_numbering": 1,
   "nav_menu": {},
   "number_sections": true,
   "sideBar": true,
   "skip_h1_title": false,
   "title_cell": "Table of Contents",
   "title_sidebar": "Contents",
   "toc_cell": false,
   "toc_position": {},
   "toc_section_display": true,
   "toc_window_display": false
  }
 },
 "nbformat": 4,
 "nbformat_minor": 4
}
