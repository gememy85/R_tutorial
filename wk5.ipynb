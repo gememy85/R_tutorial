{
 "cells": [
  {
   "cell_type": "code",
   "execution_count": 1,
   "metadata": {},
   "outputs": [],
   "source": [
    "theMatrix <- matrix(1:9, nrow=3)"
   ]
  },
  {
   "cell_type": "code",
   "execution_count": 2,
   "metadata": {},
   "outputs": [
    {
     "data": {
      "text/html": [
       "<table class=\"dataframe\">\n",
       "<caption>A matrix: 3 × 3 of type int</caption>\n",
       "<tbody>\n",
       "\t<tr><td>1</td><td>4</td><td>7</td></tr>\n",
       "\t<tr><td>2</td><td>5</td><td>8</td></tr>\n",
       "\t<tr><td>3</td><td>6</td><td>9</td></tr>\n",
       "</tbody>\n",
       "</table>\n"
      ],
      "text/latex": [
       "A matrix: 3 × 3 of type int\n",
       "\\begin{tabular}{lll}\n",
       "\t 1 & 4 & 7\\\\\n",
       "\t 2 & 5 & 8\\\\\n",
       "\t 3 & 6 & 9\\\\\n",
       "\\end{tabular}\n"
      ],
      "text/markdown": [
       "\n",
       "A matrix: 3 × 3 of type int\n",
       "\n",
       "| 1 | 4 | 7 |\n",
       "| 2 | 5 | 8 |\n",
       "| 3 | 6 | 9 |\n",
       "\n"
      ],
      "text/plain": [
       "     [,1] [,2] [,3]\n",
       "[1,] 1    4    7   \n",
       "[2,] 2    5    8   \n",
       "[3,] 3    6    9   "
      ]
     },
     "metadata": {},
     "output_type": "display_data"
    }
   ],
   "source": [
    "theMatrix"
   ]
  },
  {
   "cell_type": "code",
   "execution_count": 4,
   "metadata": {},
   "outputs": [
    {
     "data": {
      "text/html": [
       "<style>\n",
       ".list-inline {list-style: none; margin:0; padding: 0}\n",
       ".list-inline>li {display: inline-block}\n",
       ".list-inline>li:not(:last-child)::after {content: \"\\00b7\"; padding: 0 .5ex}\n",
       "</style>\n",
       "<ol class=list-inline><li>6</li><li>15</li><li>24</li></ol>\n"
      ],
      "text/latex": [
       "\\begin{enumerate*}\n",
       "\\item 6\n",
       "\\item 15\n",
       "\\item 24\n",
       "\\end{enumerate*}\n"
      ],
      "text/markdown": [
       "1. 6\n",
       "2. 15\n",
       "3. 24\n",
       "\n",
       "\n"
      ],
      "text/plain": [
       "[1]  6 15 24"
      ]
     },
     "metadata": {},
     "output_type": "display_data"
    },
    {
     "data": {
      "text/html": [
       "<style>\n",
       ".list-inline {list-style: none; margin:0; padding: 0}\n",
       ".list-inline>li {display: inline-block}\n",
       ".list-inline>li:not(:last-child)::after {content: \"\\00b7\"; padding: 0 .5ex}\n",
       "</style>\n",
       "<ol class=list-inline><li>12</li><li>15</li><li>18</li></ol>\n"
      ],
      "text/latex": [
       "\\begin{enumerate*}\n",
       "\\item 12\n",
       "\\item 15\n",
       "\\item 18\n",
       "\\end{enumerate*}\n"
      ],
      "text/markdown": [
       "1. 12\n",
       "2. 15\n",
       "3. 18\n",
       "\n",
       "\n"
      ],
      "text/plain": [
       "[1] 12 15 18"
      ]
     },
     "metadata": {},
     "output_type": "display_data"
    }
   ],
   "source": [
    "# apply는 매트릭스를 받는다. \n",
    "apply(theMatrix,MARGIN = 2, sum) #마진은 컬럼으로 더해준다.\n",
    "apply(theMatrix,MARGIN = 1, sum)"
   ]
  },
  {
   "cell_type": "code",
   "execution_count": 6,
   "metadata": {},
   "outputs": [
    {
     "data": {
      "text/html": [
       "<style>\n",
       ".list-inline {list-style: none; margin:0; padding: 0}\n",
       ".list-inline>li {display: inline-block}\n",
       ".list-inline>li:not(:last-child)::after {content: \"\\00b7\"; padding: 0 .5ex}\n",
       "</style>\n",
       "<ol class=list-inline><li>6</li><li>15</li><li>24</li></ol>\n"
      ],
      "text/latex": [
       "\\begin{enumerate*}\n",
       "\\item 6\n",
       "\\item 15\n",
       "\\item 24\n",
       "\\end{enumerate*}\n"
      ],
      "text/markdown": [
       "1. 6\n",
       "2. 15\n",
       "3. 24\n",
       "\n",
       "\n"
      ],
      "text/plain": [
       "[1]  6 15 24"
      ]
     },
     "metadata": {},
     "output_type": "display_data"
    },
    {
     "data": {
      "text/html": [
       "<style>\n",
       ".list-inline {list-style: none; margin:0; padding: 0}\n",
       ".list-inline>li {display: inline-block}\n",
       ".list-inline>li:not(:last-child)::after {content: \"\\00b7\"; padding: 0 .5ex}\n",
       "</style>\n",
       "<ol class=list-inline><li>12</li><li>15</li><li>18</li></ol>\n"
      ],
      "text/latex": [
       "\\begin{enumerate*}\n",
       "\\item 12\n",
       "\\item 15\n",
       "\\item 18\n",
       "\\end{enumerate*}\n"
      ],
      "text/markdown": [
       "1. 12\n",
       "2. 15\n",
       "3. 18\n",
       "\n",
       "\n"
      ],
      "text/plain": [
       "[1] 12 15 18"
      ]
     },
     "metadata": {},
     "output_type": "display_data"
    }
   ],
   "source": [
    "colSums(theMatrix)\n",
    "rowSums(theMatrix)"
   ]
  },
  {
   "cell_type": "code",
   "execution_count": 7,
   "metadata": {},
   "outputs": [],
   "source": [
    "theMatrix[2, 1] <- NA"
   ]
  },
  {
   "cell_type": "code",
   "execution_count": 12,
   "metadata": {},
   "outputs": [
    {
     "data": {
      "text/html": [
       "<table class=\"dataframe\">\n",
       "<caption>A matrix: 3 × 3 of type int</caption>\n",
       "<tbody>\n",
       "\t<tr><td> 1</td><td>4</td><td>7</td></tr>\n",
       "\t<tr><td>NA</td><td>5</td><td>8</td></tr>\n",
       "\t<tr><td> 3</td><td>6</td><td>9</td></tr>\n",
       "</tbody>\n",
       "</table>\n"
      ],
      "text/latex": [
       "A matrix: 3 × 3 of type int\n",
       "\\begin{tabular}{lll}\n",
       "\t  1 & 4 & 7\\\\\n",
       "\t NA & 5 & 8\\\\\n",
       "\t  3 & 6 & 9\\\\\n",
       "\\end{tabular}\n"
      ],
      "text/markdown": [
       "\n",
       "A matrix: 3 × 3 of type int\n",
       "\n",
       "|  1 | 4 | 7 |\n",
       "| NA | 5 | 8 |\n",
       "|  3 | 6 | 9 |\n",
       "\n"
      ],
      "text/plain": [
       "     [,1] [,2] [,3]\n",
       "[1,]  1   4    7   \n",
       "[2,] NA   5    8   \n",
       "[3,]  3   6    9   "
      ]
     },
     "metadata": {},
     "output_type": "display_data"
    },
    {
     "data": {
      "text/html": [
       "<style>\n",
       ".list-inline {list-style: none; margin:0; padding: 0}\n",
       ".list-inline>li {display: inline-block}\n",
       ".list-inline>li:not(:last-child)::after {content: \"\\00b7\"; padding: 0 .5ex}\n",
       "</style>\n",
       "<ol class=list-inline><li>12</li><li>&lt;NA&gt;</li><li>18</li></ol>\n"
      ],
      "text/latex": [
       "\\begin{enumerate*}\n",
       "\\item 12\n",
       "\\item <NA>\n",
       "\\item 18\n",
       "\\end{enumerate*}\n"
      ],
      "text/markdown": [
       "1. 12\n",
       "2. &lt;NA&gt;\n",
       "3. 18\n",
       "\n",
       "\n"
      ],
      "text/plain": [
       "[1] 12 NA 18"
      ]
     },
     "metadata": {},
     "output_type": "display_data"
    },
    {
     "data": {
      "text/html": [
       "<style>\n",
       ".list-inline {list-style: none; margin:0; padding: 0}\n",
       ".list-inline>li {display: inline-block}\n",
       ".list-inline>li:not(:last-child)::after {content: \"\\00b7\"; padding: 0 .5ex}\n",
       "</style>\n",
       "<ol class=list-inline><li>12</li><li>13</li><li>18</li></ol>\n"
      ],
      "text/latex": [
       "\\begin{enumerate*}\n",
       "\\item 12\n",
       "\\item 13\n",
       "\\item 18\n",
       "\\end{enumerate*}\n"
      ],
      "text/markdown": [
       "1. 12\n",
       "2. 13\n",
       "3. 18\n",
       "\n",
       "\n"
      ],
      "text/plain": [
       "[1] 12 13 18"
      ]
     },
     "metadata": {},
     "output_type": "display_data"
    },
    {
     "data": {
      "text/html": [
       "<style>\n",
       ".list-inline {list-style: none; margin:0; padding: 0}\n",
       ".list-inline>li {display: inline-block}\n",
       ".list-inline>li:not(:last-child)::after {content: \"\\00b7\"; padding: 0 .5ex}\n",
       "</style>\n",
       "<ol class=list-inline><li>12</li><li>&lt;NA&gt;</li><li>18</li></ol>\n"
      ],
      "text/latex": [
       "\\begin{enumerate*}\n",
       "\\item 12\n",
       "\\item <NA>\n",
       "\\item 18\n",
       "\\end{enumerate*}\n"
      ],
      "text/markdown": [
       "1. 12\n",
       "2. &lt;NA&gt;\n",
       "3. 18\n",
       "\n",
       "\n"
      ],
      "text/plain": [
       "[1] 12 NA 18"
      ]
     },
     "metadata": {},
     "output_type": "display_data"
    },
    {
     "data": {
      "text/html": [
       "<style>\n",
       ".list-inline {list-style: none; margin:0; padding: 0}\n",
       ".list-inline>li {display: inline-block}\n",
       ".list-inline>li:not(:last-child)::after {content: \"\\00b7\"; padding: 0 .5ex}\n",
       "</style>\n",
       "<ol class=list-inline><li>12</li><li>13</li><li>18</li></ol>\n"
      ],
      "text/latex": [
       "\\begin{enumerate*}\n",
       "\\item 12\n",
       "\\item 13\n",
       "\\item 18\n",
       "\\end{enumerate*}\n"
      ],
      "text/markdown": [
       "1. 12\n",
       "2. 13\n",
       "3. 18\n",
       "\n",
       "\n"
      ],
      "text/plain": [
       "[1] 12 13 18"
      ]
     },
     "metadata": {},
     "output_type": "display_data"
    }
   ],
   "source": [
    "theMatrix\n",
    "\n",
    "apply(theMatrix, 1, sum) # NA가 있으면 더해지지 않는다. \n",
    "apply(theMatrix, 1, sum, na.rm=TRUE)\n",
    "rowSums(theMatrix)\n",
    "rowSums(theMatrix, na.rm=TRUE)"
   ]
  },
  {
   "cell_type": "code",
   "execution_count": 15,
   "metadata": {},
   "outputs": [
    {
     "data": {
      "text/html": [
       "<dl>\n",
       "\t<dt>$A</dt>\n",
       "\t\t<dd><table class=\"dataframe\">\n",
       "<caption>A matrix: 3 × 3 of type int</caption>\n",
       "<tbody>\n",
       "\t<tr><td>1</td><td>4</td><td>7</td></tr>\n",
       "\t<tr><td>2</td><td>5</td><td>8</td></tr>\n",
       "\t<tr><td>3</td><td>6</td><td>9</td></tr>\n",
       "</tbody>\n",
       "</table>\n",
       "</dd>\n",
       "\t<dt>$B</dt>\n",
       "\t\t<dd><style>\n",
       ".list-inline {list-style: none; margin:0; padding: 0}\n",
       ".list-inline>li {display: inline-block}\n",
       ".list-inline>li:not(:last-child)::after {content: \"\\00b7\"; padding: 0 .5ex}\n",
       "</style>\n",
       "<ol class=list-inline><li>1</li><li>2</li><li>3</li><li>4</li><li>5</li></ol>\n",
       "</dd>\n",
       "\t<dt>$c</dt>\n",
       "\t\t<dd><table class=\"dataframe\">\n",
       "<caption>A matrix: 2 × 2 of type int</caption>\n",
       "<tbody>\n",
       "\t<tr><td>1</td><td>3</td></tr>\n",
       "\t<tr><td>2</td><td>4</td></tr>\n",
       "</tbody>\n",
       "</table>\n",
       "</dd>\n",
       "\t<dt>$D</dt>\n",
       "\t\t<dd>2</dd>\n",
       "</dl>\n"
      ],
      "text/latex": [
       "\\begin{description}\n",
       "\\item[\\$A] A matrix: 3 × 3 of type int\n",
       "\\begin{tabular}{lll}\n",
       "\t 1 & 4 & 7\\\\\n",
       "\t 2 & 5 & 8\\\\\n",
       "\t 3 & 6 & 9\\\\\n",
       "\\end{tabular}\n",
       "\n",
       "\\item[\\$B] \\begin{enumerate*}\n",
       "\\item 1\n",
       "\\item 2\n",
       "\\item 3\n",
       "\\item 4\n",
       "\\item 5\n",
       "\\end{enumerate*}\n",
       "\n",
       "\\item[\\$c] A matrix: 2 × 2 of type int\n",
       "\\begin{tabular}{ll}\n",
       "\t 1 & 3\\\\\n",
       "\t 2 & 4\\\\\n",
       "\\end{tabular}\n",
       "\n",
       "\\item[\\$D] 2\n",
       "\\end{description}\n"
      ],
      "text/markdown": [
       "$A\n",
       ":   \n",
       "A matrix: 3 × 3 of type int\n",
       "\n",
       "| 1 | 4 | 7 |\n",
       "| 2 | 5 | 8 |\n",
       "| 3 | 6 | 9 |\n",
       "\n",
       "\n",
       "$B\n",
       ":   1. 1\n",
       "2. 2\n",
       "3. 3\n",
       "4. 4\n",
       "5. 5\n",
       "\n",
       "\n",
       "\n",
       "$c\n",
       ":   \n",
       "A matrix: 2 × 2 of type int\n",
       "\n",
       "| 1 | 3 |\n",
       "| 2 | 4 |\n",
       "\n",
       "\n",
       "$D\n",
       ":   2\n",
       "\n",
       "\n"
      ],
      "text/plain": [
       "$A\n",
       "     [,1] [,2] [,3]\n",
       "[1,]    1    4    7\n",
       "[2,]    2    5    8\n",
       "[3,]    3    6    9\n",
       "\n",
       "$B\n",
       "[1] 1 2 3 4 5\n",
       "\n",
       "$c\n",
       "     [,1] [,2]\n",
       "[1,]    1    3\n",
       "[2,]    2    4\n",
       "\n",
       "$D\n",
       "[1] 2\n"
      ]
     },
     "metadata": {},
     "output_type": "display_data"
    }
   ],
   "source": [
    "theList <- list(A=matrix(1:9, nrow=3), B=1:5, c=matrix(1:4, 2), D=2)\n",
    "theList"
   ]
  },
  {
   "cell_type": "code",
   "execution_count": 17,
   "metadata": {},
   "outputs": [
    {
     "data": {
      "text/html": [
       "<dl>\n",
       "\t<dt>$A</dt>\n",
       "\t\t<dd>45</dd>\n",
       "\t<dt>$B</dt>\n",
       "\t\t<dd>15</dd>\n",
       "\t<dt>$c</dt>\n",
       "\t\t<dd>10</dd>\n",
       "\t<dt>$D</dt>\n",
       "\t\t<dd>2</dd>\n",
       "</dl>\n"
      ],
      "text/latex": [
       "\\begin{description}\n",
       "\\item[\\$A] 45\n",
       "\\item[\\$B] 15\n",
       "\\item[\\$c] 10\n",
       "\\item[\\$D] 2\n",
       "\\end{description}\n"
      ],
      "text/markdown": [
       "$A\n",
       ":   45\n",
       "$B\n",
       ":   15\n",
       "$c\n",
       ":   10\n",
       "$D\n",
       ":   2\n",
       "\n",
       "\n"
      ],
      "text/plain": [
       "$A\n",
       "[1] 45\n",
       "\n",
       "$B\n",
       "[1] 15\n",
       "\n",
       "$c\n",
       "[1] 10\n",
       "\n",
       "$D\n",
       "[1] 2\n"
      ]
     },
     "metadata": {},
     "output_type": "display_data"
    },
    {
     "data": {
      "text/html": [
       "<style>\n",
       ".dl-inline {width: auto; margin:0; padding: 0}\n",
       ".dl-inline>dt, .dl-inline>dd {float: none; width: auto; display: inline-block}\n",
       ".dl-inline>dt::after {content: \":\\0020\"; padding-right: .5ex}\n",
       ".dl-inline>dt:not(:first-of-type) {padding-left: .5ex}\n",
       "</style><dl class=dl-inline><dt>A</dt><dd>45</dd><dt>B</dt><dd>15</dd><dt>c</dt><dd>10</dd><dt>D</dt><dd>2</dd></dl>\n"
      ],
      "text/latex": [
       "\\begin{description*}\n",
       "\\item[A] 45\n",
       "\\item[B] 15\n",
       "\\item[c] 10\n",
       "\\item[D] 2\n",
       "\\end{description*}\n"
      ],
      "text/markdown": [
       "A\n",
       ":   45B\n",
       ":   15c\n",
       ":   10D\n",
       ":   2\n",
       "\n"
      ],
      "text/plain": [
       " A  B  c  D \n",
       "45 15 10  2 "
      ]
     },
     "metadata": {},
     "output_type": "display_data"
    }
   ],
   "source": [
    "lapply(theList, sum) # 리스트 안에 있는 모든 값들을 더해준다.\n",
    "sapply(theList, sum) # vector를 최대한 반환한다"
   ]
  },
  {
   "cell_type": "code",
   "execution_count": 18,
   "metadata": {},
   "outputs": [],
   "source": [
    "theNames <- c(\"Jared\", \"Deb\", \"Paul\")"
   ]
  },
  {
   "cell_type": "code",
   "execution_count": 19,
   "metadata": {},
   "outputs": [
    {
     "data": {
      "text/html": [
       "<ol>\n",
       "\t<li>5</li>\n",
       "\t<li>3</li>\n",
       "\t<li>4</li>\n",
       "</ol>\n"
      ],
      "text/latex": [
       "\\begin{enumerate}\n",
       "\\item 5\n",
       "\\item 3\n",
       "\\item 4\n",
       "\\end{enumerate}\n"
      ],
      "text/markdown": [
       "1. 5\n",
       "2. 3\n",
       "3. 4\n",
       "\n",
       "\n"
      ],
      "text/plain": [
       "[[1]]\n",
       "[1] 5\n",
       "\n",
       "[[2]]\n",
       "[1] 3\n",
       "\n",
       "[[3]]\n",
       "[1] 4\n"
      ]
     },
     "metadata": {},
     "output_type": "display_data"
    }
   ],
   "source": [
    "lapply(theNames, nchar)"
   ]
  },
  {
   "cell_type": "markdown",
   "metadata": {},
   "source": [
    "iteration을 어떻게 할까??"
   ]
  },
  {
   "cell_type": "code",
   "execution_count": 20,
   "metadata": {},
   "outputs": [],
   "source": [
    "firstList <- list(A=matrix(1:16, 4), B=matrix(1:16, 2), c=1:5)\n",
    "secondList <- list(A=matrix(1:16, 4), B=matrix(1:16, 8), c=15:1)"
   ]
  },
  {
   "cell_type": "code",
   "execution_count": 22,
   "metadata": {},
   "outputs": [
    {
     "data": {
      "text/html": [
       "<dl>\n",
       "\t<dt>$A</dt>\n",
       "\t\t<dd><table class=\"dataframe\">\n",
       "<caption>A matrix: 4 × 4 of type int</caption>\n",
       "<tbody>\n",
       "\t<tr><td>1</td><td>5</td><td> 9</td><td>13</td></tr>\n",
       "\t<tr><td>2</td><td>6</td><td>10</td><td>14</td></tr>\n",
       "\t<tr><td>3</td><td>7</td><td>11</td><td>15</td></tr>\n",
       "\t<tr><td>4</td><td>8</td><td>12</td><td>16</td></tr>\n",
       "</tbody>\n",
       "</table>\n",
       "</dd>\n",
       "\t<dt>$B</dt>\n",
       "\t\t<dd><table class=\"dataframe\">\n",
       "<caption>A matrix: 2 × 8 of type int</caption>\n",
       "<tbody>\n",
       "\t<tr><td>1</td><td>3</td><td>5</td><td>7</td><td> 9</td><td>11</td><td>13</td><td>15</td></tr>\n",
       "\t<tr><td>2</td><td>4</td><td>6</td><td>8</td><td>10</td><td>12</td><td>14</td><td>16</td></tr>\n",
       "</tbody>\n",
       "</table>\n",
       "</dd>\n",
       "\t<dt>$c</dt>\n",
       "\t\t<dd><style>\n",
       ".list-inline {list-style: none; margin:0; padding: 0}\n",
       ".list-inline>li {display: inline-block}\n",
       ".list-inline>li:not(:last-child)::after {content: \"\\00b7\"; padding: 0 .5ex}\n",
       "</style>\n",
       "<ol class=list-inline><li>1</li><li>2</li><li>3</li><li>4</li><li>5</li></ol>\n",
       "</dd>\n",
       "</dl>\n"
      ],
      "text/latex": [
       "\\begin{description}\n",
       "\\item[\\$A] A matrix: 4 × 4 of type int\n",
       "\\begin{tabular}{llll}\n",
       "\t 1 & 5 &  9 & 13\\\\\n",
       "\t 2 & 6 & 10 & 14\\\\\n",
       "\t 3 & 7 & 11 & 15\\\\\n",
       "\t 4 & 8 & 12 & 16\\\\\n",
       "\\end{tabular}\n",
       "\n",
       "\\item[\\$B] A matrix: 2 × 8 of type int\n",
       "\\begin{tabular}{llllllll}\n",
       "\t 1 & 3 & 5 & 7 &  9 & 11 & 13 & 15\\\\\n",
       "\t 2 & 4 & 6 & 8 & 10 & 12 & 14 & 16\\\\\n",
       "\\end{tabular}\n",
       "\n",
       "\\item[\\$c] \\begin{enumerate*}\n",
       "\\item 1\n",
       "\\item 2\n",
       "\\item 3\n",
       "\\item 4\n",
       "\\item 5\n",
       "\\end{enumerate*}\n",
       "\n",
       "\\end{description}\n"
      ],
      "text/markdown": [
       "$A\n",
       ":   \n",
       "A matrix: 4 × 4 of type int\n",
       "\n",
       "| 1 | 5 |  9 | 13 |\n",
       "| 2 | 6 | 10 | 14 |\n",
       "| 3 | 7 | 11 | 15 |\n",
       "| 4 | 8 | 12 | 16 |\n",
       "\n",
       "\n",
       "$B\n",
       ":   \n",
       "A matrix: 2 × 8 of type int\n",
       "\n",
       "| 1 | 3 | 5 | 7 |  9 | 11 | 13 | 15 |\n",
       "| 2 | 4 | 6 | 8 | 10 | 12 | 14 | 16 |\n",
       "\n",
       "\n",
       "$c\n",
       ":   1. 1\n",
       "2. 2\n",
       "3. 3\n",
       "4. 4\n",
       "5. 5\n",
       "\n",
       "\n",
       "\n",
       "\n",
       "\n"
      ],
      "text/plain": [
       "$A\n",
       "     [,1] [,2] [,3] [,4]\n",
       "[1,]    1    5    9   13\n",
       "[2,]    2    6   10   14\n",
       "[3,]    3    7   11   15\n",
       "[4,]    4    8   12   16\n",
       "\n",
       "$B\n",
       "     [,1] [,2] [,3] [,4] [,5] [,6] [,7] [,8]\n",
       "[1,]    1    3    5    7    9   11   13   15\n",
       "[2,]    2    4    6    8   10   12   14   16\n",
       "\n",
       "$c\n",
       "[1] 1 2 3 4 5\n"
      ]
     },
     "metadata": {},
     "output_type": "display_data"
    },
    {
     "data": {
      "text/html": [
       "<dl>\n",
       "\t<dt>$A</dt>\n",
       "\t\t<dd><table class=\"dataframe\">\n",
       "<caption>A matrix: 4 × 4 of type int</caption>\n",
       "<tbody>\n",
       "\t<tr><td>1</td><td>5</td><td> 9</td><td>13</td></tr>\n",
       "\t<tr><td>2</td><td>6</td><td>10</td><td>14</td></tr>\n",
       "\t<tr><td>3</td><td>7</td><td>11</td><td>15</td></tr>\n",
       "\t<tr><td>4</td><td>8</td><td>12</td><td>16</td></tr>\n",
       "</tbody>\n",
       "</table>\n",
       "</dd>\n",
       "\t<dt>$B</dt>\n",
       "\t\t<dd><table class=\"dataframe\">\n",
       "<caption>A matrix: 8 × 2 of type int</caption>\n",
       "<tbody>\n",
       "\t<tr><td>1</td><td> 9</td></tr>\n",
       "\t<tr><td>2</td><td>10</td></tr>\n",
       "\t<tr><td>3</td><td>11</td></tr>\n",
       "\t<tr><td>4</td><td>12</td></tr>\n",
       "\t<tr><td>5</td><td>13</td></tr>\n",
       "\t<tr><td>6</td><td>14</td></tr>\n",
       "\t<tr><td>7</td><td>15</td></tr>\n",
       "\t<tr><td>8</td><td>16</td></tr>\n",
       "</tbody>\n",
       "</table>\n",
       "</dd>\n",
       "\t<dt>$c</dt>\n",
       "\t\t<dd><style>\n",
       ".list-inline {list-style: none; margin:0; padding: 0}\n",
       ".list-inline>li {display: inline-block}\n",
       ".list-inline>li:not(:last-child)::after {content: \"\\00b7\"; padding: 0 .5ex}\n",
       "</style>\n",
       "<ol class=list-inline><li>15</li><li>14</li><li>13</li><li>12</li><li>11</li><li>10</li><li>9</li><li>8</li><li>7</li><li>6</li><li>5</li><li>4</li><li>3</li><li>2</li><li>1</li></ol>\n",
       "</dd>\n",
       "</dl>\n"
      ],
      "text/latex": [
       "\\begin{description}\n",
       "\\item[\\$A] A matrix: 4 × 4 of type int\n",
       "\\begin{tabular}{llll}\n",
       "\t 1 & 5 &  9 & 13\\\\\n",
       "\t 2 & 6 & 10 & 14\\\\\n",
       "\t 3 & 7 & 11 & 15\\\\\n",
       "\t 4 & 8 & 12 & 16\\\\\n",
       "\\end{tabular}\n",
       "\n",
       "\\item[\\$B] A matrix: 8 × 2 of type int\n",
       "\\begin{tabular}{ll}\n",
       "\t 1 &  9\\\\\n",
       "\t 2 & 10\\\\\n",
       "\t 3 & 11\\\\\n",
       "\t 4 & 12\\\\\n",
       "\t 5 & 13\\\\\n",
       "\t 6 & 14\\\\\n",
       "\t 7 & 15\\\\\n",
       "\t 8 & 16\\\\\n",
       "\\end{tabular}\n",
       "\n",
       "\\item[\\$c] \\begin{enumerate*}\n",
       "\\item 15\n",
       "\\item 14\n",
       "\\item 13\n",
       "\\item 12\n",
       "\\item 11\n",
       "\\item 10\n",
       "\\item 9\n",
       "\\item 8\n",
       "\\item 7\n",
       "\\item 6\n",
       "\\item 5\n",
       "\\item 4\n",
       "\\item 3\n",
       "\\item 2\n",
       "\\item 1\n",
       "\\end{enumerate*}\n",
       "\n",
       "\\end{description}\n"
      ],
      "text/markdown": [
       "$A\n",
       ":   \n",
       "A matrix: 4 × 4 of type int\n",
       "\n",
       "| 1 | 5 |  9 | 13 |\n",
       "| 2 | 6 | 10 | 14 |\n",
       "| 3 | 7 | 11 | 15 |\n",
       "| 4 | 8 | 12 | 16 |\n",
       "\n",
       "\n",
       "$B\n",
       ":   \n",
       "A matrix: 8 × 2 of type int\n",
       "\n",
       "| 1 |  9 |\n",
       "| 2 | 10 |\n",
       "| 3 | 11 |\n",
       "| 4 | 12 |\n",
       "| 5 | 13 |\n",
       "| 6 | 14 |\n",
       "| 7 | 15 |\n",
       "| 8 | 16 |\n",
       "\n",
       "\n",
       "$c\n",
       ":   1. 15\n",
       "2. 14\n",
       "3. 13\n",
       "4. 12\n",
       "5. 11\n",
       "6. 10\n",
       "7. 9\n",
       "8. 8\n",
       "9. 7\n",
       "10. 6\n",
       "11. 5\n",
       "12. 4\n",
       "13. 3\n",
       "14. 2\n",
       "15. 1\n",
       "\n",
       "\n",
       "\n",
       "\n",
       "\n"
      ],
      "text/plain": [
       "$A\n",
       "     [,1] [,2] [,3] [,4]\n",
       "[1,]    1    5    9   13\n",
       "[2,]    2    6   10   14\n",
       "[3,]    3    7   11   15\n",
       "[4,]    4    8   12   16\n",
       "\n",
       "$B\n",
       "     [,1] [,2]\n",
       "[1,]    1    9\n",
       "[2,]    2   10\n",
       "[3,]    3   11\n",
       "[4,]    4   12\n",
       "[5,]    5   13\n",
       "[6,]    6   14\n",
       "[7,]    7   15\n",
       "[8,]    8   16\n",
       "\n",
       "$c\n",
       " [1] 15 14 13 12 11 10  9  8  7  6  5  4  3  2  1\n"
      ]
     },
     "metadata": {},
     "output_type": "display_data"
    }
   ],
   "source": [
    "firstList\n",
    "secondList"
   ]
  },
  {
   "cell_type": "code",
   "execution_count": 23,
   "metadata": {},
   "outputs": [
    {
     "data": {
      "text/html": [
       "<style>\n",
       ".dl-inline {width: auto; margin:0; padding: 0}\n",
       ".dl-inline>dt, .dl-inline>dd {float: none; width: auto; display: inline-block}\n",
       ".dl-inline>dt::after {content: \":\\0020\"; padding-right: .5ex}\n",
       ".dl-inline>dt:not(:first-of-type) {padding-left: .5ex}\n",
       "</style><dl class=dl-inline><dt>A</dt><dd>TRUE</dd><dt>B</dt><dd>FALSE</dd><dt>c</dt><dd>FALSE</dd></dl>\n"
      ],
      "text/latex": [
       "\\begin{description*}\n",
       "\\item[A] TRUE\n",
       "\\item[B] FALSE\n",
       "\\item[c] FALSE\n",
       "\\end{description*}\n"
      ],
      "text/markdown": [
       "A\n",
       ":   TRUEB\n",
       ":   FALSEc\n",
       ":   FALSE\n",
       "\n"
      ],
      "text/plain": [
       "    A     B     c \n",
       " TRUE FALSE FALSE "
      ]
     },
     "metadata": {},
     "output_type": "display_data"
    }
   ],
   "source": [
    "mapply(identical, firstList, secondList) \n",
    "# 각 요소별로 같은지 다른지 확인해준다. \n",
    "# identical은 동일한지 아닌지 확인해주는 function이다."
   ]
  },
  {
   "cell_type": "code",
   "execution_count": 24,
   "metadata": {},
   "outputs": [],
   "source": [
    "simplefunc <- function(x, y){\n",
    "    NROW(x) + NROW(y) # vector가 오면 그 길이를 반환해준다.\n",
    "}"
   ]
  },
  {
   "cell_type": "code",
   "execution_count": 25,
   "metadata": {},
   "outputs": [
    {
     "data": {
      "text/html": [
       "<style>\n",
       ".dl-inline {width: auto; margin:0; padding: 0}\n",
       ".dl-inline>dt, .dl-inline>dd {float: none; width: auto; display: inline-block}\n",
       ".dl-inline>dt::after {content: \":\\0020\"; padding-right: .5ex}\n",
       ".dl-inline>dt:not(:first-of-type) {padding-left: .5ex}\n",
       "</style><dl class=dl-inline><dt>A</dt><dd>8</dd><dt>B</dt><dd>10</dd><dt>c</dt><dd>20</dd></dl>\n"
      ],
      "text/latex": [
       "\\begin{description*}\n",
       "\\item[A] 8\n",
       "\\item[B] 10\n",
       "\\item[c] 20\n",
       "\\end{description*}\n"
      ],
      "text/markdown": [
       "A\n",
       ":   8B\n",
       ":   10c\n",
       ":   20\n",
       "\n"
      ],
      "text/plain": [
       " A  B  c \n",
       " 8 10 20 "
      ]
     },
     "metadata": {},
     "output_type": "display_data"
    }
   ],
   "source": [
    "mapply(simplefunc, firstList, secondList) # 루프를 연산을 한 것을 볼 수 있다!"
   ]
  },
  {
   "cell_type": "code",
   "execution_count": 27,
   "metadata": {},
   "outputs": [
    {
     "name": "stderr",
     "output_type": "stream",
     "text": [
      "Loading required package: ggplot2\n",
      "\n"
     ]
    }
   ],
   "source": [
    "require(ggplot2)"
   ]
  },
  {
   "cell_type": "code",
   "execution_count": 28,
   "metadata": {},
   "outputs": [],
   "source": [
    "data(diamonds)"
   ]
  },
  {
   "cell_type": "code",
   "execution_count": 29,
   "metadata": {},
   "outputs": [
    {
     "data": {
      "text/html": [
       "<table class=\"dataframe\">\n",
       "<caption>A tibble: 6 × 10</caption>\n",
       "<thead>\n",
       "\t<tr><th scope=col>carat</th><th scope=col>cut</th><th scope=col>color</th><th scope=col>clarity</th><th scope=col>depth</th><th scope=col>table</th><th scope=col>price</th><th scope=col>x</th><th scope=col>y</th><th scope=col>z</th></tr>\n",
       "\t<tr><th scope=col>&lt;dbl&gt;</th><th scope=col>&lt;ord&gt;</th><th scope=col>&lt;ord&gt;</th><th scope=col>&lt;ord&gt;</th><th scope=col>&lt;dbl&gt;</th><th scope=col>&lt;dbl&gt;</th><th scope=col>&lt;int&gt;</th><th scope=col>&lt;dbl&gt;</th><th scope=col>&lt;dbl&gt;</th><th scope=col>&lt;dbl&gt;</th></tr>\n",
       "</thead>\n",
       "<tbody>\n",
       "\t<tr><td>0.23</td><td>Ideal    </td><td>E</td><td>SI2 </td><td>61.5</td><td>55</td><td>326</td><td>3.95</td><td>3.98</td><td>2.43</td></tr>\n",
       "\t<tr><td>0.21</td><td>Premium  </td><td>E</td><td>SI1 </td><td>59.8</td><td>61</td><td>326</td><td>3.89</td><td>3.84</td><td>2.31</td></tr>\n",
       "\t<tr><td>0.23</td><td>Good     </td><td>E</td><td>VS1 </td><td>56.9</td><td>65</td><td>327</td><td>4.05</td><td>4.07</td><td>2.31</td></tr>\n",
       "\t<tr><td>0.29</td><td>Premium  </td><td>I</td><td>VS2 </td><td>62.4</td><td>58</td><td>334</td><td>4.20</td><td>4.23</td><td>2.63</td></tr>\n",
       "\t<tr><td>0.31</td><td>Good     </td><td>J</td><td>SI2 </td><td>63.3</td><td>58</td><td>335</td><td>4.34</td><td>4.35</td><td>2.75</td></tr>\n",
       "\t<tr><td>0.24</td><td>Very Good</td><td>J</td><td>VVS2</td><td>62.8</td><td>57</td><td>336</td><td>3.94</td><td>3.96</td><td>2.48</td></tr>\n",
       "</tbody>\n",
       "</table>\n"
      ],
      "text/latex": [
       "A tibble: 6 × 10\n",
       "\\begin{tabular}{llllllllll}\n",
       " carat & cut & color & clarity & depth & table & price & x & y & z\\\\\n",
       " <dbl> & <ord> & <ord> & <ord> & <dbl> & <dbl> & <int> & <dbl> & <dbl> & <dbl>\\\\\n",
       "\\hline\n",
       "\t 0.23 & Ideal     & E & SI2  & 61.5 & 55 & 326 & 3.95 & 3.98 & 2.43\\\\\n",
       "\t 0.21 & Premium   & E & SI1  & 59.8 & 61 & 326 & 3.89 & 3.84 & 2.31\\\\\n",
       "\t 0.23 & Good      & E & VS1  & 56.9 & 65 & 327 & 4.05 & 4.07 & 2.31\\\\\n",
       "\t 0.29 & Premium   & I & VS2  & 62.4 & 58 & 334 & 4.20 & 4.23 & 2.63\\\\\n",
       "\t 0.31 & Good      & J & SI2  & 63.3 & 58 & 335 & 4.34 & 4.35 & 2.75\\\\\n",
       "\t 0.24 & Very Good & J & VVS2 & 62.8 & 57 & 336 & 3.94 & 3.96 & 2.48\\\\\n",
       "\\end{tabular}\n"
      ],
      "text/markdown": [
       "\n",
       "A tibble: 6 × 10\n",
       "\n",
       "| carat &lt;dbl&gt; | cut &lt;ord&gt; | color &lt;ord&gt; | clarity &lt;ord&gt; | depth &lt;dbl&gt; | table &lt;dbl&gt; | price &lt;int&gt; | x &lt;dbl&gt; | y &lt;dbl&gt; | z &lt;dbl&gt; |\n",
       "|---|---|---|---|---|---|---|---|---|---|\n",
       "| 0.23 | Ideal     | E | SI2  | 61.5 | 55 | 326 | 3.95 | 3.98 | 2.43 |\n",
       "| 0.21 | Premium   | E | SI1  | 59.8 | 61 | 326 | 3.89 | 3.84 | 2.31 |\n",
       "| 0.23 | Good      | E | VS1  | 56.9 | 65 | 327 | 4.05 | 4.07 | 2.31 |\n",
       "| 0.29 | Premium   | I | VS2  | 62.4 | 58 | 334 | 4.20 | 4.23 | 2.63 |\n",
       "| 0.31 | Good      | J | SI2  | 63.3 | 58 | 335 | 4.34 | 4.35 | 2.75 |\n",
       "| 0.24 | Very Good | J | VVS2 | 62.8 | 57 | 336 | 3.94 | 3.96 | 2.48 |\n",
       "\n"
      ],
      "text/plain": [
       "  carat cut       color clarity depth table price x    y    z   \n",
       "1 0.23  Ideal     E     SI2     61.5  55    326   3.95 3.98 2.43\n",
       "2 0.21  Premium   E     SI1     59.8  61    326   3.89 3.84 2.31\n",
       "3 0.23  Good      E     VS1     56.9  65    327   4.05 4.07 2.31\n",
       "4 0.29  Premium   I     VS2     62.4  58    334   4.20 4.23 2.63\n",
       "5 0.31  Good      J     SI2     63.3  58    335   4.34 4.35 2.75\n",
       "6 0.24  Very Good J     VVS2    62.8  57    336   3.94 3.96 2.48"
      ]
     },
     "metadata": {},
     "output_type": "display_data"
    }
   ],
   "source": [
    "head(diamonds)"
   ]
  },
  {
   "cell_type": "code",
   "execution_count": 30,
   "metadata": {},
   "outputs": [
    {
     "data": {
      "text/html": [
       "3932.79972191324"
      ],
      "text/latex": [
       "3932.79972191324"
      ],
      "text/markdown": [
       "3932.79972191324"
      ],
      "text/plain": [
       "[1] 3932.8"
      ]
     },
     "metadata": {},
     "output_type": "display_data"
    }
   ],
   "source": [
    "mean(diamonds$price)"
   ]
  },
  {
   "cell_type": "code",
   "execution_count": 31,
   "metadata": {},
   "outputs": [
    {
     "data": {
      "text/html": [
       "<table class=\"dataframe\">\n",
       "<caption>A data.frame: 5 × 2</caption>\n",
       "<thead>\n",
       "\t<tr><th scope=col>cut</th><th scope=col>price</th></tr>\n",
       "\t<tr><th scope=col>&lt;ord&gt;</th><th scope=col>&lt;dbl&gt;</th></tr>\n",
       "</thead>\n",
       "<tbody>\n",
       "\t<tr><td>Fair     </td><td>4358.758</td></tr>\n",
       "\t<tr><td>Good     </td><td>3928.864</td></tr>\n",
       "\t<tr><td>Very Good</td><td>3981.760</td></tr>\n",
       "\t<tr><td>Premium  </td><td>4584.258</td></tr>\n",
       "\t<tr><td>Ideal    </td><td>3457.542</td></tr>\n",
       "</tbody>\n",
       "</table>\n"
      ],
      "text/latex": [
       "A data.frame: 5 × 2\n",
       "\\begin{tabular}{ll}\n",
       " cut & price\\\\\n",
       " <ord> & <dbl>\\\\\n",
       "\\hline\n",
       "\t Fair      & 4358.758\\\\\n",
       "\t Good      & 3928.864\\\\\n",
       "\t Very Good & 3981.760\\\\\n",
       "\t Premium   & 4584.258\\\\\n",
       "\t Ideal     & 3457.542\\\\\n",
       "\\end{tabular}\n"
      ],
      "text/markdown": [
       "\n",
       "A data.frame: 5 × 2\n",
       "\n",
       "| cut &lt;ord&gt; | price &lt;dbl&gt; |\n",
       "|---|---|\n",
       "| Fair      | 4358.758 |\n",
       "| Good      | 3928.864 |\n",
       "| Very Good | 3981.760 |\n",
       "| Premium   | 4584.258 |\n",
       "| Ideal     | 3457.542 |\n",
       "\n"
      ],
      "text/plain": [
       "  cut       price   \n",
       "1 Fair      4358.758\n",
       "2 Good      3928.864\n",
       "3 Very Good 3981.760\n",
       "4 Premium   4584.258\n",
       "5 Ideal     3457.542"
      ]
     },
     "metadata": {},
     "output_type": "display_data"
    }
   ],
   "source": [
    "aggregate(price ~ cut, diamonds, mean, na.rm=TRUE)\n",
    "# cut에 따른 mean을 보겠다\n",
    "# mean 말고도 다른 계산 함수를 넣을 수 있다. "
   ]
  },
  {
   "cell_type": "code",
   "execution_count": 32,
   "metadata": {},
   "outputs": [
    {
     "data": {
      "text/html": [
       "<table class=\"dataframe\">\n",
       "<caption>A data.frame: 35 × 3</caption>\n",
       "<thead>\n",
       "\t<tr><th scope=col>cut</th><th scope=col>color</th><th scope=col>price</th></tr>\n",
       "\t<tr><th scope=col>&lt;ord&gt;</th><th scope=col>&lt;ord&gt;</th><th scope=col>&lt;dbl&gt;</th></tr>\n",
       "</thead>\n",
       "<tbody>\n",
       "\t<tr><td>Fair     </td><td>D</td><td>4291.061</td></tr>\n",
       "\t<tr><td>Good     </td><td>D</td><td>3405.382</td></tr>\n",
       "\t<tr><td>Very Good</td><td>D</td><td>3470.467</td></tr>\n",
       "\t<tr><td>Premium  </td><td>D</td><td>3631.293</td></tr>\n",
       "\t<tr><td>Ideal    </td><td>D</td><td>2629.095</td></tr>\n",
       "\t<tr><td>Fair     </td><td>E</td><td>3682.312</td></tr>\n",
       "\t<tr><td>Good     </td><td>E</td><td>3423.644</td></tr>\n",
       "\t<tr><td>Very Good</td><td>E</td><td>3214.652</td></tr>\n",
       "\t<tr><td>Premium  </td><td>E</td><td>3538.914</td></tr>\n",
       "\t<tr><td>Ideal    </td><td>E</td><td>2597.550</td></tr>\n",
       "\t<tr><td>Fair     </td><td>F</td><td>3827.003</td></tr>\n",
       "\t<tr><td>Good     </td><td>F</td><td>3495.750</td></tr>\n",
       "\t<tr><td>Very Good</td><td>F</td><td>3778.820</td></tr>\n",
       "\t<tr><td>Premium  </td><td>F</td><td>4324.890</td></tr>\n",
       "\t<tr><td>Ideal    </td><td>F</td><td>3374.939</td></tr>\n",
       "\t<tr><td>Fair     </td><td>G</td><td>4239.255</td></tr>\n",
       "\t<tr><td>Good     </td><td>G</td><td>4123.482</td></tr>\n",
       "\t<tr><td>Very Good</td><td>G</td><td>3872.754</td></tr>\n",
       "\t<tr><td>Premium  </td><td>G</td><td>4500.742</td></tr>\n",
       "\t<tr><td>Ideal    </td><td>G</td><td>3720.706</td></tr>\n",
       "\t<tr><td>Fair     </td><td>H</td><td>5135.683</td></tr>\n",
       "\t<tr><td>Good     </td><td>H</td><td>4276.255</td></tr>\n",
       "\t<tr><td>Very Good</td><td>H</td><td>4535.390</td></tr>\n",
       "\t<tr><td>Premium  </td><td>H</td><td>5216.707</td></tr>\n",
       "\t<tr><td>Ideal    </td><td>H</td><td>3889.335</td></tr>\n",
       "\t<tr><td>Fair     </td><td>I</td><td>4685.446</td></tr>\n",
       "\t<tr><td>Good     </td><td>I</td><td>5078.533</td></tr>\n",
       "\t<tr><td>Very Good</td><td>I</td><td>5255.880</td></tr>\n",
       "\t<tr><td>Premium  </td><td>I</td><td>5946.181</td></tr>\n",
       "\t<tr><td>Ideal    </td><td>I</td><td>4451.970</td></tr>\n",
       "\t<tr><td>Fair     </td><td>J</td><td>4975.655</td></tr>\n",
       "\t<tr><td>Good     </td><td>J</td><td>4574.173</td></tr>\n",
       "\t<tr><td>Very Good</td><td>J</td><td>5103.513</td></tr>\n",
       "\t<tr><td>Premium  </td><td>J</td><td>6294.592</td></tr>\n",
       "\t<tr><td>Ideal    </td><td>J</td><td>4918.186</td></tr>\n",
       "</tbody>\n",
       "</table>\n"
      ],
      "text/latex": [
       "A data.frame: 35 × 3\n",
       "\\begin{tabular}{lll}\n",
       " cut & color & price\\\\\n",
       " <ord> & <ord> & <dbl>\\\\\n",
       "\\hline\n",
       "\t Fair      & D & 4291.061\\\\\n",
       "\t Good      & D & 3405.382\\\\\n",
       "\t Very Good & D & 3470.467\\\\\n",
       "\t Premium   & D & 3631.293\\\\\n",
       "\t Ideal     & D & 2629.095\\\\\n",
       "\t Fair      & E & 3682.312\\\\\n",
       "\t Good      & E & 3423.644\\\\\n",
       "\t Very Good & E & 3214.652\\\\\n",
       "\t Premium   & E & 3538.914\\\\\n",
       "\t Ideal     & E & 2597.550\\\\\n",
       "\t Fair      & F & 3827.003\\\\\n",
       "\t Good      & F & 3495.750\\\\\n",
       "\t Very Good & F & 3778.820\\\\\n",
       "\t Premium   & F & 4324.890\\\\\n",
       "\t Ideal     & F & 3374.939\\\\\n",
       "\t Fair      & G & 4239.255\\\\\n",
       "\t Good      & G & 4123.482\\\\\n",
       "\t Very Good & G & 3872.754\\\\\n",
       "\t Premium   & G & 4500.742\\\\\n",
       "\t Ideal     & G & 3720.706\\\\\n",
       "\t Fair      & H & 5135.683\\\\\n",
       "\t Good      & H & 4276.255\\\\\n",
       "\t Very Good & H & 4535.390\\\\\n",
       "\t Premium   & H & 5216.707\\\\\n",
       "\t Ideal     & H & 3889.335\\\\\n",
       "\t Fair      & I & 4685.446\\\\\n",
       "\t Good      & I & 5078.533\\\\\n",
       "\t Very Good & I & 5255.880\\\\\n",
       "\t Premium   & I & 5946.181\\\\\n",
       "\t Ideal     & I & 4451.970\\\\\n",
       "\t Fair      & J & 4975.655\\\\\n",
       "\t Good      & J & 4574.173\\\\\n",
       "\t Very Good & J & 5103.513\\\\\n",
       "\t Premium   & J & 6294.592\\\\\n",
       "\t Ideal     & J & 4918.186\\\\\n",
       "\\end{tabular}\n"
      ],
      "text/markdown": [
       "\n",
       "A data.frame: 35 × 3\n",
       "\n",
       "| cut &lt;ord&gt; | color &lt;ord&gt; | price &lt;dbl&gt; |\n",
       "|---|---|---|\n",
       "| Fair      | D | 4291.061 |\n",
       "| Good      | D | 3405.382 |\n",
       "| Very Good | D | 3470.467 |\n",
       "| Premium   | D | 3631.293 |\n",
       "| Ideal     | D | 2629.095 |\n",
       "| Fair      | E | 3682.312 |\n",
       "| Good      | E | 3423.644 |\n",
       "| Very Good | E | 3214.652 |\n",
       "| Premium   | E | 3538.914 |\n",
       "| Ideal     | E | 2597.550 |\n",
       "| Fair      | F | 3827.003 |\n",
       "| Good      | F | 3495.750 |\n",
       "| Very Good | F | 3778.820 |\n",
       "| Premium   | F | 4324.890 |\n",
       "| Ideal     | F | 3374.939 |\n",
       "| Fair      | G | 4239.255 |\n",
       "| Good      | G | 4123.482 |\n",
       "| Very Good | G | 3872.754 |\n",
       "| Premium   | G | 4500.742 |\n",
       "| Ideal     | G | 3720.706 |\n",
       "| Fair      | H | 5135.683 |\n",
       "| Good      | H | 4276.255 |\n",
       "| Very Good | H | 4535.390 |\n",
       "| Premium   | H | 5216.707 |\n",
       "| Ideal     | H | 3889.335 |\n",
       "| Fair      | I | 4685.446 |\n",
       "| Good      | I | 5078.533 |\n",
       "| Very Good | I | 5255.880 |\n",
       "| Premium   | I | 5946.181 |\n",
       "| Ideal     | I | 4451.970 |\n",
       "| Fair      | J | 4975.655 |\n",
       "| Good      | J | 4574.173 |\n",
       "| Very Good | J | 5103.513 |\n",
       "| Premium   | J | 6294.592 |\n",
       "| Ideal     | J | 4918.186 |\n",
       "\n"
      ],
      "text/plain": [
       "   cut       color price   \n",
       "1  Fair      D     4291.061\n",
       "2  Good      D     3405.382\n",
       "3  Very Good D     3470.467\n",
       "4  Premium   D     3631.293\n",
       "5  Ideal     D     2629.095\n",
       "6  Fair      E     3682.312\n",
       "7  Good      E     3423.644\n",
       "8  Very Good E     3214.652\n",
       "9  Premium   E     3538.914\n",
       "10 Ideal     E     2597.550\n",
       "11 Fair      F     3827.003\n",
       "12 Good      F     3495.750\n",
       "13 Very Good F     3778.820\n",
       "14 Premium   F     4324.890\n",
       "15 Ideal     F     3374.939\n",
       "16 Fair      G     4239.255\n",
       "17 Good      G     4123.482\n",
       "18 Very Good G     3872.754\n",
       "19 Premium   G     4500.742\n",
       "20 Ideal     G     3720.706\n",
       "21 Fair      H     5135.683\n",
       "22 Good      H     4276.255\n",
       "23 Very Good H     4535.390\n",
       "24 Premium   H     5216.707\n",
       "25 Ideal     H     3889.335\n",
       "26 Fair      I     4685.446\n",
       "27 Good      I     5078.533\n",
       "28 Very Good I     5255.880\n",
       "29 Premium   I     5946.181\n",
       "30 Ideal     I     4451.970\n",
       "31 Fair      J     4975.655\n",
       "32 Good      J     4574.173\n",
       "33 Very Good J     5103.513\n",
       "34 Premium   J     6294.592\n",
       "35 Ideal     J     4918.186"
      ]
     },
     "metadata": {},
     "output_type": "display_data"
    }
   ],
   "source": [
    "aggregate(price ~ cut + color, diamonds, mean) # cut과 color에 따라 mean을 본다. "
   ]
  },
  {
   "cell_type": "code",
   "execution_count": 33,
   "metadata": {},
   "outputs": [
    {
     "data": {
      "text/html": [
       "<table class=\"dataframe\">\n",
       "<caption>A data.frame: 5 × 3</caption>\n",
       "<thead>\n",
       "\t<tr><th scope=col>cut</th><th scope=col>price</th><th scope=col>carat</th></tr>\n",
       "\t<tr><th scope=col>&lt;ord&gt;</th><th scope=col>&lt;dbl&gt;</th><th scope=col>&lt;dbl&gt;</th></tr>\n",
       "</thead>\n",
       "<tbody>\n",
       "\t<tr><td>Fair     </td><td>4358.758</td><td>1.0461366</td></tr>\n",
       "\t<tr><td>Good     </td><td>3928.864</td><td>0.8491847</td></tr>\n",
       "\t<tr><td>Very Good</td><td>3981.760</td><td>0.8063814</td></tr>\n",
       "\t<tr><td>Premium  </td><td>4584.258</td><td>0.8919549</td></tr>\n",
       "\t<tr><td>Ideal    </td><td>3457.542</td><td>0.7028370</td></tr>\n",
       "</tbody>\n",
       "</table>\n"
      ],
      "text/latex": [
       "A data.frame: 5 × 3\n",
       "\\begin{tabular}{lll}\n",
       " cut & price & carat\\\\\n",
       " <ord> & <dbl> & <dbl>\\\\\n",
       "\\hline\n",
       "\t Fair      & 4358.758 & 1.0461366\\\\\n",
       "\t Good      & 3928.864 & 0.8491847\\\\\n",
       "\t Very Good & 3981.760 & 0.8063814\\\\\n",
       "\t Premium   & 4584.258 & 0.8919549\\\\\n",
       "\t Ideal     & 3457.542 & 0.7028370\\\\\n",
       "\\end{tabular}\n"
      ],
      "text/markdown": [
       "\n",
       "A data.frame: 5 × 3\n",
       "\n",
       "| cut &lt;ord&gt; | price &lt;dbl&gt; | carat &lt;dbl&gt; |\n",
       "|---|---|---|\n",
       "| Fair      | 4358.758 | 1.0461366 |\n",
       "| Good      | 3928.864 | 0.8491847 |\n",
       "| Very Good | 3981.760 | 0.8063814 |\n",
       "| Premium   | 4584.258 | 0.8919549 |\n",
       "| Ideal     | 3457.542 | 0.7028370 |\n",
       "\n"
      ],
      "text/plain": [
       "  cut       price    carat    \n",
       "1 Fair      4358.758 1.0461366\n",
       "2 Good      3928.864 0.8491847\n",
       "3 Very Good 3981.760 0.8063814\n",
       "4 Premium   4584.258 0.8919549\n",
       "5 Ideal     3457.542 0.7028370"
      ]
     },
     "metadata": {},
     "output_type": "display_data"
    }
   ],
   "source": [
    "aggregate(cbind(price, carat) ~ cut, diamonds, mean) \n",
    "# price와 carat을 한꺼번에 볼수 있다."
   ]
  },
  {
   "cell_type": "code",
   "execution_count": 34,
   "metadata": {},
   "outputs": [
    {
     "data": {
      "text/html": [
       "<table class=\"dataframe\">\n",
       "<caption>A data.frame: 35 × 4</caption>\n",
       "<thead>\n",
       "\t<tr><th scope=col>cut</th><th scope=col>color</th><th scope=col>price</th><th scope=col>carat</th></tr>\n",
       "\t<tr><th scope=col>&lt;ord&gt;</th><th scope=col>&lt;ord&gt;</th><th scope=col>&lt;dbl&gt;</th><th scope=col>&lt;dbl&gt;</th></tr>\n",
       "</thead>\n",
       "<tbody>\n",
       "\t<tr><td>Fair     </td><td>D</td><td>4291.061</td><td>0.9201227</td></tr>\n",
       "\t<tr><td>Good     </td><td>D</td><td>3405.382</td><td>0.7445166</td></tr>\n",
       "\t<tr><td>Very Good</td><td>D</td><td>3470.467</td><td>0.6964243</td></tr>\n",
       "\t<tr><td>Premium  </td><td>D</td><td>3631.293</td><td>0.7215471</td></tr>\n",
       "\t<tr><td>Ideal    </td><td>D</td><td>2629.095</td><td>0.5657657</td></tr>\n",
       "\t<tr><td>Fair     </td><td>E</td><td>3682.312</td><td>0.8566071</td></tr>\n",
       "\t<tr><td>Good     </td><td>E</td><td>3423.644</td><td>0.7451340</td></tr>\n",
       "\t<tr><td>Very Good</td><td>E</td><td>3214.652</td><td>0.6763167</td></tr>\n",
       "\t<tr><td>Premium  </td><td>E</td><td>3538.914</td><td>0.7177450</td></tr>\n",
       "\t<tr><td>Ideal    </td><td>E</td><td>2597.550</td><td>0.5784012</td></tr>\n",
       "\t<tr><td>Fair     </td><td>F</td><td>3827.003</td><td>0.9047115</td></tr>\n",
       "\t<tr><td>Good     </td><td>F</td><td>3495.750</td><td>0.7759296</td></tr>\n",
       "\t<tr><td>Very Good</td><td>F</td><td>3778.820</td><td>0.7409612</td></tr>\n",
       "\t<tr><td>Premium  </td><td>F</td><td>4324.890</td><td>0.8270356</td></tr>\n",
       "\t<tr><td>Ideal    </td><td>F</td><td>3374.939</td><td>0.6558285</td></tr>\n",
       "\t<tr><td>Fair     </td><td>G</td><td>4239.255</td><td>1.0238217</td></tr>\n",
       "\t<tr><td>Good     </td><td>G</td><td>4123.482</td><td>0.8508955</td></tr>\n",
       "\t<tr><td>Very Good</td><td>G</td><td>3872.754</td><td>0.7667986</td></tr>\n",
       "\t<tr><td>Premium  </td><td>G</td><td>4500.742</td><td>0.8414877</td></tr>\n",
       "\t<tr><td>Ideal    </td><td>G</td><td>3720.706</td><td>0.7007146</td></tr>\n",
       "\t<tr><td>Fair     </td><td>H</td><td>5135.683</td><td>1.2191749</td></tr>\n",
       "\t<tr><td>Good     </td><td>H</td><td>4276.255</td><td>0.9147293</td></tr>\n",
       "\t<tr><td>Very Good</td><td>H</td><td>4535.390</td><td>0.9159485</td></tr>\n",
       "\t<tr><td>Premium  </td><td>H</td><td>5216.707</td><td>1.0164492</td></tr>\n",
       "\t<tr><td>Ideal    </td><td>H</td><td>3889.335</td><td>0.7995249</td></tr>\n",
       "\t<tr><td>Fair     </td><td>I</td><td>4685.446</td><td>1.1980571</td></tr>\n",
       "\t<tr><td>Good     </td><td>I</td><td>5078.533</td><td>1.0572222</td></tr>\n",
       "\t<tr><td>Very Good</td><td>I</td><td>5255.880</td><td>1.0469518</td></tr>\n",
       "\t<tr><td>Premium  </td><td>I</td><td>5946.181</td><td>1.1449370</td></tr>\n",
       "\t<tr><td>Ideal    </td><td>I</td><td>4451.970</td><td>0.9130291</td></tr>\n",
       "\t<tr><td>Fair     </td><td>J</td><td>4975.655</td><td>1.3411765</td></tr>\n",
       "\t<tr><td>Good     </td><td>J</td><td>4574.173</td><td>1.0995440</td></tr>\n",
       "\t<tr><td>Very Good</td><td>J</td><td>5103.513</td><td>1.1332153</td></tr>\n",
       "\t<tr><td>Premium  </td><td>J</td><td>6294.592</td><td>1.2930941</td></tr>\n",
       "\t<tr><td>Ideal    </td><td>J</td><td>4918.186</td><td>1.0635937</td></tr>\n",
       "</tbody>\n",
       "</table>\n"
      ],
      "text/latex": [
       "A data.frame: 35 × 4\n",
       "\\begin{tabular}{llll}\n",
       " cut & color & price & carat\\\\\n",
       " <ord> & <ord> & <dbl> & <dbl>\\\\\n",
       "\\hline\n",
       "\t Fair      & D & 4291.061 & 0.9201227\\\\\n",
       "\t Good      & D & 3405.382 & 0.7445166\\\\\n",
       "\t Very Good & D & 3470.467 & 0.6964243\\\\\n",
       "\t Premium   & D & 3631.293 & 0.7215471\\\\\n",
       "\t Ideal     & D & 2629.095 & 0.5657657\\\\\n",
       "\t Fair      & E & 3682.312 & 0.8566071\\\\\n",
       "\t Good      & E & 3423.644 & 0.7451340\\\\\n",
       "\t Very Good & E & 3214.652 & 0.6763167\\\\\n",
       "\t Premium   & E & 3538.914 & 0.7177450\\\\\n",
       "\t Ideal     & E & 2597.550 & 0.5784012\\\\\n",
       "\t Fair      & F & 3827.003 & 0.9047115\\\\\n",
       "\t Good      & F & 3495.750 & 0.7759296\\\\\n",
       "\t Very Good & F & 3778.820 & 0.7409612\\\\\n",
       "\t Premium   & F & 4324.890 & 0.8270356\\\\\n",
       "\t Ideal     & F & 3374.939 & 0.6558285\\\\\n",
       "\t Fair      & G & 4239.255 & 1.0238217\\\\\n",
       "\t Good      & G & 4123.482 & 0.8508955\\\\\n",
       "\t Very Good & G & 3872.754 & 0.7667986\\\\\n",
       "\t Premium   & G & 4500.742 & 0.8414877\\\\\n",
       "\t Ideal     & G & 3720.706 & 0.7007146\\\\\n",
       "\t Fair      & H & 5135.683 & 1.2191749\\\\\n",
       "\t Good      & H & 4276.255 & 0.9147293\\\\\n",
       "\t Very Good & H & 4535.390 & 0.9159485\\\\\n",
       "\t Premium   & H & 5216.707 & 1.0164492\\\\\n",
       "\t Ideal     & H & 3889.335 & 0.7995249\\\\\n",
       "\t Fair      & I & 4685.446 & 1.1980571\\\\\n",
       "\t Good      & I & 5078.533 & 1.0572222\\\\\n",
       "\t Very Good & I & 5255.880 & 1.0469518\\\\\n",
       "\t Premium   & I & 5946.181 & 1.1449370\\\\\n",
       "\t Ideal     & I & 4451.970 & 0.9130291\\\\\n",
       "\t Fair      & J & 4975.655 & 1.3411765\\\\\n",
       "\t Good      & J & 4574.173 & 1.0995440\\\\\n",
       "\t Very Good & J & 5103.513 & 1.1332153\\\\\n",
       "\t Premium   & J & 6294.592 & 1.2930941\\\\\n",
       "\t Ideal     & J & 4918.186 & 1.0635937\\\\\n",
       "\\end{tabular}\n"
      ],
      "text/markdown": [
       "\n",
       "A data.frame: 35 × 4\n",
       "\n",
       "| cut &lt;ord&gt; | color &lt;ord&gt; | price &lt;dbl&gt; | carat &lt;dbl&gt; |\n",
       "|---|---|---|---|\n",
       "| Fair      | D | 4291.061 | 0.9201227 |\n",
       "| Good      | D | 3405.382 | 0.7445166 |\n",
       "| Very Good | D | 3470.467 | 0.6964243 |\n",
       "| Premium   | D | 3631.293 | 0.7215471 |\n",
       "| Ideal     | D | 2629.095 | 0.5657657 |\n",
       "| Fair      | E | 3682.312 | 0.8566071 |\n",
       "| Good      | E | 3423.644 | 0.7451340 |\n",
       "| Very Good | E | 3214.652 | 0.6763167 |\n",
       "| Premium   | E | 3538.914 | 0.7177450 |\n",
       "| Ideal     | E | 2597.550 | 0.5784012 |\n",
       "| Fair      | F | 3827.003 | 0.9047115 |\n",
       "| Good      | F | 3495.750 | 0.7759296 |\n",
       "| Very Good | F | 3778.820 | 0.7409612 |\n",
       "| Premium   | F | 4324.890 | 0.8270356 |\n",
       "| Ideal     | F | 3374.939 | 0.6558285 |\n",
       "| Fair      | G | 4239.255 | 1.0238217 |\n",
       "| Good      | G | 4123.482 | 0.8508955 |\n",
       "| Very Good | G | 3872.754 | 0.7667986 |\n",
       "| Premium   | G | 4500.742 | 0.8414877 |\n",
       "| Ideal     | G | 3720.706 | 0.7007146 |\n",
       "| Fair      | H | 5135.683 | 1.2191749 |\n",
       "| Good      | H | 4276.255 | 0.9147293 |\n",
       "| Very Good | H | 4535.390 | 0.9159485 |\n",
       "| Premium   | H | 5216.707 | 1.0164492 |\n",
       "| Ideal     | H | 3889.335 | 0.7995249 |\n",
       "| Fair      | I | 4685.446 | 1.1980571 |\n",
       "| Good      | I | 5078.533 | 1.0572222 |\n",
       "| Very Good | I | 5255.880 | 1.0469518 |\n",
       "| Premium   | I | 5946.181 | 1.1449370 |\n",
       "| Ideal     | I | 4451.970 | 0.9130291 |\n",
       "| Fair      | J | 4975.655 | 1.3411765 |\n",
       "| Good      | J | 4574.173 | 1.0995440 |\n",
       "| Very Good | J | 5103.513 | 1.1332153 |\n",
       "| Premium   | J | 6294.592 | 1.2930941 |\n",
       "| Ideal     | J | 4918.186 | 1.0635937 |\n",
       "\n"
      ],
      "text/plain": [
       "   cut       color price    carat    \n",
       "1  Fair      D     4291.061 0.9201227\n",
       "2  Good      D     3405.382 0.7445166\n",
       "3  Very Good D     3470.467 0.6964243\n",
       "4  Premium   D     3631.293 0.7215471\n",
       "5  Ideal     D     2629.095 0.5657657\n",
       "6  Fair      E     3682.312 0.8566071\n",
       "7  Good      E     3423.644 0.7451340\n",
       "8  Very Good E     3214.652 0.6763167\n",
       "9  Premium   E     3538.914 0.7177450\n",
       "10 Ideal     E     2597.550 0.5784012\n",
       "11 Fair      F     3827.003 0.9047115\n",
       "12 Good      F     3495.750 0.7759296\n",
       "13 Very Good F     3778.820 0.7409612\n",
       "14 Premium   F     4324.890 0.8270356\n",
       "15 Ideal     F     3374.939 0.6558285\n",
       "16 Fair      G     4239.255 1.0238217\n",
       "17 Good      G     4123.482 0.8508955\n",
       "18 Very Good G     3872.754 0.7667986\n",
       "19 Premium   G     4500.742 0.8414877\n",
       "20 Ideal     G     3720.706 0.7007146\n",
       "21 Fair      H     5135.683 1.2191749\n",
       "22 Good      H     4276.255 0.9147293\n",
       "23 Very Good H     4535.390 0.9159485\n",
       "24 Premium   H     5216.707 1.0164492\n",
       "25 Ideal     H     3889.335 0.7995249\n",
       "26 Fair      I     4685.446 1.1980571\n",
       "27 Good      I     5078.533 1.0572222\n",
       "28 Very Good I     5255.880 1.0469518\n",
       "29 Premium   I     5946.181 1.1449370\n",
       "30 Ideal     I     4451.970 0.9130291\n",
       "31 Fair      J     4975.655 1.3411765\n",
       "32 Good      J     4574.173 1.0995440\n",
       "33 Very Good J     5103.513 1.1332153\n",
       "34 Premium   J     6294.592 1.2930941\n",
       "35 Ideal     J     4918.186 1.0635937"
      ]
     },
     "metadata": {},
     "output_type": "display_data"
    }
   ],
   "source": [
    "aggregate(cbind(price, carat) ~ cut + color, diamonds, mean)"
   ]
  },
  {
   "cell_type": "code",
   "execution_count": 37,
   "metadata": {},
   "outputs": [
    {
     "name": "stderr",
     "output_type": "stream",
     "text": [
      "Loading required package: plyr\n",
      "\n"
     ]
    }
   ],
   "source": [
    "require(plyr)\n",
    "# plyr 패키지를 이용하자"
   ]
  },
  {
   "cell_type": "code",
   "execution_count": 38,
   "metadata": {},
   "outputs": [
    {
     "data": {
      "text/html": [
       "<table class=\"dataframe\">\n",
       "<caption>A data.frame: 6 × 22</caption>\n",
       "<thead>\n",
       "\t<tr><th></th><th scope=col>id</th><th scope=col>year</th><th scope=col>stint</th><th scope=col>team</th><th scope=col>lg</th><th scope=col>g</th><th scope=col>ab</th><th scope=col>r</th><th scope=col>h</th><th scope=col>X2b</th><th scope=col>⋯</th><th scope=col>rbi</th><th scope=col>sb</th><th scope=col>cs</th><th scope=col>bb</th><th scope=col>so</th><th scope=col>ibb</th><th scope=col>hbp</th><th scope=col>sh</th><th scope=col>sf</th><th scope=col>gidp</th></tr>\n",
       "\t<tr><th></th><th scope=col>&lt;chr&gt;</th><th scope=col>&lt;int&gt;</th><th scope=col>&lt;int&gt;</th><th scope=col>&lt;chr&gt;</th><th scope=col>&lt;chr&gt;</th><th scope=col>&lt;int&gt;</th><th scope=col>&lt;int&gt;</th><th scope=col>&lt;int&gt;</th><th scope=col>&lt;int&gt;</th><th scope=col>&lt;int&gt;</th><th scope=col>⋯</th><th scope=col>&lt;int&gt;</th><th scope=col>&lt;int&gt;</th><th scope=col>&lt;int&gt;</th><th scope=col>&lt;int&gt;</th><th scope=col>&lt;int&gt;</th><th scope=col>&lt;int&gt;</th><th scope=col>&lt;int&gt;</th><th scope=col>&lt;int&gt;</th><th scope=col>&lt;int&gt;</th><th scope=col>&lt;int&gt;</th></tr>\n",
       "</thead>\n",
       "<tbody>\n",
       "\t<tr><th scope=row>4</th><td>ansonca01</td><td>1871</td><td>1</td><td>RC1</td><td></td><td>25</td><td>120</td><td>29</td><td>39</td><td>11</td><td>⋯</td><td>16</td><td>6</td><td>2</td><td>2</td><td>1</td><td>NA</td><td>NA</td><td>NA</td><td>NA</td><td>NA</td></tr>\n",
       "\t<tr><th scope=row>44</th><td>forceda01</td><td>1871</td><td>1</td><td>WS3</td><td></td><td>32</td><td>162</td><td>45</td><td>45</td><td> 9</td><td>⋯</td><td>29</td><td>8</td><td>0</td><td>4</td><td>0</td><td>NA</td><td>NA</td><td>NA</td><td>NA</td><td>NA</td></tr>\n",
       "\t<tr><th scope=row>68</th><td>mathebo01</td><td>1871</td><td>1</td><td>FW1</td><td></td><td>19</td><td> 89</td><td>15</td><td>24</td><td> 3</td><td>⋯</td><td>10</td><td>2</td><td>1</td><td>2</td><td>0</td><td>NA</td><td>NA</td><td>NA</td><td>NA</td><td>NA</td></tr>\n",
       "\t<tr><th scope=row>99</th><td>startjo01</td><td>1871</td><td>1</td><td>NY2</td><td></td><td>33</td><td>161</td><td>35</td><td>58</td><td> 5</td><td>⋯</td><td>34</td><td>4</td><td>2</td><td>3</td><td>0</td><td>NA</td><td>NA</td><td>NA</td><td>NA</td><td>NA</td></tr>\n",
       "\t<tr><th scope=row>102</th><td>suttoez01</td><td>1871</td><td>1</td><td>CL1</td><td></td><td>29</td><td>128</td><td>35</td><td>45</td><td> 3</td><td>⋯</td><td>23</td><td>3</td><td>1</td><td>1</td><td>0</td><td>NA</td><td>NA</td><td>NA</td><td>NA</td><td>NA</td></tr>\n",
       "\t<tr><th scope=row>106</th><td>whitede01</td><td>1871</td><td>1</td><td>CL1</td><td></td><td>29</td><td>146</td><td>40</td><td>47</td><td> 6</td><td>⋯</td><td>21</td><td>2</td><td>2</td><td>4</td><td>1</td><td>NA</td><td>NA</td><td>NA</td><td>NA</td><td>NA</td></tr>\n",
       "</tbody>\n",
       "</table>\n"
      ],
      "text/latex": [
       "A data.frame: 6 × 22\n",
       "\\begin{tabular}{r|lllllllllllllllllllll}\n",
       "  & id & year & stint & team & lg & g & ab & r & h & X2b & ⋯ & rbi & sb & cs & bb & so & ibb & hbp & sh & sf & gidp\\\\\n",
       "  & <chr> & <int> & <int> & <chr> & <chr> & <int> & <int> & <int> & <int> & <int> & ⋯ & <int> & <int> & <int> & <int> & <int> & <int> & <int> & <int> & <int> & <int>\\\\\n",
       "\\hline\n",
       "\t4 & ansonca01 & 1871 & 1 & RC1 &  & 25 & 120 & 29 & 39 & 11 & ⋯ & 16 & 6 & 2 & 2 & 1 & NA & NA & NA & NA & NA\\\\\n",
       "\t44 & forceda01 & 1871 & 1 & WS3 &  & 32 & 162 & 45 & 45 &  9 & ⋯ & 29 & 8 & 0 & 4 & 0 & NA & NA & NA & NA & NA\\\\\n",
       "\t68 & mathebo01 & 1871 & 1 & FW1 &  & 19 &  89 & 15 & 24 &  3 & ⋯ & 10 & 2 & 1 & 2 & 0 & NA & NA & NA & NA & NA\\\\\n",
       "\t99 & startjo01 & 1871 & 1 & NY2 &  & 33 & 161 & 35 & 58 &  5 & ⋯ & 34 & 4 & 2 & 3 & 0 & NA & NA & NA & NA & NA\\\\\n",
       "\t102 & suttoez01 & 1871 & 1 & CL1 &  & 29 & 128 & 35 & 45 &  3 & ⋯ & 23 & 3 & 1 & 1 & 0 & NA & NA & NA & NA & NA\\\\\n",
       "\t106 & whitede01 & 1871 & 1 & CL1 &  & 29 & 146 & 40 & 47 &  6 & ⋯ & 21 & 2 & 2 & 4 & 1 & NA & NA & NA & NA & NA\\\\\n",
       "\\end{tabular}\n"
      ],
      "text/markdown": [
       "\n",
       "A data.frame: 6 × 22\n",
       "\n",
       "| <!--/--> | id &lt;chr&gt; | year &lt;int&gt; | stint &lt;int&gt; | team &lt;chr&gt; | lg &lt;chr&gt; | g &lt;int&gt; | ab &lt;int&gt; | r &lt;int&gt; | h &lt;int&gt; | X2b &lt;int&gt; | ⋯ ⋯ | rbi &lt;int&gt; | sb &lt;int&gt; | cs &lt;int&gt; | bb &lt;int&gt; | so &lt;int&gt; | ibb &lt;int&gt; | hbp &lt;int&gt; | sh &lt;int&gt; | sf &lt;int&gt; | gidp &lt;int&gt; |\n",
       "|---|---|---|---|---|---|---|---|---|---|---|---|---|---|---|---|---|---|---|---|---|---|\n",
       "| 4 | ansonca01 | 1871 | 1 | RC1 | <!----> | 25 | 120 | 29 | 39 | 11 | ⋯ | 16 | 6 | 2 | 2 | 1 | NA | NA | NA | NA | NA |\n",
       "| 44 | forceda01 | 1871 | 1 | WS3 | <!----> | 32 | 162 | 45 | 45 |  9 | ⋯ | 29 | 8 | 0 | 4 | 0 | NA | NA | NA | NA | NA |\n",
       "| 68 | mathebo01 | 1871 | 1 | FW1 | <!----> | 19 |  89 | 15 | 24 |  3 | ⋯ | 10 | 2 | 1 | 2 | 0 | NA | NA | NA | NA | NA |\n",
       "| 99 | startjo01 | 1871 | 1 | NY2 | <!----> | 33 | 161 | 35 | 58 |  5 | ⋯ | 34 | 4 | 2 | 3 | 0 | NA | NA | NA | NA | NA |\n",
       "| 102 | suttoez01 | 1871 | 1 | CL1 | <!----> | 29 | 128 | 35 | 45 |  3 | ⋯ | 23 | 3 | 1 | 1 | 0 | NA | NA | NA | NA | NA |\n",
       "| 106 | whitede01 | 1871 | 1 | CL1 | <!----> | 29 | 146 | 40 | 47 |  6 | ⋯ | 21 | 2 | 2 | 4 | 1 | NA | NA | NA | NA | NA |\n",
       "\n"
      ],
      "text/plain": [
       "    id        year stint team lg g  ab  r  h  X2b ⋯ rbi sb cs bb so ibb hbp sh\n",
       "4   ansonca01 1871 1     RC1     25 120 29 39 11  ⋯ 16  6  2  2  1  NA  NA  NA\n",
       "44  forceda01 1871 1     WS3     32 162 45 45  9  ⋯ 29  8  0  4  0  NA  NA  NA\n",
       "68  mathebo01 1871 1     FW1     19  89 15 24  3  ⋯ 10  2  1  2  0  NA  NA  NA\n",
       "99  startjo01 1871 1     NY2     33 161 35 58  5  ⋯ 34  4  2  3  0  NA  NA  NA\n",
       "102 suttoez01 1871 1     CL1     29 128 35 45  3  ⋯ 23  3  1  1  0  NA  NA  NA\n",
       "106 whitede01 1871 1     CL1     29 146 40 47  6  ⋯ 21  2  2  4  1  NA  NA  NA\n",
       "    sf gidp\n",
       "4   NA NA  \n",
       "44  NA NA  \n",
       "68  NA NA  \n",
       "99  NA NA  \n",
       "102 NA NA  \n",
       "106 NA NA  "
      ]
     },
     "metadata": {},
     "output_type": "display_data"
    }
   ],
   "source": [
    "head(baseball)"
   ]
  },
  {
   "cell_type": "code",
   "execution_count": 39,
   "metadata": {},
   "outputs": [
    {
     "data": {
      "text/html": [
       "TRUE"
      ],
      "text/latex": [
       "TRUE"
      ],
      "text/markdown": [
       "TRUE"
      ],
      "text/plain": [
       "[1] TRUE"
      ]
     },
     "metadata": {},
     "output_type": "display_data"
    }
   ],
   "source": [
    "any(is.na(baseball$sf)) # na가 있는지 확인"
   ]
  },
  {
   "cell_type": "code",
   "execution_count": 40,
   "metadata": {},
   "outputs": [],
   "source": [
    "baseball$sf[baseball$year < 1954] <- 0"
   ]
  },
  {
   "cell_type": "code",
   "execution_count": 44,
   "metadata": {},
   "outputs": [
    {
     "data": {
      "text/html": [
       "FALSE"
      ],
      "text/latex": [
       "FALSE"
      ],
      "text/markdown": [
       "FALSE"
      ],
      "text/plain": [
       "[1] FALSE"
      ]
     },
     "metadata": {},
     "output_type": "display_data"
    }
   ],
   "source": [
    "any(is.na(baseball$hbp))"
   ]
  },
  {
   "cell_type": "code",
   "execution_count": 43,
   "metadata": {},
   "outputs": [],
   "source": [
    "baseball$hbp[is.na(baseball$hbp)] <- 0 "
   ]
  },
  {
   "cell_type": "code",
   "execution_count": 45,
   "metadata": {},
   "outputs": [],
   "source": [
    "baseball <- baseball[baseball$ab >= 50, ]"
   ]
  },
  {
   "cell_type": "code",
   "execution_count": 46,
   "metadata": {},
   "outputs": [],
   "source": [
    "baseball$OBP <- with(baseball, (h + bb + hbp) / (ab + bb + hbp + sf)) \n",
    "# with 문 (데이터, 공식 )\n",
    "# 아주 편리하다."
   ]
  },
  {
   "cell_type": "code",
   "execution_count": 47,
   "metadata": {},
   "outputs": [
    {
     "data": {
      "text/html": [
       "<table class=\"dataframe\">\n",
       "<caption>A data.frame: 14828 × 23</caption>\n",
       "<thead>\n",
       "\t<tr><th></th><th scope=col>id</th><th scope=col>year</th><th scope=col>stint</th><th scope=col>team</th><th scope=col>lg</th><th scope=col>g</th><th scope=col>ab</th><th scope=col>r</th><th scope=col>h</th><th scope=col>X2b</th><th scope=col>⋯</th><th scope=col>sb</th><th scope=col>cs</th><th scope=col>bb</th><th scope=col>so</th><th scope=col>ibb</th><th scope=col>hbp</th><th scope=col>sh</th><th scope=col>sf</th><th scope=col>gidp</th><th scope=col>OBP</th></tr>\n",
       "\t<tr><th></th><th scope=col>&lt;chr&gt;</th><th scope=col>&lt;int&gt;</th><th scope=col>&lt;int&gt;</th><th scope=col>&lt;chr&gt;</th><th scope=col>&lt;chr&gt;</th><th scope=col>&lt;int&gt;</th><th scope=col>&lt;int&gt;</th><th scope=col>&lt;int&gt;</th><th scope=col>&lt;int&gt;</th><th scope=col>&lt;int&gt;</th><th scope=col>⋯</th><th scope=col>&lt;int&gt;</th><th scope=col>&lt;int&gt;</th><th scope=col>&lt;int&gt;</th><th scope=col>&lt;int&gt;</th><th scope=col>&lt;int&gt;</th><th scope=col>&lt;dbl&gt;</th><th scope=col>&lt;int&gt;</th><th scope=col>&lt;dbl&gt;</th><th scope=col>&lt;int&gt;</th><th scope=col>&lt;dbl&gt;</th></tr>\n",
       "</thead>\n",
       "<tbody>\n",
       "\t<tr><th scope=row>4</th><td>ansonca01</td><td>1871</td><td>1</td><td>RC1</td><td></td><td>25</td><td>120</td><td>29</td><td> 39</td><td>11</td><td>⋯</td><td>6</td><td>2</td><td> 2</td><td>1</td><td>NA</td><td>0</td><td>NA</td><td>0</td><td>NA</td><td>0.3360656</td></tr>\n",
       "\t<tr><th scope=row>44</th><td>forceda01</td><td>1871</td><td>1</td><td>WS3</td><td></td><td>32</td><td>162</td><td>45</td><td> 45</td><td> 9</td><td>⋯</td><td>8</td><td>0</td><td> 4</td><td>0</td><td>NA</td><td>0</td><td>NA</td><td>0</td><td>NA</td><td>0.2951807</td></tr>\n",
       "\t<tr><th scope=row>68</th><td>mathebo01</td><td>1871</td><td>1</td><td>FW1</td><td></td><td>19</td><td> 89</td><td>15</td><td> 24</td><td> 3</td><td>⋯</td><td>2</td><td>1</td><td> 2</td><td>0</td><td>NA</td><td>0</td><td>NA</td><td>0</td><td>NA</td><td>0.2857143</td></tr>\n",
       "\t<tr><th scope=row>99</th><td>startjo01</td><td>1871</td><td>1</td><td>NY2</td><td></td><td>33</td><td>161</td><td>35</td><td> 58</td><td> 5</td><td>⋯</td><td>4</td><td>2</td><td> 3</td><td>0</td><td>NA</td><td>0</td><td>NA</td><td>0</td><td>NA</td><td>0.3719512</td></tr>\n",
       "\t<tr><th scope=row>102</th><td>suttoez01</td><td>1871</td><td>1</td><td>CL1</td><td></td><td>29</td><td>128</td><td>35</td><td> 45</td><td> 3</td><td>⋯</td><td>3</td><td>1</td><td> 1</td><td>0</td><td>NA</td><td>0</td><td>NA</td><td>0</td><td>NA</td><td>0.3565891</td></tr>\n",
       "\t<tr><th scope=row>106</th><td>whitede01</td><td>1871</td><td>1</td><td>CL1</td><td></td><td>29</td><td>146</td><td>40</td><td> 47</td><td> 6</td><td>⋯</td><td>2</td><td>2</td><td> 4</td><td>1</td><td>NA</td><td>0</td><td>NA</td><td>0</td><td>NA</td><td>0.3400000</td></tr>\n",
       "\t<tr><th scope=row>113</th><td>yorkto01 </td><td>1871</td><td>1</td><td>TRO</td><td></td><td>29</td><td>145</td><td>36</td><td> 37</td><td> 5</td><td>⋯</td><td>2</td><td>2</td><td> 9</td><td>1</td><td>NA</td><td>0</td><td>NA</td><td>0</td><td>NA</td><td>0.2987013</td></tr>\n",
       "\t<tr><th scope=row>121</th><td>ansonca01</td><td>1872</td><td>1</td><td>PH1</td><td></td><td>46</td><td>217</td><td>60</td><td> 90</td><td>10</td><td>⋯</td><td>6</td><td>6</td><td>16</td><td>3</td><td>NA</td><td>0</td><td>NA</td><td>0</td><td>NA</td><td>0.4549356</td></tr>\n",
       "\t<tr><th scope=row>143</th><td>burdoja01</td><td>1872</td><td>1</td><td>BR2</td><td></td><td>37</td><td>174</td><td>26</td><td> 46</td><td> 3</td><td>⋯</td><td>0</td><td>1</td><td> 1</td><td>1</td><td>NA</td><td>0</td><td>NA</td><td>0</td><td>NA</td><td>0.2685714</td></tr>\n",
       "\t<tr><th scope=row>167</th><td>forceda01</td><td>1872</td><td>1</td><td>TRO</td><td></td><td>25</td><td>130</td><td>40</td><td> 53</td><td>11</td><td>⋯</td><td>2</td><td>2</td><td> 1</td><td>0</td><td>NA</td><td>0</td><td>NA</td><td>0</td><td>NA</td><td>0.4122137</td></tr>\n",
       "\t<tr><th scope=row>168</th><td>forceda01</td><td>1872</td><td>2</td><td>BL1</td><td></td><td>19</td><td> 95</td><td>29</td><td> 41</td><td> 2</td><td>⋯</td><td>3</td><td>0</td><td> 1</td><td>0</td><td>NA</td><td>0</td><td>NA</td><td>0</td><td>NA</td><td>0.4375000</td></tr>\n",
       "\t<tr><th scope=row>209</th><td>mathebo01</td><td>1872</td><td>1</td><td>BL1</td><td></td><td>50</td><td>223</td><td>36</td><td> 50</td><td> 1</td><td>⋯</td><td>1</td><td>1</td><td> 3</td><td>2</td><td>NA</td><td>0</td><td>NA</td><td>0</td><td>NA</td><td>0.2345133</td></tr>\n",
       "\t<tr><th scope=row>227</th><td>nelsoca01</td><td>1872</td><td>2</td><td>BR1</td><td></td><td>18</td><td> 76</td><td>12</td><td> 19</td><td> 2</td><td>⋯</td><td>1</td><td>0</td><td> 2</td><td>2</td><td>NA</td><td>0</td><td>NA</td><td>0</td><td>NA</td><td>0.2692308</td></tr>\n",
       "\t<tr><th scope=row>229</th><td>orourji01</td><td>1872</td><td>1</td><td>MID</td><td></td><td>23</td><td>101</td><td>25</td><td> 31</td><td> 4</td><td>⋯</td><td>1</td><td>0</td><td> 2</td><td>0</td><td>NA</td><td>0</td><td>NA</td><td>0</td><td>NA</td><td>0.3203883</td></tr>\n",
       "\t<tr><th scope=row>249</th><td>startjo01</td><td>1872</td><td>1</td><td>NY2</td><td></td><td>55</td><td>282</td><td>62</td><td> 76</td><td> 4</td><td>⋯</td><td>3</td><td>3</td><td> 0</td><td>0</td><td>NA</td><td>0</td><td>NA</td><td>0</td><td>NA</td><td>0.2695035</td></tr>\n",
       "\t<tr><th scope=row>252</th><td>suttoez01</td><td>1872</td><td>1</td><td>CL1</td><td></td><td>22</td><td>107</td><td>30</td><td> 30</td><td> 6</td><td>⋯</td><td>1</td><td>0</td><td> 1</td><td>1</td><td>NA</td><td>0</td><td>NA</td><td>0</td><td>NA</td><td>0.2870370</td></tr>\n",
       "\t<tr><th scope=row>259</th><td>whitede01</td><td>1872</td><td>1</td><td>CL1</td><td></td><td>22</td><td>109</td><td>21</td><td> 37</td><td> 2</td><td>⋯</td><td>0</td><td>0</td><td> 4</td><td>1</td><td>NA</td><td>0</td><td>NA</td><td>0</td><td>NA</td><td>0.3628319</td></tr>\n",
       "\t<tr><th scope=row>268</th><td>yorkto01 </td><td>1872</td><td>1</td><td>BL1</td><td></td><td>51</td><td>248</td><td>66</td><td> 66</td><td>10</td><td>⋯</td><td>2</td><td>1</td><td> 4</td><td>1</td><td>NA</td><td>0</td><td>NA</td><td>0</td><td>NA</td><td>0.2777778</td></tr>\n",
       "\t<tr><th scope=row>276</th><td>ansonca01</td><td>1873</td><td>1</td><td>PH1</td><td></td><td>52</td><td>254</td><td>53</td><td>101</td><td> 9</td><td>⋯</td><td>0</td><td>2</td><td> 5</td><td>1</td><td>NA</td><td>0</td><td>NA</td><td>0</td><td>NA</td><td>0.4092664</td></tr>\n",
       "\t<tr><th scope=row>293</th><td>burdoja01</td><td>1873</td><td>1</td><td>BR2</td><td></td><td>55</td><td>245</td><td>56</td><td> 62</td><td> 7</td><td>⋯</td><td>3</td><td>1</td><td> 7</td><td>4</td><td>NA</td><td>0</td><td>NA</td><td>0</td><td>NA</td><td>0.2738095</td></tr>\n",
       "\t<tr><th scope=row>314</th><td>forceda01</td><td>1873</td><td>1</td><td>BL1</td><td></td><td>49</td><td>234</td><td>77</td><td> 86</td><td> 8</td><td>⋯</td><td>1</td><td>0</td><td> 9</td><td>0</td><td>NA</td><td>0</td><td>NA</td><td>0</td><td>NA</td><td>0.3909465</td></tr>\n",
       "\t<tr><th scope=row>318</th><td>gerhajo01</td><td>1873</td><td>1</td><td>WS5</td><td></td><td>13</td><td> 56</td><td> 6</td><td> 12</td><td> 3</td><td>⋯</td><td>0</td><td>0</td><td> 0</td><td>5</td><td>NA</td><td>0</td><td>NA</td><td>0</td><td>NA</td><td>0.2142857</td></tr>\n",
       "\t<tr><th scope=row>327</th><td>hinespa01</td><td>1873</td><td>1</td><td>WS5</td><td></td><td>39</td><td>181</td><td>33</td><td> 60</td><td> 6</td><td>⋯</td><td>0</td><td>1</td><td> 1</td><td>1</td><td>NA</td><td>0</td><td>NA</td><td>0</td><td>NA</td><td>0.3351648</td></tr>\n",
       "\t<tr><th scope=row>344</th><td>mathebo01</td><td>1873</td><td>1</td><td>NY2</td><td></td><td>52</td><td>223</td><td>40</td><td> 43</td><td> 3</td><td>⋯</td><td>1</td><td>1</td><td>10</td><td>3</td><td>NA</td><td>0</td><td>NA</td><td>0</td><td>NA</td><td>0.2274678</td></tr>\n",
       "\t<tr><th scope=row>353</th><td>nelsoca01</td><td>1873</td><td>1</td><td>NY2</td><td></td><td>36</td><td>168</td><td>28</td><td> 55</td><td> 4</td><td>⋯</td><td>2</td><td>0</td><td> 1</td><td>2</td><td>NA</td><td>0</td><td>NA</td><td>0</td><td>NA</td><td>0.3313609</td></tr>\n",
       "\t<tr><th scope=row>355</th><td>orourji01</td><td>1873</td><td>1</td><td>BS1</td><td></td><td>57</td><td>280</td><td>79</td><td> 98</td><td>19</td><td>⋯</td><td>4</td><td>2</td><td>14</td><td>1</td><td>NA</td><td>0</td><td>NA</td><td>0</td><td>NA</td><td>0.3809524</td></tr>\n",
       "\t<tr><th scope=row>375</th><td>snydepo01</td><td>1873</td><td>1</td><td>WS5</td><td></td><td>28</td><td>108</td><td>16</td><td> 21</td><td> 2</td><td>⋯</td><td>0</td><td>1</td><td> 3</td><td>3</td><td>NA</td><td>0</td><td>NA</td><td>0</td><td>NA</td><td>0.2162162</td></tr>\n",
       "\t<tr><th scope=row>377</th><td>startjo01</td><td>1873</td><td>1</td><td>NY2</td><td></td><td>53</td><td>251</td><td>42</td><td> 67</td><td> 8</td><td>⋯</td><td>1</td><td>0</td><td> 4</td><td>0</td><td>NA</td><td>0</td><td>NA</td><td>0</td><td>NA</td><td>0.2784314</td></tr>\n",
       "\t<tr><th scope=row>380</th><td>suttoez01</td><td>1873</td><td>1</td><td>PH1</td><td></td><td>51</td><td>242</td><td>51</td><td> 81</td><td> 7</td><td>⋯</td><td>1</td><td>3</td><td> 2</td><td>2</td><td>NA</td><td>0</td><td>NA</td><td>0</td><td>NA</td><td>0.3401639</td></tr>\n",
       "\t<tr><th scope=row>386</th><td>whitede01</td><td>1873</td><td>1</td><td>BS1</td><td></td><td>60</td><td>310</td><td>79</td><td>121</td><td>15</td><td>⋯</td><td>6</td><td>2</td><td> 0</td><td>2</td><td>NA</td><td>0</td><td>NA</td><td>0</td><td>NA</td><td>0.3903226</td></tr>\n",
       "\t<tr><th scope=row>⋮</th><td>⋮</td><td>⋮</td><td>⋮</td><td>⋮</td><td>⋮</td><td>⋮</td><td>⋮</td><td>⋮</td><td>⋮</td><td>⋮</td><td>⋱</td><td>⋮</td><td>⋮</td><td>⋮</td><td>⋮</td><td>⋮</td><td>⋮</td><td>⋮</td><td>⋮</td><td>⋮</td><td>⋮</td></tr>\n",
       "\t<tr><th scope=row>89385</th><td>sandere02</td><td>2007</td><td>1</td><td>KCA</td><td>AL</td><td> 24</td><td> 73</td><td>12</td><td> 23</td><td> 7</td><td>⋯</td><td> 0</td><td>1</td><td> 11</td><td> 15</td><td> 0</td><td> 1</td><td> 0</td><td>0</td><td> 2</td><td>0.4117647</td></tr>\n",
       "\t<tr><th scope=row>89389</th><td>rodriiv01</td><td>2007</td><td>1</td><td>DET</td><td>AL</td><td>129</td><td>502</td><td>50</td><td>141</td><td>31</td><td>⋯</td><td> 2</td><td>2</td><td>  9</td><td> 96</td><td> 1</td><td> 1</td><td> 1</td><td>2</td><td>16</td><td>0.2937743</td></tr>\n",
       "\t<tr><th scope=row>89396</th><td>ramirma02</td><td>2007</td><td>1</td><td>BOS</td><td>AL</td><td>133</td><td>483</td><td>84</td><td>143</td><td>33</td><td>⋯</td><td> 0</td><td>0</td><td> 71</td><td> 92</td><td>13</td><td> 7</td><td> 0</td><td>8</td><td>21</td><td>0.3884007</td></tr>\n",
       "\t<tr><th scope=row>89398</th><td>piazzmi01</td><td>2007</td><td>1</td><td>OAK</td><td>AL</td><td> 83</td><td>309</td><td>33</td><td> 85</td><td>17</td><td>⋯</td><td> 0</td><td>0</td><td> 18</td><td> 61</td><td> 0</td><td> 0</td><td> 0</td><td>2</td><td> 9</td><td>0.3130699</td></tr>\n",
       "\t<tr><th scope=row>89400</th><td>perezne01</td><td>2007</td><td>1</td><td>DET</td><td>AL</td><td> 33</td><td> 64</td><td> 5</td><td> 11</td><td> 3</td><td>⋯</td><td> 0</td><td>0</td><td>  4</td><td>  8</td><td> 0</td><td> 0</td><td> 3</td><td>0</td><td> 2</td><td>0.2205882</td></tr>\n",
       "\t<tr><th scope=row>89412</th><td>moyerja01</td><td>2007</td><td>1</td><td>PHI</td><td>NL</td><td> 33</td><td> 73</td><td> 4</td><td>  9</td><td> 2</td><td>⋯</td><td> 0</td><td>0</td><td>  2</td><td> 26</td><td> 0</td><td> 0</td><td> 8</td><td>0</td><td> 1</td><td>0.1466667</td></tr>\n",
       "\t<tr><th scope=row>89425</th><td>maddugr01</td><td>2007</td><td>1</td><td>SDN</td><td>NL</td><td> 33</td><td> 62</td><td> 2</td><td>  9</td><td> 2</td><td>⋯</td><td> 1</td><td>0</td><td>  1</td><td> 19</td><td> 0</td><td> 0</td><td> 9</td><td>0</td><td> 2</td><td>0.1587302</td></tr>\n",
       "\t<tr><th scope=row>89429</th><td>loftoke01</td><td>2007</td><td>2</td><td>CLE</td><td>AL</td><td> 52</td><td>173</td><td>24</td><td> 49</td><td> 9</td><td>⋯</td><td> 2</td><td>3</td><td> 17</td><td> 23</td><td> 0</td><td> 0</td><td> 4</td><td>2</td><td> 1</td><td>0.3437500</td></tr>\n",
       "\t<tr><th scope=row>89430</th><td>loftoke01</td><td>2007</td><td>1</td><td>TEX</td><td>AL</td><td> 84</td><td>317</td><td>62</td><td> 96</td><td>16</td><td>⋯</td><td>21</td><td>4</td><td> 39</td><td> 28</td><td> 1</td><td> 2</td><td> 2</td><td>3</td><td> 5</td><td>0.3795014</td></tr>\n",
       "\t<tr><th scope=row>89438</th><td>kleskry01</td><td>2007</td><td>1</td><td>SFN</td><td>NL</td><td>116</td><td>362</td><td>51</td><td> 94</td><td>27</td><td>⋯</td><td> 5</td><td>1</td><td> 46</td><td> 68</td><td> 2</td><td> 1</td><td> 1</td><td>1</td><td>14</td><td>0.3439024</td></tr>\n",
       "\t<tr><th scope=row>89439</th><td>kentje01 </td><td>2007</td><td>1</td><td>LAN</td><td>NL</td><td>136</td><td>494</td><td>78</td><td>149</td><td>36</td><td>⋯</td><td> 1</td><td>3</td><td> 57</td><td> 61</td><td> 4</td><td> 5</td><td> 0</td><td>6</td><td>17</td><td>0.3754448</td></tr>\n",
       "\t<tr><th scope=row>89462</th><td>griffke02</td><td>2007</td><td>1</td><td>CIN</td><td>NL</td><td>144</td><td>528</td><td>78</td><td>146</td><td>24</td><td>⋯</td><td> 6</td><td>1</td><td> 85</td><td> 99</td><td>14</td><td> 1</td><td> 0</td><td>9</td><td>14</td><td>0.3723917</td></tr>\n",
       "\t<tr><th scope=row>89463</th><td>greensh01</td><td>2007</td><td>1</td><td>NYN</td><td>NL</td><td>130</td><td>446</td><td>62</td><td>130</td><td>30</td><td>⋯</td><td>11</td><td>1</td><td> 37</td><td> 62</td><td> 4</td><td> 5</td><td> 1</td><td>1</td><td>14</td><td>0.3517382</td></tr>\n",
       "\t<tr><th scope=row>89464</th><td>graffto01</td><td>2007</td><td>1</td><td>MIL</td><td>NL</td><td> 86</td><td>231</td><td>34</td><td> 55</td><td> 8</td><td>⋯</td><td> 0</td><td>1</td><td> 24</td><td> 44</td><td> 6</td><td> 3</td><td> 0</td><td>2</td><td> 7</td><td>0.3153846</td></tr>\n",
       "\t<tr><th scope=row>89466</th><td>gonzalu01</td><td>2007</td><td>1</td><td>LAN</td><td>NL</td><td>139</td><td>464</td><td>70</td><td>129</td><td>23</td><td>⋯</td><td> 6</td><td>2</td><td> 56</td><td> 56</td><td> 4</td><td> 4</td><td> 0</td><td>2</td><td>11</td><td>0.3593156</td></tr>\n",
       "\t<tr><th scope=row>89467</th><td>gomezch02</td><td>2007</td><td>2</td><td>CLE</td><td>AL</td><td> 19</td><td> 53</td><td> 4</td><td> 15</td><td> 2</td><td>⋯</td><td> 0</td><td>0</td><td>  0</td><td>  6</td><td> 0</td><td> 0</td><td> 1</td><td>1</td><td> 1</td><td>0.2777778</td></tr>\n",
       "\t<tr><th scope=row>89468</th><td>gomezch02</td><td>2007</td><td>1</td><td>BAL</td><td>AL</td><td> 73</td><td>169</td><td>17</td><td> 51</td><td>10</td><td>⋯</td><td> 1</td><td>2</td><td> 10</td><td> 20</td><td> 1</td><td> 0</td><td> 5</td><td>1</td><td> 5</td><td>0.3388889</td></tr>\n",
       "\t<tr><th scope=row>89469</th><td>glavito02</td><td>2007</td><td>1</td><td>NYN</td><td>NL</td><td> 33</td><td> 56</td><td> 3</td><td> 12</td><td> 1</td><td>⋯</td><td> 0</td><td>0</td><td>  6</td><td>  5</td><td> 0</td><td> 0</td><td>12</td><td>1</td><td> 0</td><td>0.2857143</td></tr>\n",
       "\t<tr><th scope=row>89473</th><td>floydcl01</td><td>2007</td><td>1</td><td>CHN</td><td>NL</td><td>108</td><td>282</td><td>40</td><td> 80</td><td>10</td><td>⋯</td><td> 0</td><td>0</td><td> 35</td><td> 47</td><td> 5</td><td> 5</td><td> 0</td><td>0</td><td> 6</td><td>0.3726708</td></tr>\n",
       "\t<tr><th scope=row>89474</th><td>finlest01</td><td>2007</td><td>1</td><td>COL</td><td>NL</td><td> 43</td><td> 94</td><td> 9</td><td> 17</td><td> 3</td><td>⋯</td><td> 0</td><td>0</td><td>  8</td><td>  4</td><td> 1</td><td> 0</td><td> 0</td><td>0</td><td> 2</td><td>0.2450980</td></tr>\n",
       "\t<tr><th scope=row>89481</th><td>edmonji01</td><td>2007</td><td>1</td><td>SLN</td><td>NL</td><td>117</td><td>365</td><td>39</td><td> 92</td><td>15</td><td>⋯</td><td> 0</td><td>2</td><td> 41</td><td> 75</td><td> 2</td><td> 0</td><td> 2</td><td>3</td><td> 9</td><td>0.3251834</td></tr>\n",
       "\t<tr><th scope=row>89482</th><td>easleda01</td><td>2007</td><td>1</td><td>NYN</td><td>NL</td><td> 76</td><td>193</td><td>24</td><td> 54</td><td> 6</td><td>⋯</td><td> 0</td><td>1</td><td> 19</td><td> 35</td><td> 1</td><td> 5</td><td> 0</td><td>1</td><td> 2</td><td>0.3577982</td></tr>\n",
       "\t<tr><th scope=row>89489</th><td>delgaca01</td><td>2007</td><td>1</td><td>NYN</td><td>NL</td><td>139</td><td>538</td><td>71</td><td>139</td><td>30</td><td>⋯</td><td> 4</td><td>0</td><td> 52</td><td>118</td><td> 8</td><td>11</td><td> 0</td><td>6</td><td>12</td><td>0.3327842</td></tr>\n",
       "\t<tr><th scope=row>89495</th><td>coninje01</td><td>2007</td><td>1</td><td>CIN</td><td>NL</td><td> 80</td><td>215</td><td>23</td><td> 57</td><td>11</td><td>⋯</td><td> 4</td><td>0</td><td> 20</td><td> 28</td><td> 0</td><td> 0</td><td> 1</td><td>6</td><td> 4</td><td>0.3195021</td></tr>\n",
       "\t<tr><th scope=row>89499</th><td>claytro01</td><td>2007</td><td>1</td><td>TOR</td><td>AL</td><td> 69</td><td>189</td><td>23</td><td> 48</td><td>14</td><td>⋯</td><td> 2</td><td>1</td><td> 14</td><td> 50</td><td> 0</td><td> 1</td><td> 3</td><td>3</td><td> 8</td><td>0.3043478</td></tr>\n",
       "\t<tr><th scope=row>89502</th><td>cirilje01</td><td>2007</td><td>1</td><td>MIN</td><td>AL</td><td> 50</td><td>153</td><td>18</td><td> 40</td><td> 9</td><td>⋯</td><td> 2</td><td>0</td><td> 15</td><td> 13</td><td> 0</td><td> 1</td><td> 3</td><td>2</td><td> 9</td><td>0.3274854</td></tr>\n",
       "\t<tr><th scope=row>89521</th><td>bondsba01</td><td>2007</td><td>1</td><td>SFN</td><td>NL</td><td>126</td><td>340</td><td>75</td><td> 94</td><td>14</td><td>⋯</td><td> 5</td><td>0</td><td>132</td><td> 54</td><td>43</td><td> 3</td><td> 0</td><td>2</td><td>13</td><td>0.4800839</td></tr>\n",
       "\t<tr><th scope=row>89523</th><td>biggicr01</td><td>2007</td><td>1</td><td>HOU</td><td>NL</td><td>141</td><td>517</td><td>68</td><td>130</td><td>31</td><td>⋯</td><td> 4</td><td>3</td><td> 23</td><td>112</td><td> 0</td><td> 3</td><td> 7</td><td>5</td><td> 5</td><td>0.2846715</td></tr>\n",
       "\t<tr><th scope=row>89530</th><td>ausmubr01</td><td>2007</td><td>1</td><td>HOU</td><td>NL</td><td>117</td><td>349</td><td>38</td><td> 82</td><td>16</td><td>⋯</td><td> 6</td><td>1</td><td> 37</td><td> 74</td><td> 3</td><td> 6</td><td> 4</td><td>1</td><td>11</td><td>0.3180662</td></tr>\n",
       "\t<tr><th scope=row>89533</th><td>aloumo01 </td><td>2007</td><td>1</td><td>NYN</td><td>NL</td><td> 87</td><td>328</td><td>51</td><td>112</td><td>19</td><td>⋯</td><td> 3</td><td>0</td><td> 27</td><td> 30</td><td> 5</td><td> 2</td><td> 0</td><td>3</td><td>13</td><td>0.3916667</td></tr>\n",
       "</tbody>\n",
       "</table>\n"
      ],
      "text/latex": [
       "A data.frame: 14828 × 23\n",
       "\\begin{tabular}{r|lllllllllllllllllllll}\n",
       "  & id & year & stint & team & lg & g & ab & r & h & X2b & ⋯ & sb & cs & bb & so & ibb & hbp & sh & sf & gidp & OBP\\\\\n",
       "  & <chr> & <int> & <int> & <chr> & <chr> & <int> & <int> & <int> & <int> & <int> & ⋯ & <int> & <int> & <int> & <int> & <int> & <dbl> & <int> & <dbl> & <int> & <dbl>\\\\\n",
       "\\hline\n",
       "\t4 & ansonca01 & 1871 & 1 & RC1 &  & 25 & 120 & 29 &  39 & 11 & ⋯ & 6 & 2 &  2 & 1 & NA & 0 & NA & 0 & NA & 0.3360656\\\\\n",
       "\t44 & forceda01 & 1871 & 1 & WS3 &  & 32 & 162 & 45 &  45 &  9 & ⋯ & 8 & 0 &  4 & 0 & NA & 0 & NA & 0 & NA & 0.2951807\\\\\n",
       "\t68 & mathebo01 & 1871 & 1 & FW1 &  & 19 &  89 & 15 &  24 &  3 & ⋯ & 2 & 1 &  2 & 0 & NA & 0 & NA & 0 & NA & 0.2857143\\\\\n",
       "\t99 & startjo01 & 1871 & 1 & NY2 &  & 33 & 161 & 35 &  58 &  5 & ⋯ & 4 & 2 &  3 & 0 & NA & 0 & NA & 0 & NA & 0.3719512\\\\\n",
       "\t102 & suttoez01 & 1871 & 1 & CL1 &  & 29 & 128 & 35 &  45 &  3 & ⋯ & 3 & 1 &  1 & 0 & NA & 0 & NA & 0 & NA & 0.3565891\\\\\n",
       "\t106 & whitede01 & 1871 & 1 & CL1 &  & 29 & 146 & 40 &  47 &  6 & ⋯ & 2 & 2 &  4 & 1 & NA & 0 & NA & 0 & NA & 0.3400000\\\\\n",
       "\t113 & yorkto01  & 1871 & 1 & TRO &  & 29 & 145 & 36 &  37 &  5 & ⋯ & 2 & 2 &  9 & 1 & NA & 0 & NA & 0 & NA & 0.2987013\\\\\n",
       "\t121 & ansonca01 & 1872 & 1 & PH1 &  & 46 & 217 & 60 &  90 & 10 & ⋯ & 6 & 6 & 16 & 3 & NA & 0 & NA & 0 & NA & 0.4549356\\\\\n",
       "\t143 & burdoja01 & 1872 & 1 & BR2 &  & 37 & 174 & 26 &  46 &  3 & ⋯ & 0 & 1 &  1 & 1 & NA & 0 & NA & 0 & NA & 0.2685714\\\\\n",
       "\t167 & forceda01 & 1872 & 1 & TRO &  & 25 & 130 & 40 &  53 & 11 & ⋯ & 2 & 2 &  1 & 0 & NA & 0 & NA & 0 & NA & 0.4122137\\\\\n",
       "\t168 & forceda01 & 1872 & 2 & BL1 &  & 19 &  95 & 29 &  41 &  2 & ⋯ & 3 & 0 &  1 & 0 & NA & 0 & NA & 0 & NA & 0.4375000\\\\\n",
       "\t209 & mathebo01 & 1872 & 1 & BL1 &  & 50 & 223 & 36 &  50 &  1 & ⋯ & 1 & 1 &  3 & 2 & NA & 0 & NA & 0 & NA & 0.2345133\\\\\n",
       "\t227 & nelsoca01 & 1872 & 2 & BR1 &  & 18 &  76 & 12 &  19 &  2 & ⋯ & 1 & 0 &  2 & 2 & NA & 0 & NA & 0 & NA & 0.2692308\\\\\n",
       "\t229 & orourji01 & 1872 & 1 & MID &  & 23 & 101 & 25 &  31 &  4 & ⋯ & 1 & 0 &  2 & 0 & NA & 0 & NA & 0 & NA & 0.3203883\\\\\n",
       "\t249 & startjo01 & 1872 & 1 & NY2 &  & 55 & 282 & 62 &  76 &  4 & ⋯ & 3 & 3 &  0 & 0 & NA & 0 & NA & 0 & NA & 0.2695035\\\\\n",
       "\t252 & suttoez01 & 1872 & 1 & CL1 &  & 22 & 107 & 30 &  30 &  6 & ⋯ & 1 & 0 &  1 & 1 & NA & 0 & NA & 0 & NA & 0.2870370\\\\\n",
       "\t259 & whitede01 & 1872 & 1 & CL1 &  & 22 & 109 & 21 &  37 &  2 & ⋯ & 0 & 0 &  4 & 1 & NA & 0 & NA & 0 & NA & 0.3628319\\\\\n",
       "\t268 & yorkto01  & 1872 & 1 & BL1 &  & 51 & 248 & 66 &  66 & 10 & ⋯ & 2 & 1 &  4 & 1 & NA & 0 & NA & 0 & NA & 0.2777778\\\\\n",
       "\t276 & ansonca01 & 1873 & 1 & PH1 &  & 52 & 254 & 53 & 101 &  9 & ⋯ & 0 & 2 &  5 & 1 & NA & 0 & NA & 0 & NA & 0.4092664\\\\\n",
       "\t293 & burdoja01 & 1873 & 1 & BR2 &  & 55 & 245 & 56 &  62 &  7 & ⋯ & 3 & 1 &  7 & 4 & NA & 0 & NA & 0 & NA & 0.2738095\\\\\n",
       "\t314 & forceda01 & 1873 & 1 & BL1 &  & 49 & 234 & 77 &  86 &  8 & ⋯ & 1 & 0 &  9 & 0 & NA & 0 & NA & 0 & NA & 0.3909465\\\\\n",
       "\t318 & gerhajo01 & 1873 & 1 & WS5 &  & 13 &  56 &  6 &  12 &  3 & ⋯ & 0 & 0 &  0 & 5 & NA & 0 & NA & 0 & NA & 0.2142857\\\\\n",
       "\t327 & hinespa01 & 1873 & 1 & WS5 &  & 39 & 181 & 33 &  60 &  6 & ⋯ & 0 & 1 &  1 & 1 & NA & 0 & NA & 0 & NA & 0.3351648\\\\\n",
       "\t344 & mathebo01 & 1873 & 1 & NY2 &  & 52 & 223 & 40 &  43 &  3 & ⋯ & 1 & 1 & 10 & 3 & NA & 0 & NA & 0 & NA & 0.2274678\\\\\n",
       "\t353 & nelsoca01 & 1873 & 1 & NY2 &  & 36 & 168 & 28 &  55 &  4 & ⋯ & 2 & 0 &  1 & 2 & NA & 0 & NA & 0 & NA & 0.3313609\\\\\n",
       "\t355 & orourji01 & 1873 & 1 & BS1 &  & 57 & 280 & 79 &  98 & 19 & ⋯ & 4 & 2 & 14 & 1 & NA & 0 & NA & 0 & NA & 0.3809524\\\\\n",
       "\t375 & snydepo01 & 1873 & 1 & WS5 &  & 28 & 108 & 16 &  21 &  2 & ⋯ & 0 & 1 &  3 & 3 & NA & 0 & NA & 0 & NA & 0.2162162\\\\\n",
       "\t377 & startjo01 & 1873 & 1 & NY2 &  & 53 & 251 & 42 &  67 &  8 & ⋯ & 1 & 0 &  4 & 0 & NA & 0 & NA & 0 & NA & 0.2784314\\\\\n",
       "\t380 & suttoez01 & 1873 & 1 & PH1 &  & 51 & 242 & 51 &  81 &  7 & ⋯ & 1 & 3 &  2 & 2 & NA & 0 & NA & 0 & NA & 0.3401639\\\\\n",
       "\t386 & whitede01 & 1873 & 1 & BS1 &  & 60 & 310 & 79 & 121 & 15 & ⋯ & 6 & 2 &  0 & 2 & NA & 0 & NA & 0 & NA & 0.3903226\\\\\n",
       "\t⋮ & ⋮ & ⋮ & ⋮ & ⋮ & ⋮ & ⋮ & ⋮ & ⋮ & ⋮ & ⋮ & ⋱ & ⋮ & ⋮ & ⋮ & ⋮ & ⋮ & ⋮ & ⋮ & ⋮ & ⋮ & ⋮\\\\\n",
       "\t89385 & sandere02 & 2007 & 1 & KCA & AL &  24 &  73 & 12 &  23 &  7 & ⋯ &  0 & 1 &  11 &  15 &  0 &  1 &  0 & 0 &  2 & 0.4117647\\\\\n",
       "\t89389 & rodriiv01 & 2007 & 1 & DET & AL & 129 & 502 & 50 & 141 & 31 & ⋯ &  2 & 2 &   9 &  96 &  1 &  1 &  1 & 2 & 16 & 0.2937743\\\\\n",
       "\t89396 & ramirma02 & 2007 & 1 & BOS & AL & 133 & 483 & 84 & 143 & 33 & ⋯ &  0 & 0 &  71 &  92 & 13 &  7 &  0 & 8 & 21 & 0.3884007\\\\\n",
       "\t89398 & piazzmi01 & 2007 & 1 & OAK & AL &  83 & 309 & 33 &  85 & 17 & ⋯ &  0 & 0 &  18 &  61 &  0 &  0 &  0 & 2 &  9 & 0.3130699\\\\\n",
       "\t89400 & perezne01 & 2007 & 1 & DET & AL &  33 &  64 &  5 &  11 &  3 & ⋯ &  0 & 0 &   4 &   8 &  0 &  0 &  3 & 0 &  2 & 0.2205882\\\\\n",
       "\t89412 & moyerja01 & 2007 & 1 & PHI & NL &  33 &  73 &  4 &   9 &  2 & ⋯ &  0 & 0 &   2 &  26 &  0 &  0 &  8 & 0 &  1 & 0.1466667\\\\\n",
       "\t89425 & maddugr01 & 2007 & 1 & SDN & NL &  33 &  62 &  2 &   9 &  2 & ⋯ &  1 & 0 &   1 &  19 &  0 &  0 &  9 & 0 &  2 & 0.1587302\\\\\n",
       "\t89429 & loftoke01 & 2007 & 2 & CLE & AL &  52 & 173 & 24 &  49 &  9 & ⋯ &  2 & 3 &  17 &  23 &  0 &  0 &  4 & 2 &  1 & 0.3437500\\\\\n",
       "\t89430 & loftoke01 & 2007 & 1 & TEX & AL &  84 & 317 & 62 &  96 & 16 & ⋯ & 21 & 4 &  39 &  28 &  1 &  2 &  2 & 3 &  5 & 0.3795014\\\\\n",
       "\t89438 & kleskry01 & 2007 & 1 & SFN & NL & 116 & 362 & 51 &  94 & 27 & ⋯ &  5 & 1 &  46 &  68 &  2 &  1 &  1 & 1 & 14 & 0.3439024\\\\\n",
       "\t89439 & kentje01  & 2007 & 1 & LAN & NL & 136 & 494 & 78 & 149 & 36 & ⋯ &  1 & 3 &  57 &  61 &  4 &  5 &  0 & 6 & 17 & 0.3754448\\\\\n",
       "\t89462 & griffke02 & 2007 & 1 & CIN & NL & 144 & 528 & 78 & 146 & 24 & ⋯ &  6 & 1 &  85 &  99 & 14 &  1 &  0 & 9 & 14 & 0.3723917\\\\\n",
       "\t89463 & greensh01 & 2007 & 1 & NYN & NL & 130 & 446 & 62 & 130 & 30 & ⋯ & 11 & 1 &  37 &  62 &  4 &  5 &  1 & 1 & 14 & 0.3517382\\\\\n",
       "\t89464 & graffto01 & 2007 & 1 & MIL & NL &  86 & 231 & 34 &  55 &  8 & ⋯ &  0 & 1 &  24 &  44 &  6 &  3 &  0 & 2 &  7 & 0.3153846\\\\\n",
       "\t89466 & gonzalu01 & 2007 & 1 & LAN & NL & 139 & 464 & 70 & 129 & 23 & ⋯ &  6 & 2 &  56 &  56 &  4 &  4 &  0 & 2 & 11 & 0.3593156\\\\\n",
       "\t89467 & gomezch02 & 2007 & 2 & CLE & AL &  19 &  53 &  4 &  15 &  2 & ⋯ &  0 & 0 &   0 &   6 &  0 &  0 &  1 & 1 &  1 & 0.2777778\\\\\n",
       "\t89468 & gomezch02 & 2007 & 1 & BAL & AL &  73 & 169 & 17 &  51 & 10 & ⋯ &  1 & 2 &  10 &  20 &  1 &  0 &  5 & 1 &  5 & 0.3388889\\\\\n",
       "\t89469 & glavito02 & 2007 & 1 & NYN & NL &  33 &  56 &  3 &  12 &  1 & ⋯ &  0 & 0 &   6 &   5 &  0 &  0 & 12 & 1 &  0 & 0.2857143\\\\\n",
       "\t89473 & floydcl01 & 2007 & 1 & CHN & NL & 108 & 282 & 40 &  80 & 10 & ⋯ &  0 & 0 &  35 &  47 &  5 &  5 &  0 & 0 &  6 & 0.3726708\\\\\n",
       "\t89474 & finlest01 & 2007 & 1 & COL & NL &  43 &  94 &  9 &  17 &  3 & ⋯ &  0 & 0 &   8 &   4 &  1 &  0 &  0 & 0 &  2 & 0.2450980\\\\\n",
       "\t89481 & edmonji01 & 2007 & 1 & SLN & NL & 117 & 365 & 39 &  92 & 15 & ⋯ &  0 & 2 &  41 &  75 &  2 &  0 &  2 & 3 &  9 & 0.3251834\\\\\n",
       "\t89482 & easleda01 & 2007 & 1 & NYN & NL &  76 & 193 & 24 &  54 &  6 & ⋯ &  0 & 1 &  19 &  35 &  1 &  5 &  0 & 1 &  2 & 0.3577982\\\\\n",
       "\t89489 & delgaca01 & 2007 & 1 & NYN & NL & 139 & 538 & 71 & 139 & 30 & ⋯ &  4 & 0 &  52 & 118 &  8 & 11 &  0 & 6 & 12 & 0.3327842\\\\\n",
       "\t89495 & coninje01 & 2007 & 1 & CIN & NL &  80 & 215 & 23 &  57 & 11 & ⋯ &  4 & 0 &  20 &  28 &  0 &  0 &  1 & 6 &  4 & 0.3195021\\\\\n",
       "\t89499 & claytro01 & 2007 & 1 & TOR & AL &  69 & 189 & 23 &  48 & 14 & ⋯ &  2 & 1 &  14 &  50 &  0 &  1 &  3 & 3 &  8 & 0.3043478\\\\\n",
       "\t89502 & cirilje01 & 2007 & 1 & MIN & AL &  50 & 153 & 18 &  40 &  9 & ⋯ &  2 & 0 &  15 &  13 &  0 &  1 &  3 & 2 &  9 & 0.3274854\\\\\n",
       "\t89521 & bondsba01 & 2007 & 1 & SFN & NL & 126 & 340 & 75 &  94 & 14 & ⋯ &  5 & 0 & 132 &  54 & 43 &  3 &  0 & 2 & 13 & 0.4800839\\\\\n",
       "\t89523 & biggicr01 & 2007 & 1 & HOU & NL & 141 & 517 & 68 & 130 & 31 & ⋯ &  4 & 3 &  23 & 112 &  0 &  3 &  7 & 5 &  5 & 0.2846715\\\\\n",
       "\t89530 & ausmubr01 & 2007 & 1 & HOU & NL & 117 & 349 & 38 &  82 & 16 & ⋯ &  6 & 1 &  37 &  74 &  3 &  6 &  4 & 1 & 11 & 0.3180662\\\\\n",
       "\t89533 & aloumo01  & 2007 & 1 & NYN & NL &  87 & 328 & 51 & 112 & 19 & ⋯ &  3 & 0 &  27 &  30 &  5 &  2 &  0 & 3 & 13 & 0.3916667\\\\\n",
       "\\end{tabular}\n"
      ],
      "text/markdown": [
       "\n",
       "A data.frame: 14828 × 23\n",
       "\n",
       "| <!--/--> | id &lt;chr&gt; | year &lt;int&gt; | stint &lt;int&gt; | team &lt;chr&gt; | lg &lt;chr&gt; | g &lt;int&gt; | ab &lt;int&gt; | r &lt;int&gt; | h &lt;int&gt; | X2b &lt;int&gt; | ⋯ ⋯ | sb &lt;int&gt; | cs &lt;int&gt; | bb &lt;int&gt; | so &lt;int&gt; | ibb &lt;int&gt; | hbp &lt;dbl&gt; | sh &lt;int&gt; | sf &lt;dbl&gt; | gidp &lt;int&gt; | OBP &lt;dbl&gt; |\n",
       "|---|---|---|---|---|---|---|---|---|---|---|---|---|---|---|---|---|---|---|---|---|---|\n",
       "| 4 | ansonca01 | 1871 | 1 | RC1 | <!----> | 25 | 120 | 29 |  39 | 11 | ⋯ | 6 | 2 |  2 | 1 | NA | 0 | NA | 0 | NA | 0.3360656 |\n",
       "| 44 | forceda01 | 1871 | 1 | WS3 | <!----> | 32 | 162 | 45 |  45 |  9 | ⋯ | 8 | 0 |  4 | 0 | NA | 0 | NA | 0 | NA | 0.2951807 |\n",
       "| 68 | mathebo01 | 1871 | 1 | FW1 | <!----> | 19 |  89 | 15 |  24 |  3 | ⋯ | 2 | 1 |  2 | 0 | NA | 0 | NA | 0 | NA | 0.2857143 |\n",
       "| 99 | startjo01 | 1871 | 1 | NY2 | <!----> | 33 | 161 | 35 |  58 |  5 | ⋯ | 4 | 2 |  3 | 0 | NA | 0 | NA | 0 | NA | 0.3719512 |\n",
       "| 102 | suttoez01 | 1871 | 1 | CL1 | <!----> | 29 | 128 | 35 |  45 |  3 | ⋯ | 3 | 1 |  1 | 0 | NA | 0 | NA | 0 | NA | 0.3565891 |\n",
       "| 106 | whitede01 | 1871 | 1 | CL1 | <!----> | 29 | 146 | 40 |  47 |  6 | ⋯ | 2 | 2 |  4 | 1 | NA | 0 | NA | 0 | NA | 0.3400000 |\n",
       "| 113 | yorkto01  | 1871 | 1 | TRO | <!----> | 29 | 145 | 36 |  37 |  5 | ⋯ | 2 | 2 |  9 | 1 | NA | 0 | NA | 0 | NA | 0.2987013 |\n",
       "| 121 | ansonca01 | 1872 | 1 | PH1 | <!----> | 46 | 217 | 60 |  90 | 10 | ⋯ | 6 | 6 | 16 | 3 | NA | 0 | NA | 0 | NA | 0.4549356 |\n",
       "| 143 | burdoja01 | 1872 | 1 | BR2 | <!----> | 37 | 174 | 26 |  46 |  3 | ⋯ | 0 | 1 |  1 | 1 | NA | 0 | NA | 0 | NA | 0.2685714 |\n",
       "| 167 | forceda01 | 1872 | 1 | TRO | <!----> | 25 | 130 | 40 |  53 | 11 | ⋯ | 2 | 2 |  1 | 0 | NA | 0 | NA | 0 | NA | 0.4122137 |\n",
       "| 168 | forceda01 | 1872 | 2 | BL1 | <!----> | 19 |  95 | 29 |  41 |  2 | ⋯ | 3 | 0 |  1 | 0 | NA | 0 | NA | 0 | NA | 0.4375000 |\n",
       "| 209 | mathebo01 | 1872 | 1 | BL1 | <!----> | 50 | 223 | 36 |  50 |  1 | ⋯ | 1 | 1 |  3 | 2 | NA | 0 | NA | 0 | NA | 0.2345133 |\n",
       "| 227 | nelsoca01 | 1872 | 2 | BR1 | <!----> | 18 |  76 | 12 |  19 |  2 | ⋯ | 1 | 0 |  2 | 2 | NA | 0 | NA | 0 | NA | 0.2692308 |\n",
       "| 229 | orourji01 | 1872 | 1 | MID | <!----> | 23 | 101 | 25 |  31 |  4 | ⋯ | 1 | 0 |  2 | 0 | NA | 0 | NA | 0 | NA | 0.3203883 |\n",
       "| 249 | startjo01 | 1872 | 1 | NY2 | <!----> | 55 | 282 | 62 |  76 |  4 | ⋯ | 3 | 3 |  0 | 0 | NA | 0 | NA | 0 | NA | 0.2695035 |\n",
       "| 252 | suttoez01 | 1872 | 1 | CL1 | <!----> | 22 | 107 | 30 |  30 |  6 | ⋯ | 1 | 0 |  1 | 1 | NA | 0 | NA | 0 | NA | 0.2870370 |\n",
       "| 259 | whitede01 | 1872 | 1 | CL1 | <!----> | 22 | 109 | 21 |  37 |  2 | ⋯ | 0 | 0 |  4 | 1 | NA | 0 | NA | 0 | NA | 0.3628319 |\n",
       "| 268 | yorkto01  | 1872 | 1 | BL1 | <!----> | 51 | 248 | 66 |  66 | 10 | ⋯ | 2 | 1 |  4 | 1 | NA | 0 | NA | 0 | NA | 0.2777778 |\n",
       "| 276 | ansonca01 | 1873 | 1 | PH1 | <!----> | 52 | 254 | 53 | 101 |  9 | ⋯ | 0 | 2 |  5 | 1 | NA | 0 | NA | 0 | NA | 0.4092664 |\n",
       "| 293 | burdoja01 | 1873 | 1 | BR2 | <!----> | 55 | 245 | 56 |  62 |  7 | ⋯ | 3 | 1 |  7 | 4 | NA | 0 | NA | 0 | NA | 0.2738095 |\n",
       "| 314 | forceda01 | 1873 | 1 | BL1 | <!----> | 49 | 234 | 77 |  86 |  8 | ⋯ | 1 | 0 |  9 | 0 | NA | 0 | NA | 0 | NA | 0.3909465 |\n",
       "| 318 | gerhajo01 | 1873 | 1 | WS5 | <!----> | 13 |  56 |  6 |  12 |  3 | ⋯ | 0 | 0 |  0 | 5 | NA | 0 | NA | 0 | NA | 0.2142857 |\n",
       "| 327 | hinespa01 | 1873 | 1 | WS5 | <!----> | 39 | 181 | 33 |  60 |  6 | ⋯ | 0 | 1 |  1 | 1 | NA | 0 | NA | 0 | NA | 0.3351648 |\n",
       "| 344 | mathebo01 | 1873 | 1 | NY2 | <!----> | 52 | 223 | 40 |  43 |  3 | ⋯ | 1 | 1 | 10 | 3 | NA | 0 | NA | 0 | NA | 0.2274678 |\n",
       "| 353 | nelsoca01 | 1873 | 1 | NY2 | <!----> | 36 | 168 | 28 |  55 |  4 | ⋯ | 2 | 0 |  1 | 2 | NA | 0 | NA | 0 | NA | 0.3313609 |\n",
       "| 355 | orourji01 | 1873 | 1 | BS1 | <!----> | 57 | 280 | 79 |  98 | 19 | ⋯ | 4 | 2 | 14 | 1 | NA | 0 | NA | 0 | NA | 0.3809524 |\n",
       "| 375 | snydepo01 | 1873 | 1 | WS5 | <!----> | 28 | 108 | 16 |  21 |  2 | ⋯ | 0 | 1 |  3 | 3 | NA | 0 | NA | 0 | NA | 0.2162162 |\n",
       "| 377 | startjo01 | 1873 | 1 | NY2 | <!----> | 53 | 251 | 42 |  67 |  8 | ⋯ | 1 | 0 |  4 | 0 | NA | 0 | NA | 0 | NA | 0.2784314 |\n",
       "| 380 | suttoez01 | 1873 | 1 | PH1 | <!----> | 51 | 242 | 51 |  81 |  7 | ⋯ | 1 | 3 |  2 | 2 | NA | 0 | NA | 0 | NA | 0.3401639 |\n",
       "| 386 | whitede01 | 1873 | 1 | BS1 | <!----> | 60 | 310 | 79 | 121 | 15 | ⋯ | 6 | 2 |  0 | 2 | NA | 0 | NA | 0 | NA | 0.3903226 |\n",
       "| ⋮ | ⋮ | ⋮ | ⋮ | ⋮ | ⋮ | ⋮ | ⋮ | ⋮ | ⋮ | ⋮ | ⋱ | ⋮ | ⋮ | ⋮ | ⋮ | ⋮ | ⋮ | ⋮ | ⋮ | ⋮ | ⋮ |\n",
       "| 89385 | sandere02 | 2007 | 1 | KCA | AL |  24 |  73 | 12 |  23 |  7 | ⋯ |  0 | 1 |  11 |  15 |  0 |  1 |  0 | 0 |  2 | 0.4117647 |\n",
       "| 89389 | rodriiv01 | 2007 | 1 | DET | AL | 129 | 502 | 50 | 141 | 31 | ⋯ |  2 | 2 |   9 |  96 |  1 |  1 |  1 | 2 | 16 | 0.2937743 |\n",
       "| 89396 | ramirma02 | 2007 | 1 | BOS | AL | 133 | 483 | 84 | 143 | 33 | ⋯ |  0 | 0 |  71 |  92 | 13 |  7 |  0 | 8 | 21 | 0.3884007 |\n",
       "| 89398 | piazzmi01 | 2007 | 1 | OAK | AL |  83 | 309 | 33 |  85 | 17 | ⋯ |  0 | 0 |  18 |  61 |  0 |  0 |  0 | 2 |  9 | 0.3130699 |\n",
       "| 89400 | perezne01 | 2007 | 1 | DET | AL |  33 |  64 |  5 |  11 |  3 | ⋯ |  0 | 0 |   4 |   8 |  0 |  0 |  3 | 0 |  2 | 0.2205882 |\n",
       "| 89412 | moyerja01 | 2007 | 1 | PHI | NL |  33 |  73 |  4 |   9 |  2 | ⋯ |  0 | 0 |   2 |  26 |  0 |  0 |  8 | 0 |  1 | 0.1466667 |\n",
       "| 89425 | maddugr01 | 2007 | 1 | SDN | NL |  33 |  62 |  2 |   9 |  2 | ⋯ |  1 | 0 |   1 |  19 |  0 |  0 |  9 | 0 |  2 | 0.1587302 |\n",
       "| 89429 | loftoke01 | 2007 | 2 | CLE | AL |  52 | 173 | 24 |  49 |  9 | ⋯ |  2 | 3 |  17 |  23 |  0 |  0 |  4 | 2 |  1 | 0.3437500 |\n",
       "| 89430 | loftoke01 | 2007 | 1 | TEX | AL |  84 | 317 | 62 |  96 | 16 | ⋯ | 21 | 4 |  39 |  28 |  1 |  2 |  2 | 3 |  5 | 0.3795014 |\n",
       "| 89438 | kleskry01 | 2007 | 1 | SFN | NL | 116 | 362 | 51 |  94 | 27 | ⋯ |  5 | 1 |  46 |  68 |  2 |  1 |  1 | 1 | 14 | 0.3439024 |\n",
       "| 89439 | kentje01  | 2007 | 1 | LAN | NL | 136 | 494 | 78 | 149 | 36 | ⋯ |  1 | 3 |  57 |  61 |  4 |  5 |  0 | 6 | 17 | 0.3754448 |\n",
       "| 89462 | griffke02 | 2007 | 1 | CIN | NL | 144 | 528 | 78 | 146 | 24 | ⋯ |  6 | 1 |  85 |  99 | 14 |  1 |  0 | 9 | 14 | 0.3723917 |\n",
       "| 89463 | greensh01 | 2007 | 1 | NYN | NL | 130 | 446 | 62 | 130 | 30 | ⋯ | 11 | 1 |  37 |  62 |  4 |  5 |  1 | 1 | 14 | 0.3517382 |\n",
       "| 89464 | graffto01 | 2007 | 1 | MIL | NL |  86 | 231 | 34 |  55 |  8 | ⋯ |  0 | 1 |  24 |  44 |  6 |  3 |  0 | 2 |  7 | 0.3153846 |\n",
       "| 89466 | gonzalu01 | 2007 | 1 | LAN | NL | 139 | 464 | 70 | 129 | 23 | ⋯ |  6 | 2 |  56 |  56 |  4 |  4 |  0 | 2 | 11 | 0.3593156 |\n",
       "| 89467 | gomezch02 | 2007 | 2 | CLE | AL |  19 |  53 |  4 |  15 |  2 | ⋯ |  0 | 0 |   0 |   6 |  0 |  0 |  1 | 1 |  1 | 0.2777778 |\n",
       "| 89468 | gomezch02 | 2007 | 1 | BAL | AL |  73 | 169 | 17 |  51 | 10 | ⋯ |  1 | 2 |  10 |  20 |  1 |  0 |  5 | 1 |  5 | 0.3388889 |\n",
       "| 89469 | glavito02 | 2007 | 1 | NYN | NL |  33 |  56 |  3 |  12 |  1 | ⋯ |  0 | 0 |   6 |   5 |  0 |  0 | 12 | 1 |  0 | 0.2857143 |\n",
       "| 89473 | floydcl01 | 2007 | 1 | CHN | NL | 108 | 282 | 40 |  80 | 10 | ⋯ |  0 | 0 |  35 |  47 |  5 |  5 |  0 | 0 |  6 | 0.3726708 |\n",
       "| 89474 | finlest01 | 2007 | 1 | COL | NL |  43 |  94 |  9 |  17 |  3 | ⋯ |  0 | 0 |   8 |   4 |  1 |  0 |  0 | 0 |  2 | 0.2450980 |\n",
       "| 89481 | edmonji01 | 2007 | 1 | SLN | NL | 117 | 365 | 39 |  92 | 15 | ⋯ |  0 | 2 |  41 |  75 |  2 |  0 |  2 | 3 |  9 | 0.3251834 |\n",
       "| 89482 | easleda01 | 2007 | 1 | NYN | NL |  76 | 193 | 24 |  54 |  6 | ⋯ |  0 | 1 |  19 |  35 |  1 |  5 |  0 | 1 |  2 | 0.3577982 |\n",
       "| 89489 | delgaca01 | 2007 | 1 | NYN | NL | 139 | 538 | 71 | 139 | 30 | ⋯ |  4 | 0 |  52 | 118 |  8 | 11 |  0 | 6 | 12 | 0.3327842 |\n",
       "| 89495 | coninje01 | 2007 | 1 | CIN | NL |  80 | 215 | 23 |  57 | 11 | ⋯ |  4 | 0 |  20 |  28 |  0 |  0 |  1 | 6 |  4 | 0.3195021 |\n",
       "| 89499 | claytro01 | 2007 | 1 | TOR | AL |  69 | 189 | 23 |  48 | 14 | ⋯ |  2 | 1 |  14 |  50 |  0 |  1 |  3 | 3 |  8 | 0.3043478 |\n",
       "| 89502 | cirilje01 | 2007 | 1 | MIN | AL |  50 | 153 | 18 |  40 |  9 | ⋯ |  2 | 0 |  15 |  13 |  0 |  1 |  3 | 2 |  9 | 0.3274854 |\n",
       "| 89521 | bondsba01 | 2007 | 1 | SFN | NL | 126 | 340 | 75 |  94 | 14 | ⋯ |  5 | 0 | 132 |  54 | 43 |  3 |  0 | 2 | 13 | 0.4800839 |\n",
       "| 89523 | biggicr01 | 2007 | 1 | HOU | NL | 141 | 517 | 68 | 130 | 31 | ⋯ |  4 | 3 |  23 | 112 |  0 |  3 |  7 | 5 |  5 | 0.2846715 |\n",
       "| 89530 | ausmubr01 | 2007 | 1 | HOU | NL | 117 | 349 | 38 |  82 | 16 | ⋯ |  6 | 1 |  37 |  74 |  3 |  6 |  4 | 1 | 11 | 0.3180662 |\n",
       "| 89533 | aloumo01  | 2007 | 1 | NYN | NL |  87 | 328 | 51 | 112 | 19 | ⋯ |  3 | 0 |  27 |  30 |  5 |  2 |  0 | 3 | 13 | 0.3916667 |\n",
       "\n"
      ],
      "text/plain": [
       "      id        year stint team lg g   ab  r  h   X2b ⋯ sb cs bb  so  ibb hbp\n",
       "4     ansonca01 1871 1     RC1     25  120 29  39 11  ⋯ 6  2   2  1   NA  0  \n",
       "44    forceda01 1871 1     WS3     32  162 45  45  9  ⋯ 8  0   4  0   NA  0  \n",
       "68    mathebo01 1871 1     FW1     19   89 15  24  3  ⋯ 2  1   2  0   NA  0  \n",
       "99    startjo01 1871 1     NY2     33  161 35  58  5  ⋯ 4  2   3  0   NA  0  \n",
       "102   suttoez01 1871 1     CL1     29  128 35  45  3  ⋯ 3  1   1  0   NA  0  \n",
       "106   whitede01 1871 1     CL1     29  146 40  47  6  ⋯ 2  2   4  1   NA  0  \n",
       "113   yorkto01  1871 1     TRO     29  145 36  37  5  ⋯ 2  2   9  1   NA  0  \n",
       "121   ansonca01 1872 1     PH1     46  217 60  90 10  ⋯ 6  6  16  3   NA  0  \n",
       "143   burdoja01 1872 1     BR2     37  174 26  46  3  ⋯ 0  1   1  1   NA  0  \n",
       "167   forceda01 1872 1     TRO     25  130 40  53 11  ⋯ 2  2   1  0   NA  0  \n",
       "168   forceda01 1872 2     BL1     19   95 29  41  2  ⋯ 3  0   1  0   NA  0  \n",
       "209   mathebo01 1872 1     BL1     50  223 36  50  1  ⋯ 1  1   3  2   NA  0  \n",
       "227   nelsoca01 1872 2     BR1     18   76 12  19  2  ⋯ 1  0   2  2   NA  0  \n",
       "229   orourji01 1872 1     MID     23  101 25  31  4  ⋯ 1  0   2  0   NA  0  \n",
       "249   startjo01 1872 1     NY2     55  282 62  76  4  ⋯ 3  3   0  0   NA  0  \n",
       "252   suttoez01 1872 1     CL1     22  107 30  30  6  ⋯ 1  0   1  1   NA  0  \n",
       "259   whitede01 1872 1     CL1     22  109 21  37  2  ⋯ 0  0   4  1   NA  0  \n",
       "268   yorkto01  1872 1     BL1     51  248 66  66 10  ⋯ 2  1   4  1   NA  0  \n",
       "276   ansonca01 1873 1     PH1     52  254 53 101  9  ⋯ 0  2   5  1   NA  0  \n",
       "293   burdoja01 1873 1     BR2     55  245 56  62  7  ⋯ 3  1   7  4   NA  0  \n",
       "314   forceda01 1873 1     BL1     49  234 77  86  8  ⋯ 1  0   9  0   NA  0  \n",
       "318   gerhajo01 1873 1     WS5     13   56  6  12  3  ⋯ 0  0   0  5   NA  0  \n",
       "327   hinespa01 1873 1     WS5     39  181 33  60  6  ⋯ 0  1   1  1   NA  0  \n",
       "344   mathebo01 1873 1     NY2     52  223 40  43  3  ⋯ 1  1  10  3   NA  0  \n",
       "353   nelsoca01 1873 1     NY2     36  168 28  55  4  ⋯ 2  0   1  2   NA  0  \n",
       "355   orourji01 1873 1     BS1     57  280 79  98 19  ⋯ 4  2  14  1   NA  0  \n",
       "375   snydepo01 1873 1     WS5     28  108 16  21  2  ⋯ 0  1   3  3   NA  0  \n",
       "377   startjo01 1873 1     NY2     53  251 42  67  8  ⋯ 1  0   4  0   NA  0  \n",
       "380   suttoez01 1873 1     PH1     51  242 51  81  7  ⋯ 1  3   2  2   NA  0  \n",
       "386   whitede01 1873 1     BS1     60  310 79 121 15  ⋯ 6  2   0  2   NA  0  \n",
       "⋮     ⋮         ⋮    ⋮     ⋮    ⋮  ⋮   ⋮   ⋮  ⋮   ⋮   ⋱ ⋮  ⋮  ⋮   ⋮   ⋮   ⋮  \n",
       "89385 sandere02 2007 1     KCA  AL  24  73 12  23  7  ⋯  0 1   11  15  0   1 \n",
       "89389 rodriiv01 2007 1     DET  AL 129 502 50 141 31  ⋯  2 2    9  96  1   1 \n",
       "89396 ramirma02 2007 1     BOS  AL 133 483 84 143 33  ⋯  0 0   71  92 13   7 \n",
       "89398 piazzmi01 2007 1     OAK  AL  83 309 33  85 17  ⋯  0 0   18  61  0   0 \n",
       "89400 perezne01 2007 1     DET  AL  33  64  5  11  3  ⋯  0 0    4   8  0   0 \n",
       "89412 moyerja01 2007 1     PHI  NL  33  73  4   9  2  ⋯  0 0    2  26  0   0 \n",
       "89425 maddugr01 2007 1     SDN  NL  33  62  2   9  2  ⋯  1 0    1  19  0   0 \n",
       "89429 loftoke01 2007 2     CLE  AL  52 173 24  49  9  ⋯  2 3   17  23  0   0 \n",
       "89430 loftoke01 2007 1     TEX  AL  84 317 62  96 16  ⋯ 21 4   39  28  1   2 \n",
       "89438 kleskry01 2007 1     SFN  NL 116 362 51  94 27  ⋯  5 1   46  68  2   1 \n",
       "89439 kentje01  2007 1     LAN  NL 136 494 78 149 36  ⋯  1 3   57  61  4   5 \n",
       "89462 griffke02 2007 1     CIN  NL 144 528 78 146 24  ⋯  6 1   85  99 14   1 \n",
       "89463 greensh01 2007 1     NYN  NL 130 446 62 130 30  ⋯ 11 1   37  62  4   5 \n",
       "89464 graffto01 2007 1     MIL  NL  86 231 34  55  8  ⋯  0 1   24  44  6   3 \n",
       "89466 gonzalu01 2007 1     LAN  NL 139 464 70 129 23  ⋯  6 2   56  56  4   4 \n",
       "89467 gomezch02 2007 2     CLE  AL  19  53  4  15  2  ⋯  0 0    0   6  0   0 \n",
       "89468 gomezch02 2007 1     BAL  AL  73 169 17  51 10  ⋯  1 2   10  20  1   0 \n",
       "89469 glavito02 2007 1     NYN  NL  33  56  3  12  1  ⋯  0 0    6   5  0   0 \n",
       "89473 floydcl01 2007 1     CHN  NL 108 282 40  80 10  ⋯  0 0   35  47  5   5 \n",
       "89474 finlest01 2007 1     COL  NL  43  94  9  17  3  ⋯  0 0    8   4  1   0 \n",
       "89481 edmonji01 2007 1     SLN  NL 117 365 39  92 15  ⋯  0 2   41  75  2   0 \n",
       "89482 easleda01 2007 1     NYN  NL  76 193 24  54  6  ⋯  0 1   19  35  1   5 \n",
       "89489 delgaca01 2007 1     NYN  NL 139 538 71 139 30  ⋯  4 0   52 118  8  11 \n",
       "89495 coninje01 2007 1     CIN  NL  80 215 23  57 11  ⋯  4 0   20  28  0   0 \n",
       "89499 claytro01 2007 1     TOR  AL  69 189 23  48 14  ⋯  2 1   14  50  0   1 \n",
       "89502 cirilje01 2007 1     MIN  AL  50 153 18  40  9  ⋯  2 0   15  13  0   1 \n",
       "89521 bondsba01 2007 1     SFN  NL 126 340 75  94 14  ⋯  5 0  132  54 43   3 \n",
       "89523 biggicr01 2007 1     HOU  NL 141 517 68 130 31  ⋯  4 3   23 112  0   3 \n",
       "89530 ausmubr01 2007 1     HOU  NL 117 349 38  82 16  ⋯  6 1   37  74  3   6 \n",
       "89533 aloumo01  2007 1     NYN  NL  87 328 51 112 19  ⋯  3 0   27  30  5   2 \n",
       "      sh sf gidp OBP      \n",
       "4     NA 0  NA   0.3360656\n",
       "44    NA 0  NA   0.2951807\n",
       "68    NA 0  NA   0.2857143\n",
       "99    NA 0  NA   0.3719512\n",
       "102   NA 0  NA   0.3565891\n",
       "106   NA 0  NA   0.3400000\n",
       "113   NA 0  NA   0.2987013\n",
       "121   NA 0  NA   0.4549356\n",
       "143   NA 0  NA   0.2685714\n",
       "167   NA 0  NA   0.4122137\n",
       "168   NA 0  NA   0.4375000\n",
       "209   NA 0  NA   0.2345133\n",
       "227   NA 0  NA   0.2692308\n",
       "229   NA 0  NA   0.3203883\n",
       "249   NA 0  NA   0.2695035\n",
       "252   NA 0  NA   0.2870370\n",
       "259   NA 0  NA   0.3628319\n",
       "268   NA 0  NA   0.2777778\n",
       "276   NA 0  NA   0.4092664\n",
       "293   NA 0  NA   0.2738095\n",
       "314   NA 0  NA   0.3909465\n",
       "318   NA 0  NA   0.2142857\n",
       "327   NA 0  NA   0.3351648\n",
       "344   NA 0  NA   0.2274678\n",
       "353   NA 0  NA   0.3313609\n",
       "355   NA 0  NA   0.3809524\n",
       "375   NA 0  NA   0.2162162\n",
       "377   NA 0  NA   0.2784314\n",
       "380   NA 0  NA   0.3401639\n",
       "386   NA 0  NA   0.3903226\n",
       "⋮     ⋮  ⋮  ⋮    ⋮        \n",
       "89385  0 0   2   0.4117647\n",
       "89389  1 2  16   0.2937743\n",
       "89396  0 8  21   0.3884007\n",
       "89398  0 2   9   0.3130699\n",
       "89400  3 0   2   0.2205882\n",
       "89412  8 0   1   0.1466667\n",
       "89425  9 0   2   0.1587302\n",
       "89429  4 2   1   0.3437500\n",
       "89430  2 3   5   0.3795014\n",
       "89438  1 1  14   0.3439024\n",
       "89439  0 6  17   0.3754448\n",
       "89462  0 9  14   0.3723917\n",
       "89463  1 1  14   0.3517382\n",
       "89464  0 2   7   0.3153846\n",
       "89466  0 2  11   0.3593156\n",
       "89467  1 1   1   0.2777778\n",
       "89468  5 1   5   0.3388889\n",
       "89469 12 1   0   0.2857143\n",
       "89473  0 0   6   0.3726708\n",
       "89474  0 0   2   0.2450980\n",
       "89481  2 3   9   0.3251834\n",
       "89482  0 1   2   0.3577982\n",
       "89489  0 6  12   0.3327842\n",
       "89495  1 6   4   0.3195021\n",
       "89499  3 3   8   0.3043478\n",
       "89502  3 2   9   0.3274854\n",
       "89521  0 2  13   0.4800839\n",
       "89523  7 5   5   0.2846715\n",
       "89530  4 1  11   0.3180662\n",
       "89533  0 3  13   0.3916667"
      ]
     },
     "metadata": {},
     "output_type": "display_data"
    }
   ],
   "source": [
    "baseball"
   ]
  },
  {
   "cell_type": "code",
   "execution_count": 51,
   "metadata": {},
   "outputs": [],
   "source": [
    "obp <- function(data)\n",
    "{\n",
    "    c(OBP=with(data, sum(h + bb + hbp)  / sum(ab + bb + hbp + sf)))\n",
    "}"
   ]
  },
  {
   "cell_type": "code",
   "execution_count": 52,
   "metadata": {},
   "outputs": [],
   "source": [
    "careerOBP <- ddply(baseball, .variables = \"id\", obp) \n",
    "# ddply는 데이터를 쪼개는데 좋다"
   ]
  },
  {
   "cell_type": "code",
   "execution_count": 53,
   "metadata": {},
   "outputs": [
    {
     "data": {
      "text/html": [
       "<table class=\"dataframe\">\n",
       "<caption>A data.frame: 6 × 2</caption>\n",
       "<thead>\n",
       "\t<tr><th></th><th scope=col>id</th><th scope=col>OBP</th></tr>\n",
       "\t<tr><th></th><th scope=col>&lt;chr&gt;</th><th scope=col>&lt;dbl&gt;</th></tr>\n",
       "</thead>\n",
       "<tbody>\n",
       "\t<tr><th scope=row>1</th><td>aaronha01</td><td>0.3739493</td></tr>\n",
       "\t<tr><th scope=row>2</th><td>adairje01</td><td>0.2922746</td></tr>\n",
       "\t<tr><th scope=row>3</th><td>adamsba01</td><td>0.2550694</td></tr>\n",
       "\t<tr><th scope=row>4</th><td>adamsbo03</td><td>0.3403342</td></tr>\n",
       "\t<tr><th scope=row>5</th><td>adcocjo01</td><td>0.3368726</td></tr>\n",
       "\t<tr><th scope=row>6</th><td>aguilri01</td><td>0.2037037</td></tr>\n",
       "</tbody>\n",
       "</table>\n"
      ],
      "text/latex": [
       "A data.frame: 6 × 2\n",
       "\\begin{tabular}{r|ll}\n",
       "  & id & OBP\\\\\n",
       "  & <chr> & <dbl>\\\\\n",
       "\\hline\n",
       "\t1 & aaronha01 & 0.3739493\\\\\n",
       "\t2 & adairje01 & 0.2922746\\\\\n",
       "\t3 & adamsba01 & 0.2550694\\\\\n",
       "\t4 & adamsbo03 & 0.3403342\\\\\n",
       "\t5 & adcocjo01 & 0.3368726\\\\\n",
       "\t6 & aguilri01 & 0.2037037\\\\\n",
       "\\end{tabular}\n"
      ],
      "text/markdown": [
       "\n",
       "A data.frame: 6 × 2\n",
       "\n",
       "| <!--/--> | id &lt;chr&gt; | OBP &lt;dbl&gt; |\n",
       "|---|---|---|\n",
       "| 1 | aaronha01 | 0.3739493 |\n",
       "| 2 | adairje01 | 0.2922746 |\n",
       "| 3 | adamsba01 | 0.2550694 |\n",
       "| 4 | adamsbo03 | 0.3403342 |\n",
       "| 5 | adcocjo01 | 0.3368726 |\n",
       "| 6 | aguilri01 | 0.2037037 |\n",
       "\n"
      ],
      "text/plain": [
       "  id        OBP      \n",
       "1 aaronha01 0.3739493\n",
       "2 adairje01 0.2922746\n",
       "3 adamsba01 0.2550694\n",
       "4 adamsbo03 0.3403342\n",
       "5 adcocjo01 0.3368726\n",
       "6 aguilri01 0.2037037"
      ]
     },
     "metadata": {},
     "output_type": "display_data"
    }
   ],
   "source": [
    "head(careerOBP)"
   ]
  },
  {
   "cell_type": "code",
   "execution_count": 56,
   "metadata": {},
   "outputs": [],
   "source": [
    "careerOBP <- careerOBP[order(careerOBP$OBP, decreasing=TRUE), ]\n",
    "# 이렇게 해주면 순서를 정령해준다"
   ]
  },
  {
   "cell_type": "code",
   "execution_count": 57,
   "metadata": {},
   "outputs": [
    {
     "data": {
      "text/html": [
       "<table class=\"dataframe\">\n",
       "<caption>A data.frame: 6 × 2</caption>\n",
       "<thead>\n",
       "\t<tr><th></th><th scope=col>id</th><th scope=col>OBP</th></tr>\n",
       "\t<tr><th></th><th scope=col>&lt;chr&gt;</th><th scope=col>&lt;dbl&gt;</th></tr>\n",
       "</thead>\n",
       "<tbody>\n",
       "\t<tr><th scope=row>1089</th><td>willite01</td><td>0.4816861</td></tr>\n",
       "\t<tr><th scope=row>875</th><td>ruthba01 </td><td>0.4742209</td></tr>\n",
       "\t<tr><th scope=row>658</th><td>mcgrajo01</td><td>0.4657478</td></tr>\n",
       "\t<tr><th scope=row>356</th><td>gehrilo01</td><td>0.4477848</td></tr>\n",
       "\t<tr><th scope=row>85</th><td>bondsba01</td><td>0.4444622</td></tr>\n",
       "\t<tr><th scope=row>476</th><td>hornsro01</td><td>0.4339068</td></tr>\n",
       "</tbody>\n",
       "</table>\n"
      ],
      "text/latex": [
       "A data.frame: 6 × 2\n",
       "\\begin{tabular}{r|ll}\n",
       "  & id & OBP\\\\\n",
       "  & <chr> & <dbl>\\\\\n",
       "\\hline\n",
       "\t1089 & willite01 & 0.4816861\\\\\n",
       "\t875 & ruthba01  & 0.4742209\\\\\n",
       "\t658 & mcgrajo01 & 0.4657478\\\\\n",
       "\t356 & gehrilo01 & 0.4477848\\\\\n",
       "\t85 & bondsba01 & 0.4444622\\\\\n",
       "\t476 & hornsro01 & 0.4339068\\\\\n",
       "\\end{tabular}\n"
      ],
      "text/markdown": [
       "\n",
       "A data.frame: 6 × 2\n",
       "\n",
       "| <!--/--> | id &lt;chr&gt; | OBP &lt;dbl&gt; |\n",
       "|---|---|---|\n",
       "| 1089 | willite01 | 0.4816861 |\n",
       "| 875 | ruthba01  | 0.4742209 |\n",
       "| 658 | mcgrajo01 | 0.4657478 |\n",
       "| 356 | gehrilo01 | 0.4477848 |\n",
       "| 85 | bondsba01 | 0.4444622 |\n",
       "| 476 | hornsro01 | 0.4339068 |\n",
       "\n"
      ],
      "text/plain": [
       "     id        OBP      \n",
       "1089 willite01 0.4816861\n",
       "875  ruthba01  0.4742209\n",
       "658  mcgrajo01 0.4657478\n",
       "356  gehrilo01 0.4477848\n",
       "85   bondsba01 0.4444622\n",
       "476  hornsro01 0.4339068"
      ]
     },
     "metadata": {},
     "output_type": "display_data"
    }
   ],
   "source": [
    "head(careerOBP)"
   ]
  },
  {
   "cell_type": "code",
   "execution_count": 58,
   "metadata": {},
   "outputs": [
    {
     "data": {
      "text/html": [
       "<dl>\n",
       "\t<dt>$A</dt>\n",
       "\t\t<dd><table class=\"dataframe\">\n",
       "<caption>A matrix: 3 × 3 of type int</caption>\n",
       "<tbody>\n",
       "\t<tr><td>1</td><td>4</td><td>7</td></tr>\n",
       "\t<tr><td>2</td><td>5</td><td>8</td></tr>\n",
       "\t<tr><td>3</td><td>6</td><td>9</td></tr>\n",
       "</tbody>\n",
       "</table>\n",
       "</dd>\n",
       "\t<dt>$B</dt>\n",
       "\t\t<dd><style>\n",
       ".list-inline {list-style: none; margin:0; padding: 0}\n",
       ".list-inline>li {display: inline-block}\n",
       ".list-inline>li:not(:last-child)::after {content: \"\\00b7\"; padding: 0 .5ex}\n",
       "</style>\n",
       "<ol class=list-inline><li>1</li><li>2</li><li>3</li><li>4</li><li>5</li></ol>\n",
       "</dd>\n",
       "\t<dt>$C</dt>\n",
       "\t\t<dd><table class=\"dataframe\">\n",
       "<caption>A matrix: 2 × 2 of type int</caption>\n",
       "<tbody>\n",
       "\t<tr><td>1</td><td>3</td></tr>\n",
       "\t<tr><td>2</td><td>4</td></tr>\n",
       "</tbody>\n",
       "</table>\n",
       "</dd>\n",
       "\t<dt>$D</dt>\n",
       "\t\t<dd>2</dd>\n",
       "</dl>\n"
      ],
      "text/latex": [
       "\\begin{description}\n",
       "\\item[\\$A] A matrix: 3 × 3 of type int\n",
       "\\begin{tabular}{lll}\n",
       "\t 1 & 4 & 7\\\\\n",
       "\t 2 & 5 & 8\\\\\n",
       "\t 3 & 6 & 9\\\\\n",
       "\\end{tabular}\n",
       "\n",
       "\\item[\\$B] \\begin{enumerate*}\n",
       "\\item 1\n",
       "\\item 2\n",
       "\\item 3\n",
       "\\item 4\n",
       "\\item 5\n",
       "\\end{enumerate*}\n",
       "\n",
       "\\item[\\$C] A matrix: 2 × 2 of type int\n",
       "\\begin{tabular}{ll}\n",
       "\t 1 & 3\\\\\n",
       "\t 2 & 4\\\\\n",
       "\\end{tabular}\n",
       "\n",
       "\\item[\\$D] 2\n",
       "\\end{description}\n"
      ],
      "text/markdown": [
       "$A\n",
       ":   \n",
       "A matrix: 3 × 3 of type int\n",
       "\n",
       "| 1 | 4 | 7 |\n",
       "| 2 | 5 | 8 |\n",
       "| 3 | 6 | 9 |\n",
       "\n",
       "\n",
       "$B\n",
       ":   1. 1\n",
       "2. 2\n",
       "3. 3\n",
       "4. 4\n",
       "5. 5\n",
       "\n",
       "\n",
       "\n",
       "$C\n",
       ":   \n",
       "A matrix: 2 × 2 of type int\n",
       "\n",
       "| 1 | 3 |\n",
       "| 2 | 4 |\n",
       "\n",
       "\n",
       "$D\n",
       ":   2\n",
       "\n",
       "\n"
      ],
      "text/plain": [
       "$A\n",
       "     [,1] [,2] [,3]\n",
       "[1,]    1    4    7\n",
       "[2,]    2    5    8\n",
       "[3,]    3    6    9\n",
       "\n",
       "$B\n",
       "[1] 1 2 3 4 5\n",
       "\n",
       "$C\n",
       "     [,1] [,2]\n",
       "[1,]    1    3\n",
       "[2,]    2    4\n",
       "\n",
       "$D\n",
       "[1] 2\n"
      ]
     },
     "metadata": {},
     "output_type": "display_data"
    }
   ],
   "source": [
    "theList <- list(A=matrix(1:9, 3), B=1:5, C=matrix(1:4, 2), D=2)\n",
    "theList"
   ]
  },
  {
   "cell_type": "code",
   "execution_count": 61,
   "metadata": {},
   "outputs": [
    {
     "data": {
      "text/html": [
       "<dl>\n",
       "\t<dt>$A</dt>\n",
       "\t\t<dd>45</dd>\n",
       "\t<dt>$B</dt>\n",
       "\t\t<dd>15</dd>\n",
       "\t<dt>$C</dt>\n",
       "\t\t<dd>10</dd>\n",
       "\t<dt>$D</dt>\n",
       "\t\t<dd>2</dd>\n",
       "</dl>\n"
      ],
      "text/latex": [
       "\\begin{description}\n",
       "\\item[\\$A] 45\n",
       "\\item[\\$B] 15\n",
       "\\item[\\$C] 10\n",
       "\\item[\\$D] 2\n",
       "\\end{description}\n"
      ],
      "text/markdown": [
       "$A\n",
       ":   45\n",
       "$B\n",
       ":   15\n",
       "$C\n",
       ":   10\n",
       "$D\n",
       ":   2\n",
       "\n",
       "\n"
      ],
      "text/plain": [
       "$A\n",
       "[1] 45\n",
       "\n",
       "$B\n",
       "[1] 15\n",
       "\n",
       "$C\n",
       "[1] 10\n",
       "\n",
       "$D\n",
       "[1] 2\n"
      ]
     },
     "metadata": {},
     "output_type": "display_data"
    },
    {
     "data": {
      "text/html": [
       "<dl>\n",
       "\t<dt>$A</dt>\n",
       "\t\t<dd>45</dd>\n",
       "\t<dt>$B</dt>\n",
       "\t\t<dd>15</dd>\n",
       "\t<dt>$C</dt>\n",
       "\t\t<dd>10</dd>\n",
       "\t<dt>$D</dt>\n",
       "\t\t<dd>2</dd>\n",
       "</dl>\n"
      ],
      "text/latex": [
       "\\begin{description}\n",
       "\\item[\\$A] 45\n",
       "\\item[\\$B] 15\n",
       "\\item[\\$C] 10\n",
       "\\item[\\$D] 2\n",
       "\\end{description}\n"
      ],
      "text/markdown": [
       "$A\n",
       ":   45\n",
       "$B\n",
       ":   15\n",
       "$C\n",
       ":   10\n",
       "$D\n",
       ":   2\n",
       "\n",
       "\n"
      ],
      "text/plain": [
       "$A\n",
       "[1] 45\n",
       "\n",
       "$B\n",
       "[1] 15\n",
       "\n",
       "$C\n",
       "[1] 10\n",
       "\n",
       "$D\n",
       "[1] 2\n"
      ]
     },
     "metadata": {},
     "output_type": "display_data"
    },
    {
     "data": {
      "text/html": [
       "TRUE"
      ],
      "text/latex": [
       "TRUE"
      ],
      "text/markdown": [
       "TRUE"
      ],
      "text/plain": [
       "[1] TRUE"
      ]
     },
     "metadata": {},
     "output_type": "display_data"
    }
   ],
   "source": [
    "lapply(theList, sum)\n",
    "llply(theList, sum)\n",
    "identical(lapply(theList, sum), llply(theList, sum))"
   ]
  },
  {
   "cell_type": "code",
   "execution_count": 62,
   "metadata": {},
   "outputs": [
    {
     "data": {
      "text/html": [
       "<style>\n",
       ".dl-inline {width: auto; margin:0; padding: 0}\n",
       ".dl-inline>dt, .dl-inline>dd {float: none; width: auto; display: inline-block}\n",
       ".dl-inline>dt::after {content: \":\\0020\"; padding-right: .5ex}\n",
       ".dl-inline>dt:not(:first-of-type) {padding-left: .5ex}\n",
       "</style><dl class=dl-inline><dt>A</dt><dd>45</dd><dt>B</dt><dd>15</dd><dt>C</dt><dd>10</dd><dt>D</dt><dd>2</dd></dl>\n"
      ],
      "text/latex": [
       "\\begin{description*}\n",
       "\\item[A] 45\n",
       "\\item[B] 15\n",
       "\\item[C] 10\n",
       "\\item[D] 2\n",
       "\\end{description*}\n"
      ],
      "text/markdown": [
       "A\n",
       ":   45B\n",
       ":   15C\n",
       ":   10D\n",
       ":   2\n",
       "\n"
      ],
      "text/plain": [
       " A  B  C  D \n",
       "45 15 10  2 "
      ]
     },
     "metadata": {},
     "output_type": "display_data"
    },
    {
     "data": {
      "text/html": [
       "<style>\n",
       ".list-inline {list-style: none; margin:0; padding: 0}\n",
       ".list-inline>li {display: inline-block}\n",
       ".list-inline>li:not(:last-child)::after {content: \"\\00b7\"; padding: 0 .5ex}\n",
       "</style>\n",
       "<ol class=list-inline><li>45</li><li>15</li><li>10</li><li>2</li></ol>\n"
      ],
      "text/latex": [
       "\\begin{enumerate*}\n",
       "\\item 45\n",
       "\\item 15\n",
       "\\item 10\n",
       "\\item 2\n",
       "\\end{enumerate*}\n"
      ],
      "text/markdown": [
       "1. 45\n",
       "2. 15\n",
       "3. 10\n",
       "4. 2\n",
       "\n",
       "\n"
      ],
      "text/plain": [
       "[1] 45 15 10  2"
      ]
     },
     "metadata": {},
     "output_type": "display_data"
    }
   ],
   "source": [
    "sapply(theList, sum) # 벡터를 반환. 이름이 있다. \n",
    "laply(theList, sum) # 이거는 벡터를 반환. 대신 이름이 없다. "
   ]
  },
  {
   "cell_type": "code",
   "execution_count": 64,
   "metadata": {},
   "outputs": [
    {
     "data": {
      "text/html": [
       "<table class=\"dataframe\">\n",
       "<caption>A data.frame: 5 × 2</caption>\n",
       "<thead>\n",
       "\t<tr><th scope=col>cut</th><th scope=col>price</th></tr>\n",
       "\t<tr><th scope=col>&lt;ord&gt;</th><th scope=col>&lt;dbl[,2]&gt;</th></tr>\n",
       "</thead>\n",
       "<tbody>\n",
       "\t<tr><td>Fair     </td><td>4358.758, 3282.0</td></tr>\n",
       "\t<tr><td>Good     </td><td>3928.864, 3050.5</td></tr>\n",
       "\t<tr><td>Very Good</td><td>3981.760, 2648.0</td></tr>\n",
       "\t<tr><td>Premium  </td><td>4584.258, 3185.0</td></tr>\n",
       "\t<tr><td>Ideal    </td><td>3457.542, 1810.0</td></tr>\n",
       "</tbody>\n",
       "</table>\n"
      ],
      "text/latex": [
       "A data.frame: 5 × 2\n",
       "\\begin{tabular}{ll}\n",
       " cut & price\\\\\n",
       " <ord> & <dbl{[},2{]}>\\\\\n",
       "\\hline\n",
       "\t Fair      & 4358.758, 3282.0\\\\\n",
       "\t Good      & 3928.864, 3050.5\\\\\n",
       "\t Very Good & 3981.760, 2648.0\\\\\n",
       "\t Premium   & 4584.258, 3185.0\\\\\n",
       "\t Ideal     & 3457.542, 1810.0\\\\\n",
       "\\end{tabular}\n"
      ],
      "text/markdown": [
       "\n",
       "A data.frame: 5 × 2\n",
       "\n",
       "| cut &lt;ord&gt; | price &lt;dbl[,2]&gt; |\n",
       "|---|---|\n",
       "| Fair      | 4358.758, 3282.0 |\n",
       "| Good      | 3928.864, 3050.5 |\n",
       "| Very Good | 3981.760, 2648.0 |\n",
       "| Premium   | 4584.258, 3185.0 |\n",
       "| Ideal     | 3457.542, 1810.0 |\n",
       "\n"
      ],
      "text/plain": [
       "  cut       price           \n",
       "1 Fair      4358.758, 3282.0\n",
       "2 Good      3928.864, 3050.5\n",
       "3 Very Good 3981.760, 2648.0\n",
       "4 Premium   4584.258, 3185.0\n",
       "5 Ideal     3457.542, 1810.0"
      ]
     },
     "metadata": {},
     "output_type": "display_data"
    }
   ],
   "source": [
    "aggregate(price ~ cut, diamonds, each(mean, median)) \n",
    "# each를 이용해 두 가지 연산을 다 할 수 있다. "
   ]
  },
  {
   "cell_type": "code",
   "execution_count": 65,
   "metadata": {},
   "outputs": [
    {
     "data": {
      "text/html": [
       "<table class=\"dataframe\">\n",
       "<caption>A data.frame: 1 × 7</caption>\n",
       "<thead>\n",
       "\t<tr><th scope=col>carat</th><th scope=col>depth</th><th scope=col>table</th><th scope=col>price</th><th scope=col>x</th><th scope=col>y</th><th scope=col>z</th></tr>\n",
       "\t<tr><th scope=col>&lt;dbl&gt;</th><th scope=col>&lt;dbl&gt;</th><th scope=col>&lt;dbl&gt;</th><th scope=col>&lt;int&gt;</th><th scope=col>&lt;dbl&gt;</th><th scope=col>&lt;dbl&gt;</th><th scope=col>&lt;dbl&gt;</th></tr>\n",
       "</thead>\n",
       "<tbody>\n",
       "\t<tr><td>43040.87</td><td>3330763</td><td>3099240</td><td>212135217</td><td>309138.6</td><td>309320.3</td><td>190879.3</td></tr>\n",
       "</tbody>\n",
       "</table>\n"
      ],
      "text/latex": [
       "A data.frame: 1 × 7\n",
       "\\begin{tabular}{lllllll}\n",
       " carat & depth & table & price & x & y & z\\\\\n",
       " <dbl> & <dbl> & <dbl> & <int> & <dbl> & <dbl> & <dbl>\\\\\n",
       "\\hline\n",
       "\t 43040.87 & 3330763 & 3099240 & 212135217 & 309138.6 & 309320.3 & 190879.3\\\\\n",
       "\\end{tabular}\n"
      ],
      "text/markdown": [
       "\n",
       "A data.frame: 1 × 7\n",
       "\n",
       "| carat &lt;dbl&gt; | depth &lt;dbl&gt; | table &lt;dbl&gt; | price &lt;int&gt; | x &lt;dbl&gt; | y &lt;dbl&gt; | z &lt;dbl&gt; |\n",
       "|---|---|---|---|---|---|---|\n",
       "| 43040.87 | 3330763 | 3099240 | 212135217 | 309138.6 | 309320.3 | 190879.3 |\n",
       "\n"
      ],
      "text/plain": [
       "  carat    depth   table   price     x        y        z       \n",
       "1 43040.87 3330763 3099240 212135217 309138.6 309320.3 190879.3"
      ]
     },
     "metadata": {},
     "output_type": "display_data"
    }
   ],
   "source": [
    "numcolwise(sum, na.rm=TRUE)(diamonds) # numeric 컬럼들에 대해서만 진행된다. "
   ]
  },
  {
   "cell_type": "code",
   "execution_count": 66,
   "metadata": {},
   "outputs": [
    {
     "data": {
      "text/html": [
       "<style>\n",
       ".dl-inline {width: auto; margin:0; padding: 0}\n",
       ".dl-inline>dt, .dl-inline>dd {float: none; width: auto; display: inline-block}\n",
       ".dl-inline>dt::after {content: \":\\0020\"; padding-right: .5ex}\n",
       ".dl-inline>dt:not(:first-of-type) {padding-left: .5ex}\n",
       "</style><dl class=dl-inline><dt>carat</dt><dd>43040.87</dd><dt>depth</dt><dd>3330762.9</dd><dt>table</dt><dd>3099240.5</dd><dt>price</dt><dd>212135217</dd><dt>x</dt><dd>309138.62</dd><dt>y</dt><dd>309320.33</dd><dt>z</dt><dd>190879.3</dd></dl>\n"
      ],
      "text/latex": [
       "\\begin{description*}\n",
       "\\item[carat] 43040.87\n",
       "\\item[depth] 3330762.9\n",
       "\\item[table] 3099240.5\n",
       "\\item[price] 212135217\n",
       "\\item[x] 309138.62\n",
       "\\item[y] 309320.33\n",
       "\\item[z] 190879.3\n",
       "\\end{description*}\n"
      ],
      "text/markdown": [
       "carat\n",
       ":   43040.87depth\n",
       ":   3330762.9table\n",
       ":   3099240.5price\n",
       ":   212135217x\n",
       ":   309138.62y\n",
       ":   309320.33z\n",
       ":   190879.3\n",
       "\n"
      ],
      "text/plain": [
       "       carat        depth        table        price            x            y \n",
       "    43040.87   3330762.90   3099240.50 212135217.00    309138.62    309320.33 \n",
       "           z \n",
       "   190879.30 "
      ]
     },
     "metadata": {},
     "output_type": "display_data"
    }
   ],
   "source": [
    "sapply(diamonds[, sapply(diamonds, is.numeric)], sum) # 이렇게도 가능\n",
    "# 그러나 numcolwise가 더 편하다. "
   ]
  },
  {
   "cell_type": "code",
   "execution_count": 67,
   "metadata": {},
   "outputs": [],
   "source": [
    "sport <- c(\"Hockey\", \"Baseball\",\"Football\")\n",
    "league <- c(\"NHL\", \"MLB\", \"NFL\")\n",
    "trophy <- c(\"Stanley Cup\", \"Comissioner's Trophy\", \"Vince Lombardi Trophy\")"
   ]
  },
  {
   "cell_type": "code",
   "execution_count": 68,
   "metadata": {},
   "outputs": [],
   "source": [
    "sports1 <- cbind(sport, league, trophy)"
   ]
  },
  {
   "cell_type": "code",
   "execution_count": 69,
   "metadata": {},
   "outputs": [
    {
     "data": {
      "text/html": [
       "<table class=\"dataframe\">\n",
       "<caption>A matrix: 3 × 3 of type chr</caption>\n",
       "<thead>\n",
       "\t<tr><th scope=col>sport</th><th scope=col>league</th><th scope=col>trophy</th></tr>\n",
       "</thead>\n",
       "<tbody>\n",
       "\t<tr><td>Hockey  </td><td>NHL</td><td>Stanley Cup          </td></tr>\n",
       "\t<tr><td>Baseball</td><td>MLB</td><td>Comissioner's Trophy </td></tr>\n",
       "\t<tr><td>Football</td><td>NFL</td><td>Vince Lombardi Trophy</td></tr>\n",
       "</tbody>\n",
       "</table>\n"
      ],
      "text/latex": [
       "A matrix: 3 × 3 of type chr\n",
       "\\begin{tabular}{lll}\n",
       " sport & league & trophy\\\\\n",
       "\\hline\n",
       "\t Hockey   & NHL & Stanley Cup          \\\\\n",
       "\t Baseball & MLB & Comissioner's Trophy \\\\\n",
       "\t Football & NFL & Vince Lombardi Trophy\\\\\n",
       "\\end{tabular}\n"
      ],
      "text/markdown": [
       "\n",
       "A matrix: 3 × 3 of type chr\n",
       "\n",
       "| sport | league | trophy |\n",
       "|---|---|---|\n",
       "| Hockey   | NHL | Stanley Cup           |\n",
       "| Baseball | MLB | Comissioner's Trophy  |\n",
       "| Football | NFL | Vince Lombardi Trophy |\n",
       "\n"
      ],
      "text/plain": [
       "     sport    league trophy               \n",
       "[1,] Hockey   NHL    Stanley Cup          \n",
       "[2,] Baseball MLB    Comissioner's Trophy \n",
       "[3,] Football NFL    Vince Lombardi Trophy"
      ]
     },
     "metadata": {},
     "output_type": "display_data"
    }
   ],
   "source": [
    "sports1"
   ]
  },
  {
   "cell_type": "code",
   "execution_count": 70,
   "metadata": {},
   "outputs": [],
   "source": [
    "sports2 <- data.frame(sport=c(\"Basketball\",\"Golf\"),\n",
    "                     league=c(\"NBA\",\"PGA\"),\n",
    "                     trophy=c(\"Larry O'Brien championship Trophy\", \"Wanamaker Trophy\"))"
   ]
  },
  {
   "cell_type": "code",
   "execution_count": 71,
   "metadata": {},
   "outputs": [
    {
     "data": {
      "text/html": [
       "<table class=\"dataframe\">\n",
       "<caption>A data.frame: 2 × 3</caption>\n",
       "<thead>\n",
       "\t<tr><th scope=col>sport</th><th scope=col>league</th><th scope=col>trophy</th></tr>\n",
       "\t<tr><th scope=col>&lt;chr&gt;</th><th scope=col>&lt;chr&gt;</th><th scope=col>&lt;chr&gt;</th></tr>\n",
       "</thead>\n",
       "<tbody>\n",
       "\t<tr><td>Basketball</td><td>NBA</td><td>Larry O'Brien championship Trophy</td></tr>\n",
       "\t<tr><td>Golf      </td><td>PGA</td><td>Wanamaker Trophy                 </td></tr>\n",
       "</tbody>\n",
       "</table>\n"
      ],
      "text/latex": [
       "A data.frame: 2 × 3\n",
       "\\begin{tabular}{lll}\n",
       " sport & league & trophy\\\\\n",
       " <chr> & <chr> & <chr>\\\\\n",
       "\\hline\n",
       "\t Basketball & NBA & Larry O'Brien championship Trophy\\\\\n",
       "\t Golf       & PGA & Wanamaker Trophy                 \\\\\n",
       "\\end{tabular}\n"
      ],
      "text/markdown": [
       "\n",
       "A data.frame: 2 × 3\n",
       "\n",
       "| sport &lt;chr&gt; | league &lt;chr&gt; | trophy &lt;chr&gt; |\n",
       "|---|---|---|\n",
       "| Basketball | NBA | Larry O'Brien championship Trophy |\n",
       "| Golf       | PGA | Wanamaker Trophy                  |\n",
       "\n"
      ],
      "text/plain": [
       "  sport      league trophy                           \n",
       "1 Basketball NBA    Larry O'Brien championship Trophy\n",
       "2 Golf       PGA    Wanamaker Trophy                 "
      ]
     },
     "metadata": {},
     "output_type": "display_data"
    }
   ],
   "source": [
    "sports2"
   ]
  },
  {
   "cell_type": "code",
   "execution_count": 72,
   "metadata": {},
   "outputs": [
    {
     "data": {
      "text/html": [
       "<table class=\"dataframe\">\n",
       "<caption>A data.frame: 5 × 3</caption>\n",
       "<thead>\n",
       "\t<tr><th scope=col>sport</th><th scope=col>league</th><th scope=col>trophy</th></tr>\n",
       "\t<tr><th scope=col>&lt;chr&gt;</th><th scope=col>&lt;chr&gt;</th><th scope=col>&lt;chr&gt;</th></tr>\n",
       "</thead>\n",
       "<tbody>\n",
       "\t<tr><td>Hockey    </td><td>NHL</td><td>Stanley Cup                      </td></tr>\n",
       "\t<tr><td>Baseball  </td><td>MLB</td><td>Comissioner's Trophy             </td></tr>\n",
       "\t<tr><td>Football  </td><td>NFL</td><td>Vince Lombardi Trophy            </td></tr>\n",
       "\t<tr><td>Basketball</td><td>NBA</td><td>Larry O'Brien championship Trophy</td></tr>\n",
       "\t<tr><td>Golf      </td><td>PGA</td><td>Wanamaker Trophy                 </td></tr>\n",
       "</tbody>\n",
       "</table>\n"
      ],
      "text/latex": [
       "A data.frame: 5 × 3\n",
       "\\begin{tabular}{lll}\n",
       " sport & league & trophy\\\\\n",
       " <chr> & <chr> & <chr>\\\\\n",
       "\\hline\n",
       "\t Hockey     & NHL & Stanley Cup                      \\\\\n",
       "\t Baseball   & MLB & Comissioner's Trophy             \\\\\n",
       "\t Football   & NFL & Vince Lombardi Trophy            \\\\\n",
       "\t Basketball & NBA & Larry O'Brien championship Trophy\\\\\n",
       "\t Golf       & PGA & Wanamaker Trophy                 \\\\\n",
       "\\end{tabular}\n"
      ],
      "text/markdown": [
       "\n",
       "A data.frame: 5 × 3\n",
       "\n",
       "| sport &lt;chr&gt; | league &lt;chr&gt; | trophy &lt;chr&gt; |\n",
       "|---|---|---|\n",
       "| Hockey     | NHL | Stanley Cup                       |\n",
       "| Baseball   | MLB | Comissioner's Trophy              |\n",
       "| Football   | NFL | Vince Lombardi Trophy             |\n",
       "| Basketball | NBA | Larry O'Brien championship Trophy |\n",
       "| Golf       | PGA | Wanamaker Trophy                  |\n",
       "\n"
      ],
      "text/plain": [
       "  sport      league trophy                           \n",
       "1 Hockey     NHL    Stanley Cup                      \n",
       "2 Baseball   MLB    Comissioner's Trophy             \n",
       "3 Football   NFL    Vince Lombardi Trophy            \n",
       "4 Basketball NBA    Larry O'Brien championship Trophy\n",
       "5 Golf       PGA    Wanamaker Trophy                 "
      ]
     },
     "metadata": {},
     "output_type": "display_data"
    }
   ],
   "source": [
    "rbind(sports1, sports2)"
   ]
  },
  {
   "cell_type": "code",
   "execution_count": 1,
   "metadata": {},
   "outputs": [],
   "source": [
    "codes <- read.table(\"countryCodes.csv\", header=TRUE, sep=\",\", stringsAsFactors = FALSE)"
   ]
  },
  {
   "cell_type": "code",
   "execution_count": 2,
   "metadata": {},
   "outputs": [],
   "source": [
    "countries <- read.table(\"GovType.csv\", header=TRUE, sep=\",\", stringsAsFactors = FALSE)"
   ]
  },
  {
   "cell_type": "code",
   "execution_count": 4,
   "metadata": {},
   "outputs": [
    {
     "data": {
      "text/html": [
       "<table class=\"dataframe\">\n",
       "<caption>A data.frame: 6 × 2</caption>\n",
       "<thead>\n",
       "\t<tr><th></th><th scope=col>Country</th><th scope=col>GovernmentType</th></tr>\n",
       "\t<tr><th></th><th scope=col>&lt;chr&gt;</th><th scope=col>&lt;chr&gt;</th></tr>\n",
       "</thead>\n",
       "<tbody>\n",
       "\t<tr><th scope=row>1</th><td>Afghanistan        </td><td>Islamic republic                                                                          </td></tr>\n",
       "\t<tr><th scope=row>2</th><td>Albania            </td><td>parliamentary democracy                                                                   </td></tr>\n",
       "\t<tr><th scope=row>3</th><td>Algeria            </td><td>republic                                                                                  </td></tr>\n",
       "\t<tr><th scope=row>4</th><td>Andorra            </td><td>parliamentary democracy                                                                   </td></tr>\n",
       "\t<tr><th scope=row>5</th><td>Angola             </td><td>republic; multiparty presidential regime                                                  </td></tr>\n",
       "\t<tr><th scope=row>6</th><td>Antigua and Barbuda</td><td>constitutional monarchy with a parliamentary system of government and a Commonwealth realm</td></tr>\n",
       "</tbody>\n",
       "</table>\n"
      ],
      "text/latex": [
       "A data.frame: 6 × 2\n",
       "\\begin{tabular}{r|ll}\n",
       "  & Country & GovernmentType\\\\\n",
       "  & <chr> & <chr>\\\\\n",
       "\\hline\n",
       "\t1 & Afghanistan         & Islamic republic                                                                          \\\\\n",
       "\t2 & Albania             & parliamentary democracy                                                                   \\\\\n",
       "\t3 & Algeria             & republic                                                                                  \\\\\n",
       "\t4 & Andorra             & parliamentary democracy                                                                   \\\\\n",
       "\t5 & Angola              & republic; multiparty presidential regime                                                  \\\\\n",
       "\t6 & Antigua and Barbuda & constitutional monarchy with a parliamentary system of government and a Commonwealth realm\\\\\n",
       "\\end{tabular}\n"
      ],
      "text/markdown": [
       "\n",
       "A data.frame: 6 × 2\n",
       "\n",
       "| <!--/--> | Country &lt;chr&gt; | GovernmentType &lt;chr&gt; |\n",
       "|---|---|---|\n",
       "| 1 | Afghanistan         | Islamic republic                                                                           |\n",
       "| 2 | Albania             | parliamentary democracy                                                                    |\n",
       "| 3 | Algeria             | republic                                                                                   |\n",
       "| 4 | Andorra             | parliamentary democracy                                                                    |\n",
       "| 5 | Angola              | republic; multiparty presidential regime                                                   |\n",
       "| 6 | Antigua and Barbuda | constitutional monarchy with a parliamentary system of government and a Commonwealth realm |\n",
       "\n"
      ],
      "text/plain": [
       "  Country            \n",
       "1 Afghanistan        \n",
       "2 Albania            \n",
       "3 Algeria            \n",
       "4 Andorra            \n",
       "5 Angola             \n",
       "6 Antigua and Barbuda\n",
       "  GovernmentType                                                                            \n",
       "1 Islamic republic                                                                          \n",
       "2 parliamentary democracy                                                                   \n",
       "3 republic                                                                                  \n",
       "4 parliamentary democracy                                                                   \n",
       "5 republic; multiparty presidential regime                                                  \n",
       "6 constitutional monarchy with a parliamentary system of government and a Commonwealth realm"
      ]
     },
     "metadata": {},
     "output_type": "display_data"
    }
   ],
   "source": [
    "head(countries) # View도 굉장히 편리하다"
   ]
  },
  {
   "cell_type": "code",
   "execution_count": 8,
   "metadata": {},
   "outputs": [
    {
     "data": {
      "text/html": [
       "<table class=\"dataframe\">\n",
       "<caption>A data.frame: 249 × 6</caption>\n",
       "<thead>\n",
       "\t<tr><th scope=col>Code</th><th scope=col>Country.name</th><th scope=col>Year</th><th scope=col>ccTLD</th><th scope=col>ISO.3166.2</th><th scope=col>Notes</th></tr>\n",
       "\t<tr><th scope=col>&lt;chr&gt;</th><th scope=col>&lt;chr&gt;</th><th scope=col>&lt;int&gt;</th><th scope=col>&lt;chr&gt;</th><th scope=col>&lt;chr&gt;</th><th scope=col>&lt;chr&gt;</th></tr>\n",
       "</thead>\n",
       "<tbody>\n",
       "\t<tr><td>AD</td><td>Andorra                           </td><td>1974</td><td>.ad</td><td>ISO 3166-2:AD</td><td>                                                                                                                                                                                                                                                                        </td></tr>\n",
       "\t<tr><td>AE</td><td>United Arab Emirates              </td><td>1974</td><td>.ae</td><td>ISO 3166-2:AE</td><td>                                                                                                                                                                                                                                                                        </td></tr>\n",
       "\t<tr><td>AF</td><td>Afghanistan                       </td><td>1974</td><td>.af</td><td>ISO 3166-2:AF</td><td>                                                                                                                                                                                                                                                                        </td></tr>\n",
       "\t<tr><td>AG</td><td>Antigua and Barbuda               </td><td>1974</td><td>.ag</td><td>ISO 3166-2:AG</td><td>                                                                                                                                                                                                                                                                        </td></tr>\n",
       "\t<tr><td>AI</td><td>Anguilla                          </td><td>1983</td><td>.ai</td><td>ISO 3166-2:AI</td><td>AI previously represented French Afar and Issas                                                                                                                                                                                                                         </td></tr>\n",
       "\t<tr><td>AL</td><td>Albania                           </td><td>1974</td><td>.al</td><td>ISO 3166-2:AL</td><td>                                                                                                                                                                                                                                                                        </td></tr>\n",
       "\t<tr><td>AM</td><td>Armenia                           </td><td>1992</td><td>.am</td><td>ISO 3166-2:AM</td><td>                                                                                                                                                                                                                                                                        </td></tr>\n",
       "\t<tr><td>AO</td><td>Angola                            </td><td>1974</td><td>.ao</td><td>ISO 3166-2:AO</td><td>                                                                                                                                                                                                                                                                        </td></tr>\n",
       "\t<tr><td>AQ</td><td>Antarctica                        </td><td>1974</td><td>.aq</td><td>ISO 3166-2:AQ</td><td>Covers the territories south of 60Â° south latitude\n",
       "Code taken from name in French: Antarctique                                                                                                                                                                        </td></tr>\n",
       "\t<tr><td>AR</td><td>Argentina                         </td><td>1974</td><td>.ar</td><td>ISO 3166-2:AR</td><td>                                                                                                                                                                                                                                                                        </td></tr>\n",
       "\t<tr><td>AS</td><td>American Samoa                    </td><td>1974</td><td>.as</td><td>ISO 3166-2:AS</td><td>                                                                                                                                                                                                                                                                        </td></tr>\n",
       "\t<tr><td>AT</td><td>Austria                           </td><td>1974</td><td>.at</td><td>ISO 3166-2:AT</td><td>                                                                                                                                                                                                                                                                        </td></tr>\n",
       "\t<tr><td>AU</td><td>Australia                         </td><td>1974</td><td>.au</td><td>ISO 3166-2:AU</td><td>Includes the Ashmore and Cartier Islands and the Coral Sea Islands                                                                                                                                                                                                      </td></tr>\n",
       "\t<tr><td>AW</td><td>Aruba                             </td><td>1986</td><td>.aw</td><td>ISO 3166-2:AW</td><td>                                                                                                                                                                                                                                                                        </td></tr>\n",
       "\t<tr><td>AX</td><td>Aland Islands !Ã",
       "land Islands</td><td>2004</td><td>.ax</td><td>ISO 3166-2:AX</td><td>An autonomous province of Finland                                                                                                                                                                                                                                       </td></tr>\n",
       "\t<tr><td>AZ</td><td>Azerbaijan                        </td><td>1992</td><td>.az</td><td>ISO 3166-2:AZ</td><td>                                                                                                                                                                                                                                                                        </td></tr>\n",
       "\t<tr><td>BA</td><td>Bosnia and Herzegovina            </td><td>1992</td><td>.ba</td><td>ISO 3166-2:BA</td><td>                                                                                                                                                                                                                                                                        </td></tr>\n",
       "\t<tr><td>BB</td><td>Barbados                          </td><td>1974</td><td>.bb</td><td>ISO 3166-2:BB</td><td>                                                                                                                                                                                                                                                                        </td></tr>\n",
       "\t<tr><td>BD</td><td>Bangladesh                        </td><td>1974</td><td>.bd</td><td>ISO 3166-2:BD</td><td>                                                                                                                                                                                                                                                                        </td></tr>\n",
       "\t<tr><td>BE</td><td>Belgium                           </td><td>1974</td><td>.be</td><td>ISO 3166-2:BE</td><td>                                                                                                                                                                                                                                                                        </td></tr>\n",
       "\t<tr><td>BF</td><td>Burkina Faso                      </td><td>1984</td><td>.bf</td><td>ISO 3166-2:BF</td><td>Name changed from Upper Volta (HV)                                                                                                                                                                                                                                      </td></tr>\n",
       "\t<tr><td>BG</td><td>Bulgaria                          </td><td>1974</td><td>.bg</td><td>ISO 3166-2:BG</td><td>                                                                                                                                                                                                                                                                        </td></tr>\n",
       "\t<tr><td>BH</td><td>Bahrain                           </td><td>1974</td><td>.bh</td><td>ISO 3166-2:BH</td><td>                                                                                                                                                                                                                                                                        </td></tr>\n",
       "\t<tr><td>BI</td><td>Burundi                           </td><td>1974</td><td>.bi</td><td>ISO 3166-2:BI</td><td>                                                                                                                                                                                                                                                                        </td></tr>\n",
       "\t<tr><td>BJ</td><td>Benin                             </td><td>1977</td><td>.bj</td><td>ISO 3166-2:BJ</td><td>Name changed from Dahomey (DY)                                                                                                                                                                                                                                          </td></tr>\n",
       "\t<tr><td>BL</td><td>Saint BarthÃ©lemy                 </td><td>2007</td><td>.bl</td><td>ISO 3166-2:BL</td><td>                                                                                                                                                                                                                                                                        </td></tr>\n",
       "\t<tr><td>BM</td><td>Bermuda                           </td><td>1974</td><td>.bm</td><td>ISO 3166-2:BM</td><td>                                                                                                                                                                                                                                                                        </td></tr>\n",
       "\t<tr><td>BN</td><td>Brunei Darussalam                 </td><td>1974</td><td>.bn</td><td>ISO 3166-2:BN</td><td>ISO country name follows UN designation (common name: Brunei)                                                                                                                                                                                                           </td></tr>\n",
       "\t<tr><td>BO</td><td>Bolivia, Plurinational State of   </td><td>1974</td><td>.bo</td><td>ISO 3166-2:BO</td><td>ISO country name follows UN designation (common name and previous ISO country name: Bolivia)                                                                                                                                                                            </td></tr>\n",
       "\t<tr><td>BQ</td><td>Bonaire, Sint Eustatius and Saba  </td><td>2010</td><td>.bq</td><td>ISO 3166-2:BQ</td><td>Consists of three Caribbean \\special municipalities\\, which are part of the Netherlands proper: Bonaire, Sint Eustatius, and Saba (the BES Islands)\n",
       "Previous ISO country name: Bonaire, Saint Eustatius and SabaBQ previously represented British Antarctic Territory</td></tr>\n",
       "\t<tr><td>⋮</td><td>⋮</td><td>⋮</td><td>⋮</td><td>⋮</td><td>⋮</td></tr>\n",
       "\t<tr><td>TK</td><td>Tokelau                             </td><td>1974</td><td>.tk</td><td>ISO 3166-2:TK</td><td>                                                                                                                                                                                                    </td></tr>\n",
       "\t<tr><td>TL</td><td>Timor-Leste                         </td><td>2002</td><td>.tl</td><td>ISO 3166-2:TL</td><td>Name changed from East Timor (TP)                                                                                                                                                                   </td></tr>\n",
       "\t<tr><td>TM</td><td>Turkmenistan                        </td><td>1992</td><td>.tm</td><td>ISO 3166-2:TM</td><td>                                                                                                                                                                                                    </td></tr>\n",
       "\t<tr><td>TN</td><td>Tunisia                             </td><td>1974</td><td>.tn</td><td>ISO 3166-2:TN</td><td>                                                                                                                                                                                                    </td></tr>\n",
       "\t<tr><td>TO</td><td>Tonga                               </td><td>1974</td><td>.to</td><td>ISO 3166-2:TO</td><td>                                                                                                                                                                                                    </td></tr>\n",
       "\t<tr><td>TR</td><td>Turkey                              </td><td>1974</td><td>.tr</td><td>ISO 3166-2:TR</td><td>                                                                                                                                                                                                    </td></tr>\n",
       "\t<tr><td>TT</td><td>Trinidad and Tobago                 </td><td>1974</td><td>.tt</td><td>ISO 3166-2:TT</td><td>                                                                                                                                                                                                    </td></tr>\n",
       "\t<tr><td>TV</td><td>Tuvalu                              </td><td>1979</td><td>.tv</td><td>ISO 3166-2:TV</td><td>                                                                                                                                                                                                    </td></tr>\n",
       "\t<tr><td>TW</td><td>Taiwan, Province of China           </td><td>1974</td><td>.tw</td><td>ISO 3166-2:TW</td><td>Covers the current jurisdiction of the Republic of China except Kinmen and Lienchiang\n",
       "ISO country name follows UN designation (due to political status of Taiwan within the UN)[18]                </td></tr>\n",
       "\t<tr><td>TZ</td><td>Tanzania, United Republic of        </td><td>1974</td><td>.tz</td><td>ISO 3166-2:TZ</td><td>ISO country name follows UN designation (common name: Tanzania)                                                                                                                                     </td></tr>\n",
       "\t<tr><td>UA</td><td>Ukraine                             </td><td>1974</td><td>.ua</td><td>ISO 3166-2:UA</td><td>Previous ISO country name: Ukrainian SSR\n",
       "Code assigned as the country was already a UN member since 1945[17]                                                                                       </td></tr>\n",
       "\t<tr><td>UG</td><td>Uganda                              </td><td>1974</td><td>.ug</td><td>ISO 3166-2:UG</td><td>                                                                                                                                                                                                    </td></tr>\n",
       "\t<tr><td>UM</td><td>United States Minor Outlying Islands</td><td>1986</td><td>.um</td><td>ISO 3166-2:UM</td><td>Consists of nine minor insular areas of the United States: Baker Island, Howland Island, Jarvis Island, Johnston Atoll, Kingman Reef, Midway Islands, Navassa Island, Palmyra Atoll, and Wake Island</td></tr>\n",
       "\t<tr><td>US</td><td>United States                       </td><td>1974</td><td>.us</td><td>ISO 3166-2:US</td><td>                                                                                                                                                                                                    </td></tr>\n",
       "\t<tr><td>UY</td><td>Uruguay                             </td><td>1974</td><td>.uy</td><td>ISO 3166-2:UY</td><td>                                                                                                                                                                                                    </td></tr>\n",
       "\t<tr><td>UZ</td><td>Uzbekistan                          </td><td>1992</td><td>.uz</td><td>ISO 3166-2:UZ</td><td>                                                                                                                                                                                                    </td></tr>\n",
       "\t<tr><td>VA</td><td>Holy See (Vatican City State)       </td><td>1974</td><td>.va</td><td>ISO 3166-2:VA</td><td>Covers Vatican City, territory of the Holy See\n",
       "Previous ISO country name: Vatican City State (Holy See)                                                                                            </td></tr>\n",
       "\t<tr><td>VC</td><td>Saint Vincent and the Grenadines    </td><td>1974</td><td>.vc</td><td>ISO 3166-2:VC</td><td>                                                                                                                                                                                                    </td></tr>\n",
       "\t<tr><td>VE</td><td>Venezuela, Bolivarian Republic of   </td><td>1974</td><td>.ve</td><td>ISO 3166-2:VE</td><td>ISO country name follows UN designation (common name and previous ISO country name: Venezuela)                                                                                                      </td></tr>\n",
       "\t<tr><td>VG</td><td>Virgin Islands, British             </td><td>1974</td><td>.vg</td><td>ISO 3166-2:VG</td><td>                                                                                                                                                                                                    </td></tr>\n",
       "\t<tr><td>VI</td><td>Virgin Islands, U.S.                </td><td>1974</td><td>.vi</td><td>ISO 3166-2:VI</td><td>                                                                                                                                                                                                    </td></tr>\n",
       "\t<tr><td>VN</td><td>Viet Nam                            </td><td>1974</td><td>.vn</td><td>ISO 3166-2:VN</td><td>ISO country name follows UN designation (common name: Vietnam)                                                                                                                                      </td></tr>\n",
       "\t<tr><td>VU</td><td>Vanuatu                             </td><td>1980</td><td>.vu</td><td>ISO 3166-2:VU</td><td>Name changed from New Hebrides (NH)                                                                                                                                                                 </td></tr>\n",
       "\t<tr><td>WF</td><td>Wallis and Futuna                   </td><td>1974</td><td>.wf</td><td>ISO 3166-2:WF</td><td>                                                                                                                                                                                                    </td></tr>\n",
       "\t<tr><td>WS</td><td>Samoa                               </td><td>1974</td><td>.ws</td><td>ISO 3166-2:WS</td><td>Code taken from former name: Western Samoa                                                                                                                                                          </td></tr>\n",
       "\t<tr><td>YE</td><td>Yemen                               </td><td>1974</td><td>.ye</td><td>ISO 3166-2:YE</td><td>Previous ISO country name: Yemen, Republic of\n",
       "Code used for North Yemen before 1990                                                                                                                </td></tr>\n",
       "\t<tr><td>YT</td><td>Mayotte                             </td><td>1993</td><td>.yt</td><td>ISO 3166-2:YT</td><td>                                                                                                                                                                                                    </td></tr>\n",
       "\t<tr><td>ZA</td><td>South Africa                        </td><td>1974</td><td>.za</td><td>ISO 3166-2:ZA</td><td>Code taken from name in Dutch: Zuid-Afrika                                                                                                                                                          </td></tr>\n",
       "\t<tr><td>ZM</td><td>Zambia                              </td><td>1974</td><td>.zm</td><td>ISO 3166-2:ZM</td><td>                                                                                                                                                                                                    </td></tr>\n",
       "\t<tr><td>ZW</td><td>Zimbabwe                            </td><td>1980</td><td>.zw</td><td>ISO 3166-2:ZW</td><td>Name changed from Southern Rhodesia (RH)                                                                                                                                                            </td></tr>\n",
       "</tbody>\n",
       "</table>\n"
      ],
      "text/latex": [
       "A data.frame: 249 × 6\n",
       "\\begin{tabular}{llllll}\n",
       " Code & Country.name & Year & ccTLD & ISO.3166.2 & Notes\\\\\n",
       " <chr> & <chr> & <int> & <chr> & <chr> & <chr>\\\\\n",
       "\\hline\n",
       "\t AD & Andorra                            & 1974 & .ad & ISO 3166-2:AD &                                                                                                                                                                                                                                                                         \\\\\n",
       "\t AE & United Arab Emirates               & 1974 & .ae & ISO 3166-2:AE &                                                                                                                                                                                                                                                                         \\\\\n",
       "\t AF & Afghanistan                        & 1974 & .af & ISO 3166-2:AF &                                                                                                                                                                                                                                                                         \\\\\n",
       "\t AG & Antigua and Barbuda                & 1974 & .ag & ISO 3166-2:AG &                                                                                                                                                                                                                                                                         \\\\\n",
       "\t AI & Anguilla                           & 1983 & .ai & ISO 3166-2:AI & AI previously represented French Afar and Issas                                                                                                                                                                                                                         \\\\\n",
       "\t AL & Albania                            & 1974 & .al & ISO 3166-2:AL &                                                                                                                                                                                                                                                                         \\\\\n",
       "\t AM & Armenia                            & 1992 & .am & ISO 3166-2:AM &                                                                                                                                                                                                                                                                         \\\\\n",
       "\t AO & Angola                             & 1974 & .ao & ISO 3166-2:AO &                                                                                                                                                                                                                                                                         \\\\\n",
       "\t AQ & Antarctica                         & 1974 & .aq & ISO 3166-2:AQ & Covers the territories south of 60Â° south latitude\n",
       "Code taken from name in French: Antarctique                                                                                                                                                                        \\\\\n",
       "\t AR & Argentina                          & 1974 & .ar & ISO 3166-2:AR &                                                                                                                                                                                                                                                                         \\\\\n",
       "\t AS & American Samoa                     & 1974 & .as & ISO 3166-2:AS &                                                                                                                                                                                                                                                                         \\\\\n",
       "\t AT & Austria                            & 1974 & .at & ISO 3166-2:AT &                                                                                                                                                                                                                                                                         \\\\\n",
       "\t AU & Australia                          & 1974 & .au & ISO 3166-2:AU & Includes the Ashmore and Cartier Islands and the Coral Sea Islands                                                                                                                                                                                                      \\\\\n",
       "\t AW & Aruba                              & 1986 & .aw & ISO 3166-2:AW &                                                                                                                                                                                                                                                                         \\\\\n",
       "\t AX & Aland Islands !Ã",
       "land Islands & 2004 & .ax & ISO 3166-2:AX & An autonomous province of Finland                                                                                                                                                                                                                                       \\\\\n",
       "\t AZ & Azerbaijan                         & 1992 & .az & ISO 3166-2:AZ &                                                                                                                                                                                                                                                                         \\\\\n",
       "\t BA & Bosnia and Herzegovina             & 1992 & .ba & ISO 3166-2:BA &                                                                                                                                                                                                                                                                         \\\\\n",
       "\t BB & Barbados                           & 1974 & .bb & ISO 3166-2:BB &                                                                                                                                                                                                                                                                         \\\\\n",
       "\t BD & Bangladesh                         & 1974 & .bd & ISO 3166-2:BD &                                                                                                                                                                                                                                                                         \\\\\n",
       "\t BE & Belgium                            & 1974 & .be & ISO 3166-2:BE &                                                                                                                                                                                                                                                                         \\\\\n",
       "\t BF & Burkina Faso                       & 1984 & .bf & ISO 3166-2:BF & Name changed from Upper Volta (HV)                                                                                                                                                                                                                                      \\\\\n",
       "\t BG & Bulgaria                           & 1974 & .bg & ISO 3166-2:BG &                                                                                                                                                                                                                                                                         \\\\\n",
       "\t BH & Bahrain                            & 1974 & .bh & ISO 3166-2:BH &                                                                                                                                                                                                                                                                         \\\\\n",
       "\t BI & Burundi                            & 1974 & .bi & ISO 3166-2:BI &                                                                                                                                                                                                                                                                         \\\\\n",
       "\t BJ & Benin                              & 1977 & .bj & ISO 3166-2:BJ & Name changed from Dahomey (DY)                                                                                                                                                                                                                                          \\\\\n",
       "\t BL & Saint BarthÃ©lemy                  & 2007 & .bl & ISO 3166-2:BL &                                                                                                                                                                                                                                                                         \\\\\n",
       "\t BM & Bermuda                            & 1974 & .bm & ISO 3166-2:BM &                                                                                                                                                                                                                                                                         \\\\\n",
       "\t BN & Brunei Darussalam                  & 1974 & .bn & ISO 3166-2:BN & ISO country name follows UN designation (common name: Brunei)                                                                                                                                                                                                           \\\\\n",
       "\t BO & Bolivia, Plurinational State of    & 1974 & .bo & ISO 3166-2:BO & ISO country name follows UN designation (common name and previous ISO country name: Bolivia)                                                                                                                                                                            \\\\\n",
       "\t BQ & Bonaire, Sint Eustatius and Saba   & 2010 & .bq & ISO 3166-2:BQ & Consists of three Caribbean \\textbackslash{}special municipalities\\textbackslash{}, which are part of the Netherlands proper: Bonaire, Sint Eustatius, and Saba (the BES Islands)\n",
       "Previous ISO country name: Bonaire, Saint Eustatius and SabaBQ previously represented British Antarctic Territory\\\\\n",
       "\t ⋮ & ⋮ & ⋮ & ⋮ & ⋮ & ⋮\\\\\n",
       "\t TK & Tokelau                              & 1974 & .tk & ISO 3166-2:TK &                                                                                                                                                                                                     \\\\\n",
       "\t TL & Timor-Leste                          & 2002 & .tl & ISO 3166-2:TL & Name changed from East Timor (TP)                                                                                                                                                                   \\\\\n",
       "\t TM & Turkmenistan                         & 1992 & .tm & ISO 3166-2:TM &                                                                                                                                                                                                     \\\\\n",
       "\t TN & Tunisia                              & 1974 & .tn & ISO 3166-2:TN &                                                                                                                                                                                                     \\\\\n",
       "\t TO & Tonga                                & 1974 & .to & ISO 3166-2:TO &                                                                                                                                                                                                     \\\\\n",
       "\t TR & Turkey                               & 1974 & .tr & ISO 3166-2:TR &                                                                                                                                                                                                     \\\\\n",
       "\t TT & Trinidad and Tobago                  & 1974 & .tt & ISO 3166-2:TT &                                                                                                                                                                                                     \\\\\n",
       "\t TV & Tuvalu                               & 1979 & .tv & ISO 3166-2:TV &                                                                                                                                                                                                     \\\\\n",
       "\t TW & Taiwan, Province of China            & 1974 & .tw & ISO 3166-2:TW & Covers the current jurisdiction of the Republic of China except Kinmen and Lienchiang\n",
       "ISO country name follows UN designation (due to political status of Taiwan within the UN){[}18{]}                \\\\\n",
       "\t TZ & Tanzania, United Republic of         & 1974 & .tz & ISO 3166-2:TZ & ISO country name follows UN designation (common name: Tanzania)                                                                                                                                     \\\\\n",
       "\t UA & Ukraine                              & 1974 & .ua & ISO 3166-2:UA & Previous ISO country name: Ukrainian SSR\n",
       "Code assigned as the country was already a UN member since 1945{[}17{]}                                                                                       \\\\\n",
       "\t UG & Uganda                               & 1974 & .ug & ISO 3166-2:UG &                                                                                                                                                                                                     \\\\\n",
       "\t UM & United States Minor Outlying Islands & 1986 & .um & ISO 3166-2:UM & Consists of nine minor insular areas of the United States: Baker Island, Howland Island, Jarvis Island, Johnston Atoll, Kingman Reef, Midway Islands, Navassa Island, Palmyra Atoll, and Wake Island\\\\\n",
       "\t US & United States                        & 1974 & .us & ISO 3166-2:US &                                                                                                                                                                                                     \\\\\n",
       "\t UY & Uruguay                              & 1974 & .uy & ISO 3166-2:UY &                                                                                                                                                                                                     \\\\\n",
       "\t UZ & Uzbekistan                           & 1992 & .uz & ISO 3166-2:UZ &                                                                                                                                                                                                     \\\\\n",
       "\t VA & Holy See (Vatican City State)        & 1974 & .va & ISO 3166-2:VA & Covers Vatican City, territory of the Holy See\n",
       "Previous ISO country name: Vatican City State (Holy See)                                                                                            \\\\\n",
       "\t VC & Saint Vincent and the Grenadines     & 1974 & .vc & ISO 3166-2:VC &                                                                                                                                                                                                     \\\\\n",
       "\t VE & Venezuela, Bolivarian Republic of    & 1974 & .ve & ISO 3166-2:VE & ISO country name follows UN designation (common name and previous ISO country name: Venezuela)                                                                                                      \\\\\n",
       "\t VG & Virgin Islands, British              & 1974 & .vg & ISO 3166-2:VG &                                                                                                                                                                                                     \\\\\n",
       "\t VI & Virgin Islands, U.S.                 & 1974 & .vi & ISO 3166-2:VI &                                                                                                                                                                                                     \\\\\n",
       "\t VN & Viet Nam                             & 1974 & .vn & ISO 3166-2:VN & ISO country name follows UN designation (common name: Vietnam)                                                                                                                                      \\\\\n",
       "\t VU & Vanuatu                              & 1980 & .vu & ISO 3166-2:VU & Name changed from New Hebrides (NH)                                                                                                                                                                 \\\\\n",
       "\t WF & Wallis and Futuna                    & 1974 & .wf & ISO 3166-2:WF &                                                                                                                                                                                                     \\\\\n",
       "\t WS & Samoa                                & 1974 & .ws & ISO 3166-2:WS & Code taken from former name: Western Samoa                                                                                                                                                          \\\\\n",
       "\t YE & Yemen                                & 1974 & .ye & ISO 3166-2:YE & Previous ISO country name: Yemen, Republic of\n",
       "Code used for North Yemen before 1990                                                                                                                \\\\\n",
       "\t YT & Mayotte                              & 1993 & .yt & ISO 3166-2:YT &                                                                                                                                                                                                     \\\\\n",
       "\t ZA & South Africa                         & 1974 & .za & ISO 3166-2:ZA & Code taken from name in Dutch: Zuid-Afrika                                                                                                                                                          \\\\\n",
       "\t ZM & Zambia                               & 1974 & .zm & ISO 3166-2:ZM &                                                                                                                                                                                                     \\\\\n",
       "\t ZW & Zimbabwe                             & 1980 & .zw & ISO 3166-2:ZW & Name changed from Southern Rhodesia (RH)                                                                                                                                                            \\\\\n",
       "\\end{tabular}\n"
      ],
      "text/markdown": [
       "\n",
       "A data.frame: 249 × 6\n",
       "\n",
       "| Code &lt;chr&gt; | Country.name &lt;chr&gt; | Year &lt;int&gt; | ccTLD &lt;chr&gt; | ISO.3166.2 &lt;chr&gt; | Notes &lt;chr&gt; |\n",
       "|---|---|---|---|---|---|\n",
       "| AD | Andorra                            | 1974 | .ad | ISO 3166-2:AD | <!----> |\n",
       "| AE | United Arab Emirates               | 1974 | .ae | ISO 3166-2:AE | <!----> |\n",
       "| AF | Afghanistan                        | 1974 | .af | ISO 3166-2:AF | <!----> |\n",
       "| AG | Antigua and Barbuda                | 1974 | .ag | ISO 3166-2:AG | <!----> |\n",
       "| AI | Anguilla                           | 1983 | .ai | ISO 3166-2:AI | AI previously represented French Afar and Issas                                                                                                                                                                                                                          |\n",
       "| AL | Albania                            | 1974 | .al | ISO 3166-2:AL | <!----> |\n",
       "| AM | Armenia                            | 1992 | .am | ISO 3166-2:AM | <!----> |\n",
       "| AO | Angola                             | 1974 | .ao | ISO 3166-2:AO | <!----> |\n",
       "| AQ | Antarctica                         | 1974 | .aq | ISO 3166-2:AQ | Covers the territories south of 60Â° south latitude\n",
       "Code taken from name in French: Antarctique                                                                                                                                                                         |\n",
       "| AR | Argentina                          | 1974 | .ar | ISO 3166-2:AR | <!----> |\n",
       "| AS | American Samoa                     | 1974 | .as | ISO 3166-2:AS | <!----> |\n",
       "| AT | Austria                            | 1974 | .at | ISO 3166-2:AT | <!----> |\n",
       "| AU | Australia                          | 1974 | .au | ISO 3166-2:AU | Includes the Ashmore and Cartier Islands and the Coral Sea Islands                                                                                                                                                                                                       |\n",
       "| AW | Aruba                              | 1986 | .aw | ISO 3166-2:AW | <!----> |\n",
       "| AX | Aland Islands !Ã",
       "land Islands | 2004 | .ax | ISO 3166-2:AX | An autonomous province of Finland                                                                                                                                                                                                                                        |\n",
       "| AZ | Azerbaijan                         | 1992 | .az | ISO 3166-2:AZ | <!----> |\n",
       "| BA | Bosnia and Herzegovina             | 1992 | .ba | ISO 3166-2:BA | <!----> |\n",
       "| BB | Barbados                           | 1974 | .bb | ISO 3166-2:BB | <!----> |\n",
       "| BD | Bangladesh                         | 1974 | .bd | ISO 3166-2:BD | <!----> |\n",
       "| BE | Belgium                            | 1974 | .be | ISO 3166-2:BE | <!----> |\n",
       "| BF | Burkina Faso                       | 1984 | .bf | ISO 3166-2:BF | Name changed from Upper Volta (HV)                                                                                                                                                                                                                                       |\n",
       "| BG | Bulgaria                           | 1974 | .bg | ISO 3166-2:BG | <!----> |\n",
       "| BH | Bahrain                            | 1974 | .bh | ISO 3166-2:BH | <!----> |\n",
       "| BI | Burundi                            | 1974 | .bi | ISO 3166-2:BI | <!----> |\n",
       "| BJ | Benin                              | 1977 | .bj | ISO 3166-2:BJ | Name changed from Dahomey (DY)                                                                                                                                                                                                                                           |\n",
       "| BL | Saint BarthÃ©lemy                  | 2007 | .bl | ISO 3166-2:BL | <!----> |\n",
       "| BM | Bermuda                            | 1974 | .bm | ISO 3166-2:BM | <!----> |\n",
       "| BN | Brunei Darussalam                  | 1974 | .bn | ISO 3166-2:BN | ISO country name follows UN designation (common name: Brunei)                                                                                                                                                                                                            |\n",
       "| BO | Bolivia, Plurinational State of    | 1974 | .bo | ISO 3166-2:BO | ISO country name follows UN designation (common name and previous ISO country name: Bolivia)                                                                                                                                                                             |\n",
       "| BQ | Bonaire, Sint Eustatius and Saba   | 2010 | .bq | ISO 3166-2:BQ | Consists of three Caribbean \\special municipalities\\, which are part of the Netherlands proper: Bonaire, Sint Eustatius, and Saba (the BES Islands)\n",
       "Previous ISO country name: Bonaire, Saint Eustatius and SabaBQ previously represented British Antarctic Territory |\n",
       "| ⋮ | ⋮ | ⋮ | ⋮ | ⋮ | ⋮ |\n",
       "| TK | Tokelau                              | 1974 | .tk | ISO 3166-2:TK | <!----> |\n",
       "| TL | Timor-Leste                          | 2002 | .tl | ISO 3166-2:TL | Name changed from East Timor (TP)                                                                                                                                                                    |\n",
       "| TM | Turkmenistan                         | 1992 | .tm | ISO 3166-2:TM | <!----> |\n",
       "| TN | Tunisia                              | 1974 | .tn | ISO 3166-2:TN | <!----> |\n",
       "| TO | Tonga                                | 1974 | .to | ISO 3166-2:TO | <!----> |\n",
       "| TR | Turkey                               | 1974 | .tr | ISO 3166-2:TR | <!----> |\n",
       "| TT | Trinidad and Tobago                  | 1974 | .tt | ISO 3166-2:TT | <!----> |\n",
       "| TV | Tuvalu                               | 1979 | .tv | ISO 3166-2:TV | <!----> |\n",
       "| TW | Taiwan, Province of China            | 1974 | .tw | ISO 3166-2:TW | Covers the current jurisdiction of the Republic of China except Kinmen and Lienchiang\n",
       "ISO country name follows UN designation (due to political status of Taiwan within the UN)[18]                 |\n",
       "| TZ | Tanzania, United Republic of         | 1974 | .tz | ISO 3166-2:TZ | ISO country name follows UN designation (common name: Tanzania)                                                                                                                                      |\n",
       "| UA | Ukraine                              | 1974 | .ua | ISO 3166-2:UA | Previous ISO country name: Ukrainian SSR\n",
       "Code assigned as the country was already a UN member since 1945[17]                                                                                        |\n",
       "| UG | Uganda                               | 1974 | .ug | ISO 3166-2:UG | <!----> |\n",
       "| UM | United States Minor Outlying Islands | 1986 | .um | ISO 3166-2:UM | Consists of nine minor insular areas of the United States: Baker Island, Howland Island, Jarvis Island, Johnston Atoll, Kingman Reef, Midway Islands, Navassa Island, Palmyra Atoll, and Wake Island |\n",
       "| US | United States                        | 1974 | .us | ISO 3166-2:US | <!----> |\n",
       "| UY | Uruguay                              | 1974 | .uy | ISO 3166-2:UY | <!----> |\n",
       "| UZ | Uzbekistan                           | 1992 | .uz | ISO 3166-2:UZ | <!----> |\n",
       "| VA | Holy See (Vatican City State)        | 1974 | .va | ISO 3166-2:VA | Covers Vatican City, territory of the Holy See\n",
       "Previous ISO country name: Vatican City State (Holy See)                                                                                             |\n",
       "| VC | Saint Vincent and the Grenadines     | 1974 | .vc | ISO 3166-2:VC | <!----> |\n",
       "| VE | Venezuela, Bolivarian Republic of    | 1974 | .ve | ISO 3166-2:VE | ISO country name follows UN designation (common name and previous ISO country name: Venezuela)                                                                                                       |\n",
       "| VG | Virgin Islands, British              | 1974 | .vg | ISO 3166-2:VG | <!----> |\n",
       "| VI | Virgin Islands, U.S.                 | 1974 | .vi | ISO 3166-2:VI | <!----> |\n",
       "| VN | Viet Nam                             | 1974 | .vn | ISO 3166-2:VN | ISO country name follows UN designation (common name: Vietnam)                                                                                                                                       |\n",
       "| VU | Vanuatu                              | 1980 | .vu | ISO 3166-2:VU | Name changed from New Hebrides (NH)                                                                                                                                                                  |\n",
       "| WF | Wallis and Futuna                    | 1974 | .wf | ISO 3166-2:WF | <!----> |\n",
       "| WS | Samoa                                | 1974 | .ws | ISO 3166-2:WS | Code taken from former name: Western Samoa                                                                                                                                                           |\n",
       "| YE | Yemen                                | 1974 | .ye | ISO 3166-2:YE | Previous ISO country name: Yemen, Republic of\n",
       "Code used for North Yemen before 1990                                                                                                                 |\n",
       "| YT | Mayotte                              | 1993 | .yt | ISO 3166-2:YT | <!----> |\n",
       "| ZA | South Africa                         | 1974 | .za | ISO 3166-2:ZA | Code taken from name in Dutch: Zuid-Afrika                                                                                                                                                           |\n",
       "| ZM | Zambia                               | 1974 | .zm | ISO 3166-2:ZM | <!----> |\n",
       "| ZW | Zimbabwe                             | 1980 | .zw | ISO 3166-2:ZW | Name changed from Southern Rhodesia (RH)                                                                                                                                                             |\n",
       "\n"
      ],
      "text/plain": [
       "    Code Country.name                         Year ccTLD ISO.3166.2   \n",
       "1   AD   Andorra                              1974 .ad   ISO 3166-2:AD\n",
       "2   AE   United Arab Emirates                 1974 .ae   ISO 3166-2:AE\n",
       "3   AF   Afghanistan                          1974 .af   ISO 3166-2:AF\n",
       "4   AG   Antigua and Barbuda                  1974 .ag   ISO 3166-2:AG\n",
       "5   AI   Anguilla                             1983 .ai   ISO 3166-2:AI\n",
       "6   AL   Albania                              1974 .al   ISO 3166-2:AL\n",
       "7   AM   Armenia                              1992 .am   ISO 3166-2:AM\n",
       "8   AO   Angola                               1974 .ao   ISO 3166-2:AO\n",
       "9   AQ   Antarctica                           1974 .aq   ISO 3166-2:AQ\n",
       "10  AR   Argentina                            1974 .ar   ISO 3166-2:AR\n",
       "11  AS   American Samoa                       1974 .as   ISO 3166-2:AS\n",
       "12  AT   Austria                              1974 .at   ISO 3166-2:AT\n",
       "13  AU   Australia                            1974 .au   ISO 3166-2:AU\n",
       "14  AW   Aruba                                1986 .aw   ISO 3166-2:AW\n",
       "15  AX   Aland Islands !Ã\\u0085land Islands   2004 .ax   ISO 3166-2:AX\n",
       "16  AZ   Azerbaijan                           1992 .az   ISO 3166-2:AZ\n",
       "17  BA   Bosnia and Herzegovina               1992 .ba   ISO 3166-2:BA\n",
       "18  BB   Barbados                             1974 .bb   ISO 3166-2:BB\n",
       "19  BD   Bangladesh                           1974 .bd   ISO 3166-2:BD\n",
       "20  BE   Belgium                              1974 .be   ISO 3166-2:BE\n",
       "21  BF   Burkina Faso                         1984 .bf   ISO 3166-2:BF\n",
       "22  BG   Bulgaria                             1974 .bg   ISO 3166-2:BG\n",
       "23  BH   Bahrain                              1974 .bh   ISO 3166-2:BH\n",
       "24  BI   Burundi                              1974 .bi   ISO 3166-2:BI\n",
       "25  BJ   Benin                                1977 .bj   ISO 3166-2:BJ\n",
       "26  BL   Saint BarthÃ©lemy                    2007 .bl   ISO 3166-2:BL\n",
       "27  BM   Bermuda                              1974 .bm   ISO 3166-2:BM\n",
       "28  BN   Brunei Darussalam                    1974 .bn   ISO 3166-2:BN\n",
       "29  BO   Bolivia, Plurinational State of      1974 .bo   ISO 3166-2:BO\n",
       "30  BQ   Bonaire, Sint Eustatius and Saba     2010 .bq   ISO 3166-2:BQ\n",
       "⋮   ⋮    ⋮                                    ⋮    ⋮     ⋮            \n",
       "220 TK   Tokelau                              1974 .tk   ISO 3166-2:TK\n",
       "221 TL   Timor-Leste                          2002 .tl   ISO 3166-2:TL\n",
       "222 TM   Turkmenistan                         1992 .tm   ISO 3166-2:TM\n",
       "223 TN   Tunisia                              1974 .tn   ISO 3166-2:TN\n",
       "224 TO   Tonga                                1974 .to   ISO 3166-2:TO\n",
       "225 TR   Turkey                               1974 .tr   ISO 3166-2:TR\n",
       "226 TT   Trinidad and Tobago                  1974 .tt   ISO 3166-2:TT\n",
       "227 TV   Tuvalu                               1979 .tv   ISO 3166-2:TV\n",
       "228 TW   Taiwan, Province of China            1974 .tw   ISO 3166-2:TW\n",
       "229 TZ   Tanzania, United Republic of         1974 .tz   ISO 3166-2:TZ\n",
       "230 UA   Ukraine                              1974 .ua   ISO 3166-2:UA\n",
       "231 UG   Uganda                               1974 .ug   ISO 3166-2:UG\n",
       "232 UM   United States Minor Outlying Islands 1986 .um   ISO 3166-2:UM\n",
       "233 US   United States                        1974 .us   ISO 3166-2:US\n",
       "234 UY   Uruguay                              1974 .uy   ISO 3166-2:UY\n",
       "235 UZ   Uzbekistan                           1992 .uz   ISO 3166-2:UZ\n",
       "236 VA   Holy See (Vatican City State)        1974 .va   ISO 3166-2:VA\n",
       "237 VC   Saint Vincent and the Grenadines     1974 .vc   ISO 3166-2:VC\n",
       "238 VE   Venezuela, Bolivarian Republic of    1974 .ve   ISO 3166-2:VE\n",
       "239 VG   Virgin Islands, British              1974 .vg   ISO 3166-2:VG\n",
       "240 VI   Virgin Islands, U.S.                 1974 .vi   ISO 3166-2:VI\n",
       "241 VN   Viet Nam                             1974 .vn   ISO 3166-2:VN\n",
       "242 VU   Vanuatu                              1980 .vu   ISO 3166-2:VU\n",
       "243 WF   Wallis and Futuna                    1974 .wf   ISO 3166-2:WF\n",
       "244 WS   Samoa                                1974 .ws   ISO 3166-2:WS\n",
       "245 YE   Yemen                                1974 .ye   ISO 3166-2:YE\n",
       "246 YT   Mayotte                              1993 .yt   ISO 3166-2:YT\n",
       "247 ZA   South Africa                         1974 .za   ISO 3166-2:ZA\n",
       "248 ZM   Zambia                               1974 .zm   ISO 3166-2:ZM\n",
       "249 ZW   Zimbabwe                             1980 .zw   ISO 3166-2:ZW\n",
       "    Notes                                                                                                                                                                                                                                                                   \n",
       "1                                                                                                                                                                                                                                                                           \n",
       "2                                                                                                                                                                                                                                                                           \n",
       "3                                                                                                                                                                                                                                                                           \n",
       "4                                                                                                                                                                                                                                                                           \n",
       "5   AI previously represented French Afar and Issas                                                                                                                                                                                                                         \n",
       "6                                                                                                                                                                                                                                                                           \n",
       "7                                                                                                                                                                                                                                                                           \n",
       "8                                                                                                                                                                                                                                                                           \n",
       "9   Covers the territories south of 60Â° south latitude\\nCode taken from name in French: Antarctique                                                                                                                                                                        \n",
       "10                                                                                                                                                                                                                                                                          \n",
       "11                                                                                                                                                                                                                                                                          \n",
       "12                                                                                                                                                                                                                                                                          \n",
       "13  Includes the Ashmore and Cartier Islands and the Coral Sea Islands                                                                                                                                                                                                      \n",
       "14                                                                                                                                                                                                                                                                          \n",
       "15  An autonomous province of Finland                                                                                                                                                                                                                                       \n",
       "16                                                                                                                                                                                                                                                                          \n",
       "17                                                                                                                                                                                                                                                                          \n",
       "18                                                                                                                                                                                                                                                                          \n",
       "19                                                                                                                                                                                                                                                                          \n",
       "20                                                                                                                                                                                                                                                                          \n",
       "21  Name changed from Upper Volta (HV)                                                                                                                                                                                                                                      \n",
       "22                                                                                                                                                                                                                                                                          \n",
       "23                                                                                                                                                                                                                                                                          \n",
       "24                                                                                                                                                                                                                                                                          \n",
       "25  Name changed from Dahomey (DY)                                                                                                                                                                                                                                          \n",
       "26                                                                                                                                                                                                                                                                          \n",
       "27                                                                                                                                                                                                                                                                          \n",
       "28  ISO country name follows UN designation (common name: Brunei)                                                                                                                                                                                                           \n",
       "29  ISO country name follows UN designation (common name and previous ISO country name: Bolivia)                                                                                                                                                                            \n",
       "30  Consists of three Caribbean \\\\special municipalities\\\\, which are part of the Netherlands proper: Bonaire, Sint Eustatius, and Saba (the BES Islands)\\nPrevious ISO country name: Bonaire, Saint Eustatius and SabaBQ previously represented British Antarctic Territory\n",
       "⋮   ⋮                                                                                                                                                                                                                                                                       \n",
       "220                                                                                                                                                                                                                                                                         \n",
       "221 Name changed from East Timor (TP)                                                                                                                                                                                                                                       \n",
       "222                                                                                                                                                                                                                                                                         \n",
       "223                                                                                                                                                                                                                                                                         \n",
       "224                                                                                                                                                                                                                                                                         \n",
       "225                                                                                                                                                                                                                                                                         \n",
       "226                                                                                                                                                                                                                                                                         \n",
       "227                                                                                                                                                                                                                                                                         \n",
       "228 Covers the current jurisdiction of the Republic of China except Kinmen and Lienchiang\\nISO country name follows UN designation (due to political status of Taiwan within the UN)[18]                                                                                    \n",
       "229 ISO country name follows UN designation (common name: Tanzania)                                                                                                                                                                                                         \n",
       "230 Previous ISO country name: Ukrainian SSR\\nCode assigned as the country was already a UN member since 1945[17]                                                                                                                                                           \n",
       "231                                                                                                                                                                                                                                                                         \n",
       "232 Consists of nine minor insular areas of the United States: Baker Island, Howland Island, Jarvis Island, Johnston Atoll, Kingman Reef, Midway Islands, Navassa Island, Palmyra Atoll, and Wake Island                                                                    \n",
       "233                                                                                                                                                                                                                                                                         \n",
       "234                                                                                                                                                                                                                                                                         \n",
       "235                                                                                                                                                                                                                                                                         \n",
       "236 Covers Vatican City, territory of the Holy See\\nPrevious ISO country name: Vatican City State (Holy See)                                                                                                                                                                \n",
       "237                                                                                                                                                                                                                                                                         \n",
       "238 ISO country name follows UN designation (common name and previous ISO country name: Venezuela)                                                                                                                                                                          \n",
       "239                                                                                                                                                                                                                                                                         \n",
       "240                                                                                                                                                                                                                                                                         \n",
       "241 ISO country name follows UN designation (common name: Vietnam)                                                                                                                                                                                                          \n",
       "242 Name changed from New Hebrides (NH)                                                                                                                                                                                                                                     \n",
       "243                                                                                                                                                                                                                                                                         \n",
       "244 Code taken from former name: Western Samoa                                                                                                                                                                                                                              \n",
       "245 Previous ISO country name: Yemen, Republic of\\nCode used for North Yemen before 1990                                                                                                                                                                                    \n",
       "246                                                                                                                                                                                                                                                                         \n",
       "247 Code taken from name in Dutch: Zuid-Afrika                                                                                                                                                                                                                              \n",
       "248                                                                                                                                                                                                                                                                         \n",
       "249 Name changed from Southern Rhodesia (RH)                                                                                                                                                                                                                                "
      ]
     },
     "metadata": {},
     "output_type": "display_data"
    }
   ],
   "source": [
    "View(codes)"
   ]
  },
  {
   "cell_type": "code",
   "execution_count": 10,
   "metadata": {},
   "outputs": [],
   "source": [
    "countryMerged <- merge(x=codes, y=countries, by.x=\"Country.name\", by.y=\"Country\")\n",
    "# 기본적으로 merge라는 기능이 있다. \n",
    "# x는 왼쪽, y는 오른쪽"
   ]
  },
  {
   "cell_type": "code",
   "execution_count": 11,
   "metadata": {},
   "outputs": [
    {
     "data": {
      "text/html": [
       "<table class=\"dataframe\">\n",
       "<caption>A data.frame: 190 × 7</caption>\n",
       "<thead>\n",
       "\t<tr><th scope=col>Country.name</th><th scope=col>Code</th><th scope=col>Year</th><th scope=col>ccTLD</th><th scope=col>ISO.3166.2</th><th scope=col>Notes</th><th scope=col>GovernmentType</th></tr>\n",
       "\t<tr><th scope=col>&lt;chr&gt;</th><th scope=col>&lt;chr&gt;</th><th scope=col>&lt;int&gt;</th><th scope=col>&lt;chr&gt;</th><th scope=col>&lt;chr&gt;</th><th scope=col>&lt;chr&gt;</th><th scope=col>&lt;chr&gt;</th></tr>\n",
       "</thead>\n",
       "<tbody>\n",
       "\t<tr><td>Afghanistan           </td><td>AF</td><td>1974</td><td>.af</td><td>ISO 3166-2:AF</td><td>                                                                                                                                                                    </td><td>Islamic republic                                                                          </td></tr>\n",
       "\t<tr><td>Albania               </td><td>AL</td><td>1974</td><td>.al</td><td>ISO 3166-2:AL</td><td>                                                                                                                                                                    </td><td>parliamentary democracy                                                                   </td></tr>\n",
       "\t<tr><td>Algeria               </td><td>DZ</td><td>1974</td><td>.dz</td><td>ISO 3166-2:DZ</td><td>Code taken from name in Kabyle: Dzayer                                                                                                                              </td><td>republic                                                                                  </td></tr>\n",
       "\t<tr><td>Andorra               </td><td>AD</td><td>1974</td><td>.ad</td><td>ISO 3166-2:AD</td><td>                                                                                                                                                                    </td><td>parliamentary democracy                                                                   </td></tr>\n",
       "\t<tr><td>Angola                </td><td>AO</td><td>1974</td><td>.ao</td><td>ISO 3166-2:AO</td><td>                                                                                                                                                                    </td><td>republic; multiparty presidential regime                                                  </td></tr>\n",
       "\t<tr><td>Antigua and Barbuda   </td><td>AG</td><td>1974</td><td>.ag</td><td>ISO 3166-2:AG</td><td>                                                                                                                                                                    </td><td>constitutional monarchy with a parliamentary system of government and a Commonwealth realm</td></tr>\n",
       "\t<tr><td>Argentina             </td><td>AR</td><td>1974</td><td>.ar</td><td>ISO 3166-2:AR</td><td>                                                                                                                                                                    </td><td>republic                                                                                  </td></tr>\n",
       "\t<tr><td>Armenia               </td><td>AM</td><td>1992</td><td>.am</td><td>ISO 3166-2:AM</td><td>                                                                                                                                                                    </td><td>republic                                                                                  </td></tr>\n",
       "\t<tr><td>Aruba                 </td><td>AW</td><td>1986</td><td>.aw</td><td>ISO 3166-2:AW</td><td>                                                                                                                                                                    </td><td>parliamentary democracy                                                                   </td></tr>\n",
       "\t<tr><td>Australia             </td><td>AU</td><td>1974</td><td>.au</td><td>ISO 3166-2:AU</td><td>Includes the Ashmore and Cartier Islands and the Coral Sea Islands                                                                                                  </td><td>federal parliamentary democracy and a Commonwealth realm                                  </td></tr>\n",
       "\t<tr><td>Austria               </td><td>AT</td><td>1974</td><td>.at</td><td>ISO 3166-2:AT</td><td>                                                                                                                                                                    </td><td>federal republic                                                                          </td></tr>\n",
       "\t<tr><td>Azerbaijan            </td><td>AZ</td><td>1992</td><td>.az</td><td>ISO 3166-2:AZ</td><td>                                                                                                                                                                    </td><td>republic                                                                                  </td></tr>\n",
       "\t<tr><td>Bahrain               </td><td>BH</td><td>1974</td><td>.bh</td><td>ISO 3166-2:BH</td><td>                                                                                                                                                                    </td><td>constitutional monarchy                                                                   </td></tr>\n",
       "\t<tr><td>Bangladesh            </td><td>BD</td><td>1974</td><td>.bd</td><td>ISO 3166-2:BD</td><td>                                                                                                                                                                    </td><td>parliamentary democracy                                                                   </td></tr>\n",
       "\t<tr><td>Barbados              </td><td>BB</td><td>1974</td><td>.bb</td><td>ISO 3166-2:BB</td><td>                                                                                                                                                                    </td><td>parliamentary democracy and a Commonwealth realm                                          </td></tr>\n",
       "\t<tr><td>Belarus               </td><td>BY</td><td>1974</td><td>.by</td><td>ISO 3166-2:BY</td><td>Code taken from previous ISO country name: Byelorussian SSR (now assigned ISO 3166-3 code BYAA)\n",
       "Code assigned as the country was already a UN member since 1945[17]</td><td>republic in name, although in fact a dictatorship                                         </td></tr>\n",
       "\t<tr><td>Belgium               </td><td>BE</td><td>1974</td><td>.be</td><td>ISO 3166-2:BE</td><td>                                                                                                                                                                    </td><td>federal parliamentary democracy under a constitutional monarchy                           </td></tr>\n",
       "\t<tr><td>Belize                </td><td>BZ</td><td>1974</td><td>.bz</td><td>ISO 3166-2:BZ</td><td>                                                                                                                                                                    </td><td>parliamentary democracy and a Commonwealth realm                                          </td></tr>\n",
       "\t<tr><td>Benin                 </td><td>BJ</td><td>1977</td><td>.bj</td><td>ISO 3166-2:BJ</td><td>Name changed from Dahomey (DY)                                                                                                                                      </td><td>republic                                                                                  </td></tr>\n",
       "\t<tr><td>Bermuda               </td><td>BM</td><td>1974</td><td>.bm</td><td>ISO 3166-2:BM</td><td>                                                                                                                                                                    </td><td>parliamentary; self-governing territory                                                   </td></tr>\n",
       "\t<tr><td>Bhutan                </td><td>BT</td><td>1974</td><td>.bt</td><td>ISO 3166-2:BT</td><td>                                                                                                                                                                    </td><td>constitutional monarchy                                                                   </td></tr>\n",
       "\t<tr><td>Bosnia and Herzegovina</td><td>BA</td><td>1992</td><td>.ba</td><td>ISO 3166-2:BA</td><td>                                                                                                                                                                    </td><td>emerging federal democratic republic                                                      </td></tr>\n",
       "\t<tr><td>Botswana              </td><td>BW</td><td>1974</td><td>.bw</td><td>ISO 3166-2:BW</td><td>                                                                                                                                                                    </td><td>parliamentary republic                                                                    </td></tr>\n",
       "\t<tr><td>Brazil                </td><td>BR</td><td>1974</td><td>.br</td><td>ISO 3166-2:BR</td><td>                                                                                                                                                                    </td><td>federal republic                                                                          </td></tr>\n",
       "\t<tr><td>Bulgaria              </td><td>BG</td><td>1974</td><td>.bg</td><td>ISO 3166-2:BG</td><td>                                                                                                                                                                    </td><td>parliamentary democracy                                                                   </td></tr>\n",
       "\t<tr><td>Burkina Faso          </td><td>BF</td><td>1984</td><td>.bf</td><td>ISO 3166-2:BF</td><td>Name changed from Upper Volta (HV)                                                                                                                                  </td><td>parliamentary republic                                                                    </td></tr>\n",
       "\t<tr><td>Burundi               </td><td>BI</td><td>1974</td><td>.bi</td><td>ISO 3166-2:BI</td><td>                                                                                                                                                                    </td><td>republic                                                                                  </td></tr>\n",
       "\t<tr><td>Cambodia              </td><td>KH</td><td>1974</td><td>.kh</td><td>ISO 3166-2:KH</td><td>Code taken from former name: Khmer Republic\n",
       "Previous ISO country name: Kampuchea                                                                                   </td><td>multiparty democracy under a constitutional monarchy                                      </td></tr>\n",
       "\t<tr><td>Cameroon              </td><td>CM</td><td>1974</td><td>.cm</td><td>ISO 3166-2:CM</td><td>                                                                                                                                                                    </td><td>republic; multiparty presidential regime                                                  </td></tr>\n",
       "\t<tr><td>Canada                </td><td>CA</td><td>1974</td><td>.ca</td><td>ISO 3166-2:CA</td><td>                                                                                                                                                                    </td><td>a parliamentary democracy, a federation, and a constitutional monarchy                    </td></tr>\n",
       "\t<tr><td>⋮</td><td>⋮</td><td>⋮</td><td>⋮</td><td>⋮</td><td>⋮</td><td>⋮</td></tr>\n",
       "\t<tr><td>South Sudan         </td><td>SS</td><td>2011</td><td>.ss       </td><td>ISO 3166-2:SS</td><td>                                                                                                                                                                                                                        </td><td>republic                                                                                                                                                                                </td></tr>\n",
       "\t<tr><td>Spain               </td><td>ES</td><td>1974</td><td>.es       </td><td>ISO 3166-2:ES</td><td>Code taken from name in Spanish: EspaÃ±a                                                                                                                                                                                </td><td>parliamentary monarchy                                                                                                                                                                  </td></tr>\n",
       "\t<tr><td>Sri Lanka           </td><td>LK</td><td>1974</td><td>.lk       </td><td>ISO 3166-2:LK</td><td>                                                                                                                                                                                                                        </td><td>republic                                                                                                                                                                                </td></tr>\n",
       "\t<tr><td>Sudan               </td><td>SD</td><td>1974</td><td>.sd       </td><td>ISO 3166-2:SD</td><td>                                                                                                                                                                                                                        </td><td>Federal republic                                                                                                                                                                        </td></tr>\n",
       "\t<tr><td>Suriname            </td><td>SR</td><td>1974</td><td>.sr       </td><td>ISO 3166-2:SR</td><td>                                                                                                                                                                                                                        </td><td>constitutional democracy                                                                                                                                                                </td></tr>\n",
       "\t<tr><td>Swaziland           </td><td>SZ</td><td>1974</td><td>.sz       </td><td>ISO 3166-2:SZ</td><td>                                                                                                                                                                                                                        </td><td>monarchy                                                                                                                                                                                </td></tr>\n",
       "\t<tr><td>Sweden              </td><td>SE</td><td>1974</td><td>.se       </td><td>ISO 3166-2:SE</td><td>                                                                                                                                                                                                                        </td><td>constitutional monarchy                                                                                                                                                                 </td></tr>\n",
       "\t<tr><td>Switzerland         </td><td>CH</td><td>1974</td><td>.ch       </td><td>ISO 3166-2:CH</td><td>Code taken from name in Latin: Confoederatio Helvetica                                                                                                                                                                  </td><td>formally a confederation but similar in structure to a federal republic                                                                                                                 </td></tr>\n",
       "\t<tr><td>Tajikistan          </td><td>TJ</td><td>1992</td><td>.tj       </td><td>ISO 3166-2:TJ</td><td>                                                                                                                                                                                                                        </td><td>republic                                                                                                                                                                                </td></tr>\n",
       "\t<tr><td>Thailand            </td><td>TH</td><td>1974</td><td>.th       </td><td>ISO 3166-2:TH</td><td>                                                                                                                                                                                                                        </td><td>constitutional monarchy                                                                                                                                                                 </td></tr>\n",
       "\t<tr><td>Timor-Leste         </td><td>TL</td><td>2002</td><td>.tl       </td><td>ISO 3166-2:TL</td><td>Name changed from East Timor (TP)                                                                                                                                                                                       </td><td>republic                                                                                                                                                                                </td></tr>\n",
       "\t<tr><td>Togo                </td><td>TG</td><td>1974</td><td>.tg       </td><td>ISO 3166-2:TG</td><td>                                                                                                                                                                                                                        </td><td>republic under transition to multiparty democratic rule                                                                                                                                 </td></tr>\n",
       "\t<tr><td>Tonga               </td><td>TO</td><td>1974</td><td>.to       </td><td>ISO 3166-2:TO</td><td>                                                                                                                                                                                                                        </td><td>constitutional monarchy                                                                                                                                                                 </td></tr>\n",
       "\t<tr><td>Trinidad and Tobago </td><td>TT</td><td>1974</td><td>.tt       </td><td>ISO 3166-2:TT</td><td>                                                                                                                                                                                                                        </td><td>parliamentary democracy                                                                                                                                                                 </td></tr>\n",
       "\t<tr><td>Tunisia             </td><td>TN</td><td>1974</td><td>.tn       </td><td>ISO 3166-2:TN</td><td>                                                                                                                                                                                                                        </td><td>republic                                                                                                                                                                                </td></tr>\n",
       "\t<tr><td>Turkey              </td><td>TR</td><td>1974</td><td>.tr       </td><td>ISO 3166-2:TR</td><td>                                                                                                                                                                                                                        </td><td>republican parliamentary democracy                                                                                                                                                      </td></tr>\n",
       "\t<tr><td>Turkmenistan        </td><td>TM</td><td>1992</td><td>.tm       </td><td>ISO 3166-2:TM</td><td>                                                                                                                                                                                                                        </td><td>defines itself as a secular democracy and a presidential republic; in actuality displays authoritarian presidential rule, with power concentrated within the presidential administration</td></tr>\n",
       "\t<tr><td>Tuvalu              </td><td>TV</td><td>1979</td><td>.tv       </td><td>ISO 3166-2:TV</td><td>                                                                                                                                                                                                                        </td><td>parliamentary democracy and a Commonwealth realm                                                                                                                                        </td></tr>\n",
       "\t<tr><td>Uganda              </td><td>UG</td><td>1974</td><td>.ug       </td><td>ISO 3166-2:UG</td><td>                                                                                                                                                                                                                        </td><td>republic                                                                                                                                                                                </td></tr>\n",
       "\t<tr><td>Ukraine             </td><td>UA</td><td>1974</td><td>.ua       </td><td>ISO 3166-2:UA</td><td>Previous ISO country name: Ukrainian SSR\n",
       "Code assigned as the country was already a UN member since 1945[17]                                                                                                           </td><td>republic                                                                                                                                                                                </td></tr>\n",
       "\t<tr><td>United Arab Emirates</td><td>AE</td><td>1974</td><td>.ae       </td><td>ISO 3166-2:AE</td><td>                                                                                                                                                                                                                        </td><td>federation with specified powers delegated to the UAE federal government and other powers reserved to member emirates                                                                   </td></tr>\n",
       "\t<tr><td>United Kingdom      </td><td>GB</td><td>1974</td><td>.gb\n",
       "(.uk)</td><td>ISO 3166-2:GB</td><td>Code taken from Great Britain (from official name: United Kingdom of Great Britain and Northern Ireland)[18].uk is the primary ccTLD of the United Kingdom instead of .gb (see code UK, which is exceptionally reserved)</td><td>constitutional monarchy and Commonwealth realm                                                                                                                                          </td></tr>\n",
       "\t<tr><td>United States       </td><td>US</td><td>1974</td><td>.us       </td><td>ISO 3166-2:US</td><td>                                                                                                                                                                                                                        </td><td>Constitution-based federal republic; strong democratic tradition                                                                                                                        </td></tr>\n",
       "\t<tr><td>Uruguay             </td><td>UY</td><td>1974</td><td>.uy       </td><td>ISO 3166-2:UY</td><td>                                                                                                                                                                                                                        </td><td>constitutional republic                                                                                                                                                                 </td></tr>\n",
       "\t<tr><td>Uzbekistan          </td><td>UZ</td><td>1992</td><td>.uz       </td><td>ISO 3166-2:UZ</td><td>                                                                                                                                                                                                                        </td><td>republic; authoritarian presidential rule, with little power outside the executive branch                                                                                               </td></tr>\n",
       "\t<tr><td>Vanuatu             </td><td>VU</td><td>1980</td><td>.vu       </td><td>ISO 3166-2:VU</td><td>Name changed from New Hebrides (NH)                                                                                                                                                                                     </td><td>parliamentary republic                                                                                                                                                                  </td></tr>\n",
       "\t<tr><td>Wallis and Futuna   </td><td>WF</td><td>1974</td><td>.wf       </td><td>ISO 3166-2:WF</td><td>                                                                                                                                                                                                                        </td><td>parliamentary representive democratic French overseas collectivity                                                                                                                      </td></tr>\n",
       "\t<tr><td>Yemen               </td><td>YE</td><td>1974</td><td>.ye       </td><td>ISO 3166-2:YE</td><td>Previous ISO country name: Yemen, Republic of\n",
       "Code used for North Yemen before 1990                                                                                                                                    </td><td>republic                                                                                                                                                                                </td></tr>\n",
       "\t<tr><td>Zambia              </td><td>ZM</td><td>1974</td><td>.zm       </td><td>ISO 3166-2:ZM</td><td>                                                                                                                                                                                                                        </td><td>republic                                                                                                                                                                                </td></tr>\n",
       "\t<tr><td>Zimbabwe            </td><td>ZW</td><td>1980</td><td>.zw       </td><td>ISO 3166-2:ZW</td><td>Name changed from Southern Rhodesia (RH)                                                                                                                                                                                </td><td>parliamentary democracy                                                                                                                                                                 </td></tr>\n",
       "</tbody>\n",
       "</table>\n"
      ],
      "text/latex": [
       "A data.frame: 190 × 7\n",
       "\\begin{tabular}{lllllll}\n",
       " Country.name & Code & Year & ccTLD & ISO.3166.2 & Notes & GovernmentType\\\\\n",
       " <chr> & <chr> & <int> & <chr> & <chr> & <chr> & <chr>\\\\\n",
       "\\hline\n",
       "\t Afghanistan            & AF & 1974 & .af & ISO 3166-2:AF &                                                                                                                                                                      & Islamic republic                                                                          \\\\\n",
       "\t Albania                & AL & 1974 & .al & ISO 3166-2:AL &                                                                                                                                                                      & parliamentary democracy                                                                   \\\\\n",
       "\t Algeria                & DZ & 1974 & .dz & ISO 3166-2:DZ & Code taken from name in Kabyle: Dzayer                                                                                                                               & republic                                                                                  \\\\\n",
       "\t Andorra                & AD & 1974 & .ad & ISO 3166-2:AD &                                                                                                                                                                      & parliamentary democracy                                                                   \\\\\n",
       "\t Angola                 & AO & 1974 & .ao & ISO 3166-2:AO &                                                                                                                                                                      & republic; multiparty presidential regime                                                  \\\\\n",
       "\t Antigua and Barbuda    & AG & 1974 & .ag & ISO 3166-2:AG &                                                                                                                                                                      & constitutional monarchy with a parliamentary system of government and a Commonwealth realm\\\\\n",
       "\t Argentina              & AR & 1974 & .ar & ISO 3166-2:AR &                                                                                                                                                                      & republic                                                                                  \\\\\n",
       "\t Armenia                & AM & 1992 & .am & ISO 3166-2:AM &                                                                                                                                                                      & republic                                                                                  \\\\\n",
       "\t Aruba                  & AW & 1986 & .aw & ISO 3166-2:AW &                                                                                                                                                                      & parliamentary democracy                                                                   \\\\\n",
       "\t Australia              & AU & 1974 & .au & ISO 3166-2:AU & Includes the Ashmore and Cartier Islands and the Coral Sea Islands                                                                                                   & federal parliamentary democracy and a Commonwealth realm                                  \\\\\n",
       "\t Austria                & AT & 1974 & .at & ISO 3166-2:AT &                                                                                                                                                                      & federal republic                                                                          \\\\\n",
       "\t Azerbaijan             & AZ & 1992 & .az & ISO 3166-2:AZ &                                                                                                                                                                      & republic                                                                                  \\\\\n",
       "\t Bahrain                & BH & 1974 & .bh & ISO 3166-2:BH &                                                                                                                                                                      & constitutional monarchy                                                                   \\\\\n",
       "\t Bangladesh             & BD & 1974 & .bd & ISO 3166-2:BD &                                                                                                                                                                      & parliamentary democracy                                                                   \\\\\n",
       "\t Barbados               & BB & 1974 & .bb & ISO 3166-2:BB &                                                                                                                                                                      & parliamentary democracy and a Commonwealth realm                                          \\\\\n",
       "\t Belarus                & BY & 1974 & .by & ISO 3166-2:BY & Code taken from previous ISO country name: Byelorussian SSR (now assigned ISO 3166-3 code BYAA)\n",
       "Code assigned as the country was already a UN member since 1945{[}17{]} & republic in name, although in fact a dictatorship                                         \\\\\n",
       "\t Belgium                & BE & 1974 & .be & ISO 3166-2:BE &                                                                                                                                                                      & federal parliamentary democracy under a constitutional monarchy                           \\\\\n",
       "\t Belize                 & BZ & 1974 & .bz & ISO 3166-2:BZ &                                                                                                                                                                      & parliamentary democracy and a Commonwealth realm                                          \\\\\n",
       "\t Benin                  & BJ & 1977 & .bj & ISO 3166-2:BJ & Name changed from Dahomey (DY)                                                                                                                                       & republic                                                                                  \\\\\n",
       "\t Bermuda                & BM & 1974 & .bm & ISO 3166-2:BM &                                                                                                                                                                      & parliamentary; self-governing territory                                                   \\\\\n",
       "\t Bhutan                 & BT & 1974 & .bt & ISO 3166-2:BT &                                                                                                                                                                      & constitutional monarchy                                                                   \\\\\n",
       "\t Bosnia and Herzegovina & BA & 1992 & .ba & ISO 3166-2:BA &                                                                                                                                                                      & emerging federal democratic republic                                                      \\\\\n",
       "\t Botswana               & BW & 1974 & .bw & ISO 3166-2:BW &                                                                                                                                                                      & parliamentary republic                                                                    \\\\\n",
       "\t Brazil                 & BR & 1974 & .br & ISO 3166-2:BR &                                                                                                                                                                      & federal republic                                                                          \\\\\n",
       "\t Bulgaria               & BG & 1974 & .bg & ISO 3166-2:BG &                                                                                                                                                                      & parliamentary democracy                                                                   \\\\\n",
       "\t Burkina Faso           & BF & 1984 & .bf & ISO 3166-2:BF & Name changed from Upper Volta (HV)                                                                                                                                   & parliamentary republic                                                                    \\\\\n",
       "\t Burundi                & BI & 1974 & .bi & ISO 3166-2:BI &                                                                                                                                                                      & republic                                                                                  \\\\\n",
       "\t Cambodia               & KH & 1974 & .kh & ISO 3166-2:KH & Code taken from former name: Khmer Republic\n",
       "Previous ISO country name: Kampuchea                                                                                    & multiparty democracy under a constitutional monarchy                                      \\\\\n",
       "\t Cameroon               & CM & 1974 & .cm & ISO 3166-2:CM &                                                                                                                                                                      & republic; multiparty presidential regime                                                  \\\\\n",
       "\t Canada                 & CA & 1974 & .ca & ISO 3166-2:CA &                                                                                                                                                                      & a parliamentary democracy, a federation, and a constitutional monarchy                    \\\\\n",
       "\t ⋮ & ⋮ & ⋮ & ⋮ & ⋮ & ⋮ & ⋮\\\\\n",
       "\t South Sudan          & SS & 2011 & .ss        & ISO 3166-2:SS &                                                                                                                                                                                                                          & republic                                                                                                                                                                                \\\\\n",
       "\t Spain                & ES & 1974 & .es        & ISO 3166-2:ES & Code taken from name in Spanish: EspaÃ±a                                                                                                                                                                                 & parliamentary monarchy                                                                                                                                                                  \\\\\n",
       "\t Sri Lanka            & LK & 1974 & .lk        & ISO 3166-2:LK &                                                                                                                                                                                                                          & republic                                                                                                                                                                                \\\\\n",
       "\t Sudan                & SD & 1974 & .sd        & ISO 3166-2:SD &                                                                                                                                                                                                                          & Federal republic                                                                                                                                                                        \\\\\n",
       "\t Suriname             & SR & 1974 & .sr        & ISO 3166-2:SR &                                                                                                                                                                                                                          & constitutional democracy                                                                                                                                                                \\\\\n",
       "\t Swaziland            & SZ & 1974 & .sz        & ISO 3166-2:SZ &                                                                                                                                                                                                                          & monarchy                                                                                                                                                                                \\\\\n",
       "\t Sweden               & SE & 1974 & .se        & ISO 3166-2:SE &                                                                                                                                                                                                                          & constitutional monarchy                                                                                                                                                                 \\\\\n",
       "\t Switzerland          & CH & 1974 & .ch        & ISO 3166-2:CH & Code taken from name in Latin: Confoederatio Helvetica                                                                                                                                                                   & formally a confederation but similar in structure to a federal republic                                                                                                                 \\\\\n",
       "\t Tajikistan           & TJ & 1992 & .tj        & ISO 3166-2:TJ &                                                                                                                                                                                                                          & republic                                                                                                                                                                                \\\\\n",
       "\t Thailand             & TH & 1974 & .th        & ISO 3166-2:TH &                                                                                                                                                                                                                          & constitutional monarchy                                                                                                                                                                 \\\\\n",
       "\t Timor-Leste          & TL & 2002 & .tl        & ISO 3166-2:TL & Name changed from East Timor (TP)                                                                                                                                                                                        & republic                                                                                                                                                                                \\\\\n",
       "\t Togo                 & TG & 1974 & .tg        & ISO 3166-2:TG &                                                                                                                                                                                                                          & republic under transition to multiparty democratic rule                                                                                                                                 \\\\\n",
       "\t Tonga                & TO & 1974 & .to        & ISO 3166-2:TO &                                                                                                                                                                                                                          & constitutional monarchy                                                                                                                                                                 \\\\\n",
       "\t Trinidad and Tobago  & TT & 1974 & .tt        & ISO 3166-2:TT &                                                                                                                                                                                                                          & parliamentary democracy                                                                                                                                                                 \\\\\n",
       "\t Tunisia              & TN & 1974 & .tn        & ISO 3166-2:TN &                                                                                                                                                                                                                          & republic                                                                                                                                                                                \\\\\n",
       "\t Turkey               & TR & 1974 & .tr        & ISO 3166-2:TR &                                                                                                                                                                                                                          & republican parliamentary democracy                                                                                                                                                      \\\\\n",
       "\t Turkmenistan         & TM & 1992 & .tm        & ISO 3166-2:TM &                                                                                                                                                                                                                          & defines itself as a secular democracy and a presidential republic; in actuality displays authoritarian presidential rule, with power concentrated within the presidential administration\\\\\n",
       "\t Tuvalu               & TV & 1979 & .tv        & ISO 3166-2:TV &                                                                                                                                                                                                                          & parliamentary democracy and a Commonwealth realm                                                                                                                                        \\\\\n",
       "\t Uganda               & UG & 1974 & .ug        & ISO 3166-2:UG &                                                                                                                                                                                                                          & republic                                                                                                                                                                                \\\\\n",
       "\t Ukraine              & UA & 1974 & .ua        & ISO 3166-2:UA & Previous ISO country name: Ukrainian SSR\n",
       "Code assigned as the country was already a UN member since 1945{[}17{]}                                                                                                            & republic                                                                                                                                                                                \\\\\n",
       "\t United Arab Emirates & AE & 1974 & .ae        & ISO 3166-2:AE &                                                                                                                                                                                                                          & federation with specified powers delegated to the UAE federal government and other powers reserved to member emirates                                                                   \\\\\n",
       "\t United Kingdom       & GB & 1974 & .gb\n",
       "(.uk) & ISO 3166-2:GB & Code taken from Great Britain (from official name: United Kingdom of Great Britain and Northern Ireland){[}18{]}.uk is the primary ccTLD of the United Kingdom instead of .gb (see code UK, which is exceptionally reserved) & constitutional monarchy and Commonwealth realm                                                                                                                                          \\\\\n",
       "\t United States        & US & 1974 & .us        & ISO 3166-2:US &                                                                                                                                                                                                                          & Constitution-based federal republic; strong democratic tradition                                                                                                                        \\\\\n",
       "\t Uruguay              & UY & 1974 & .uy        & ISO 3166-2:UY &                                                                                                                                                                                                                          & constitutional republic                                                                                                                                                                 \\\\\n",
       "\t Uzbekistan           & UZ & 1992 & .uz        & ISO 3166-2:UZ &                                                                                                                                                                                                                          & republic; authoritarian presidential rule, with little power outside the executive branch                                                                                               \\\\\n",
       "\t Vanuatu              & VU & 1980 & .vu        & ISO 3166-2:VU & Name changed from New Hebrides (NH)                                                                                                                                                                                      & parliamentary republic                                                                                                                                                                  \\\\\n",
       "\t Wallis and Futuna    & WF & 1974 & .wf        & ISO 3166-2:WF &                                                                                                                                                                                                                          & parliamentary representive democratic French overseas collectivity                                                                                                                      \\\\\n",
       "\t Yemen                & YE & 1974 & .ye        & ISO 3166-2:YE & Previous ISO country name: Yemen, Republic of\n",
       "Code used for North Yemen before 1990                                                                                                                                     & republic                                                                                                                                                                                \\\\\n",
       "\t Zambia               & ZM & 1974 & .zm        & ISO 3166-2:ZM &                                                                                                                                                                                                                          & republic                                                                                                                                                                                \\\\\n",
       "\t Zimbabwe             & ZW & 1980 & .zw        & ISO 3166-2:ZW & Name changed from Southern Rhodesia (RH)                                                                                                                                                                                 & parliamentary democracy                                                                                                                                                                 \\\\\n",
       "\\end{tabular}\n"
      ],
      "text/markdown": [
       "\n",
       "A data.frame: 190 × 7\n",
       "\n",
       "| Country.name &lt;chr&gt; | Code &lt;chr&gt; | Year &lt;int&gt; | ccTLD &lt;chr&gt; | ISO.3166.2 &lt;chr&gt; | Notes &lt;chr&gt; | GovernmentType &lt;chr&gt; |\n",
       "|---|---|---|---|---|---|---|\n",
       "| Afghanistan            | AF | 1974 | .af | ISO 3166-2:AF | <!----> | Islamic republic                                                                           |\n",
       "| Albania                | AL | 1974 | .al | ISO 3166-2:AL | <!----> | parliamentary democracy                                                                    |\n",
       "| Algeria                | DZ | 1974 | .dz | ISO 3166-2:DZ | Code taken from name in Kabyle: Dzayer                                                                                                                               | republic                                                                                   |\n",
       "| Andorra                | AD | 1974 | .ad | ISO 3166-2:AD | <!----> | parliamentary democracy                                                                    |\n",
       "| Angola                 | AO | 1974 | .ao | ISO 3166-2:AO | <!----> | republic; multiparty presidential regime                                                   |\n",
       "| Antigua and Barbuda    | AG | 1974 | .ag | ISO 3166-2:AG | <!----> | constitutional monarchy with a parliamentary system of government and a Commonwealth realm |\n",
       "| Argentina              | AR | 1974 | .ar | ISO 3166-2:AR | <!----> | republic                                                                                   |\n",
       "| Armenia                | AM | 1992 | .am | ISO 3166-2:AM | <!----> | republic                                                                                   |\n",
       "| Aruba                  | AW | 1986 | .aw | ISO 3166-2:AW | <!----> | parliamentary democracy                                                                    |\n",
       "| Australia              | AU | 1974 | .au | ISO 3166-2:AU | Includes the Ashmore and Cartier Islands and the Coral Sea Islands                                                                                                   | federal parliamentary democracy and a Commonwealth realm                                   |\n",
       "| Austria                | AT | 1974 | .at | ISO 3166-2:AT | <!----> | federal republic                                                                           |\n",
       "| Azerbaijan             | AZ | 1992 | .az | ISO 3166-2:AZ | <!----> | republic                                                                                   |\n",
       "| Bahrain                | BH | 1974 | .bh | ISO 3166-2:BH | <!----> | constitutional monarchy                                                                    |\n",
       "| Bangladesh             | BD | 1974 | .bd | ISO 3166-2:BD | <!----> | parliamentary democracy                                                                    |\n",
       "| Barbados               | BB | 1974 | .bb | ISO 3166-2:BB | <!----> | parliamentary democracy and a Commonwealth realm                                           |\n",
       "| Belarus                | BY | 1974 | .by | ISO 3166-2:BY | Code taken from previous ISO country name: Byelorussian SSR (now assigned ISO 3166-3 code BYAA)\n",
       "Code assigned as the country was already a UN member since 1945[17] | republic in name, although in fact a dictatorship                                          |\n",
       "| Belgium                | BE | 1974 | .be | ISO 3166-2:BE | <!----> | federal parliamentary democracy under a constitutional monarchy                            |\n",
       "| Belize                 | BZ | 1974 | .bz | ISO 3166-2:BZ | <!----> | parliamentary democracy and a Commonwealth realm                                           |\n",
       "| Benin                  | BJ | 1977 | .bj | ISO 3166-2:BJ | Name changed from Dahomey (DY)                                                                                                                                       | republic                                                                                   |\n",
       "| Bermuda                | BM | 1974 | .bm | ISO 3166-2:BM | <!----> | parliamentary; self-governing territory                                                    |\n",
       "| Bhutan                 | BT | 1974 | .bt | ISO 3166-2:BT | <!----> | constitutional monarchy                                                                    |\n",
       "| Bosnia and Herzegovina | BA | 1992 | .ba | ISO 3166-2:BA | <!----> | emerging federal democratic republic                                                       |\n",
       "| Botswana               | BW | 1974 | .bw | ISO 3166-2:BW | <!----> | parliamentary republic                                                                     |\n",
       "| Brazil                 | BR | 1974 | .br | ISO 3166-2:BR | <!----> | federal republic                                                                           |\n",
       "| Bulgaria               | BG | 1974 | .bg | ISO 3166-2:BG | <!----> | parliamentary democracy                                                                    |\n",
       "| Burkina Faso           | BF | 1984 | .bf | ISO 3166-2:BF | Name changed from Upper Volta (HV)                                                                                                                                   | parliamentary republic                                                                     |\n",
       "| Burundi                | BI | 1974 | .bi | ISO 3166-2:BI | <!----> | republic                                                                                   |\n",
       "| Cambodia               | KH | 1974 | .kh | ISO 3166-2:KH | Code taken from former name: Khmer Republic\n",
       "Previous ISO country name: Kampuchea                                                                                    | multiparty democracy under a constitutional monarchy                                       |\n",
       "| Cameroon               | CM | 1974 | .cm | ISO 3166-2:CM | <!----> | republic; multiparty presidential regime                                                   |\n",
       "| Canada                 | CA | 1974 | .ca | ISO 3166-2:CA | <!----> | a parliamentary democracy, a federation, and a constitutional monarchy                     |\n",
       "| ⋮ | ⋮ | ⋮ | ⋮ | ⋮ | ⋮ | ⋮ |\n",
       "| South Sudan          | SS | 2011 | .ss        | ISO 3166-2:SS | <!----> | republic                                                                                                                                                                                 |\n",
       "| Spain                | ES | 1974 | .es        | ISO 3166-2:ES | Code taken from name in Spanish: EspaÃ±a                                                                                                                                                                                 | parliamentary monarchy                                                                                                                                                                   |\n",
       "| Sri Lanka            | LK | 1974 | .lk        | ISO 3166-2:LK | <!----> | republic                                                                                                                                                                                 |\n",
       "| Sudan                | SD | 1974 | .sd        | ISO 3166-2:SD | <!----> | Federal republic                                                                                                                                                                         |\n",
       "| Suriname             | SR | 1974 | .sr        | ISO 3166-2:SR | <!----> | constitutional democracy                                                                                                                                                                 |\n",
       "| Swaziland            | SZ | 1974 | .sz        | ISO 3166-2:SZ | <!----> | monarchy                                                                                                                                                                                 |\n",
       "| Sweden               | SE | 1974 | .se        | ISO 3166-2:SE | <!----> | constitutional monarchy                                                                                                                                                                  |\n",
       "| Switzerland          | CH | 1974 | .ch        | ISO 3166-2:CH | Code taken from name in Latin: Confoederatio Helvetica                                                                                                                                                                   | formally a confederation but similar in structure to a federal republic                                                                                                                  |\n",
       "| Tajikistan           | TJ | 1992 | .tj        | ISO 3166-2:TJ | <!----> | republic                                                                                                                                                                                 |\n",
       "| Thailand             | TH | 1974 | .th        | ISO 3166-2:TH | <!----> | constitutional monarchy                                                                                                                                                                  |\n",
       "| Timor-Leste          | TL | 2002 | .tl        | ISO 3166-2:TL | Name changed from East Timor (TP)                                                                                                                                                                                        | republic                                                                                                                                                                                 |\n",
       "| Togo                 | TG | 1974 | .tg        | ISO 3166-2:TG | <!----> | republic under transition to multiparty democratic rule                                                                                                                                  |\n",
       "| Tonga                | TO | 1974 | .to        | ISO 3166-2:TO | <!----> | constitutional monarchy                                                                                                                                                                  |\n",
       "| Trinidad and Tobago  | TT | 1974 | .tt        | ISO 3166-2:TT | <!----> | parliamentary democracy                                                                                                                                                                  |\n",
       "| Tunisia              | TN | 1974 | .tn        | ISO 3166-2:TN | <!----> | republic                                                                                                                                                                                 |\n",
       "| Turkey               | TR | 1974 | .tr        | ISO 3166-2:TR | <!----> | republican parliamentary democracy                                                                                                                                                       |\n",
       "| Turkmenistan         | TM | 1992 | .tm        | ISO 3166-2:TM | <!----> | defines itself as a secular democracy and a presidential republic; in actuality displays authoritarian presidential rule, with power concentrated within the presidential administration |\n",
       "| Tuvalu               | TV | 1979 | .tv        | ISO 3166-2:TV | <!----> | parliamentary democracy and a Commonwealth realm                                                                                                                                         |\n",
       "| Uganda               | UG | 1974 | .ug        | ISO 3166-2:UG | <!----> | republic                                                                                                                                                                                 |\n",
       "| Ukraine              | UA | 1974 | .ua        | ISO 3166-2:UA | Previous ISO country name: Ukrainian SSR\n",
       "Code assigned as the country was already a UN member since 1945[17]                                                                                                            | republic                                                                                                                                                                                 |\n",
       "| United Arab Emirates | AE | 1974 | .ae        | ISO 3166-2:AE | <!----> | federation with specified powers delegated to the UAE federal government and other powers reserved to member emirates                                                                    |\n",
       "| United Kingdom       | GB | 1974 | .gb\n",
       "(.uk) | ISO 3166-2:GB | Code taken from Great Britain (from official name: United Kingdom of Great Britain and Northern Ireland)[18].uk is the primary ccTLD of the United Kingdom instead of .gb (see code UK, which is exceptionally reserved) | constitutional monarchy and Commonwealth realm                                                                                                                                           |\n",
       "| United States        | US | 1974 | .us        | ISO 3166-2:US | <!----> | Constitution-based federal republic; strong democratic tradition                                                                                                                         |\n",
       "| Uruguay              | UY | 1974 | .uy        | ISO 3166-2:UY | <!----> | constitutional republic                                                                                                                                                                  |\n",
       "| Uzbekistan           | UZ | 1992 | .uz        | ISO 3166-2:UZ | <!----> | republic; authoritarian presidential rule, with little power outside the executive branch                                                                                                |\n",
       "| Vanuatu              | VU | 1980 | .vu        | ISO 3166-2:VU | Name changed from New Hebrides (NH)                                                                                                                                                                                      | parliamentary republic                                                                                                                                                                   |\n",
       "| Wallis and Futuna    | WF | 1974 | .wf        | ISO 3166-2:WF | <!----> | parliamentary representive democratic French overseas collectivity                                                                                                                       |\n",
       "| Yemen                | YE | 1974 | .ye        | ISO 3166-2:YE | Previous ISO country name: Yemen, Republic of\n",
       "Code used for North Yemen before 1990                                                                                                                                     | republic                                                                                                                                                                                 |\n",
       "| Zambia               | ZM | 1974 | .zm        | ISO 3166-2:ZM | <!----> | republic                                                                                                                                                                                 |\n",
       "| Zimbabwe             | ZW | 1980 | .zw        | ISO 3166-2:ZW | Name changed from Southern Rhodesia (RH)                                                                                                                                                                                 | parliamentary democracy                                                                                                                                                                  |\n",
       "\n"
      ],
      "text/plain": [
       "    Country.name           Code Year ccTLD      ISO.3166.2   \n",
       "1   Afghanistan            AF   1974 .af        ISO 3166-2:AF\n",
       "2   Albania                AL   1974 .al        ISO 3166-2:AL\n",
       "3   Algeria                DZ   1974 .dz        ISO 3166-2:DZ\n",
       "4   Andorra                AD   1974 .ad        ISO 3166-2:AD\n",
       "5   Angola                 AO   1974 .ao        ISO 3166-2:AO\n",
       "6   Antigua and Barbuda    AG   1974 .ag        ISO 3166-2:AG\n",
       "7   Argentina              AR   1974 .ar        ISO 3166-2:AR\n",
       "8   Armenia                AM   1992 .am        ISO 3166-2:AM\n",
       "9   Aruba                  AW   1986 .aw        ISO 3166-2:AW\n",
       "10  Australia              AU   1974 .au        ISO 3166-2:AU\n",
       "11  Austria                AT   1974 .at        ISO 3166-2:AT\n",
       "12  Azerbaijan             AZ   1992 .az        ISO 3166-2:AZ\n",
       "13  Bahrain                BH   1974 .bh        ISO 3166-2:BH\n",
       "14  Bangladesh             BD   1974 .bd        ISO 3166-2:BD\n",
       "15  Barbados               BB   1974 .bb        ISO 3166-2:BB\n",
       "16  Belarus                BY   1974 .by        ISO 3166-2:BY\n",
       "17  Belgium                BE   1974 .be        ISO 3166-2:BE\n",
       "18  Belize                 BZ   1974 .bz        ISO 3166-2:BZ\n",
       "19  Benin                  BJ   1977 .bj        ISO 3166-2:BJ\n",
       "20  Bermuda                BM   1974 .bm        ISO 3166-2:BM\n",
       "21  Bhutan                 BT   1974 .bt        ISO 3166-2:BT\n",
       "22  Bosnia and Herzegovina BA   1992 .ba        ISO 3166-2:BA\n",
       "23  Botswana               BW   1974 .bw        ISO 3166-2:BW\n",
       "24  Brazil                 BR   1974 .br        ISO 3166-2:BR\n",
       "25  Bulgaria               BG   1974 .bg        ISO 3166-2:BG\n",
       "26  Burkina Faso           BF   1984 .bf        ISO 3166-2:BF\n",
       "27  Burundi                BI   1974 .bi        ISO 3166-2:BI\n",
       "28  Cambodia               KH   1974 .kh        ISO 3166-2:KH\n",
       "29  Cameroon               CM   1974 .cm        ISO 3166-2:CM\n",
       "30  Canada                 CA   1974 .ca        ISO 3166-2:CA\n",
       "⋮   ⋮                      ⋮    ⋮    ⋮          ⋮            \n",
       "161 South Sudan            SS   2011 .ss        ISO 3166-2:SS\n",
       "162 Spain                  ES   1974 .es        ISO 3166-2:ES\n",
       "163 Sri Lanka              LK   1974 .lk        ISO 3166-2:LK\n",
       "164 Sudan                  SD   1974 .sd        ISO 3166-2:SD\n",
       "165 Suriname               SR   1974 .sr        ISO 3166-2:SR\n",
       "166 Swaziland              SZ   1974 .sz        ISO 3166-2:SZ\n",
       "167 Sweden                 SE   1974 .se        ISO 3166-2:SE\n",
       "168 Switzerland            CH   1974 .ch        ISO 3166-2:CH\n",
       "169 Tajikistan             TJ   1992 .tj        ISO 3166-2:TJ\n",
       "170 Thailand               TH   1974 .th        ISO 3166-2:TH\n",
       "171 Timor-Leste            TL   2002 .tl        ISO 3166-2:TL\n",
       "172 Togo                   TG   1974 .tg        ISO 3166-2:TG\n",
       "173 Tonga                  TO   1974 .to        ISO 3166-2:TO\n",
       "174 Trinidad and Tobago    TT   1974 .tt        ISO 3166-2:TT\n",
       "175 Tunisia                TN   1974 .tn        ISO 3166-2:TN\n",
       "176 Turkey                 TR   1974 .tr        ISO 3166-2:TR\n",
       "177 Turkmenistan           TM   1992 .tm        ISO 3166-2:TM\n",
       "178 Tuvalu                 TV   1979 .tv        ISO 3166-2:TV\n",
       "179 Uganda                 UG   1974 .ug        ISO 3166-2:UG\n",
       "180 Ukraine                UA   1974 .ua        ISO 3166-2:UA\n",
       "181 United Arab Emirates   AE   1974 .ae        ISO 3166-2:AE\n",
       "182 United Kingdom         GB   1974 .gb\\n(.uk) ISO 3166-2:GB\n",
       "183 United States          US   1974 .us        ISO 3166-2:US\n",
       "184 Uruguay                UY   1974 .uy        ISO 3166-2:UY\n",
       "185 Uzbekistan             UZ   1992 .uz        ISO 3166-2:UZ\n",
       "186 Vanuatu                VU   1980 .vu        ISO 3166-2:VU\n",
       "187 Wallis and Futuna      WF   1974 .wf        ISO 3166-2:WF\n",
       "188 Yemen                  YE   1974 .ye        ISO 3166-2:YE\n",
       "189 Zambia                 ZM   1974 .zm        ISO 3166-2:ZM\n",
       "190 Zimbabwe               ZW   1980 .zw        ISO 3166-2:ZW\n",
       "    Notes                                                                                                                                                                                                                   \n",
       "1                                                                                                                                                                                                                           \n",
       "2                                                                                                                                                                                                                           \n",
       "3   Code taken from name in Kabyle: Dzayer                                                                                                                                                                                  \n",
       "4                                                                                                                                                                                                                           \n",
       "5                                                                                                                                                                                                                           \n",
       "6                                                                                                                                                                                                                           \n",
       "7                                                                                                                                                                                                                           \n",
       "8                                                                                                                                                                                                                           \n",
       "9                                                                                                                                                                                                                           \n",
       "10  Includes the Ashmore and Cartier Islands and the Coral Sea Islands                                                                                                                                                      \n",
       "11                                                                                                                                                                                                                          \n",
       "12                                                                                                                                                                                                                          \n",
       "13                                                                                                                                                                                                                          \n",
       "14                                                                                                                                                                                                                          \n",
       "15                                                                                                                                                                                                                          \n",
       "16  Code taken from previous ISO country name: Byelorussian SSR (now assigned ISO 3166-3 code BYAA)\\nCode assigned as the country was already a UN member since 1945[17]                                                    \n",
       "17                                                                                                                                                                                                                          \n",
       "18                                                                                                                                                                                                                          \n",
       "19  Name changed from Dahomey (DY)                                                                                                                                                                                          \n",
       "20                                                                                                                                                                                                                          \n",
       "21                                                                                                                                                                                                                          \n",
       "22                                                                                                                                                                                                                          \n",
       "23                                                                                                                                                                                                                          \n",
       "24                                                                                                                                                                                                                          \n",
       "25                                                                                                                                                                                                                          \n",
       "26  Name changed from Upper Volta (HV)                                                                                                                                                                                      \n",
       "27                                                                                                                                                                                                                          \n",
       "28  Code taken from former name: Khmer Republic\\nPrevious ISO country name: Kampuchea                                                                                                                                       \n",
       "29                                                                                                                                                                                                                          \n",
       "30                                                                                                                                                                                                                          \n",
       "⋮   ⋮                                                                                                                                                                                                                       \n",
       "161                                                                                                                                                                                                                         \n",
       "162 Code taken from name in Spanish: EspaÃ±a                                                                                                                                                                                \n",
       "163                                                                                                                                                                                                                         \n",
       "164                                                                                                                                                                                                                         \n",
       "165                                                                                                                                                                                                                         \n",
       "166                                                                                                                                                                                                                         \n",
       "167                                                                                                                                                                                                                         \n",
       "168 Code taken from name in Latin: Confoederatio Helvetica                                                                                                                                                                  \n",
       "169                                                                                                                                                                                                                         \n",
       "170                                                                                                                                                                                                                         \n",
       "171 Name changed from East Timor (TP)                                                                                                                                                                                       \n",
       "172                                                                                                                                                                                                                         \n",
       "173                                                                                                                                                                                                                         \n",
       "174                                                                                                                                                                                                                         \n",
       "175                                                                                                                                                                                                                         \n",
       "176                                                                                                                                                                                                                         \n",
       "177                                                                                                                                                                                                                         \n",
       "178                                                                                                                                                                                                                         \n",
       "179                                                                                                                                                                                                                         \n",
       "180 Previous ISO country name: Ukrainian SSR\\nCode assigned as the country was already a UN member since 1945[17]                                                                                                           \n",
       "181                                                                                                                                                                                                                         \n",
       "182 Code taken from Great Britain (from official name: United Kingdom of Great Britain and Northern Ireland)[18].uk is the primary ccTLD of the United Kingdom instead of .gb (see code UK, which is exceptionally reserved)\n",
       "183                                                                                                                                                                                                                         \n",
       "184                                                                                                                                                                                                                         \n",
       "185                                                                                                                                                                                                                         \n",
       "186 Name changed from New Hebrides (NH)                                                                                                                                                                                     \n",
       "187                                                                                                                                                                                                                         \n",
       "188 Previous ISO country name: Yemen, Republic of\\nCode used for North Yemen before 1990                                                                                                                                    \n",
       "189                                                                                                                                                                                                                         \n",
       "190 Name changed from Southern Rhodesia (RH)                                                                                                                                                                                \n",
       "    GovernmentType                                                                                                                                                                          \n",
       "1   Islamic republic                                                                                                                                                                        \n",
       "2   parliamentary democracy                                                                                                                                                                 \n",
       "3   republic                                                                                                                                                                                \n",
       "4   parliamentary democracy                                                                                                                                                                 \n",
       "5   republic; multiparty presidential regime                                                                                                                                                \n",
       "6   constitutional monarchy with a parliamentary system of government and a Commonwealth realm                                                                                              \n",
       "7   republic                                                                                                                                                                                \n",
       "8   republic                                                                                                                                                                                \n",
       "9   parliamentary democracy                                                                                                                                                                 \n",
       "10  federal parliamentary democracy and a Commonwealth realm                                                                                                                                \n",
       "11  federal republic                                                                                                                                                                        \n",
       "12  republic                                                                                                                                                                                \n",
       "13  constitutional monarchy                                                                                                                                                                 \n",
       "14  parliamentary democracy                                                                                                                                                                 \n",
       "15  parliamentary democracy and a Commonwealth realm                                                                                                                                        \n",
       "16  republic in name, although in fact a dictatorship                                                                                                                                       \n",
       "17  federal parliamentary democracy under a constitutional monarchy                                                                                                                         \n",
       "18  parliamentary democracy and a Commonwealth realm                                                                                                                                        \n",
       "19  republic                                                                                                                                                                                \n",
       "20  parliamentary; self-governing territory                                                                                                                                                 \n",
       "21  constitutional monarchy                                                                                                                                                                 \n",
       "22  emerging federal democratic republic                                                                                                                                                    \n",
       "23  parliamentary republic                                                                                                                                                                  \n",
       "24  federal republic                                                                                                                                                                        \n",
       "25  parliamentary democracy                                                                                                                                                                 \n",
       "26  parliamentary republic                                                                                                                                                                  \n",
       "27  republic                                                                                                                                                                                \n",
       "28  multiparty democracy under a constitutional monarchy                                                                                                                                    \n",
       "29  republic; multiparty presidential regime                                                                                                                                                \n",
       "30  a parliamentary democracy, a federation, and a constitutional monarchy                                                                                                                  \n",
       "⋮   ⋮                                                                                                                                                                                       \n",
       "161 republic                                                                                                                                                                                \n",
       "162 parliamentary monarchy                                                                                                                                                                  \n",
       "163 republic                                                                                                                                                                                \n",
       "164 Federal republic                                                                                                                                                                        \n",
       "165 constitutional democracy                                                                                                                                                                \n",
       "166 monarchy                                                                                                                                                                                \n",
       "167 constitutional monarchy                                                                                                                                                                 \n",
       "168 formally a confederation but similar in structure to a federal republic                                                                                                                 \n",
       "169 republic                                                                                                                                                                                \n",
       "170 constitutional monarchy                                                                                                                                                                 \n",
       "171 republic                                                                                                                                                                                \n",
       "172 republic under transition to multiparty democratic rule                                                                                                                                 \n",
       "173 constitutional monarchy                                                                                                                                                                 \n",
       "174 parliamentary democracy                                                                                                                                                                 \n",
       "175 republic                                                                                                                                                                                \n",
       "176 republican parliamentary democracy                                                                                                                                                      \n",
       "177 defines itself as a secular democracy and a presidential republic; in actuality displays authoritarian presidential rule, with power concentrated within the presidential administration\n",
       "178 parliamentary democracy and a Commonwealth realm                                                                                                                                        \n",
       "179 republic                                                                                                                                                                                \n",
       "180 republic                                                                                                                                                                                \n",
       "181 federation with specified powers delegated to the UAE federal government and other powers reserved to member emirates                                                                   \n",
       "182 constitutional monarchy and Commonwealth realm                                                                                                                                          \n",
       "183 Constitution-based federal republic; strong democratic tradition                                                                                                                        \n",
       "184 constitutional republic                                                                                                                                                                 \n",
       "185 republic; authoritarian presidential rule, with little power outside the executive branch                                                                                               \n",
       "186 parliamentary republic                                                                                                                                                                  \n",
       "187 parliamentary representive democratic French overseas collectivity                                                                                                                      \n",
       "188 republic                                                                                                                                                                                \n",
       "189 republic                                                                                                                                                                                \n",
       "190 parliamentary democracy                                                                                                                                                                 "
      ]
     },
     "metadata": {},
     "output_type": "display_data"
    }
   ],
   "source": [
    "countryMerged"
   ]
  },
  {
   "cell_type": "code",
   "execution_count": 14,
   "metadata": {},
   "outputs": [
    {
     "name": "stderr",
     "output_type": "stream",
     "text": [
      "Loading required package: plyr\n",
      "\n"
     ]
    }
   ],
   "source": [
    "# plyr에서 joint 쓰면 훨씬 편하다. \n",
    "# 그렇지만 컬럼이 같은 이름이 있어야 한다..\n",
    "require(plyr)\n",
    "codes <- rename(codes, c(Country.name=\"Country\"))# rename으로 컬럼명 바로 변경 가능하다. \n",
    "CountryJoined <- join(x=codes, y=countries, by=\"Country\")"
   ]
  },
  {
   "cell_type": "code",
   "execution_count": 15,
   "metadata": {},
   "outputs": [
    {
     "data": {
      "text/html": [
       "<table class=\"dataframe\">\n",
       "<caption>A data.frame: 249 × 7</caption>\n",
       "<thead>\n",
       "\t<tr><th scope=col>Code</th><th scope=col>Country</th><th scope=col>Year</th><th scope=col>ccTLD</th><th scope=col>ISO.3166.2</th><th scope=col>Notes</th><th scope=col>GovernmentType</th></tr>\n",
       "\t<tr><th scope=col>&lt;chr&gt;</th><th scope=col>&lt;chr&gt;</th><th scope=col>&lt;int&gt;</th><th scope=col>&lt;chr&gt;</th><th scope=col>&lt;chr&gt;</th><th scope=col>&lt;chr&gt;</th><th scope=col>&lt;chr&gt;</th></tr>\n",
       "</thead>\n",
       "<tbody>\n",
       "\t<tr><td>AD</td><td>Andorra                           </td><td>1974</td><td>.ad</td><td>ISO 3166-2:AD</td><td>                                                                                                                                                                                                                                                                        </td><td>parliamentary democracy                                                                                              </td></tr>\n",
       "\t<tr><td>AE</td><td>United Arab Emirates              </td><td>1974</td><td>.ae</td><td>ISO 3166-2:AE</td><td>                                                                                                                                                                                                                                                                        </td><td>federation with specified powers delegated to the UAE federal government and other powers reserved to member emirates</td></tr>\n",
       "\t<tr><td>AF</td><td>Afghanistan                       </td><td>1974</td><td>.af</td><td>ISO 3166-2:AF</td><td>                                                                                                                                                                                                                                                                        </td><td>Islamic republic                                                                                                     </td></tr>\n",
       "\t<tr><td>AG</td><td>Antigua and Barbuda               </td><td>1974</td><td>.ag</td><td>ISO 3166-2:AG</td><td>                                                                                                                                                                                                                                                                        </td><td>constitutional monarchy with a parliamentary system of government and a Commonwealth realm                           </td></tr>\n",
       "\t<tr><td>AI</td><td>Anguilla                          </td><td>1983</td><td>.ai</td><td>ISO 3166-2:AI</td><td>AI previously represented French Afar and Issas                                                                                                                                                                                                                         </td><td>NA                                                                                                                   </td></tr>\n",
       "\t<tr><td>AL</td><td>Albania                           </td><td>1974</td><td>.al</td><td>ISO 3166-2:AL</td><td>                                                                                                                                                                                                                                                                        </td><td>parliamentary democracy                                                                                              </td></tr>\n",
       "\t<tr><td>AM</td><td>Armenia                           </td><td>1992</td><td>.am</td><td>ISO 3166-2:AM</td><td>                                                                                                                                                                                                                                                                        </td><td>republic                                                                                                             </td></tr>\n",
       "\t<tr><td>AO</td><td>Angola                            </td><td>1974</td><td>.ao</td><td>ISO 3166-2:AO</td><td>                                                                                                                                                                                                                                                                        </td><td>republic; multiparty presidential regime                                                                             </td></tr>\n",
       "\t<tr><td>AQ</td><td>Antarctica                        </td><td>1974</td><td>.aq</td><td>ISO 3166-2:AQ</td><td>Covers the territories south of 60Â° south latitude\n",
       "Code taken from name in French: Antarctique                                                                                                                                                                        </td><td>NA                                                                                                                   </td></tr>\n",
       "\t<tr><td>AR</td><td>Argentina                         </td><td>1974</td><td>.ar</td><td>ISO 3166-2:AR</td><td>                                                                                                                                                                                                                                                                        </td><td>republic                                                                                                             </td></tr>\n",
       "\t<tr><td>AS</td><td>American Samoa                    </td><td>1974</td><td>.as</td><td>ISO 3166-2:AS</td><td>                                                                                                                                                                                                                                                                        </td><td>NA                                                                                                                   </td></tr>\n",
       "\t<tr><td>AT</td><td>Austria                           </td><td>1974</td><td>.at</td><td>ISO 3166-2:AT</td><td>                                                                                                                                                                                                                                                                        </td><td>federal republic                                                                                                     </td></tr>\n",
       "\t<tr><td>AU</td><td>Australia                         </td><td>1974</td><td>.au</td><td>ISO 3166-2:AU</td><td>Includes the Ashmore and Cartier Islands and the Coral Sea Islands                                                                                                                                                                                                      </td><td>federal parliamentary democracy and a Commonwealth realm                                                             </td></tr>\n",
       "\t<tr><td>AW</td><td>Aruba                             </td><td>1986</td><td>.aw</td><td>ISO 3166-2:AW</td><td>                                                                                                                                                                                                                                                                        </td><td>parliamentary democracy                                                                                              </td></tr>\n",
       "\t<tr><td>AX</td><td>Aland Islands !Ã",
       "land Islands</td><td>2004</td><td>.ax</td><td>ISO 3166-2:AX</td><td>An autonomous province of Finland                                                                                                                                                                                                                                       </td><td>NA                                                                                                                   </td></tr>\n",
       "\t<tr><td>AZ</td><td>Azerbaijan                        </td><td>1992</td><td>.az</td><td>ISO 3166-2:AZ</td><td>                                                                                                                                                                                                                                                                        </td><td>republic                                                                                                             </td></tr>\n",
       "\t<tr><td>BA</td><td>Bosnia and Herzegovina            </td><td>1992</td><td>.ba</td><td>ISO 3166-2:BA</td><td>                                                                                                                                                                                                                                                                        </td><td>emerging federal democratic republic                                                                                 </td></tr>\n",
       "\t<tr><td>BB</td><td>Barbados                          </td><td>1974</td><td>.bb</td><td>ISO 3166-2:BB</td><td>                                                                                                                                                                                                                                                                        </td><td>parliamentary democracy and a Commonwealth realm                                                                     </td></tr>\n",
       "\t<tr><td>BD</td><td>Bangladesh                        </td><td>1974</td><td>.bd</td><td>ISO 3166-2:BD</td><td>                                                                                                                                                                                                                                                                        </td><td>parliamentary democracy                                                                                              </td></tr>\n",
       "\t<tr><td>BE</td><td>Belgium                           </td><td>1974</td><td>.be</td><td>ISO 3166-2:BE</td><td>                                                                                                                                                                                                                                                                        </td><td>federal parliamentary democracy under a constitutional monarchy                                                      </td></tr>\n",
       "\t<tr><td>BF</td><td>Burkina Faso                      </td><td>1984</td><td>.bf</td><td>ISO 3166-2:BF</td><td>Name changed from Upper Volta (HV)                                                                                                                                                                                                                                      </td><td>parliamentary republic                                                                                               </td></tr>\n",
       "\t<tr><td>BG</td><td>Bulgaria                          </td><td>1974</td><td>.bg</td><td>ISO 3166-2:BG</td><td>                                                                                                                                                                                                                                                                        </td><td>parliamentary democracy                                                                                              </td></tr>\n",
       "\t<tr><td>BH</td><td>Bahrain                           </td><td>1974</td><td>.bh</td><td>ISO 3166-2:BH</td><td>                                                                                                                                                                                                                                                                        </td><td>constitutional monarchy                                                                                              </td></tr>\n",
       "\t<tr><td>BI</td><td>Burundi                           </td><td>1974</td><td>.bi</td><td>ISO 3166-2:BI</td><td>                                                                                                                                                                                                                                                                        </td><td>republic                                                                                                             </td></tr>\n",
       "\t<tr><td>BJ</td><td>Benin                             </td><td>1977</td><td>.bj</td><td>ISO 3166-2:BJ</td><td>Name changed from Dahomey (DY)                                                                                                                                                                                                                                          </td><td>republic                                                                                                             </td></tr>\n",
       "\t<tr><td>BL</td><td>Saint BarthÃ©lemy                 </td><td>2007</td><td>.bl</td><td>ISO 3166-2:BL</td><td>                                                                                                                                                                                                                                                                        </td><td>NA                                                                                                                   </td></tr>\n",
       "\t<tr><td>BM</td><td>Bermuda                           </td><td>1974</td><td>.bm</td><td>ISO 3166-2:BM</td><td>                                                                                                                                                                                                                                                                        </td><td>parliamentary; self-governing territory                                                                              </td></tr>\n",
       "\t<tr><td>BN</td><td>Brunei Darussalam                 </td><td>1974</td><td>.bn</td><td>ISO 3166-2:BN</td><td>ISO country name follows UN designation (common name: Brunei)                                                                                                                                                                                                           </td><td>NA                                                                                                                   </td></tr>\n",
       "\t<tr><td>BO</td><td>Bolivia, Plurinational State of   </td><td>1974</td><td>.bo</td><td>ISO 3166-2:BO</td><td>ISO country name follows UN designation (common name and previous ISO country name: Bolivia)                                                                                                                                                                            </td><td>NA                                                                                                                   </td></tr>\n",
       "\t<tr><td>BQ</td><td>Bonaire, Sint Eustatius and Saba  </td><td>2010</td><td>.bq</td><td>ISO 3166-2:BQ</td><td>Consists of three Caribbean \\special municipalities\\, which are part of the Netherlands proper: Bonaire, Sint Eustatius, and Saba (the BES Islands)\n",
       "Previous ISO country name: Bonaire, Saint Eustatius and SabaBQ previously represented British Antarctic Territory</td><td>NA                                                                                                                   </td></tr>\n",
       "\t<tr><td>⋮</td><td>⋮</td><td>⋮</td><td>⋮</td><td>⋮</td><td>⋮</td><td>⋮</td></tr>\n",
       "\t<tr><td>TK</td><td>Tokelau                             </td><td>1974</td><td>.tk</td><td>ISO 3166-2:TK</td><td>                                                                                                                                                                                                    </td><td>NA                                                                                                                                                                                      </td></tr>\n",
       "\t<tr><td>TL</td><td>Timor-Leste                         </td><td>2002</td><td>.tl</td><td>ISO 3166-2:TL</td><td>Name changed from East Timor (TP)                                                                                                                                                                   </td><td>republic                                                                                                                                                                                </td></tr>\n",
       "\t<tr><td>TM</td><td>Turkmenistan                        </td><td>1992</td><td>.tm</td><td>ISO 3166-2:TM</td><td>                                                                                                                                                                                                    </td><td>defines itself as a secular democracy and a presidential republic; in actuality displays authoritarian presidential rule, with power concentrated within the presidential administration</td></tr>\n",
       "\t<tr><td>TN</td><td>Tunisia                             </td><td>1974</td><td>.tn</td><td>ISO 3166-2:TN</td><td>                                                                                                                                                                                                    </td><td>republic                                                                                                                                                                                </td></tr>\n",
       "\t<tr><td>TO</td><td>Tonga                               </td><td>1974</td><td>.to</td><td>ISO 3166-2:TO</td><td>                                                                                                                                                                                                    </td><td>constitutional monarchy                                                                                                                                                                 </td></tr>\n",
       "\t<tr><td>TR</td><td>Turkey                              </td><td>1974</td><td>.tr</td><td>ISO 3166-2:TR</td><td>                                                                                                                                                                                                    </td><td>republican parliamentary democracy                                                                                                                                                      </td></tr>\n",
       "\t<tr><td>TT</td><td>Trinidad and Tobago                 </td><td>1974</td><td>.tt</td><td>ISO 3166-2:TT</td><td>                                                                                                                                                                                                    </td><td>parliamentary democracy                                                                                                                                                                 </td></tr>\n",
       "\t<tr><td>TV</td><td>Tuvalu                              </td><td>1979</td><td>.tv</td><td>ISO 3166-2:TV</td><td>                                                                                                                                                                                                    </td><td>parliamentary democracy and a Commonwealth realm                                                                                                                                        </td></tr>\n",
       "\t<tr><td>TW</td><td>Taiwan, Province of China           </td><td>1974</td><td>.tw</td><td>ISO 3166-2:TW</td><td>Covers the current jurisdiction of the Republic of China except Kinmen and Lienchiang\n",
       "ISO country name follows UN designation (due to political status of Taiwan within the UN)[18]                </td><td>NA                                                                                                                                                                                      </td></tr>\n",
       "\t<tr><td>TZ</td><td>Tanzania, United Republic of        </td><td>1974</td><td>.tz</td><td>ISO 3166-2:TZ</td><td>ISO country name follows UN designation (common name: Tanzania)                                                                                                                                     </td><td>NA                                                                                                                                                                                      </td></tr>\n",
       "\t<tr><td>UA</td><td>Ukraine                             </td><td>1974</td><td>.ua</td><td>ISO 3166-2:UA</td><td>Previous ISO country name: Ukrainian SSR\n",
       "Code assigned as the country was already a UN member since 1945[17]                                                                                       </td><td>republic                                                                                                                                                                                </td></tr>\n",
       "\t<tr><td>UG</td><td>Uganda                              </td><td>1974</td><td>.ug</td><td>ISO 3166-2:UG</td><td>                                                                                                                                                                                                    </td><td>republic                                                                                                                                                                                </td></tr>\n",
       "\t<tr><td>UM</td><td>United States Minor Outlying Islands</td><td>1986</td><td>.um</td><td>ISO 3166-2:UM</td><td>Consists of nine minor insular areas of the United States: Baker Island, Howland Island, Jarvis Island, Johnston Atoll, Kingman Reef, Midway Islands, Navassa Island, Palmyra Atoll, and Wake Island</td><td>NA                                                                                                                                                                                      </td></tr>\n",
       "\t<tr><td>US</td><td>United States                       </td><td>1974</td><td>.us</td><td>ISO 3166-2:US</td><td>                                                                                                                                                                                                    </td><td>Constitution-based federal republic; strong democratic tradition                                                                                                                        </td></tr>\n",
       "\t<tr><td>UY</td><td>Uruguay                             </td><td>1974</td><td>.uy</td><td>ISO 3166-2:UY</td><td>                                                                                                                                                                                                    </td><td>constitutional republic                                                                                                                                                                 </td></tr>\n",
       "\t<tr><td>UZ</td><td>Uzbekistan                          </td><td>1992</td><td>.uz</td><td>ISO 3166-2:UZ</td><td>                                                                                                                                                                                                    </td><td>republic; authoritarian presidential rule, with little power outside the executive branch                                                                                               </td></tr>\n",
       "\t<tr><td>VA</td><td>Holy See (Vatican City State)       </td><td>1974</td><td>.va</td><td>ISO 3166-2:VA</td><td>Covers Vatican City, territory of the Holy See\n",
       "Previous ISO country name: Vatican City State (Holy See)                                                                                            </td><td>NA                                                                                                                                                                                      </td></tr>\n",
       "\t<tr><td>VC</td><td>Saint Vincent and the Grenadines    </td><td>1974</td><td>.vc</td><td>ISO 3166-2:VC</td><td>                                                                                                                                                                                                    </td><td>parliamentary democracy and a Commonwealth realm                                                                                                                                        </td></tr>\n",
       "\t<tr><td>VE</td><td>Venezuela, Bolivarian Republic of   </td><td>1974</td><td>.ve</td><td>ISO 3166-2:VE</td><td>ISO country name follows UN designation (common name and previous ISO country name: Venezuela)                                                                                                      </td><td>NA                                                                                                                                                                                      </td></tr>\n",
       "\t<tr><td>VG</td><td>Virgin Islands, British             </td><td>1974</td><td>.vg</td><td>ISO 3166-2:VG</td><td>                                                                                                                                                                                                    </td><td>NA                                                                                                                                                                                      </td></tr>\n",
       "\t<tr><td>VI</td><td>Virgin Islands, U.S.                </td><td>1974</td><td>.vi</td><td>ISO 3166-2:VI</td><td>                                                                                                                                                                                                    </td><td>NA                                                                                                                                                                                      </td></tr>\n",
       "\t<tr><td>VN</td><td>Viet Nam                            </td><td>1974</td><td>.vn</td><td>ISO 3166-2:VN</td><td>ISO country name follows UN designation (common name: Vietnam)                                                                                                                                      </td><td>NA                                                                                                                                                                                      </td></tr>\n",
       "\t<tr><td>VU</td><td>Vanuatu                             </td><td>1980</td><td>.vu</td><td>ISO 3166-2:VU</td><td>Name changed from New Hebrides (NH)                                                                                                                                                                 </td><td>parliamentary republic                                                                                                                                                                  </td></tr>\n",
       "\t<tr><td>WF</td><td>Wallis and Futuna                   </td><td>1974</td><td>.wf</td><td>ISO 3166-2:WF</td><td>                                                                                                                                                                                                    </td><td>parliamentary representive democratic French overseas collectivity                                                                                                                      </td></tr>\n",
       "\t<tr><td>WS</td><td>Samoa                               </td><td>1974</td><td>.ws</td><td>ISO 3166-2:WS</td><td>Code taken from former name: Western Samoa                                                                                                                                                          </td><td>parliamentary democracy                                                                                                                                                                 </td></tr>\n",
       "\t<tr><td>YE</td><td>Yemen                               </td><td>1974</td><td>.ye</td><td>ISO 3166-2:YE</td><td>Previous ISO country name: Yemen, Republic of\n",
       "Code used for North Yemen before 1990                                                                                                                </td><td>republic                                                                                                                                                                                </td></tr>\n",
       "\t<tr><td>YT</td><td>Mayotte                             </td><td>1993</td><td>.yt</td><td>ISO 3166-2:YT</td><td>                                                                                                                                                                                                    </td><td>NA                                                                                                                                                                                      </td></tr>\n",
       "\t<tr><td>ZA</td><td>South Africa                        </td><td>1974</td><td>.za</td><td>ISO 3166-2:ZA</td><td>Code taken from name in Dutch: Zuid-Afrika                                                                                                                                                          </td><td>republic                                                                                                                                                                                </td></tr>\n",
       "\t<tr><td>ZM</td><td>Zambia                              </td><td>1974</td><td>.zm</td><td>ISO 3166-2:ZM</td><td>                                                                                                                                                                                                    </td><td>republic                                                                                                                                                                                </td></tr>\n",
       "\t<tr><td>ZW</td><td>Zimbabwe                            </td><td>1980</td><td>.zw</td><td>ISO 3166-2:ZW</td><td>Name changed from Southern Rhodesia (RH)                                                                                                                                                            </td><td>parliamentary democracy                                                                                                                                                                 </td></tr>\n",
       "</tbody>\n",
       "</table>\n"
      ],
      "text/latex": [
       "A data.frame: 249 × 7\n",
       "\\begin{tabular}{lllllll}\n",
       " Code & Country & Year & ccTLD & ISO.3166.2 & Notes & GovernmentType\\\\\n",
       " <chr> & <chr> & <int> & <chr> & <chr> & <chr> & <chr>\\\\\n",
       "\\hline\n",
       "\t AD & Andorra                            & 1974 & .ad & ISO 3166-2:AD &                                                                                                                                                                                                                                                                          & parliamentary democracy                                                                                              \\\\\n",
       "\t AE & United Arab Emirates               & 1974 & .ae & ISO 3166-2:AE &                                                                                                                                                                                                                                                                          & federation with specified powers delegated to the UAE federal government and other powers reserved to member emirates\\\\\n",
       "\t AF & Afghanistan                        & 1974 & .af & ISO 3166-2:AF &                                                                                                                                                                                                                                                                          & Islamic republic                                                                                                     \\\\\n",
       "\t AG & Antigua and Barbuda                & 1974 & .ag & ISO 3166-2:AG &                                                                                                                                                                                                                                                                          & constitutional monarchy with a parliamentary system of government and a Commonwealth realm                           \\\\\n",
       "\t AI & Anguilla                           & 1983 & .ai & ISO 3166-2:AI & AI previously represented French Afar and Issas                                                                                                                                                                                                                          & NA                                                                                                                   \\\\\n",
       "\t AL & Albania                            & 1974 & .al & ISO 3166-2:AL &                                                                                                                                                                                                                                                                          & parliamentary democracy                                                                                              \\\\\n",
       "\t AM & Armenia                            & 1992 & .am & ISO 3166-2:AM &                                                                                                                                                                                                                                                                          & republic                                                                                                             \\\\\n",
       "\t AO & Angola                             & 1974 & .ao & ISO 3166-2:AO &                                                                                                                                                                                                                                                                          & republic; multiparty presidential regime                                                                             \\\\\n",
       "\t AQ & Antarctica                         & 1974 & .aq & ISO 3166-2:AQ & Covers the territories south of 60Â° south latitude\n",
       "Code taken from name in French: Antarctique                                                                                                                                                                         & NA                                                                                                                   \\\\\n",
       "\t AR & Argentina                          & 1974 & .ar & ISO 3166-2:AR &                                                                                                                                                                                                                                                                          & republic                                                                                                             \\\\\n",
       "\t AS & American Samoa                     & 1974 & .as & ISO 3166-2:AS &                                                                                                                                                                                                                                                                          & NA                                                                                                                   \\\\\n",
       "\t AT & Austria                            & 1974 & .at & ISO 3166-2:AT &                                                                                                                                                                                                                                                                          & federal republic                                                                                                     \\\\\n",
       "\t AU & Australia                          & 1974 & .au & ISO 3166-2:AU & Includes the Ashmore and Cartier Islands and the Coral Sea Islands                                                                                                                                                                                                       & federal parliamentary democracy and a Commonwealth realm                                                             \\\\\n",
       "\t AW & Aruba                              & 1986 & .aw & ISO 3166-2:AW &                                                                                                                                                                                                                                                                          & parliamentary democracy                                                                                              \\\\\n",
       "\t AX & Aland Islands !Ã",
       "land Islands & 2004 & .ax & ISO 3166-2:AX & An autonomous province of Finland                                                                                                                                                                                                                                        & NA                                                                                                                   \\\\\n",
       "\t AZ & Azerbaijan                         & 1992 & .az & ISO 3166-2:AZ &                                                                                                                                                                                                                                                                          & republic                                                                                                             \\\\\n",
       "\t BA & Bosnia and Herzegovina             & 1992 & .ba & ISO 3166-2:BA &                                                                                                                                                                                                                                                                          & emerging federal democratic republic                                                                                 \\\\\n",
       "\t BB & Barbados                           & 1974 & .bb & ISO 3166-2:BB &                                                                                                                                                                                                                                                                          & parliamentary democracy and a Commonwealth realm                                                                     \\\\\n",
       "\t BD & Bangladesh                         & 1974 & .bd & ISO 3166-2:BD &                                                                                                                                                                                                                                                                          & parliamentary democracy                                                                                              \\\\\n",
       "\t BE & Belgium                            & 1974 & .be & ISO 3166-2:BE &                                                                                                                                                                                                                                                                          & federal parliamentary democracy under a constitutional monarchy                                                      \\\\\n",
       "\t BF & Burkina Faso                       & 1984 & .bf & ISO 3166-2:BF & Name changed from Upper Volta (HV)                                                                                                                                                                                                                                       & parliamentary republic                                                                                               \\\\\n",
       "\t BG & Bulgaria                           & 1974 & .bg & ISO 3166-2:BG &                                                                                                                                                                                                                                                                          & parliamentary democracy                                                                                              \\\\\n",
       "\t BH & Bahrain                            & 1974 & .bh & ISO 3166-2:BH &                                                                                                                                                                                                                                                                          & constitutional monarchy                                                                                              \\\\\n",
       "\t BI & Burundi                            & 1974 & .bi & ISO 3166-2:BI &                                                                                                                                                                                                                                                                          & republic                                                                                                             \\\\\n",
       "\t BJ & Benin                              & 1977 & .bj & ISO 3166-2:BJ & Name changed from Dahomey (DY)                                                                                                                                                                                                                                           & republic                                                                                                             \\\\\n",
       "\t BL & Saint BarthÃ©lemy                  & 2007 & .bl & ISO 3166-2:BL &                                                                                                                                                                                                                                                                          & NA                                                                                                                   \\\\\n",
       "\t BM & Bermuda                            & 1974 & .bm & ISO 3166-2:BM &                                                                                                                                                                                                                                                                          & parliamentary; self-governing territory                                                                              \\\\\n",
       "\t BN & Brunei Darussalam                  & 1974 & .bn & ISO 3166-2:BN & ISO country name follows UN designation (common name: Brunei)                                                                                                                                                                                                            & NA                                                                                                                   \\\\\n",
       "\t BO & Bolivia, Plurinational State of    & 1974 & .bo & ISO 3166-2:BO & ISO country name follows UN designation (common name and previous ISO country name: Bolivia)                                                                                                                                                                             & NA                                                                                                                   \\\\\n",
       "\t BQ & Bonaire, Sint Eustatius and Saba   & 2010 & .bq & ISO 3166-2:BQ & Consists of three Caribbean \\textbackslash{}special municipalities\\textbackslash{}, which are part of the Netherlands proper: Bonaire, Sint Eustatius, and Saba (the BES Islands)\n",
       "Previous ISO country name: Bonaire, Saint Eustatius and SabaBQ previously represented British Antarctic Territory & NA                                                                                                                   \\\\\n",
       "\t ⋮ & ⋮ & ⋮ & ⋮ & ⋮ & ⋮ & ⋮\\\\\n",
       "\t TK & Tokelau                              & 1974 & .tk & ISO 3166-2:TK &                                                                                                                                                                                                      & NA                                                                                                                                                                                      \\\\\n",
       "\t TL & Timor-Leste                          & 2002 & .tl & ISO 3166-2:TL & Name changed from East Timor (TP)                                                                                                                                                                    & republic                                                                                                                                                                                \\\\\n",
       "\t TM & Turkmenistan                         & 1992 & .tm & ISO 3166-2:TM &                                                                                                                                                                                                      & defines itself as a secular democracy and a presidential republic; in actuality displays authoritarian presidential rule, with power concentrated within the presidential administration\\\\\n",
       "\t TN & Tunisia                              & 1974 & .tn & ISO 3166-2:TN &                                                                                                                                                                                                      & republic                                                                                                                                                                                \\\\\n",
       "\t TO & Tonga                                & 1974 & .to & ISO 3166-2:TO &                                                                                                                                                                                                      & constitutional monarchy                                                                                                                                                                 \\\\\n",
       "\t TR & Turkey                               & 1974 & .tr & ISO 3166-2:TR &                                                                                                                                                                                                      & republican parliamentary democracy                                                                                                                                                      \\\\\n",
       "\t TT & Trinidad and Tobago                  & 1974 & .tt & ISO 3166-2:TT &                                                                                                                                                                                                      & parliamentary democracy                                                                                                                                                                 \\\\\n",
       "\t TV & Tuvalu                               & 1979 & .tv & ISO 3166-2:TV &                                                                                                                                                                                                      & parliamentary democracy and a Commonwealth realm                                                                                                                                        \\\\\n",
       "\t TW & Taiwan, Province of China            & 1974 & .tw & ISO 3166-2:TW & Covers the current jurisdiction of the Republic of China except Kinmen and Lienchiang\n",
       "ISO country name follows UN designation (due to political status of Taiwan within the UN){[}18{]}                 & NA                                                                                                                                                                                      \\\\\n",
       "\t TZ & Tanzania, United Republic of         & 1974 & .tz & ISO 3166-2:TZ & ISO country name follows UN designation (common name: Tanzania)                                                                                                                                      & NA                                                                                                                                                                                      \\\\\n",
       "\t UA & Ukraine                              & 1974 & .ua & ISO 3166-2:UA & Previous ISO country name: Ukrainian SSR\n",
       "Code assigned as the country was already a UN member since 1945{[}17{]}                                                                                        & republic                                                                                                                                                                                \\\\\n",
       "\t UG & Uganda                               & 1974 & .ug & ISO 3166-2:UG &                                                                                                                                                                                                      & republic                                                                                                                                                                                \\\\\n",
       "\t UM & United States Minor Outlying Islands & 1986 & .um & ISO 3166-2:UM & Consists of nine minor insular areas of the United States: Baker Island, Howland Island, Jarvis Island, Johnston Atoll, Kingman Reef, Midway Islands, Navassa Island, Palmyra Atoll, and Wake Island & NA                                                                                                                                                                                      \\\\\n",
       "\t US & United States                        & 1974 & .us & ISO 3166-2:US &                                                                                                                                                                                                      & Constitution-based federal republic; strong democratic tradition                                                                                                                        \\\\\n",
       "\t UY & Uruguay                              & 1974 & .uy & ISO 3166-2:UY &                                                                                                                                                                                                      & constitutional republic                                                                                                                                                                 \\\\\n",
       "\t UZ & Uzbekistan                           & 1992 & .uz & ISO 3166-2:UZ &                                                                                                                                                                                                      & republic; authoritarian presidential rule, with little power outside the executive branch                                                                                               \\\\\n",
       "\t VA & Holy See (Vatican City State)        & 1974 & .va & ISO 3166-2:VA & Covers Vatican City, territory of the Holy See\n",
       "Previous ISO country name: Vatican City State (Holy See)                                                                                             & NA                                                                                                                                                                                      \\\\\n",
       "\t VC & Saint Vincent and the Grenadines     & 1974 & .vc & ISO 3166-2:VC &                                                                                                                                                                                                      & parliamentary democracy and a Commonwealth realm                                                                                                                                        \\\\\n",
       "\t VE & Venezuela, Bolivarian Republic of    & 1974 & .ve & ISO 3166-2:VE & ISO country name follows UN designation (common name and previous ISO country name: Venezuela)                                                                                                       & NA                                                                                                                                                                                      \\\\\n",
       "\t VG & Virgin Islands, British              & 1974 & .vg & ISO 3166-2:VG &                                                                                                                                                                                                      & NA                                                                                                                                                                                      \\\\\n",
       "\t VI & Virgin Islands, U.S.                 & 1974 & .vi & ISO 3166-2:VI &                                                                                                                                                                                                      & NA                                                                                                                                                                                      \\\\\n",
       "\t VN & Viet Nam                             & 1974 & .vn & ISO 3166-2:VN & ISO country name follows UN designation (common name: Vietnam)                                                                                                                                       & NA                                                                                                                                                                                      \\\\\n",
       "\t VU & Vanuatu                              & 1980 & .vu & ISO 3166-2:VU & Name changed from New Hebrides (NH)                                                                                                                                                                  & parliamentary republic                                                                                                                                                                  \\\\\n",
       "\t WF & Wallis and Futuna                    & 1974 & .wf & ISO 3166-2:WF &                                                                                                                                                                                                      & parliamentary representive democratic French overseas collectivity                                                                                                                      \\\\\n",
       "\t WS & Samoa                                & 1974 & .ws & ISO 3166-2:WS & Code taken from former name: Western Samoa                                                                                                                                                           & parliamentary democracy                                                                                                                                                                 \\\\\n",
       "\t YE & Yemen                                & 1974 & .ye & ISO 3166-2:YE & Previous ISO country name: Yemen, Republic of\n",
       "Code used for North Yemen before 1990                                                                                                                 & republic                                                                                                                                                                                \\\\\n",
       "\t YT & Mayotte                              & 1993 & .yt & ISO 3166-2:YT &                                                                                                                                                                                                      & NA                                                                                                                                                                                      \\\\\n",
       "\t ZA & South Africa                         & 1974 & .za & ISO 3166-2:ZA & Code taken from name in Dutch: Zuid-Afrika                                                                                                                                                           & republic                                                                                                                                                                                \\\\\n",
       "\t ZM & Zambia                               & 1974 & .zm & ISO 3166-2:ZM &                                                                                                                                                                                                      & republic                                                                                                                                                                                \\\\\n",
       "\t ZW & Zimbabwe                             & 1980 & .zw & ISO 3166-2:ZW & Name changed from Southern Rhodesia (RH)                                                                                                                                                             & parliamentary democracy                                                                                                                                                                 \\\\\n",
       "\\end{tabular}\n"
      ],
      "text/markdown": [
       "\n",
       "A data.frame: 249 × 7\n",
       "\n",
       "| Code &lt;chr&gt; | Country &lt;chr&gt; | Year &lt;int&gt; | ccTLD &lt;chr&gt; | ISO.3166.2 &lt;chr&gt; | Notes &lt;chr&gt; | GovernmentType &lt;chr&gt; |\n",
       "|---|---|---|---|---|---|---|\n",
       "| AD | Andorra                            | 1974 | .ad | ISO 3166-2:AD | <!----> | parliamentary democracy                                                                                               |\n",
       "| AE | United Arab Emirates               | 1974 | .ae | ISO 3166-2:AE | <!----> | federation with specified powers delegated to the UAE federal government and other powers reserved to member emirates |\n",
       "| AF | Afghanistan                        | 1974 | .af | ISO 3166-2:AF | <!----> | Islamic republic                                                                                                      |\n",
       "| AG | Antigua and Barbuda                | 1974 | .ag | ISO 3166-2:AG | <!----> | constitutional monarchy with a parliamentary system of government and a Commonwealth realm                            |\n",
       "| AI | Anguilla                           | 1983 | .ai | ISO 3166-2:AI | AI previously represented French Afar and Issas                                                                                                                                                                                                                          | NA                                                                                                                    |\n",
       "| AL | Albania                            | 1974 | .al | ISO 3166-2:AL | <!----> | parliamentary democracy                                                                                               |\n",
       "| AM | Armenia                            | 1992 | .am | ISO 3166-2:AM | <!----> | republic                                                                                                              |\n",
       "| AO | Angola                             | 1974 | .ao | ISO 3166-2:AO | <!----> | republic; multiparty presidential regime                                                                              |\n",
       "| AQ | Antarctica                         | 1974 | .aq | ISO 3166-2:AQ | Covers the territories south of 60Â° south latitude\n",
       "Code taken from name in French: Antarctique                                                                                                                                                                         | NA                                                                                                                    |\n",
       "| AR | Argentina                          | 1974 | .ar | ISO 3166-2:AR | <!----> | republic                                                                                                              |\n",
       "| AS | American Samoa                     | 1974 | .as | ISO 3166-2:AS | <!----> | NA                                                                                                                    |\n",
       "| AT | Austria                            | 1974 | .at | ISO 3166-2:AT | <!----> | federal republic                                                                                                      |\n",
       "| AU | Australia                          | 1974 | .au | ISO 3166-2:AU | Includes the Ashmore and Cartier Islands and the Coral Sea Islands                                                                                                                                                                                                       | federal parliamentary democracy and a Commonwealth realm                                                              |\n",
       "| AW | Aruba                              | 1986 | .aw | ISO 3166-2:AW | <!----> | parliamentary democracy                                                                                               |\n",
       "| AX | Aland Islands !Ã",
       "land Islands | 2004 | .ax | ISO 3166-2:AX | An autonomous province of Finland                                                                                                                                                                                                                                        | NA                                                                                                                    |\n",
       "| AZ | Azerbaijan                         | 1992 | .az | ISO 3166-2:AZ | <!----> | republic                                                                                                              |\n",
       "| BA | Bosnia and Herzegovina             | 1992 | .ba | ISO 3166-2:BA | <!----> | emerging federal democratic republic                                                                                  |\n",
       "| BB | Barbados                           | 1974 | .bb | ISO 3166-2:BB | <!----> | parliamentary democracy and a Commonwealth realm                                                                      |\n",
       "| BD | Bangladesh                         | 1974 | .bd | ISO 3166-2:BD | <!----> | parliamentary democracy                                                                                               |\n",
       "| BE | Belgium                            | 1974 | .be | ISO 3166-2:BE | <!----> | federal parliamentary democracy under a constitutional monarchy                                                       |\n",
       "| BF | Burkina Faso                       | 1984 | .bf | ISO 3166-2:BF | Name changed from Upper Volta (HV)                                                                                                                                                                                                                                       | parliamentary republic                                                                                                |\n",
       "| BG | Bulgaria                           | 1974 | .bg | ISO 3166-2:BG | <!----> | parliamentary democracy                                                                                               |\n",
       "| BH | Bahrain                            | 1974 | .bh | ISO 3166-2:BH | <!----> | constitutional monarchy                                                                                               |\n",
       "| BI | Burundi                            | 1974 | .bi | ISO 3166-2:BI | <!----> | republic                                                                                                              |\n",
       "| BJ | Benin                              | 1977 | .bj | ISO 3166-2:BJ | Name changed from Dahomey (DY)                                                                                                                                                                                                                                           | republic                                                                                                              |\n",
       "| BL | Saint BarthÃ©lemy                  | 2007 | .bl | ISO 3166-2:BL | <!----> | NA                                                                                                                    |\n",
       "| BM | Bermuda                            | 1974 | .bm | ISO 3166-2:BM | <!----> | parliamentary; self-governing territory                                                                               |\n",
       "| BN | Brunei Darussalam                  | 1974 | .bn | ISO 3166-2:BN | ISO country name follows UN designation (common name: Brunei)                                                                                                                                                                                                            | NA                                                                                                                    |\n",
       "| BO | Bolivia, Plurinational State of    | 1974 | .bo | ISO 3166-2:BO | ISO country name follows UN designation (common name and previous ISO country name: Bolivia)                                                                                                                                                                             | NA                                                                                                                    |\n",
       "| BQ | Bonaire, Sint Eustatius and Saba   | 2010 | .bq | ISO 3166-2:BQ | Consists of three Caribbean \\special municipalities\\, which are part of the Netherlands proper: Bonaire, Sint Eustatius, and Saba (the BES Islands)\n",
       "Previous ISO country name: Bonaire, Saint Eustatius and SabaBQ previously represented British Antarctic Territory | NA                                                                                                                    |\n",
       "| ⋮ | ⋮ | ⋮ | ⋮ | ⋮ | ⋮ | ⋮ |\n",
       "| TK | Tokelau                              | 1974 | .tk | ISO 3166-2:TK | <!----> | NA                                                                                                                                                                                       |\n",
       "| TL | Timor-Leste                          | 2002 | .tl | ISO 3166-2:TL | Name changed from East Timor (TP)                                                                                                                                                                    | republic                                                                                                                                                                                 |\n",
       "| TM | Turkmenistan                         | 1992 | .tm | ISO 3166-2:TM | <!----> | defines itself as a secular democracy and a presidential republic; in actuality displays authoritarian presidential rule, with power concentrated within the presidential administration |\n",
       "| TN | Tunisia                              | 1974 | .tn | ISO 3166-2:TN | <!----> | republic                                                                                                                                                                                 |\n",
       "| TO | Tonga                                | 1974 | .to | ISO 3166-2:TO | <!----> | constitutional monarchy                                                                                                                                                                  |\n",
       "| TR | Turkey                               | 1974 | .tr | ISO 3166-2:TR | <!----> | republican parliamentary democracy                                                                                                                                                       |\n",
       "| TT | Trinidad and Tobago                  | 1974 | .tt | ISO 3166-2:TT | <!----> | parliamentary democracy                                                                                                                                                                  |\n",
       "| TV | Tuvalu                               | 1979 | .tv | ISO 3166-2:TV | <!----> | parliamentary democracy and a Commonwealth realm                                                                                                                                         |\n",
       "| TW | Taiwan, Province of China            | 1974 | .tw | ISO 3166-2:TW | Covers the current jurisdiction of the Republic of China except Kinmen and Lienchiang\n",
       "ISO country name follows UN designation (due to political status of Taiwan within the UN)[18]                 | NA                                                                                                                                                                                       |\n",
       "| TZ | Tanzania, United Republic of         | 1974 | .tz | ISO 3166-2:TZ | ISO country name follows UN designation (common name: Tanzania)                                                                                                                                      | NA                                                                                                                                                                                       |\n",
       "| UA | Ukraine                              | 1974 | .ua | ISO 3166-2:UA | Previous ISO country name: Ukrainian SSR\n",
       "Code assigned as the country was already a UN member since 1945[17]                                                                                        | republic                                                                                                                                                                                 |\n",
       "| UG | Uganda                               | 1974 | .ug | ISO 3166-2:UG | <!----> | republic                                                                                                                                                                                 |\n",
       "| UM | United States Minor Outlying Islands | 1986 | .um | ISO 3166-2:UM | Consists of nine minor insular areas of the United States: Baker Island, Howland Island, Jarvis Island, Johnston Atoll, Kingman Reef, Midway Islands, Navassa Island, Palmyra Atoll, and Wake Island | NA                                                                                                                                                                                       |\n",
       "| US | United States                        | 1974 | .us | ISO 3166-2:US | <!----> | Constitution-based federal republic; strong democratic tradition                                                                                                                         |\n",
       "| UY | Uruguay                              | 1974 | .uy | ISO 3166-2:UY | <!----> | constitutional republic                                                                                                                                                                  |\n",
       "| UZ | Uzbekistan                           | 1992 | .uz | ISO 3166-2:UZ | <!----> | republic; authoritarian presidential rule, with little power outside the executive branch                                                                                                |\n",
       "| VA | Holy See (Vatican City State)        | 1974 | .va | ISO 3166-2:VA | Covers Vatican City, territory of the Holy See\n",
       "Previous ISO country name: Vatican City State (Holy See)                                                                                             | NA                                                                                                                                                                                       |\n",
       "| VC | Saint Vincent and the Grenadines     | 1974 | .vc | ISO 3166-2:VC | <!----> | parliamentary democracy and a Commonwealth realm                                                                                                                                         |\n",
       "| VE | Venezuela, Bolivarian Republic of    | 1974 | .ve | ISO 3166-2:VE | ISO country name follows UN designation (common name and previous ISO country name: Venezuela)                                                                                                       | NA                                                                                                                                                                                       |\n",
       "| VG | Virgin Islands, British              | 1974 | .vg | ISO 3166-2:VG | <!----> | NA                                                                                                                                                                                       |\n",
       "| VI | Virgin Islands, U.S.                 | 1974 | .vi | ISO 3166-2:VI | <!----> | NA                                                                                                                                                                                       |\n",
       "| VN | Viet Nam                             | 1974 | .vn | ISO 3166-2:VN | ISO country name follows UN designation (common name: Vietnam)                                                                                                                                       | NA                                                                                                                                                                                       |\n",
       "| VU | Vanuatu                              | 1980 | .vu | ISO 3166-2:VU | Name changed from New Hebrides (NH)                                                                                                                                                                  | parliamentary republic                                                                                                                                                                   |\n",
       "| WF | Wallis and Futuna                    | 1974 | .wf | ISO 3166-2:WF | <!----> | parliamentary representive democratic French overseas collectivity                                                                                                                       |\n",
       "| WS | Samoa                                | 1974 | .ws | ISO 3166-2:WS | Code taken from former name: Western Samoa                                                                                                                                                           | parliamentary democracy                                                                                                                                                                  |\n",
       "| YE | Yemen                                | 1974 | .ye | ISO 3166-2:YE | Previous ISO country name: Yemen, Republic of\n",
       "Code used for North Yemen before 1990                                                                                                                 | republic                                                                                                                                                                                 |\n",
       "| YT | Mayotte                              | 1993 | .yt | ISO 3166-2:YT | <!----> | NA                                                                                                                                                                                       |\n",
       "| ZA | South Africa                         | 1974 | .za | ISO 3166-2:ZA | Code taken from name in Dutch: Zuid-Afrika                                                                                                                                                           | republic                                                                                                                                                                                 |\n",
       "| ZM | Zambia                               | 1974 | .zm | ISO 3166-2:ZM | <!----> | republic                                                                                                                                                                                 |\n",
       "| ZW | Zimbabwe                             | 1980 | .zw | ISO 3166-2:ZW | Name changed from Southern Rhodesia (RH)                                                                                                                                                             | parliamentary democracy                                                                                                                                                                  |\n",
       "\n"
      ],
      "text/plain": [
       "    Code Country                              Year ccTLD ISO.3166.2   \n",
       "1   AD   Andorra                              1974 .ad   ISO 3166-2:AD\n",
       "2   AE   United Arab Emirates                 1974 .ae   ISO 3166-2:AE\n",
       "3   AF   Afghanistan                          1974 .af   ISO 3166-2:AF\n",
       "4   AG   Antigua and Barbuda                  1974 .ag   ISO 3166-2:AG\n",
       "5   AI   Anguilla                             1983 .ai   ISO 3166-2:AI\n",
       "6   AL   Albania                              1974 .al   ISO 3166-2:AL\n",
       "7   AM   Armenia                              1992 .am   ISO 3166-2:AM\n",
       "8   AO   Angola                               1974 .ao   ISO 3166-2:AO\n",
       "9   AQ   Antarctica                           1974 .aq   ISO 3166-2:AQ\n",
       "10  AR   Argentina                            1974 .ar   ISO 3166-2:AR\n",
       "11  AS   American Samoa                       1974 .as   ISO 3166-2:AS\n",
       "12  AT   Austria                              1974 .at   ISO 3166-2:AT\n",
       "13  AU   Australia                            1974 .au   ISO 3166-2:AU\n",
       "14  AW   Aruba                                1986 .aw   ISO 3166-2:AW\n",
       "15  AX   Aland Islands !Ã\\u0085land Islands   2004 .ax   ISO 3166-2:AX\n",
       "16  AZ   Azerbaijan                           1992 .az   ISO 3166-2:AZ\n",
       "17  BA   Bosnia and Herzegovina               1992 .ba   ISO 3166-2:BA\n",
       "18  BB   Barbados                             1974 .bb   ISO 3166-2:BB\n",
       "19  BD   Bangladesh                           1974 .bd   ISO 3166-2:BD\n",
       "20  BE   Belgium                              1974 .be   ISO 3166-2:BE\n",
       "21  BF   Burkina Faso                         1984 .bf   ISO 3166-2:BF\n",
       "22  BG   Bulgaria                             1974 .bg   ISO 3166-2:BG\n",
       "23  BH   Bahrain                              1974 .bh   ISO 3166-2:BH\n",
       "24  BI   Burundi                              1974 .bi   ISO 3166-2:BI\n",
       "25  BJ   Benin                                1977 .bj   ISO 3166-2:BJ\n",
       "26  BL   Saint BarthÃ©lemy                    2007 .bl   ISO 3166-2:BL\n",
       "27  BM   Bermuda                              1974 .bm   ISO 3166-2:BM\n",
       "28  BN   Brunei Darussalam                    1974 .bn   ISO 3166-2:BN\n",
       "29  BO   Bolivia, Plurinational State of      1974 .bo   ISO 3166-2:BO\n",
       "30  BQ   Bonaire, Sint Eustatius and Saba     2010 .bq   ISO 3166-2:BQ\n",
       "⋮   ⋮    ⋮                                    ⋮    ⋮     ⋮            \n",
       "220 TK   Tokelau                              1974 .tk   ISO 3166-2:TK\n",
       "221 TL   Timor-Leste                          2002 .tl   ISO 3166-2:TL\n",
       "222 TM   Turkmenistan                         1992 .tm   ISO 3166-2:TM\n",
       "223 TN   Tunisia                              1974 .tn   ISO 3166-2:TN\n",
       "224 TO   Tonga                                1974 .to   ISO 3166-2:TO\n",
       "225 TR   Turkey                               1974 .tr   ISO 3166-2:TR\n",
       "226 TT   Trinidad and Tobago                  1974 .tt   ISO 3166-2:TT\n",
       "227 TV   Tuvalu                               1979 .tv   ISO 3166-2:TV\n",
       "228 TW   Taiwan, Province of China            1974 .tw   ISO 3166-2:TW\n",
       "229 TZ   Tanzania, United Republic of         1974 .tz   ISO 3166-2:TZ\n",
       "230 UA   Ukraine                              1974 .ua   ISO 3166-2:UA\n",
       "231 UG   Uganda                               1974 .ug   ISO 3166-2:UG\n",
       "232 UM   United States Minor Outlying Islands 1986 .um   ISO 3166-2:UM\n",
       "233 US   United States                        1974 .us   ISO 3166-2:US\n",
       "234 UY   Uruguay                              1974 .uy   ISO 3166-2:UY\n",
       "235 UZ   Uzbekistan                           1992 .uz   ISO 3166-2:UZ\n",
       "236 VA   Holy See (Vatican City State)        1974 .va   ISO 3166-2:VA\n",
       "237 VC   Saint Vincent and the Grenadines     1974 .vc   ISO 3166-2:VC\n",
       "238 VE   Venezuela, Bolivarian Republic of    1974 .ve   ISO 3166-2:VE\n",
       "239 VG   Virgin Islands, British              1974 .vg   ISO 3166-2:VG\n",
       "240 VI   Virgin Islands, U.S.                 1974 .vi   ISO 3166-2:VI\n",
       "241 VN   Viet Nam                             1974 .vn   ISO 3166-2:VN\n",
       "242 VU   Vanuatu                              1980 .vu   ISO 3166-2:VU\n",
       "243 WF   Wallis and Futuna                    1974 .wf   ISO 3166-2:WF\n",
       "244 WS   Samoa                                1974 .ws   ISO 3166-2:WS\n",
       "245 YE   Yemen                                1974 .ye   ISO 3166-2:YE\n",
       "246 YT   Mayotte                              1993 .yt   ISO 3166-2:YT\n",
       "247 ZA   South Africa                         1974 .za   ISO 3166-2:ZA\n",
       "248 ZM   Zambia                               1974 .zm   ISO 3166-2:ZM\n",
       "249 ZW   Zimbabwe                             1980 .zw   ISO 3166-2:ZW\n",
       "    Notes                                                                                                                                                                                                                                                                   \n",
       "1                                                                                                                                                                                                                                                                           \n",
       "2                                                                                                                                                                                                                                                                           \n",
       "3                                                                                                                                                                                                                                                                           \n",
       "4                                                                                                                                                                                                                                                                           \n",
       "5   AI previously represented French Afar and Issas                                                                                                                                                                                                                         \n",
       "6                                                                                                                                                                                                                                                                           \n",
       "7                                                                                                                                                                                                                                                                           \n",
       "8                                                                                                                                                                                                                                                                           \n",
       "9   Covers the territories south of 60Â° south latitude\\nCode taken from name in French: Antarctique                                                                                                                                                                        \n",
       "10                                                                                                                                                                                                                                                                          \n",
       "11                                                                                                                                                                                                                                                                          \n",
       "12                                                                                                                                                                                                                                                                          \n",
       "13  Includes the Ashmore and Cartier Islands and the Coral Sea Islands                                                                                                                                                                                                      \n",
       "14                                                                                                                                                                                                                                                                          \n",
       "15  An autonomous province of Finland                                                                                                                                                                                                                                       \n",
       "16                                                                                                                                                                                                                                                                          \n",
       "17                                                                                                                                                                                                                                                                          \n",
       "18                                                                                                                                                                                                                                                                          \n",
       "19                                                                                                                                                                                                                                                                          \n",
       "20                                                                                                                                                                                                                                                                          \n",
       "21  Name changed from Upper Volta (HV)                                                                                                                                                                                                                                      \n",
       "22                                                                                                                                                                                                                                                                          \n",
       "23                                                                                                                                                                                                                                                                          \n",
       "24                                                                                                                                                                                                                                                                          \n",
       "25  Name changed from Dahomey (DY)                                                                                                                                                                                                                                          \n",
       "26                                                                                                                                                                                                                                                                          \n",
       "27                                                                                                                                                                                                                                                                          \n",
       "28  ISO country name follows UN designation (common name: Brunei)                                                                                                                                                                                                           \n",
       "29  ISO country name follows UN designation (common name and previous ISO country name: Bolivia)                                                                                                                                                                            \n",
       "30  Consists of three Caribbean \\\\special municipalities\\\\, which are part of the Netherlands proper: Bonaire, Sint Eustatius, and Saba (the BES Islands)\\nPrevious ISO country name: Bonaire, Saint Eustatius and SabaBQ previously represented British Antarctic Territory\n",
       "⋮   ⋮                                                                                                                                                                                                                                                                       \n",
       "220                                                                                                                                                                                                                                                                         \n",
       "221 Name changed from East Timor (TP)                                                                                                                                                                                                                                       \n",
       "222                                                                                                                                                                                                                                                                         \n",
       "223                                                                                                                                                                                                                                                                         \n",
       "224                                                                                                                                                                                                                                                                         \n",
       "225                                                                                                                                                                                                                                                                         \n",
       "226                                                                                                                                                                                                                                                                         \n",
       "227                                                                                                                                                                                                                                                                         \n",
       "228 Covers the current jurisdiction of the Republic of China except Kinmen and Lienchiang\\nISO country name follows UN designation (due to political status of Taiwan within the UN)[18]                                                                                    \n",
       "229 ISO country name follows UN designation (common name: Tanzania)                                                                                                                                                                                                         \n",
       "230 Previous ISO country name: Ukrainian SSR\\nCode assigned as the country was already a UN member since 1945[17]                                                                                                                                                           \n",
       "231                                                                                                                                                                                                                                                                         \n",
       "232 Consists of nine minor insular areas of the United States: Baker Island, Howland Island, Jarvis Island, Johnston Atoll, Kingman Reef, Midway Islands, Navassa Island, Palmyra Atoll, and Wake Island                                                                    \n",
       "233                                                                                                                                                                                                                                                                         \n",
       "234                                                                                                                                                                                                                                                                         \n",
       "235                                                                                                                                                                                                                                                                         \n",
       "236 Covers Vatican City, territory of the Holy See\\nPrevious ISO country name: Vatican City State (Holy See)                                                                                                                                                                \n",
       "237                                                                                                                                                                                                                                                                         \n",
       "238 ISO country name follows UN designation (common name and previous ISO country name: Venezuela)                                                                                                                                                                          \n",
       "239                                                                                                                                                                                                                                                                         \n",
       "240                                                                                                                                                                                                                                                                         \n",
       "241 ISO country name follows UN designation (common name: Vietnam)                                                                                                                                                                                                          \n",
       "242 Name changed from New Hebrides (NH)                                                                                                                                                                                                                                     \n",
       "243                                                                                                                                                                                                                                                                         \n",
       "244 Code taken from former name: Western Samoa                                                                                                                                                                                                                              \n",
       "245 Previous ISO country name: Yemen, Republic of\\nCode used for North Yemen before 1990                                                                                                                                                                                    \n",
       "246                                                                                                                                                                                                                                                                         \n",
       "247 Code taken from name in Dutch: Zuid-Afrika                                                                                                                                                                                                                              \n",
       "248                                                                                                                                                                                                                                                                         \n",
       "249 Name changed from Southern Rhodesia (RH)                                                                                                                                                                                                                                \n",
       "    GovernmentType                                                                                                                                                                          \n",
       "1   parliamentary democracy                                                                                                                                                                 \n",
       "2   federation with specified powers delegated to the UAE federal government and other powers reserved to member emirates                                                                   \n",
       "3   Islamic republic                                                                                                                                                                        \n",
       "4   constitutional monarchy with a parliamentary system of government and a Commonwealth realm                                                                                              \n",
       "5   NA                                                                                                                                                                                      \n",
       "6   parliamentary democracy                                                                                                                                                                 \n",
       "7   republic                                                                                                                                                                                \n",
       "8   republic; multiparty presidential regime                                                                                                                                                \n",
       "9   NA                                                                                                                                                                                      \n",
       "10  republic                                                                                                                                                                                \n",
       "11  NA                                                                                                                                                                                      \n",
       "12  federal republic                                                                                                                                                                        \n",
       "13  federal parliamentary democracy and a Commonwealth realm                                                                                                                                \n",
       "14  parliamentary democracy                                                                                                                                                                 \n",
       "15  NA                                                                                                                                                                                      \n",
       "16  republic                                                                                                                                                                                \n",
       "17  emerging federal democratic republic                                                                                                                                                    \n",
       "18  parliamentary democracy and a Commonwealth realm                                                                                                                                        \n",
       "19  parliamentary democracy                                                                                                                                                                 \n",
       "20  federal parliamentary democracy under a constitutional monarchy                                                                                                                         \n",
       "21  parliamentary republic                                                                                                                                                                  \n",
       "22  parliamentary democracy                                                                                                                                                                 \n",
       "23  constitutional monarchy                                                                                                                                                                 \n",
       "24  republic                                                                                                                                                                                \n",
       "25  republic                                                                                                                                                                                \n",
       "26  NA                                                                                                                                                                                      \n",
       "27  parliamentary; self-governing territory                                                                                                                                                 \n",
       "28  NA                                                                                                                                                                                      \n",
       "29  NA                                                                                                                                                                                      \n",
       "30  NA                                                                                                                                                                                      \n",
       "⋮   ⋮                                                                                                                                                                                       \n",
       "220 NA                                                                                                                                                                                      \n",
       "221 republic                                                                                                                                                                                \n",
       "222 defines itself as a secular democracy and a presidential republic; in actuality displays authoritarian presidential rule, with power concentrated within the presidential administration\n",
       "223 republic                                                                                                                                                                                \n",
       "224 constitutional monarchy                                                                                                                                                                 \n",
       "225 republican parliamentary democracy                                                                                                                                                      \n",
       "226 parliamentary democracy                                                                                                                                                                 \n",
       "227 parliamentary democracy and a Commonwealth realm                                                                                                                                        \n",
       "228 NA                                                                                                                                                                                      \n",
       "229 NA                                                                                                                                                                                      \n",
       "230 republic                                                                                                                                                                                \n",
       "231 republic                                                                                                                                                                                \n",
       "232 NA                                                                                                                                                                                      \n",
       "233 Constitution-based federal republic; strong democratic tradition                                                                                                                        \n",
       "234 constitutional republic                                                                                                                                                                 \n",
       "235 republic; authoritarian presidential rule, with little power outside the executive branch                                                                                               \n",
       "236 NA                                                                                                                                                                                      \n",
       "237 parliamentary democracy and a Commonwealth realm                                                                                                                                        \n",
       "238 NA                                                                                                                                                                                      \n",
       "239 NA                                                                                                                                                                                      \n",
       "240 NA                                                                                                                                                                                      \n",
       "241 NA                                                                                                                                                                                      \n",
       "242 parliamentary republic                                                                                                                                                                  \n",
       "243 parliamentary representive democratic French overseas collectivity                                                                                                                      \n",
       "244 parliamentary democracy                                                                                                                                                                 \n",
       "245 republic                                                                                                                                                                                \n",
       "246 NA                                                                                                                                                                                      \n",
       "247 republic                                                                                                                                                                                \n",
       "248 republic                                                                                                                                                                                \n",
       "249 parliamentary democracy                                                                                                                                                                 "
      ]
     },
     "metadata": {},
     "output_type": "display_data"
    }
   ],
   "source": [
    "CountryJoined \n",
    "# 잘 합쳐진 것을 볼 수 있다."
   ]
  },
  {
   "cell_type": "code",
   "execution_count": 18,
   "metadata": {},
   "outputs": [
    {
     "name": "stderr",
     "output_type": "stream",
     "text": [
      "Loading required package: reshape2\n",
      "\n"
     ]
    },
    {
     "data": {
      "text/html": [
       "<table class=\"dataframe\">\n",
       "<caption>A data.frame: 6 × 6</caption>\n",
       "<thead>\n",
       "\t<tr><th></th><th scope=col>Ozone</th><th scope=col>Solar.R</th><th scope=col>Wind</th><th scope=col>Temp</th><th scope=col>Month</th><th scope=col>Day</th></tr>\n",
       "\t<tr><th></th><th scope=col>&lt;int&gt;</th><th scope=col>&lt;int&gt;</th><th scope=col>&lt;dbl&gt;</th><th scope=col>&lt;int&gt;</th><th scope=col>&lt;int&gt;</th><th scope=col>&lt;int&gt;</th></tr>\n",
       "</thead>\n",
       "<tbody>\n",
       "\t<tr><th scope=row>1</th><td>41</td><td>190</td><td> 7.4</td><td>67</td><td>5</td><td>1</td></tr>\n",
       "\t<tr><th scope=row>2</th><td>36</td><td>118</td><td> 8.0</td><td>72</td><td>5</td><td>2</td></tr>\n",
       "\t<tr><th scope=row>3</th><td>12</td><td>149</td><td>12.6</td><td>74</td><td>5</td><td>3</td></tr>\n",
       "\t<tr><th scope=row>4</th><td>18</td><td>313</td><td>11.5</td><td>62</td><td>5</td><td>4</td></tr>\n",
       "\t<tr><th scope=row>5</th><td>NA</td><td> NA</td><td>14.3</td><td>56</td><td>5</td><td>5</td></tr>\n",
       "\t<tr><th scope=row>6</th><td>28</td><td> NA</td><td>14.9</td><td>66</td><td>5</td><td>6</td></tr>\n",
       "</tbody>\n",
       "</table>\n"
      ],
      "text/latex": [
       "A data.frame: 6 × 6\n",
       "\\begin{tabular}{r|llllll}\n",
       "  & Ozone & Solar.R & Wind & Temp & Month & Day\\\\\n",
       "  & <int> & <int> & <dbl> & <int> & <int> & <int>\\\\\n",
       "\\hline\n",
       "\t1 & 41 & 190 &  7.4 & 67 & 5 & 1\\\\\n",
       "\t2 & 36 & 118 &  8.0 & 72 & 5 & 2\\\\\n",
       "\t3 & 12 & 149 & 12.6 & 74 & 5 & 3\\\\\n",
       "\t4 & 18 & 313 & 11.5 & 62 & 5 & 4\\\\\n",
       "\t5 & NA &  NA & 14.3 & 56 & 5 & 5\\\\\n",
       "\t6 & 28 &  NA & 14.9 & 66 & 5 & 6\\\\\n",
       "\\end{tabular}\n"
      ],
      "text/markdown": [
       "\n",
       "A data.frame: 6 × 6\n",
       "\n",
       "| <!--/--> | Ozone &lt;int&gt; | Solar.R &lt;int&gt; | Wind &lt;dbl&gt; | Temp &lt;int&gt; | Month &lt;int&gt; | Day &lt;int&gt; |\n",
       "|---|---|---|---|---|---|---|\n",
       "| 1 | 41 | 190 |  7.4 | 67 | 5 | 1 |\n",
       "| 2 | 36 | 118 |  8.0 | 72 | 5 | 2 |\n",
       "| 3 | 12 | 149 | 12.6 | 74 | 5 | 3 |\n",
       "| 4 | 18 | 313 | 11.5 | 62 | 5 | 4 |\n",
       "| 5 | NA |  NA | 14.3 | 56 | 5 | 5 |\n",
       "| 6 | 28 |  NA | 14.9 | 66 | 5 | 6 |\n",
       "\n"
      ],
      "text/plain": [
       "  Ozone Solar.R Wind Temp Month Day\n",
       "1 41    190      7.4 67   5     1  \n",
       "2 36    118      8.0 72   5     2  \n",
       "3 12    149     12.6 74   5     3  \n",
       "4 18    313     11.5 62   5     4  \n",
       "5 NA     NA     14.3 56   5     5  \n",
       "6 28     NA     14.9 66   5     6  "
      ]
     },
     "metadata": {},
     "output_type": "display_data"
    }
   ],
   "source": [
    "require(reshape2)\n",
    "head(airquality)"
   ]
  },
  {
   "cell_type": "code",
   "execution_count": 20,
   "metadata": {},
   "outputs": [],
   "source": [
    "airMelt <- melt(airquality, id=c(\"Month\",\"Day\"), \n",
    "                value.name=\"Value\", \n",
    "                variable.name=\"metric\")"
   ]
  },
  {
   "cell_type": "code",
   "execution_count": 21,
   "metadata": {},
   "outputs": [
    {
     "data": {
      "text/html": [
       "<table class=\"dataframe\">\n",
       "<caption>A data.frame: 6 × 4</caption>\n",
       "<thead>\n",
       "\t<tr><th></th><th scope=col>Month</th><th scope=col>Day</th><th scope=col>metric</th><th scope=col>Value</th></tr>\n",
       "\t<tr><th></th><th scope=col>&lt;int&gt;</th><th scope=col>&lt;int&gt;</th><th scope=col>&lt;fct&gt;</th><th scope=col>&lt;dbl&gt;</th></tr>\n",
       "</thead>\n",
       "<tbody>\n",
       "\t<tr><th scope=row>1</th><td>5</td><td>1</td><td>Ozone</td><td>41</td></tr>\n",
       "\t<tr><th scope=row>2</th><td>5</td><td>2</td><td>Ozone</td><td>36</td></tr>\n",
       "\t<tr><th scope=row>3</th><td>5</td><td>3</td><td>Ozone</td><td>12</td></tr>\n",
       "\t<tr><th scope=row>4</th><td>5</td><td>4</td><td>Ozone</td><td>18</td></tr>\n",
       "\t<tr><th scope=row>5</th><td>5</td><td>5</td><td>Ozone</td><td>NA</td></tr>\n",
       "\t<tr><th scope=row>6</th><td>5</td><td>6</td><td>Ozone</td><td>28</td></tr>\n",
       "</tbody>\n",
       "</table>\n"
      ],
      "text/latex": [
       "A data.frame: 6 × 4\n",
       "\\begin{tabular}{r|llll}\n",
       "  & Month & Day & metric & Value\\\\\n",
       "  & <int> & <int> & <fct> & <dbl>\\\\\n",
       "\\hline\n",
       "\t1 & 5 & 1 & Ozone & 41\\\\\n",
       "\t2 & 5 & 2 & Ozone & 36\\\\\n",
       "\t3 & 5 & 3 & Ozone & 12\\\\\n",
       "\t4 & 5 & 4 & Ozone & 18\\\\\n",
       "\t5 & 5 & 5 & Ozone & NA\\\\\n",
       "\t6 & 5 & 6 & Ozone & 28\\\\\n",
       "\\end{tabular}\n"
      ],
      "text/markdown": [
       "\n",
       "A data.frame: 6 × 4\n",
       "\n",
       "| <!--/--> | Month &lt;int&gt; | Day &lt;int&gt; | metric &lt;fct&gt; | Value &lt;dbl&gt; |\n",
       "|---|---|---|---|---|\n",
       "| 1 | 5 | 1 | Ozone | 41 |\n",
       "| 2 | 5 | 2 | Ozone | 36 |\n",
       "| 3 | 5 | 3 | Ozone | 12 |\n",
       "| 4 | 5 | 4 | Ozone | 18 |\n",
       "| 5 | 5 | 5 | Ozone | NA |\n",
       "| 6 | 5 | 6 | Ozone | 28 |\n",
       "\n"
      ],
      "text/plain": [
       "  Month Day metric Value\n",
       "1 5     1   Ozone  41   \n",
       "2 5     2   Ozone  36   \n",
       "3 5     3   Ozone  12   \n",
       "4 5     4   Ozone  18   \n",
       "5 5     5   Ozone  NA   \n",
       "6 5     6   Ozone  28   "
      ]
     },
     "metadata": {},
     "output_type": "display_data"
    }
   ],
   "source": [
    "head(airMelt)"
   ]
  },
  {
   "cell_type": "code",
   "execution_count": 23,
   "metadata": {},
   "outputs": [
    {
     "data": {
      "text/html": [
       "<style>\n",
       ".list-inline {list-style: none; margin:0; padding: 0}\n",
       ".list-inline>li {display: inline-block}\n",
       ".list-inline>li:not(:last-child)::after {content: \"\\00b7\"; padding: 0 .5ex}\n",
       "</style>\n",
       "<ol class=list-inline><li>153</li><li>6</li></ol>\n"
      ],
      "text/latex": [
       "\\begin{enumerate*}\n",
       "\\item 153\n",
       "\\item 6\n",
       "\\end{enumerate*}\n"
      ],
      "text/markdown": [
       "1. 153\n",
       "2. 6\n",
       "\n",
       "\n"
      ],
      "text/plain": [
       "[1] 153   6"
      ]
     },
     "metadata": {},
     "output_type": "display_data"
    },
    {
     "data": {
      "text/html": [
       "<style>\n",
       ".list-inline {list-style: none; margin:0; padding: 0}\n",
       ".list-inline>li {display: inline-block}\n",
       ".list-inline>li:not(:last-child)::after {content: \"\\00b7\"; padding: 0 .5ex}\n",
       "</style>\n",
       "<ol class=list-inline><li>612</li><li>4</li></ol>\n"
      ],
      "text/latex": [
       "\\begin{enumerate*}\n",
       "\\item 612\n",
       "\\item 4\n",
       "\\end{enumerate*}\n"
      ],
      "text/markdown": [
       "1. 612\n",
       "2. 4\n",
       "\n",
       "\n"
      ],
      "text/plain": [
       "[1] 612   4"
      ]
     },
     "metadata": {},
     "output_type": "display_data"
    }
   ],
   "source": [
    "dim(airquality)\n",
    "dim(airMelt)\n",
    "# 데이터가 길어졌다."
   ]
  },
  {
   "cell_type": "code",
   "execution_count": 25,
   "metadata": {},
   "outputs": [],
   "source": [
    "airCast<-dcast(airMelt, Month + Day ~ metric, value.var=\"Value\") \n",
    "# dcast melt의 반대다"
   ]
  },
  {
   "cell_type": "code",
   "execution_count": 26,
   "metadata": {},
   "outputs": [
    {
     "data": {
      "text/html": [
       "<table class=\"dataframe\">\n",
       "<caption>A data.frame: 6 × 6</caption>\n",
       "<thead>\n",
       "\t<tr><th></th><th scope=col>Month</th><th scope=col>Day</th><th scope=col>Ozone</th><th scope=col>Solar.R</th><th scope=col>Wind</th><th scope=col>Temp</th></tr>\n",
       "\t<tr><th></th><th scope=col>&lt;int&gt;</th><th scope=col>&lt;int&gt;</th><th scope=col>&lt;dbl&gt;</th><th scope=col>&lt;dbl&gt;</th><th scope=col>&lt;dbl&gt;</th><th scope=col>&lt;dbl&gt;</th></tr>\n",
       "</thead>\n",
       "<tbody>\n",
       "\t<tr><th scope=row>1</th><td>5</td><td>1</td><td>41</td><td>190</td><td> 7.4</td><td>67</td></tr>\n",
       "\t<tr><th scope=row>2</th><td>5</td><td>2</td><td>36</td><td>118</td><td> 8.0</td><td>72</td></tr>\n",
       "\t<tr><th scope=row>3</th><td>5</td><td>3</td><td>12</td><td>149</td><td>12.6</td><td>74</td></tr>\n",
       "\t<tr><th scope=row>4</th><td>5</td><td>4</td><td>18</td><td>313</td><td>11.5</td><td>62</td></tr>\n",
       "\t<tr><th scope=row>5</th><td>5</td><td>5</td><td>NA</td><td> NA</td><td>14.3</td><td>56</td></tr>\n",
       "\t<tr><th scope=row>6</th><td>5</td><td>6</td><td>28</td><td> NA</td><td>14.9</td><td>66</td></tr>\n",
       "</tbody>\n",
       "</table>\n"
      ],
      "text/latex": [
       "A data.frame: 6 × 6\n",
       "\\begin{tabular}{r|llllll}\n",
       "  & Month & Day & Ozone & Solar.R & Wind & Temp\\\\\n",
       "  & <int> & <int> & <dbl> & <dbl> & <dbl> & <dbl>\\\\\n",
       "\\hline\n",
       "\t1 & 5 & 1 & 41 & 190 &  7.4 & 67\\\\\n",
       "\t2 & 5 & 2 & 36 & 118 &  8.0 & 72\\\\\n",
       "\t3 & 5 & 3 & 12 & 149 & 12.6 & 74\\\\\n",
       "\t4 & 5 & 4 & 18 & 313 & 11.5 & 62\\\\\n",
       "\t5 & 5 & 5 & NA &  NA & 14.3 & 56\\\\\n",
       "\t6 & 5 & 6 & 28 &  NA & 14.9 & 66\\\\\n",
       "\\end{tabular}\n"
      ],
      "text/markdown": [
       "\n",
       "A data.frame: 6 × 6\n",
       "\n",
       "| <!--/--> | Month &lt;int&gt; | Day &lt;int&gt; | Ozone &lt;dbl&gt; | Solar.R &lt;dbl&gt; | Wind &lt;dbl&gt; | Temp &lt;dbl&gt; |\n",
       "|---|---|---|---|---|---|---|\n",
       "| 1 | 5 | 1 | 41 | 190 |  7.4 | 67 |\n",
       "| 2 | 5 | 2 | 36 | 118 |  8.0 | 72 |\n",
       "| 3 | 5 | 3 | 12 | 149 | 12.6 | 74 |\n",
       "| 4 | 5 | 4 | 18 | 313 | 11.5 | 62 |\n",
       "| 5 | 5 | 5 | NA |  NA | 14.3 | 56 |\n",
       "| 6 | 5 | 6 | 28 |  NA | 14.9 | 66 |\n",
       "\n"
      ],
      "text/plain": [
       "  Month Day Ozone Solar.R Wind Temp\n",
       "1 5     1   41    190      7.4 67  \n",
       "2 5     2   36    118      8.0 72  \n",
       "3 5     3   12    149     12.6 74  \n",
       "4 5     4   18    313     11.5 62  \n",
       "5 5     5   NA     NA     14.3 56  \n",
       "6 5     6   28     NA     14.9 66  "
      ]
     },
     "metadata": {},
     "output_type": "display_data"
    }
   ],
   "source": [
    "head(airCast)"
   ]
  },
  {
   "cell_type": "code",
   "execution_count": 27,
   "metadata": {},
   "outputs": [],
   "source": [
    "airCast <- airCast[, c(\"Ozone\", \"Solar.R\", \"Wind\", \"Month\", \"Day\")]"
   ]
  },
  {
   "cell_type": "code",
   "execution_count": 29,
   "metadata": {},
   "outputs": [
    {
     "data": {
      "text/html": [
       "<table class=\"dataframe\">\n",
       "<caption>A data.frame: 3 × 5</caption>\n",
       "<thead>\n",
       "\t<tr><th></th><th scope=col>Ozone</th><th scope=col>Solar.R</th><th scope=col>Wind</th><th scope=col>Month</th><th scope=col>Day</th></tr>\n",
       "\t<tr><th></th><th scope=col>&lt;dbl&gt;</th><th scope=col>&lt;dbl&gt;</th><th scope=col>&lt;dbl&gt;</th><th scope=col>&lt;int&gt;</th><th scope=col>&lt;int&gt;</th></tr>\n",
       "</thead>\n",
       "<tbody>\n",
       "\t<tr><th scope=row>1</th><td>41</td><td>190</td><td> 7.4</td><td>5</td><td>1</td></tr>\n",
       "\t<tr><th scope=row>2</th><td>36</td><td>118</td><td> 8.0</td><td>5</td><td>2</td></tr>\n",
       "\t<tr><th scope=row>3</th><td>12</td><td>149</td><td>12.6</td><td>5</td><td>3</td></tr>\n",
       "</tbody>\n",
       "</table>\n"
      ],
      "text/latex": [
       "A data.frame: 3 × 5\n",
       "\\begin{tabular}{r|lllll}\n",
       "  & Ozone & Solar.R & Wind & Month & Day\\\\\n",
       "  & <dbl> & <dbl> & <dbl> & <int> & <int>\\\\\n",
       "\\hline\n",
       "\t1 & 41 & 190 &  7.4 & 5 & 1\\\\\n",
       "\t2 & 36 & 118 &  8.0 & 5 & 2\\\\\n",
       "\t3 & 12 & 149 & 12.6 & 5 & 3\\\\\n",
       "\\end{tabular}\n"
      ],
      "text/markdown": [
       "\n",
       "A data.frame: 3 × 5\n",
       "\n",
       "| <!--/--> | Ozone &lt;dbl&gt; | Solar.R &lt;dbl&gt; | Wind &lt;dbl&gt; | Month &lt;int&gt; | Day &lt;int&gt; |\n",
       "|---|---|---|---|---|---|\n",
       "| 1 | 41 | 190 |  7.4 | 5 | 1 |\n",
       "| 2 | 36 | 118 |  8.0 | 5 | 2 |\n",
       "| 3 | 12 | 149 | 12.6 | 5 | 3 |\n",
       "\n"
      ],
      "text/plain": [
       "  Ozone Solar.R Wind Month Day\n",
       "1 41    190      7.4 5     1  \n",
       "2 36    118      8.0 5     2  \n",
       "3 12    149     12.6 5     3  "
      ]
     },
     "metadata": {},
     "output_type": "display_data"
    }
   ],
   "source": [
    "head(airCast, 3)\n",
    "# 이런 식으로 데이터를 변환하는 것에 익숙해져야 한다. "
   ]
  },
  {
   "cell_type": "markdown",
   "metadata": {},
   "source": [
    "이제 대망의 tidyr에 대해서 배워보자."
   ]
  },
  {
   "cell_type": "code",
   "execution_count": 30,
   "metadata": {},
   "outputs": [
    {
     "data": {
      "text/html": [
       "<table class=\"dataframe\">\n",
       "<caption>A data.frame: 6 × 6</caption>\n",
       "<thead>\n",
       "\t<tr><th></th><th scope=col>Ozone</th><th scope=col>Solar.R</th><th scope=col>Wind</th><th scope=col>Temp</th><th scope=col>Month</th><th scope=col>Day</th></tr>\n",
       "\t<tr><th></th><th scope=col>&lt;int&gt;</th><th scope=col>&lt;int&gt;</th><th scope=col>&lt;dbl&gt;</th><th scope=col>&lt;int&gt;</th><th scope=col>&lt;int&gt;</th><th scope=col>&lt;int&gt;</th></tr>\n",
       "</thead>\n",
       "<tbody>\n",
       "\t<tr><th scope=row>1</th><td>41</td><td>190</td><td> 7.4</td><td>67</td><td>5</td><td>1</td></tr>\n",
       "\t<tr><th scope=row>2</th><td>36</td><td>118</td><td> 8.0</td><td>72</td><td>5</td><td>2</td></tr>\n",
       "\t<tr><th scope=row>3</th><td>12</td><td>149</td><td>12.6</td><td>74</td><td>5</td><td>3</td></tr>\n",
       "\t<tr><th scope=row>4</th><td>18</td><td>313</td><td>11.5</td><td>62</td><td>5</td><td>4</td></tr>\n",
       "\t<tr><th scope=row>5</th><td>NA</td><td> NA</td><td>14.3</td><td>56</td><td>5</td><td>5</td></tr>\n",
       "\t<tr><th scope=row>6</th><td>28</td><td> NA</td><td>14.9</td><td>66</td><td>5</td><td>6</td></tr>\n",
       "</tbody>\n",
       "</table>\n"
      ],
      "text/latex": [
       "A data.frame: 6 × 6\n",
       "\\begin{tabular}{r|llllll}\n",
       "  & Ozone & Solar.R & Wind & Temp & Month & Day\\\\\n",
       "  & <int> & <int> & <dbl> & <int> & <int> & <int>\\\\\n",
       "\\hline\n",
       "\t1 & 41 & 190 &  7.4 & 67 & 5 & 1\\\\\n",
       "\t2 & 36 & 118 &  8.0 & 72 & 5 & 2\\\\\n",
       "\t3 & 12 & 149 & 12.6 & 74 & 5 & 3\\\\\n",
       "\t4 & 18 & 313 & 11.5 & 62 & 5 & 4\\\\\n",
       "\t5 & NA &  NA & 14.3 & 56 & 5 & 5\\\\\n",
       "\t6 & 28 &  NA & 14.9 & 66 & 5 & 6\\\\\n",
       "\\end{tabular}\n"
      ],
      "text/markdown": [
       "\n",
       "A data.frame: 6 × 6\n",
       "\n",
       "| <!--/--> | Ozone &lt;int&gt; | Solar.R &lt;int&gt; | Wind &lt;dbl&gt; | Temp &lt;int&gt; | Month &lt;int&gt; | Day &lt;int&gt; |\n",
       "|---|---|---|---|---|---|---|\n",
       "| 1 | 41 | 190 |  7.4 | 67 | 5 | 1 |\n",
       "| 2 | 36 | 118 |  8.0 | 72 | 5 | 2 |\n",
       "| 3 | 12 | 149 | 12.6 | 74 | 5 | 3 |\n",
       "| 4 | 18 | 313 | 11.5 | 62 | 5 | 4 |\n",
       "| 5 | NA |  NA | 14.3 | 56 | 5 | 5 |\n",
       "| 6 | 28 |  NA | 14.9 | 66 | 5 | 6 |\n",
       "\n"
      ],
      "text/plain": [
       "  Ozone Solar.R Wind Temp Month Day\n",
       "1 41    190      7.4 67   5     1  \n",
       "2 36    118      8.0 72   5     2  \n",
       "3 12    149     12.6 74   5     3  \n",
       "4 18    313     11.5 62   5     4  \n",
       "5 NA     NA     14.3 56   5     5  \n",
       "6 28     NA     14.9 66   5     6  "
      ]
     },
     "metadata": {},
     "output_type": "display_data"
    }
   ],
   "source": [
    "head(airquality)"
   ]
  },
  {
   "cell_type": "code",
   "execution_count": 33,
   "metadata": {},
   "outputs": [],
   "source": [
    "require(tidyr)\n",
    "airGather <- airquality %>% gather(Metric,#metric이라는 새로운 데이터\n",
    "                                                  Value, \n",
    "                                                  -c(Month, Day))"
   ]
  },
  {
   "cell_type": "code",
   "execution_count": 34,
   "metadata": {},
   "outputs": [
    {
     "data": {
      "text/html": [
       "<table class=\"dataframe\">\n",
       "<caption>A data.frame: 612 × 4</caption>\n",
       "<thead>\n",
       "\t<tr><th scope=col>Month</th><th scope=col>Day</th><th scope=col>Metric</th><th scope=col>Value</th></tr>\n",
       "\t<tr><th scope=col>&lt;int&gt;</th><th scope=col>&lt;int&gt;</th><th scope=col>&lt;chr&gt;</th><th scope=col>&lt;dbl&gt;</th></tr>\n",
       "</thead>\n",
       "<tbody>\n",
       "\t<tr><td>5</td><td> 1</td><td>Ozone</td><td> 41</td></tr>\n",
       "\t<tr><td>5</td><td> 2</td><td>Ozone</td><td> 36</td></tr>\n",
       "\t<tr><td>5</td><td> 3</td><td>Ozone</td><td> 12</td></tr>\n",
       "\t<tr><td>5</td><td> 4</td><td>Ozone</td><td> 18</td></tr>\n",
       "\t<tr><td>5</td><td> 5</td><td>Ozone</td><td> NA</td></tr>\n",
       "\t<tr><td>5</td><td> 6</td><td>Ozone</td><td> 28</td></tr>\n",
       "\t<tr><td>5</td><td> 7</td><td>Ozone</td><td> 23</td></tr>\n",
       "\t<tr><td>5</td><td> 8</td><td>Ozone</td><td> 19</td></tr>\n",
       "\t<tr><td>5</td><td> 9</td><td>Ozone</td><td>  8</td></tr>\n",
       "\t<tr><td>5</td><td>10</td><td>Ozone</td><td> NA</td></tr>\n",
       "\t<tr><td>5</td><td>11</td><td>Ozone</td><td>  7</td></tr>\n",
       "\t<tr><td>5</td><td>12</td><td>Ozone</td><td> 16</td></tr>\n",
       "\t<tr><td>5</td><td>13</td><td>Ozone</td><td> 11</td></tr>\n",
       "\t<tr><td>5</td><td>14</td><td>Ozone</td><td> 14</td></tr>\n",
       "\t<tr><td>5</td><td>15</td><td>Ozone</td><td> 18</td></tr>\n",
       "\t<tr><td>5</td><td>16</td><td>Ozone</td><td> 14</td></tr>\n",
       "\t<tr><td>5</td><td>17</td><td>Ozone</td><td> 34</td></tr>\n",
       "\t<tr><td>5</td><td>18</td><td>Ozone</td><td>  6</td></tr>\n",
       "\t<tr><td>5</td><td>19</td><td>Ozone</td><td> 30</td></tr>\n",
       "\t<tr><td>5</td><td>20</td><td>Ozone</td><td> 11</td></tr>\n",
       "\t<tr><td>5</td><td>21</td><td>Ozone</td><td>  1</td></tr>\n",
       "\t<tr><td>5</td><td>22</td><td>Ozone</td><td> 11</td></tr>\n",
       "\t<tr><td>5</td><td>23</td><td>Ozone</td><td>  4</td></tr>\n",
       "\t<tr><td>5</td><td>24</td><td>Ozone</td><td> 32</td></tr>\n",
       "\t<tr><td>5</td><td>25</td><td>Ozone</td><td> NA</td></tr>\n",
       "\t<tr><td>5</td><td>26</td><td>Ozone</td><td> NA</td></tr>\n",
       "\t<tr><td>5</td><td>27</td><td>Ozone</td><td> NA</td></tr>\n",
       "\t<tr><td>5</td><td>28</td><td>Ozone</td><td> 23</td></tr>\n",
       "\t<tr><td>5</td><td>29</td><td>Ozone</td><td> 45</td></tr>\n",
       "\t<tr><td>5</td><td>30</td><td>Ozone</td><td>115</td></tr>\n",
       "\t<tr><td>⋮</td><td>⋮</td><td>⋮</td><td>⋮</td></tr>\n",
       "\t<tr><td>9</td><td> 1</td><td>Temp</td><td>91</td></tr>\n",
       "\t<tr><td>9</td><td> 2</td><td>Temp</td><td>92</td></tr>\n",
       "\t<tr><td>9</td><td> 3</td><td>Temp</td><td>93</td></tr>\n",
       "\t<tr><td>9</td><td> 4</td><td>Temp</td><td>93</td></tr>\n",
       "\t<tr><td>9</td><td> 5</td><td>Temp</td><td>87</td></tr>\n",
       "\t<tr><td>9</td><td> 6</td><td>Temp</td><td>84</td></tr>\n",
       "\t<tr><td>9</td><td> 7</td><td>Temp</td><td>80</td></tr>\n",
       "\t<tr><td>9</td><td> 8</td><td>Temp</td><td>78</td></tr>\n",
       "\t<tr><td>9</td><td> 9</td><td>Temp</td><td>75</td></tr>\n",
       "\t<tr><td>9</td><td>10</td><td>Temp</td><td>73</td></tr>\n",
       "\t<tr><td>9</td><td>11</td><td>Temp</td><td>81</td></tr>\n",
       "\t<tr><td>9</td><td>12</td><td>Temp</td><td>76</td></tr>\n",
       "\t<tr><td>9</td><td>13</td><td>Temp</td><td>77</td></tr>\n",
       "\t<tr><td>9</td><td>14</td><td>Temp</td><td>71</td></tr>\n",
       "\t<tr><td>9</td><td>15</td><td>Temp</td><td>71</td></tr>\n",
       "\t<tr><td>9</td><td>16</td><td>Temp</td><td>78</td></tr>\n",
       "\t<tr><td>9</td><td>17</td><td>Temp</td><td>67</td></tr>\n",
       "\t<tr><td>9</td><td>18</td><td>Temp</td><td>76</td></tr>\n",
       "\t<tr><td>9</td><td>19</td><td>Temp</td><td>68</td></tr>\n",
       "\t<tr><td>9</td><td>20</td><td>Temp</td><td>82</td></tr>\n",
       "\t<tr><td>9</td><td>21</td><td>Temp</td><td>64</td></tr>\n",
       "\t<tr><td>9</td><td>22</td><td>Temp</td><td>71</td></tr>\n",
       "\t<tr><td>9</td><td>23</td><td>Temp</td><td>81</td></tr>\n",
       "\t<tr><td>9</td><td>24</td><td>Temp</td><td>69</td></tr>\n",
       "\t<tr><td>9</td><td>25</td><td>Temp</td><td>63</td></tr>\n",
       "\t<tr><td>9</td><td>26</td><td>Temp</td><td>70</td></tr>\n",
       "\t<tr><td>9</td><td>27</td><td>Temp</td><td>77</td></tr>\n",
       "\t<tr><td>9</td><td>28</td><td>Temp</td><td>75</td></tr>\n",
       "\t<tr><td>9</td><td>29</td><td>Temp</td><td>76</td></tr>\n",
       "\t<tr><td>9</td><td>30</td><td>Temp</td><td>68</td></tr>\n",
       "</tbody>\n",
       "</table>\n"
      ],
      "text/latex": [
       "A data.frame: 612 × 4\n",
       "\\begin{tabular}{llll}\n",
       " Month & Day & Metric & Value\\\\\n",
       " <int> & <int> & <chr> & <dbl>\\\\\n",
       "\\hline\n",
       "\t 5 &  1 & Ozone &  41\\\\\n",
       "\t 5 &  2 & Ozone &  36\\\\\n",
       "\t 5 &  3 & Ozone &  12\\\\\n",
       "\t 5 &  4 & Ozone &  18\\\\\n",
       "\t 5 &  5 & Ozone &  NA\\\\\n",
       "\t 5 &  6 & Ozone &  28\\\\\n",
       "\t 5 &  7 & Ozone &  23\\\\\n",
       "\t 5 &  8 & Ozone &  19\\\\\n",
       "\t 5 &  9 & Ozone &   8\\\\\n",
       "\t 5 & 10 & Ozone &  NA\\\\\n",
       "\t 5 & 11 & Ozone &   7\\\\\n",
       "\t 5 & 12 & Ozone &  16\\\\\n",
       "\t 5 & 13 & Ozone &  11\\\\\n",
       "\t 5 & 14 & Ozone &  14\\\\\n",
       "\t 5 & 15 & Ozone &  18\\\\\n",
       "\t 5 & 16 & Ozone &  14\\\\\n",
       "\t 5 & 17 & Ozone &  34\\\\\n",
       "\t 5 & 18 & Ozone &   6\\\\\n",
       "\t 5 & 19 & Ozone &  30\\\\\n",
       "\t 5 & 20 & Ozone &  11\\\\\n",
       "\t 5 & 21 & Ozone &   1\\\\\n",
       "\t 5 & 22 & Ozone &  11\\\\\n",
       "\t 5 & 23 & Ozone &   4\\\\\n",
       "\t 5 & 24 & Ozone &  32\\\\\n",
       "\t 5 & 25 & Ozone &  NA\\\\\n",
       "\t 5 & 26 & Ozone &  NA\\\\\n",
       "\t 5 & 27 & Ozone &  NA\\\\\n",
       "\t 5 & 28 & Ozone &  23\\\\\n",
       "\t 5 & 29 & Ozone &  45\\\\\n",
       "\t 5 & 30 & Ozone & 115\\\\\n",
       "\t ⋮ & ⋮ & ⋮ & ⋮\\\\\n",
       "\t 9 &  1 & Temp & 91\\\\\n",
       "\t 9 &  2 & Temp & 92\\\\\n",
       "\t 9 &  3 & Temp & 93\\\\\n",
       "\t 9 &  4 & Temp & 93\\\\\n",
       "\t 9 &  5 & Temp & 87\\\\\n",
       "\t 9 &  6 & Temp & 84\\\\\n",
       "\t 9 &  7 & Temp & 80\\\\\n",
       "\t 9 &  8 & Temp & 78\\\\\n",
       "\t 9 &  9 & Temp & 75\\\\\n",
       "\t 9 & 10 & Temp & 73\\\\\n",
       "\t 9 & 11 & Temp & 81\\\\\n",
       "\t 9 & 12 & Temp & 76\\\\\n",
       "\t 9 & 13 & Temp & 77\\\\\n",
       "\t 9 & 14 & Temp & 71\\\\\n",
       "\t 9 & 15 & Temp & 71\\\\\n",
       "\t 9 & 16 & Temp & 78\\\\\n",
       "\t 9 & 17 & Temp & 67\\\\\n",
       "\t 9 & 18 & Temp & 76\\\\\n",
       "\t 9 & 19 & Temp & 68\\\\\n",
       "\t 9 & 20 & Temp & 82\\\\\n",
       "\t 9 & 21 & Temp & 64\\\\\n",
       "\t 9 & 22 & Temp & 71\\\\\n",
       "\t 9 & 23 & Temp & 81\\\\\n",
       "\t 9 & 24 & Temp & 69\\\\\n",
       "\t 9 & 25 & Temp & 63\\\\\n",
       "\t 9 & 26 & Temp & 70\\\\\n",
       "\t 9 & 27 & Temp & 77\\\\\n",
       "\t 9 & 28 & Temp & 75\\\\\n",
       "\t 9 & 29 & Temp & 76\\\\\n",
       "\t 9 & 30 & Temp & 68\\\\\n",
       "\\end{tabular}\n"
      ],
      "text/markdown": [
       "\n",
       "A data.frame: 612 × 4\n",
       "\n",
       "| Month &lt;int&gt; | Day &lt;int&gt; | Metric &lt;chr&gt; | Value &lt;dbl&gt; |\n",
       "|---|---|---|---|\n",
       "| 5 |  1 | Ozone |  41 |\n",
       "| 5 |  2 | Ozone |  36 |\n",
       "| 5 |  3 | Ozone |  12 |\n",
       "| 5 |  4 | Ozone |  18 |\n",
       "| 5 |  5 | Ozone |  NA |\n",
       "| 5 |  6 | Ozone |  28 |\n",
       "| 5 |  7 | Ozone |  23 |\n",
       "| 5 |  8 | Ozone |  19 |\n",
       "| 5 |  9 | Ozone |   8 |\n",
       "| 5 | 10 | Ozone |  NA |\n",
       "| 5 | 11 | Ozone |   7 |\n",
       "| 5 | 12 | Ozone |  16 |\n",
       "| 5 | 13 | Ozone |  11 |\n",
       "| 5 | 14 | Ozone |  14 |\n",
       "| 5 | 15 | Ozone |  18 |\n",
       "| 5 | 16 | Ozone |  14 |\n",
       "| 5 | 17 | Ozone |  34 |\n",
       "| 5 | 18 | Ozone |   6 |\n",
       "| 5 | 19 | Ozone |  30 |\n",
       "| 5 | 20 | Ozone |  11 |\n",
       "| 5 | 21 | Ozone |   1 |\n",
       "| 5 | 22 | Ozone |  11 |\n",
       "| 5 | 23 | Ozone |   4 |\n",
       "| 5 | 24 | Ozone |  32 |\n",
       "| 5 | 25 | Ozone |  NA |\n",
       "| 5 | 26 | Ozone |  NA |\n",
       "| 5 | 27 | Ozone |  NA |\n",
       "| 5 | 28 | Ozone |  23 |\n",
       "| 5 | 29 | Ozone |  45 |\n",
       "| 5 | 30 | Ozone | 115 |\n",
       "| ⋮ | ⋮ | ⋮ | ⋮ |\n",
       "| 9 |  1 | Temp | 91 |\n",
       "| 9 |  2 | Temp | 92 |\n",
       "| 9 |  3 | Temp | 93 |\n",
       "| 9 |  4 | Temp | 93 |\n",
       "| 9 |  5 | Temp | 87 |\n",
       "| 9 |  6 | Temp | 84 |\n",
       "| 9 |  7 | Temp | 80 |\n",
       "| 9 |  8 | Temp | 78 |\n",
       "| 9 |  9 | Temp | 75 |\n",
       "| 9 | 10 | Temp | 73 |\n",
       "| 9 | 11 | Temp | 81 |\n",
       "| 9 | 12 | Temp | 76 |\n",
       "| 9 | 13 | Temp | 77 |\n",
       "| 9 | 14 | Temp | 71 |\n",
       "| 9 | 15 | Temp | 71 |\n",
       "| 9 | 16 | Temp | 78 |\n",
       "| 9 | 17 | Temp | 67 |\n",
       "| 9 | 18 | Temp | 76 |\n",
       "| 9 | 19 | Temp | 68 |\n",
       "| 9 | 20 | Temp | 82 |\n",
       "| 9 | 21 | Temp | 64 |\n",
       "| 9 | 22 | Temp | 71 |\n",
       "| 9 | 23 | Temp | 81 |\n",
       "| 9 | 24 | Temp | 69 |\n",
       "| 9 | 25 | Temp | 63 |\n",
       "| 9 | 26 | Temp | 70 |\n",
       "| 9 | 27 | Temp | 77 |\n",
       "| 9 | 28 | Temp | 75 |\n",
       "| 9 | 29 | Temp | 76 |\n",
       "| 9 | 30 | Temp | 68 |\n",
       "\n"
      ],
      "text/plain": [
       "    Month Day Metric Value\n",
       "1   5      1  Ozone   41  \n",
       "2   5      2  Ozone   36  \n",
       "3   5      3  Ozone   12  \n",
       "4   5      4  Ozone   18  \n",
       "5   5      5  Ozone   NA  \n",
       "6   5      6  Ozone   28  \n",
       "7   5      7  Ozone   23  \n",
       "8   5      8  Ozone   19  \n",
       "9   5      9  Ozone    8  \n",
       "10  5     10  Ozone   NA  \n",
       "11  5     11  Ozone    7  \n",
       "12  5     12  Ozone   16  \n",
       "13  5     13  Ozone   11  \n",
       "14  5     14  Ozone   14  \n",
       "15  5     15  Ozone   18  \n",
       "16  5     16  Ozone   14  \n",
       "17  5     17  Ozone   34  \n",
       "18  5     18  Ozone    6  \n",
       "19  5     19  Ozone   30  \n",
       "20  5     20  Ozone   11  \n",
       "21  5     21  Ozone    1  \n",
       "22  5     22  Ozone   11  \n",
       "23  5     23  Ozone    4  \n",
       "24  5     24  Ozone   32  \n",
       "25  5     25  Ozone   NA  \n",
       "26  5     26  Ozone   NA  \n",
       "27  5     27  Ozone   NA  \n",
       "28  5     28  Ozone   23  \n",
       "29  5     29  Ozone   45  \n",
       "30  5     30  Ozone  115  \n",
       "⋮   ⋮     ⋮   ⋮      ⋮    \n",
       "583 9      1  Temp   91   \n",
       "584 9      2  Temp   92   \n",
       "585 9      3  Temp   93   \n",
       "586 9      4  Temp   93   \n",
       "587 9      5  Temp   87   \n",
       "588 9      6  Temp   84   \n",
       "589 9      7  Temp   80   \n",
       "590 9      8  Temp   78   \n",
       "591 9      9  Temp   75   \n",
       "592 9     10  Temp   73   \n",
       "593 9     11  Temp   81   \n",
       "594 9     12  Temp   76   \n",
       "595 9     13  Temp   77   \n",
       "596 9     14  Temp   71   \n",
       "597 9     15  Temp   71   \n",
       "598 9     16  Temp   78   \n",
       "599 9     17  Temp   67   \n",
       "600 9     18  Temp   76   \n",
       "601 9     19  Temp   68   \n",
       "602 9     20  Temp   82   \n",
       "603 9     21  Temp   64   \n",
       "604 9     22  Temp   71   \n",
       "605 9     23  Temp   81   \n",
       "606 9     24  Temp   69   \n",
       "607 9     25  Temp   63   \n",
       "608 9     26  Temp   70   \n",
       "609 9     27  Temp   77   \n",
       "610 9     28  Temp   75   \n",
       "611 9     29  Temp   76   \n",
       "612 9     30  Temp   68   "
      ]
     },
     "metadata": {},
     "output_type": "display_data"
    }
   ],
   "source": [
    "airGather # 잘 변했다."
   ]
  },
  {
   "cell_type": "code",
   "execution_count": 36,
   "metadata": {},
   "outputs": [],
   "source": [
    "airSpread <- airGather %>% spread(Metric,#Key\n",
    "                                                     Value )#value)"
   ]
  },
  {
   "cell_type": "code",
   "execution_count": 37,
   "metadata": {},
   "outputs": [
    {
     "data": {
      "text/html": [
       "<table class=\"dataframe\">\n",
       "<caption>A data.frame: 6 × 6</caption>\n",
       "<thead>\n",
       "\t<tr><th></th><th scope=col>Month</th><th scope=col>Day</th><th scope=col>Ozone</th><th scope=col>Solar.R</th><th scope=col>Temp</th><th scope=col>Wind</th></tr>\n",
       "\t<tr><th></th><th scope=col>&lt;int&gt;</th><th scope=col>&lt;int&gt;</th><th scope=col>&lt;dbl&gt;</th><th scope=col>&lt;dbl&gt;</th><th scope=col>&lt;dbl&gt;</th><th scope=col>&lt;dbl&gt;</th></tr>\n",
       "</thead>\n",
       "<tbody>\n",
       "\t<tr><th scope=row>1</th><td>5</td><td>1</td><td>41</td><td>190</td><td>67</td><td> 7.4</td></tr>\n",
       "\t<tr><th scope=row>2</th><td>5</td><td>2</td><td>36</td><td>118</td><td>72</td><td> 8.0</td></tr>\n",
       "\t<tr><th scope=row>3</th><td>5</td><td>3</td><td>12</td><td>149</td><td>74</td><td>12.6</td></tr>\n",
       "\t<tr><th scope=row>4</th><td>5</td><td>4</td><td>18</td><td>313</td><td>62</td><td>11.5</td></tr>\n",
       "\t<tr><th scope=row>5</th><td>5</td><td>5</td><td>NA</td><td> NA</td><td>56</td><td>14.3</td></tr>\n",
       "\t<tr><th scope=row>6</th><td>5</td><td>6</td><td>28</td><td> NA</td><td>66</td><td>14.9</td></tr>\n",
       "</tbody>\n",
       "</table>\n"
      ],
      "text/latex": [
       "A data.frame: 6 × 6\n",
       "\\begin{tabular}{r|llllll}\n",
       "  & Month & Day & Ozone & Solar.R & Temp & Wind\\\\\n",
       "  & <int> & <int> & <dbl> & <dbl> & <dbl> & <dbl>\\\\\n",
       "\\hline\n",
       "\t1 & 5 & 1 & 41 & 190 & 67 &  7.4\\\\\n",
       "\t2 & 5 & 2 & 36 & 118 & 72 &  8.0\\\\\n",
       "\t3 & 5 & 3 & 12 & 149 & 74 & 12.6\\\\\n",
       "\t4 & 5 & 4 & 18 & 313 & 62 & 11.5\\\\\n",
       "\t5 & 5 & 5 & NA &  NA & 56 & 14.3\\\\\n",
       "\t6 & 5 & 6 & 28 &  NA & 66 & 14.9\\\\\n",
       "\\end{tabular}\n"
      ],
      "text/markdown": [
       "\n",
       "A data.frame: 6 × 6\n",
       "\n",
       "| <!--/--> | Month &lt;int&gt; | Day &lt;int&gt; | Ozone &lt;dbl&gt; | Solar.R &lt;dbl&gt; | Temp &lt;dbl&gt; | Wind &lt;dbl&gt; |\n",
       "|---|---|---|---|---|---|---|\n",
       "| 1 | 5 | 1 | 41 | 190 | 67 |  7.4 |\n",
       "| 2 | 5 | 2 | 36 | 118 | 72 |  8.0 |\n",
       "| 3 | 5 | 3 | 12 | 149 | 74 | 12.6 |\n",
       "| 4 | 5 | 4 | 18 | 313 | 62 | 11.5 |\n",
       "| 5 | 5 | 5 | NA |  NA | 56 | 14.3 |\n",
       "| 6 | 5 | 6 | 28 |  NA | 66 | 14.9 |\n",
       "\n"
      ],
      "text/plain": [
       "  Month Day Ozone Solar.R Temp Wind\n",
       "1 5     1   41    190     67    7.4\n",
       "2 5     2   36    118     72    8.0\n",
       "3 5     3   12    149     74   12.6\n",
       "4 5     4   18    313     62   11.5\n",
       "5 5     5   NA     NA     56   14.3\n",
       "6 5     6   28     NA     66   14.9"
      ]
     },
     "metadata": {},
     "output_type": "display_data"
    }
   ],
   "source": [
    "head(airSpread)"
   ]
  },
  {
   "cell_type": "markdown",
   "metadata": {},
   "source": [
    "Group operation\n",
    "-- 결국 데이터를 정리하는 것은 이렇게 해야 한다..."
   ]
  },
  {
   "cell_type": "code",
   "execution_count": 39,
   "metadata": {},
   "outputs": [],
   "source": [
    "data(\"diamonds\", package=\"ggplot2\")"
   ]
  },
  {
   "cell_type": "code",
   "execution_count": 40,
   "metadata": {},
   "outputs": [
    {
     "data": {
      "text/html": [
       "<table class=\"dataframe\">\n",
       "<caption>A tibble: 6 × 10</caption>\n",
       "<thead>\n",
       "\t<tr><th scope=col>carat</th><th scope=col>cut</th><th scope=col>color</th><th scope=col>clarity</th><th scope=col>depth</th><th scope=col>table</th><th scope=col>price</th><th scope=col>x</th><th scope=col>y</th><th scope=col>z</th></tr>\n",
       "\t<tr><th scope=col>&lt;dbl&gt;</th><th scope=col>&lt;ord&gt;</th><th scope=col>&lt;ord&gt;</th><th scope=col>&lt;ord&gt;</th><th scope=col>&lt;dbl&gt;</th><th scope=col>&lt;dbl&gt;</th><th scope=col>&lt;int&gt;</th><th scope=col>&lt;dbl&gt;</th><th scope=col>&lt;dbl&gt;</th><th scope=col>&lt;dbl&gt;</th></tr>\n",
       "</thead>\n",
       "<tbody>\n",
       "\t<tr><td>0.23</td><td>Ideal    </td><td>E</td><td>SI2 </td><td>61.5</td><td>55</td><td>326</td><td>3.95</td><td>3.98</td><td>2.43</td></tr>\n",
       "\t<tr><td>0.21</td><td>Premium  </td><td>E</td><td>SI1 </td><td>59.8</td><td>61</td><td>326</td><td>3.89</td><td>3.84</td><td>2.31</td></tr>\n",
       "\t<tr><td>0.23</td><td>Good     </td><td>E</td><td>VS1 </td><td>56.9</td><td>65</td><td>327</td><td>4.05</td><td>4.07</td><td>2.31</td></tr>\n",
       "\t<tr><td>0.29</td><td>Premium  </td><td>I</td><td>VS2 </td><td>62.4</td><td>58</td><td>334</td><td>4.20</td><td>4.23</td><td>2.63</td></tr>\n",
       "\t<tr><td>0.31</td><td>Good     </td><td>J</td><td>SI2 </td><td>63.3</td><td>58</td><td>335</td><td>4.34</td><td>4.35</td><td>2.75</td></tr>\n",
       "\t<tr><td>0.24</td><td>Very Good</td><td>J</td><td>VVS2</td><td>62.8</td><td>57</td><td>336</td><td>3.94</td><td>3.96</td><td>2.48</td></tr>\n",
       "</tbody>\n",
       "</table>\n"
      ],
      "text/latex": [
       "A tibble: 6 × 10\n",
       "\\begin{tabular}{llllllllll}\n",
       " carat & cut & color & clarity & depth & table & price & x & y & z\\\\\n",
       " <dbl> & <ord> & <ord> & <ord> & <dbl> & <dbl> & <int> & <dbl> & <dbl> & <dbl>\\\\\n",
       "\\hline\n",
       "\t 0.23 & Ideal     & E & SI2  & 61.5 & 55 & 326 & 3.95 & 3.98 & 2.43\\\\\n",
       "\t 0.21 & Premium   & E & SI1  & 59.8 & 61 & 326 & 3.89 & 3.84 & 2.31\\\\\n",
       "\t 0.23 & Good      & E & VS1  & 56.9 & 65 & 327 & 4.05 & 4.07 & 2.31\\\\\n",
       "\t 0.29 & Premium   & I & VS2  & 62.4 & 58 & 334 & 4.20 & 4.23 & 2.63\\\\\n",
       "\t 0.31 & Good      & J & SI2  & 63.3 & 58 & 335 & 4.34 & 4.35 & 2.75\\\\\n",
       "\t 0.24 & Very Good & J & VVS2 & 62.8 & 57 & 336 & 3.94 & 3.96 & 2.48\\\\\n",
       "\\end{tabular}\n"
      ],
      "text/markdown": [
       "\n",
       "A tibble: 6 × 10\n",
       "\n",
       "| carat &lt;dbl&gt; | cut &lt;ord&gt; | color &lt;ord&gt; | clarity &lt;ord&gt; | depth &lt;dbl&gt; | table &lt;dbl&gt; | price &lt;int&gt; | x &lt;dbl&gt; | y &lt;dbl&gt; | z &lt;dbl&gt; |\n",
       "|---|---|---|---|---|---|---|---|---|---|\n",
       "| 0.23 | Ideal     | E | SI2  | 61.5 | 55 | 326 | 3.95 | 3.98 | 2.43 |\n",
       "| 0.21 | Premium   | E | SI1  | 59.8 | 61 | 326 | 3.89 | 3.84 | 2.31 |\n",
       "| 0.23 | Good      | E | VS1  | 56.9 | 65 | 327 | 4.05 | 4.07 | 2.31 |\n",
       "| 0.29 | Premium   | I | VS2  | 62.4 | 58 | 334 | 4.20 | 4.23 | 2.63 |\n",
       "| 0.31 | Good      | J | SI2  | 63.3 | 58 | 335 | 4.34 | 4.35 | 2.75 |\n",
       "| 0.24 | Very Good | J | VVS2 | 62.8 | 57 | 336 | 3.94 | 3.96 | 2.48 |\n",
       "\n"
      ],
      "text/plain": [
       "  carat cut       color clarity depth table price x    y    z   \n",
       "1 0.23  Ideal     E     SI2     61.5  55    326   3.95 3.98 2.43\n",
       "2 0.21  Premium   E     SI1     59.8  61    326   3.89 3.84 2.31\n",
       "3 0.23  Good      E     VS1     56.9  65    327   4.05 4.07 2.31\n",
       "4 0.29  Premium   I     VS2     62.4  58    334   4.20 4.23 2.63\n",
       "5 0.31  Good      J     SI2     63.3  58    335   4.34 4.35 2.75\n",
       "6 0.24  Very Good J     VVS2    62.8  57    336   3.94 3.96 2.48"
      ]
     },
     "metadata": {},
     "output_type": "display_data"
    }
   ],
   "source": [
    "head(diamonds)"
   ]
  },
  {
   "cell_type": "code",
   "execution_count": 42,
   "metadata": {},
   "outputs": [
    {
     "data": {
      "text/html": [
       "<table class=\"dataframe\">\n",
       "<caption>A data.frame: 5 × 2</caption>\n",
       "<thead>\n",
       "\t<tr><th scope=col>Group.1</th><th scope=col>x</th></tr>\n",
       "\t<tr><th scope=col>&lt;ord&gt;</th><th scope=col>&lt;dbl&gt;</th></tr>\n",
       "</thead>\n",
       "<tbody>\n",
       "\t<tr><td>Fair     </td><td>4358.758</td></tr>\n",
       "\t<tr><td>Good     </td><td>3928.864</td></tr>\n",
       "\t<tr><td>Very Good</td><td>3981.760</td></tr>\n",
       "\t<tr><td>Premium  </td><td>4584.258</td></tr>\n",
       "\t<tr><td>Ideal    </td><td>3457.542</td></tr>\n",
       "</tbody>\n",
       "</table>\n"
      ],
      "text/latex": [
       "A data.frame: 5 × 2\n",
       "\\begin{tabular}{ll}\n",
       " Group.1 & x\\\\\n",
       " <ord> & <dbl>\\\\\n",
       "\\hline\n",
       "\t Fair      & 4358.758\\\\\n",
       "\t Good      & 3928.864\\\\\n",
       "\t Very Good & 3981.760\\\\\n",
       "\t Premium   & 4584.258\\\\\n",
       "\t Ideal     & 3457.542\\\\\n",
       "\\end{tabular}\n"
      ],
      "text/markdown": [
       "\n",
       "A data.frame: 5 × 2\n",
       "\n",
       "| Group.1 &lt;ord&gt; | x &lt;dbl&gt; |\n",
       "|---|---|\n",
       "| Fair      | 4358.758 |\n",
       "| Good      | 3928.864 |\n",
       "| Very Good | 3981.760 |\n",
       "| Premium   | 4584.258 |\n",
       "| Ideal     | 3457.542 |\n",
       "\n"
      ],
      "text/plain": [
       "  Group.1   x       \n",
       "1 Fair      4358.758\n",
       "2 Good      3928.864\n",
       "3 Very Good 3981.760\n",
       "4 Premium   4584.258\n",
       "5 Ideal     3457.542"
      ]
     },
     "metadata": {},
     "output_type": "display_data"
    }
   ],
   "source": [
    "aggregate(diamonds$price, by=list(diamonds$cut), mean)"
   ]
  },
  {
   "cell_type": "code",
   "execution_count": 44,
   "metadata": {},
   "outputs": [
    {
     "data": {
      "text/html": [
       "<table class=\"dataframe\">\n",
       "<caption>A data.frame: 5 × 2</caption>\n",
       "<thead>\n",
       "\t<tr><th scope=col>cut</th><th scope=col>price</th></tr>\n",
       "\t<tr><th scope=col>&lt;ord&gt;</th><th scope=col>&lt;dbl&gt;</th></tr>\n",
       "</thead>\n",
       "<tbody>\n",
       "\t<tr><td>Fair     </td><td>4358.758</td></tr>\n",
       "\t<tr><td>Good     </td><td>3928.864</td></tr>\n",
       "\t<tr><td>Very Good</td><td>3981.760</td></tr>\n",
       "\t<tr><td>Premium  </td><td>4584.258</td></tr>\n",
       "\t<tr><td>Ideal    </td><td>3457.542</td></tr>\n",
       "</tbody>\n",
       "</table>\n"
      ],
      "text/latex": [
       "A data.frame: 5 × 2\n",
       "\\begin{tabular}{ll}\n",
       " cut & price\\\\\n",
       " <ord> & <dbl>\\\\\n",
       "\\hline\n",
       "\t Fair      & 4358.758\\\\\n",
       "\t Good      & 3928.864\\\\\n",
       "\t Very Good & 3981.760\\\\\n",
       "\t Premium   & 4584.258\\\\\n",
       "\t Ideal     & 3457.542\\\\\n",
       "\\end{tabular}\n"
      ],
      "text/markdown": [
       "\n",
       "A data.frame: 5 × 2\n",
       "\n",
       "| cut &lt;ord&gt; | price &lt;dbl&gt; |\n",
       "|---|---|\n",
       "| Fair      | 4358.758 |\n",
       "| Good      | 3928.864 |\n",
       "| Very Good | 3981.760 |\n",
       "| Premium   | 4584.258 |\n",
       "| Ideal     | 3457.542 |\n",
       "\n"
      ],
      "text/plain": [
       "  cut       price   \n",
       "1 Fair      4358.758\n",
       "2 Good      3928.864\n",
       "3 Very Good 3981.760\n",
       "4 Premium   4584.258\n",
       "5 Ideal     3457.542"
      ]
     },
     "metadata": {},
     "output_type": "display_data"
    }
   ],
   "source": [
    "aggregate(price ~ cut, diamonds , mean) \n",
    "# 이렇게도 가능하지만 느릴 수 있다. \n",
    "# 데이터가 클 경우 그렇다."
   ]
  },
  {
   "cell_type": "code",
   "execution_count": 45,
   "metadata": {},
   "outputs": [
    {
     "data": {
      "text/html": [
       "<style>\n",
       ".dl-inline {width: auto; margin:0; padding: 0}\n",
       ".dl-inline>dt, .dl-inline>dd {float: none; width: auto; display: inline-block}\n",
       ".dl-inline>dt::after {content: \":\\0020\"; padding-right: .5ex}\n",
       ".dl-inline>dt:not(:first-of-type) {padding-left: .5ex}\n",
       "</style><dl class=dl-inline><dt>Fair</dt><dd>4358.75776397516</dd><dt>Good</dt><dd>3928.86445169181</dd><dt>Very Good</dt><dd>3981.75989074657</dd><dt>Premium</dt><dd>4584.25770429991</dd><dt>Ideal</dt><dd>3457.5419702102</dd></dl>\n"
      ],
      "text/latex": [
       "\\begin{description*}\n",
       "\\item[Fair] 4358.75776397516\n",
       "\\item[Good] 3928.86445169181\n",
       "\\item[Very Good] 3981.75989074657\n",
       "\\item[Premium] 4584.25770429991\n",
       "\\item[Ideal] 3457.5419702102\n",
       "\\end{description*}\n"
      ],
      "text/markdown": [
       "Fair\n",
       ":   4358.75776397516Good\n",
       ":   3928.86445169181Very Good\n",
       ":   3981.75989074657Premium\n",
       ":   4584.25770429991Ideal\n",
       ":   3457.5419702102\n",
       "\n"
      ],
      "text/plain": [
       "     Fair      Good Very Good   Premium     Ideal \n",
       " 4358.758  3928.864  3981.760  4584.258  3457.542 "
      ]
     },
     "metadata": {},
     "output_type": "display_data"
    }
   ],
   "source": [
    "# tapply를 배워보자. \n",
    "# 데이터 aggregation용으로 좋다.\n",
    "tapply(diamonds$price, INDEX = diamonds$cut, mean)\n",
    "# 벡터를 반환하는 것을 볼 수 있다. "
   ]
  },
  {
   "cell_type": "code",
   "execution_count": 46,
   "metadata": {},
   "outputs": [],
   "source": [
    "require(plyr)"
   ]
  },
  {
   "cell_type": "code",
   "execution_count": null,
   "metadata": {},
   "outputs": [],
   "source": [
    "ddply \n",
    "llply\n",
    "dlply\n",
    "adply"
   ]
  },
  {
   "cell_type": "code",
   "execution_count": 49,
   "metadata": {},
   "outputs": [
    {
     "data": {
      "text/html": [
       "<table class=\"dataframe\">\n",
       "<caption>A data.frame: 5 × 2</caption>\n",
       "<thead>\n",
       "\t<tr><th scope=col>cut</th><th scope=col>Price</th></tr>\n",
       "\t<tr><th scope=col>&lt;ord&gt;</th><th scope=col>&lt;dbl&gt;</th></tr>\n",
       "</thead>\n",
       "<tbody>\n",
       "\t<tr><td>Fair     </td><td>4358.758</td></tr>\n",
       "\t<tr><td>Good     </td><td>3928.864</td></tr>\n",
       "\t<tr><td>Very Good</td><td>3981.760</td></tr>\n",
       "\t<tr><td>Premium  </td><td>4584.258</td></tr>\n",
       "\t<tr><td>Ideal    </td><td>3457.542</td></tr>\n",
       "</tbody>\n",
       "</table>\n"
      ],
      "text/latex": [
       "A data.frame: 5 × 2\n",
       "\\begin{tabular}{ll}\n",
       " cut & Price\\\\\n",
       " <ord> & <dbl>\\\\\n",
       "\\hline\n",
       "\t Fair      & 4358.758\\\\\n",
       "\t Good      & 3928.864\\\\\n",
       "\t Very Good & 3981.760\\\\\n",
       "\t Premium   & 4584.258\\\\\n",
       "\t Ideal     & 3457.542\\\\\n",
       "\\end{tabular}\n"
      ],
      "text/markdown": [
       "\n",
       "A data.frame: 5 × 2\n",
       "\n",
       "| cut &lt;ord&gt; | Price &lt;dbl&gt; |\n",
       "|---|---|\n",
       "| Fair      | 4358.758 |\n",
       "| Good      | 3928.864 |\n",
       "| Very Good | 3981.760 |\n",
       "| Premium   | 4584.258 |\n",
       "| Ideal     | 3457.542 |\n",
       "\n"
      ],
      "text/plain": [
       "  cut       Price   \n",
       "1 Fair      4358.758\n",
       "2 Good      3928.864\n",
       "3 Very Good 3981.760\n",
       "4 Premium   4584.258\n",
       "5 Ideal     3457.542"
      ]
     },
     "metadata": {},
     "output_type": "display_data"
    }
   ],
   "source": [
    "ddply(diamonds, \"cut\", summarize, Price=mean(price)) \n",
    "# Price라고 써준 것에 주목. 구분 위해서 그런 것"
   ]
  },
  {
   "cell_type": "code",
   "execution_count": 50,
   "metadata": {},
   "outputs": [
    {
     "data": {
      "text/html": [
       "<dl>\n",
       "\t<dt>$Fair</dt>\n",
       "\t\t<dd>4358.75776397516</dd>\n",
       "\t<dt>$Good</dt>\n",
       "\t\t<dd>3928.86445169181</dd>\n",
       "\t<dt>$`Very Good`</dt>\n",
       "\t\t<dd>3981.75989074657</dd>\n",
       "\t<dt>$Premium</dt>\n",
       "\t\t<dd>4584.25770429991</dd>\n",
       "\t<dt>$Ideal</dt>\n",
       "\t\t<dd>3457.5419702102</dd>\n",
       "</dl>\n"
      ],
      "text/latex": [
       "\\begin{description}\n",
       "\\item[\\$Fair] 4358.75776397516\n",
       "\\item[\\$Good] 3928.86445169181\n",
       "\\item[\\$`Very Good`] 3981.75989074657\n",
       "\\item[\\$Premium] 4584.25770429991\n",
       "\\item[\\$Ideal] 3457.5419702102\n",
       "\\end{description}\n"
      ],
      "text/markdown": [
       "$Fair\n",
       ":   4358.75776397516\n",
       "$Good\n",
       ":   3928.86445169181\n",
       "$`Very Good`\n",
       ":   3981.75989074657\n",
       "$Premium\n",
       ":   4584.25770429991\n",
       "$Ideal\n",
       ":   3457.5419702102\n",
       "\n",
       "\n"
      ],
      "text/plain": [
       "$Fair\n",
       "[1] 4358.758\n",
       "\n",
       "$Good\n",
       "[1] 3928.864\n",
       "\n",
       "$`Very Good`\n",
       "[1] 3981.76\n",
       "\n",
       "$Premium\n",
       "[1] 4584.258\n",
       "\n",
       "$Ideal\n",
       "[1] 3457.542\n"
      ]
     },
     "metadata": {},
     "output_type": "display_data"
    }
   ],
   "source": [
    "daply(diamonds, \"cut\", summarize, Price=mean(price))\n",
    "# 벡터를 반환한다. "
   ]
  },
  {
   "cell_type": "code",
   "execution_count": 56,
   "metadata": {},
   "outputs": [
    {
     "data": {
      "text/html": [
       "<table class=\"dataframe\">\n",
       "<caption>A tibble: 6 × 10</caption>\n",
       "<thead>\n",
       "\t<tr><th scope=col>carat</th><th scope=col>cut</th><th scope=col>color</th><th scope=col>clarity</th><th scope=col>depth</th><th scope=col>table</th><th scope=col>price</th><th scope=col>x</th><th scope=col>y</th><th scope=col>z</th></tr>\n",
       "\t<tr><th scope=col>&lt;dbl&gt;</th><th scope=col>&lt;ord&gt;</th><th scope=col>&lt;ord&gt;</th><th scope=col>&lt;ord&gt;</th><th scope=col>&lt;dbl&gt;</th><th scope=col>&lt;dbl&gt;</th><th scope=col>&lt;int&gt;</th><th scope=col>&lt;dbl&gt;</th><th scope=col>&lt;dbl&gt;</th><th scope=col>&lt;dbl&gt;</th></tr>\n",
       "</thead>\n",
       "<tbody>\n",
       "\t<tr><td>0.23</td><td>Ideal    </td><td>E</td><td>SI2 </td><td>61.5</td><td>55</td><td>326</td><td>3.95</td><td>3.98</td><td>2.43</td></tr>\n",
       "\t<tr><td>0.21</td><td>Premium  </td><td>E</td><td>SI1 </td><td>59.8</td><td>61</td><td>326</td><td>3.89</td><td>3.84</td><td>2.31</td></tr>\n",
       "\t<tr><td>0.23</td><td>Good     </td><td>E</td><td>VS1 </td><td>56.9</td><td>65</td><td>327</td><td>4.05</td><td>4.07</td><td>2.31</td></tr>\n",
       "\t<tr><td>0.29</td><td>Premium  </td><td>I</td><td>VS2 </td><td>62.4</td><td>58</td><td>334</td><td>4.20</td><td>4.23</td><td>2.63</td></tr>\n",
       "\t<tr><td>0.31</td><td>Good     </td><td>J</td><td>SI2 </td><td>63.3</td><td>58</td><td>335</td><td>4.34</td><td>4.35</td><td>2.75</td></tr>\n",
       "\t<tr><td>0.24</td><td>Very Good</td><td>J</td><td>VVS2</td><td>62.8</td><td>57</td><td>336</td><td>3.94</td><td>3.96</td><td>2.48</td></tr>\n",
       "</tbody>\n",
       "</table>\n"
      ],
      "text/latex": [
       "A tibble: 6 × 10\n",
       "\\begin{tabular}{llllllllll}\n",
       " carat & cut & color & clarity & depth & table & price & x & y & z\\\\\n",
       " <dbl> & <ord> & <ord> & <ord> & <dbl> & <dbl> & <int> & <dbl> & <dbl> & <dbl>\\\\\n",
       "\\hline\n",
       "\t 0.23 & Ideal     & E & SI2  & 61.5 & 55 & 326 & 3.95 & 3.98 & 2.43\\\\\n",
       "\t 0.21 & Premium   & E & SI1  & 59.8 & 61 & 326 & 3.89 & 3.84 & 2.31\\\\\n",
       "\t 0.23 & Good      & E & VS1  & 56.9 & 65 & 327 & 4.05 & 4.07 & 2.31\\\\\n",
       "\t 0.29 & Premium   & I & VS2  & 62.4 & 58 & 334 & 4.20 & 4.23 & 2.63\\\\\n",
       "\t 0.31 & Good      & J & SI2  & 63.3 & 58 & 335 & 4.34 & 4.35 & 2.75\\\\\n",
       "\t 0.24 & Very Good & J & VVS2 & 62.8 & 57 & 336 & 3.94 & 3.96 & 2.48\\\\\n",
       "\\end{tabular}\n"
      ],
      "text/markdown": [
       "\n",
       "A tibble: 6 × 10\n",
       "\n",
       "| carat &lt;dbl&gt; | cut &lt;ord&gt; | color &lt;ord&gt; | clarity &lt;ord&gt; | depth &lt;dbl&gt; | table &lt;dbl&gt; | price &lt;int&gt; | x &lt;dbl&gt; | y &lt;dbl&gt; | z &lt;dbl&gt; |\n",
       "|---|---|---|---|---|---|---|---|---|---|\n",
       "| 0.23 | Ideal     | E | SI2  | 61.5 | 55 | 326 | 3.95 | 3.98 | 2.43 |\n",
       "| 0.21 | Premium   | E | SI1  | 59.8 | 61 | 326 | 3.89 | 3.84 | 2.31 |\n",
       "| 0.23 | Good      | E | VS1  | 56.9 | 65 | 327 | 4.05 | 4.07 | 2.31 |\n",
       "| 0.29 | Premium   | I | VS2  | 62.4 | 58 | 334 | 4.20 | 4.23 | 2.63 |\n",
       "| 0.31 | Good      | J | SI2  | 63.3 | 58 | 335 | 4.34 | 4.35 | 2.75 |\n",
       "| 0.24 | Very Good | J | VVS2 | 62.8 | 57 | 336 | 3.94 | 3.96 | 2.48 |\n",
       "\n"
      ],
      "text/plain": [
       "  carat cut       color clarity depth table price x    y    z   \n",
       "1 0.23  Ideal     E     SI2     61.5  55    326   3.95 3.98 2.43\n",
       "2 0.21  Premium   E     SI1     59.8  61    326   3.89 3.84 2.31\n",
       "3 0.23  Good      E     VS1     56.9  65    327   4.05 4.07 2.31\n",
       "4 0.29  Premium   I     VS2     62.4  58    334   4.20 4.23 2.63\n",
       "5 0.31  Good      J     SI2     63.3  58    335   4.34 4.35 2.75\n",
       "6 0.24  Very Good J     VVS2    62.8  57    336   3.94 3.96 2.48"
      ]
     },
     "metadata": {},
     "output_type": "display_data"
    }
   ],
   "source": [
    "head(diamonds)\n",
    "require(doParallel)"
   ]
  },
  {
   "cell_type": "code",
   "execution_count": 57,
   "metadata": {},
   "outputs": [],
   "source": [
    "# multiprocessing방법!\n",
    "\n",
    "cl <- makeCluster(2)\n",
    "registerDoParallel(cl)"
   ]
  },
  {
   "cell_type": "code",
   "execution_count": 58,
   "metadata": {},
   "outputs": [
    {
     "name": "stderr",
     "output_type": "stream",
     "text": [
      "Warning message:\n",
      "“<anonymous>: ... may be used in an incorrect context: ‘.fun(piece, ...)’\n",
      "”\n",
      "Warning message:\n",
      "“<anonymous>: ... may be used in an incorrect context: ‘.fun(piece, ...)’\n",
      "”\n"
     ]
    },
    {
     "data": {
      "text/html": [
       "<table class=\"dataframe\">\n",
       "<caption>A data.frame: 5 × 2</caption>\n",
       "<thead>\n",
       "\t<tr><th scope=col>cut</th><th scope=col>V1</th></tr>\n",
       "\t<tr><th scope=col>&lt;ord&gt;</th><th scope=col>&lt;dbl&gt;</th></tr>\n",
       "</thead>\n",
       "<tbody>\n",
       "\t<tr><td>Fair     </td><td>4358.758</td></tr>\n",
       "\t<tr><td>Good     </td><td>3928.864</td></tr>\n",
       "\t<tr><td>Very Good</td><td>3981.760</td></tr>\n",
       "\t<tr><td>Premium  </td><td>4584.258</td></tr>\n",
       "\t<tr><td>Ideal    </td><td>3457.542</td></tr>\n",
       "</tbody>\n",
       "</table>\n"
      ],
      "text/latex": [
       "A data.frame: 5 × 2\n",
       "\\begin{tabular}{ll}\n",
       " cut & V1\\\\\n",
       " <ord> & <dbl>\\\\\n",
       "\\hline\n",
       "\t Fair      & 4358.758\\\\\n",
       "\t Good      & 3928.864\\\\\n",
       "\t Very Good & 3981.760\\\\\n",
       "\t Premium   & 4584.258\\\\\n",
       "\t Ideal     & 3457.542\\\\\n",
       "\\end{tabular}\n"
      ],
      "text/markdown": [
       "\n",
       "A data.frame: 5 × 2\n",
       "\n",
       "| cut &lt;ord&gt; | V1 &lt;dbl&gt; |\n",
       "|---|---|\n",
       "| Fair      | 4358.758 |\n",
       "| Good      | 3928.864 |\n",
       "| Very Good | 3981.760 |\n",
       "| Premium   | 4584.258 |\n",
       "| Ideal     | 3457.542 |\n",
       "\n"
      ],
      "text/plain": [
       "  cut       V1      \n",
       "1 Fair      4358.758\n",
       "2 Good      3928.864\n",
       "3 Very Good 3981.760\n",
       "4 Premium   4584.258\n",
       "5 Ideal     3457.542"
      ]
     },
     "metadata": {},
     "output_type": "display_data"
    }
   ],
   "source": [
    "ddply(diamonds, \"cut\", function(x) mean(x$price), .parallel = TRUE)"
   ]
  },
  {
   "cell_type": "code",
   "execution_count": 59,
   "metadata": {},
   "outputs": [
    {
     "name": "stderr",
     "output_type": "stream",
     "text": [
      "Loading required package: data.table\n",
      "\n",
      "\n",
      "Attaching package: ‘data.table’\n",
      "\n",
      "\n",
      "The following objects are masked from ‘package:reshape2’:\n",
      "\n",
      "    dcast, melt\n",
      "\n",
      "\n"
     ]
    },
    {
     "data": {
      "text/html": [
       "<table class=\"dataframe\">\n",
       "<caption>A tibble: 6 × 10</caption>\n",
       "<thead>\n",
       "\t<tr><th scope=col>carat</th><th scope=col>cut</th><th scope=col>color</th><th scope=col>clarity</th><th scope=col>depth</th><th scope=col>table</th><th scope=col>price</th><th scope=col>x</th><th scope=col>y</th><th scope=col>z</th></tr>\n",
       "\t<tr><th scope=col>&lt;dbl&gt;</th><th scope=col>&lt;ord&gt;</th><th scope=col>&lt;ord&gt;</th><th scope=col>&lt;ord&gt;</th><th scope=col>&lt;dbl&gt;</th><th scope=col>&lt;dbl&gt;</th><th scope=col>&lt;int&gt;</th><th scope=col>&lt;dbl&gt;</th><th scope=col>&lt;dbl&gt;</th><th scope=col>&lt;dbl&gt;</th></tr>\n",
       "</thead>\n",
       "<tbody>\n",
       "\t<tr><td>0.23</td><td>Ideal    </td><td>E</td><td>SI2 </td><td>61.5</td><td>55</td><td>326</td><td>3.95</td><td>3.98</td><td>2.43</td></tr>\n",
       "\t<tr><td>0.21</td><td>Premium  </td><td>E</td><td>SI1 </td><td>59.8</td><td>61</td><td>326</td><td>3.89</td><td>3.84</td><td>2.31</td></tr>\n",
       "\t<tr><td>0.23</td><td>Good     </td><td>E</td><td>VS1 </td><td>56.9</td><td>65</td><td>327</td><td>4.05</td><td>4.07</td><td>2.31</td></tr>\n",
       "\t<tr><td>0.29</td><td>Premium  </td><td>I</td><td>VS2 </td><td>62.4</td><td>58</td><td>334</td><td>4.20</td><td>4.23</td><td>2.63</td></tr>\n",
       "\t<tr><td>0.31</td><td>Good     </td><td>J</td><td>SI2 </td><td>63.3</td><td>58</td><td>335</td><td>4.34</td><td>4.35</td><td>2.75</td></tr>\n",
       "\t<tr><td>0.24</td><td>Very Good</td><td>J</td><td>VVS2</td><td>62.8</td><td>57</td><td>336</td><td>3.94</td><td>3.96</td><td>2.48</td></tr>\n",
       "</tbody>\n",
       "</table>\n"
      ],
      "text/latex": [
       "A tibble: 6 × 10\n",
       "\\begin{tabular}{llllllllll}\n",
       " carat & cut & color & clarity & depth & table & price & x & y & z\\\\\n",
       " <dbl> & <ord> & <ord> & <ord> & <dbl> & <dbl> & <int> & <dbl> & <dbl> & <dbl>\\\\\n",
       "\\hline\n",
       "\t 0.23 & Ideal     & E & SI2  & 61.5 & 55 & 326 & 3.95 & 3.98 & 2.43\\\\\n",
       "\t 0.21 & Premium   & E & SI1  & 59.8 & 61 & 326 & 3.89 & 3.84 & 2.31\\\\\n",
       "\t 0.23 & Good      & E & VS1  & 56.9 & 65 & 327 & 4.05 & 4.07 & 2.31\\\\\n",
       "\t 0.29 & Premium   & I & VS2  & 62.4 & 58 & 334 & 4.20 & 4.23 & 2.63\\\\\n",
       "\t 0.31 & Good      & J & SI2  & 63.3 & 58 & 335 & 4.34 & 4.35 & 2.75\\\\\n",
       "\t 0.24 & Very Good & J & VVS2 & 62.8 & 57 & 336 & 3.94 & 3.96 & 2.48\\\\\n",
       "\\end{tabular}\n"
      ],
      "text/markdown": [
       "\n",
       "A tibble: 6 × 10\n",
       "\n",
       "| carat &lt;dbl&gt; | cut &lt;ord&gt; | color &lt;ord&gt; | clarity &lt;ord&gt; | depth &lt;dbl&gt; | table &lt;dbl&gt; | price &lt;int&gt; | x &lt;dbl&gt; | y &lt;dbl&gt; | z &lt;dbl&gt; |\n",
       "|---|---|---|---|---|---|---|---|---|---|\n",
       "| 0.23 | Ideal     | E | SI2  | 61.5 | 55 | 326 | 3.95 | 3.98 | 2.43 |\n",
       "| 0.21 | Premium   | E | SI1  | 59.8 | 61 | 326 | 3.89 | 3.84 | 2.31 |\n",
       "| 0.23 | Good      | E | VS1  | 56.9 | 65 | 327 | 4.05 | 4.07 | 2.31 |\n",
       "| 0.29 | Premium   | I | VS2  | 62.4 | 58 | 334 | 4.20 | 4.23 | 2.63 |\n",
       "| 0.31 | Good      | J | SI2  | 63.3 | 58 | 335 | 4.34 | 4.35 | 2.75 |\n",
       "| 0.24 | Very Good | J | VVS2 | 62.8 | 57 | 336 | 3.94 | 3.96 | 2.48 |\n",
       "\n"
      ],
      "text/plain": [
       "  carat cut       color clarity depth table price x    y    z   \n",
       "1 0.23  Ideal     E     SI2     61.5  55    326   3.95 3.98 2.43\n",
       "2 0.21  Premium   E     SI1     59.8  61    326   3.89 3.84 2.31\n",
       "3 0.23  Good      E     VS1     56.9  65    327   4.05 4.07 2.31\n",
       "4 0.29  Premium   I     VS2     62.4  58    334   4.20 4.23 2.63\n",
       "5 0.31  Good      J     SI2     63.3  58    335   4.34 4.35 2.75\n",
       "6 0.24  Very Good J     VVS2    62.8  57    336   3.94 3.96 2.48"
      ]
     },
     "metadata": {},
     "output_type": "display_data"
    }
   ],
   "source": [
    "require(data.table)\n",
    "head(diamonds)"
   ]
  },
  {
   "cell_type": "code",
   "execution_count": 60,
   "metadata": {},
   "outputs": [
    {
     "data": {
      "text/html": [
       "<table class=\"dataframe\">\n",
       "<caption>A data.table: 53940 × 10</caption>\n",
       "<thead>\n",
       "\t<tr><th scope=col>carat</th><th scope=col>cut</th><th scope=col>color</th><th scope=col>clarity</th><th scope=col>depth</th><th scope=col>table</th><th scope=col>price</th><th scope=col>x</th><th scope=col>y</th><th scope=col>z</th></tr>\n",
       "\t<tr><th scope=col>&lt;dbl&gt;</th><th scope=col>&lt;ord&gt;</th><th scope=col>&lt;ord&gt;</th><th scope=col>&lt;ord&gt;</th><th scope=col>&lt;dbl&gt;</th><th scope=col>&lt;dbl&gt;</th><th scope=col>&lt;int&gt;</th><th scope=col>&lt;dbl&gt;</th><th scope=col>&lt;dbl&gt;</th><th scope=col>&lt;dbl&gt;</th></tr>\n",
       "</thead>\n",
       "<tbody>\n",
       "\t<tr><td>0.23</td><td>Ideal    </td><td>E</td><td>SI2 </td><td>61.5</td><td>55</td><td>326</td><td>3.95</td><td>3.98</td><td>2.43</td></tr>\n",
       "\t<tr><td>0.21</td><td>Premium  </td><td>E</td><td>SI1 </td><td>59.8</td><td>61</td><td>326</td><td>3.89</td><td>3.84</td><td>2.31</td></tr>\n",
       "\t<tr><td>0.23</td><td>Good     </td><td>E</td><td>VS1 </td><td>56.9</td><td>65</td><td>327</td><td>4.05</td><td>4.07</td><td>2.31</td></tr>\n",
       "\t<tr><td>0.29</td><td>Premium  </td><td>I</td><td>VS2 </td><td>62.4</td><td>58</td><td>334</td><td>4.20</td><td>4.23</td><td>2.63</td></tr>\n",
       "\t<tr><td>0.31</td><td>Good     </td><td>J</td><td>SI2 </td><td>63.3</td><td>58</td><td>335</td><td>4.34</td><td>4.35</td><td>2.75</td></tr>\n",
       "\t<tr><td>0.24</td><td>Very Good</td><td>J</td><td>VVS2</td><td>62.8</td><td>57</td><td>336</td><td>3.94</td><td>3.96</td><td>2.48</td></tr>\n",
       "\t<tr><td>0.24</td><td>Very Good</td><td>I</td><td>VVS1</td><td>62.3</td><td>57</td><td>336</td><td>3.95</td><td>3.98</td><td>2.47</td></tr>\n",
       "\t<tr><td>0.26</td><td>Very Good</td><td>H</td><td>SI1 </td><td>61.9</td><td>55</td><td>337</td><td>4.07</td><td>4.11</td><td>2.53</td></tr>\n",
       "\t<tr><td>0.22</td><td>Fair     </td><td>E</td><td>VS2 </td><td>65.1</td><td>61</td><td>337</td><td>3.87</td><td>3.78</td><td>2.49</td></tr>\n",
       "\t<tr><td>0.23</td><td>Very Good</td><td>H</td><td>VS1 </td><td>59.4</td><td>61</td><td>338</td><td>4.00</td><td>4.05</td><td>2.39</td></tr>\n",
       "\t<tr><td>0.30</td><td>Good     </td><td>J</td><td>SI1 </td><td>64.0</td><td>55</td><td>339</td><td>4.25</td><td>4.28</td><td>2.73</td></tr>\n",
       "\t<tr><td>0.23</td><td>Ideal    </td><td>J</td><td>VS1 </td><td>62.8</td><td>56</td><td>340</td><td>3.93</td><td>3.90</td><td>2.46</td></tr>\n",
       "\t<tr><td>0.22</td><td>Premium  </td><td>F</td><td>SI1 </td><td>60.4</td><td>61</td><td>342</td><td>3.88</td><td>3.84</td><td>2.33</td></tr>\n",
       "\t<tr><td>0.31</td><td>Ideal    </td><td>J</td><td>SI2 </td><td>62.2</td><td>54</td><td>344</td><td>4.35</td><td>4.37</td><td>2.71</td></tr>\n",
       "\t<tr><td>0.20</td><td>Premium  </td><td>E</td><td>SI2 </td><td>60.2</td><td>62</td><td>345</td><td>3.79</td><td>3.75</td><td>2.27</td></tr>\n",
       "\t<tr><td>0.32</td><td>Premium  </td><td>E</td><td>I1  </td><td>60.9</td><td>58</td><td>345</td><td>4.38</td><td>4.42</td><td>2.68</td></tr>\n",
       "\t<tr><td>0.30</td><td>Ideal    </td><td>I</td><td>SI2 </td><td>62.0</td><td>54</td><td>348</td><td>4.31</td><td>4.34</td><td>2.68</td></tr>\n",
       "\t<tr><td>0.30</td><td>Good     </td><td>J</td><td>SI1 </td><td>63.4</td><td>54</td><td>351</td><td>4.23</td><td>4.29</td><td>2.70</td></tr>\n",
       "\t<tr><td>0.30</td><td>Good     </td><td>J</td><td>SI1 </td><td>63.8</td><td>56</td><td>351</td><td>4.23</td><td>4.26</td><td>2.71</td></tr>\n",
       "\t<tr><td>0.30</td><td>Very Good</td><td>J</td><td>SI1 </td><td>62.7</td><td>59</td><td>351</td><td>4.21</td><td>4.27</td><td>2.66</td></tr>\n",
       "\t<tr><td>0.30</td><td>Good     </td><td>I</td><td>SI2 </td><td>63.3</td><td>56</td><td>351</td><td>4.26</td><td>4.30</td><td>2.71</td></tr>\n",
       "\t<tr><td>0.23</td><td>Very Good</td><td>E</td><td>VS2 </td><td>63.8</td><td>55</td><td>352</td><td>3.85</td><td>3.92</td><td>2.48</td></tr>\n",
       "\t<tr><td>0.23</td><td>Very Good</td><td>H</td><td>VS1 </td><td>61.0</td><td>57</td><td>353</td><td>3.94</td><td>3.96</td><td>2.41</td></tr>\n",
       "\t<tr><td>0.31</td><td>Very Good</td><td>J</td><td>SI1 </td><td>59.4</td><td>62</td><td>353</td><td>4.39</td><td>4.43</td><td>2.62</td></tr>\n",
       "\t<tr><td>0.31</td><td>Very Good</td><td>J</td><td>SI1 </td><td>58.1</td><td>62</td><td>353</td><td>4.44</td><td>4.47</td><td>2.59</td></tr>\n",
       "\t<tr><td>0.23</td><td>Very Good</td><td>G</td><td>VVS2</td><td>60.4</td><td>58</td><td>354</td><td>3.97</td><td>4.01</td><td>2.41</td></tr>\n",
       "\t<tr><td>0.24</td><td>Premium  </td><td>I</td><td>VS1 </td><td>62.5</td><td>57</td><td>355</td><td>3.97</td><td>3.94</td><td>2.47</td></tr>\n",
       "\t<tr><td>0.30</td><td>Very Good</td><td>J</td><td>VS2 </td><td>62.2</td><td>57</td><td>357</td><td>4.28</td><td>4.30</td><td>2.67</td></tr>\n",
       "\t<tr><td>0.23</td><td>Very Good</td><td>D</td><td>VS2 </td><td>60.5</td><td>61</td><td>357</td><td>3.96</td><td>3.97</td><td>2.40</td></tr>\n",
       "\t<tr><td>0.23</td><td>Very Good</td><td>F</td><td>VS1 </td><td>60.9</td><td>57</td><td>357</td><td>3.96</td><td>3.99</td><td>2.42</td></tr>\n",
       "\t<tr><td>⋮</td><td>⋮</td><td>⋮</td><td>⋮</td><td>⋮</td><td>⋮</td><td>⋮</td><td>⋮</td><td>⋮</td><td>⋮</td></tr>\n",
       "\t<tr><td>0.70</td><td>Premium  </td><td>E</td><td>SI1 </td><td>60.5</td><td>58</td><td>2753</td><td>5.74</td><td>5.77</td><td>3.48</td></tr>\n",
       "\t<tr><td>0.57</td><td>Premium  </td><td>E</td><td>IF  </td><td>59.8</td><td>60</td><td>2753</td><td>5.43</td><td>5.38</td><td>3.23</td></tr>\n",
       "\t<tr><td>0.61</td><td>Premium  </td><td>F</td><td>VVS1</td><td>61.8</td><td>59</td><td>2753</td><td>5.48</td><td>5.40</td><td>3.36</td></tr>\n",
       "\t<tr><td>0.80</td><td>Good     </td><td>G</td><td>VS2 </td><td>64.2</td><td>58</td><td>2753</td><td>5.84</td><td>5.81</td><td>3.74</td></tr>\n",
       "\t<tr><td>0.84</td><td>Good     </td><td>I</td><td>VS1 </td><td>63.7</td><td>59</td><td>2753</td><td>5.94</td><td>5.90</td><td>3.77</td></tr>\n",
       "\t<tr><td>0.77</td><td>Ideal    </td><td>E</td><td>SI2 </td><td>62.1</td><td>56</td><td>2753</td><td>5.84</td><td>5.86</td><td>3.63</td></tr>\n",
       "\t<tr><td>0.74</td><td>Good     </td><td>D</td><td>SI1 </td><td>63.1</td><td>59</td><td>2753</td><td>5.71</td><td>5.74</td><td>3.61</td></tr>\n",
       "\t<tr><td>0.90</td><td>Very Good</td><td>J</td><td>SI1 </td><td>63.2</td><td>60</td><td>2753</td><td>6.12</td><td>6.09</td><td>3.86</td></tr>\n",
       "\t<tr><td>0.76</td><td>Premium  </td><td>I</td><td>VS1 </td><td>59.3</td><td>62</td><td>2753</td><td>5.93</td><td>5.85</td><td>3.49</td></tr>\n",
       "\t<tr><td>0.76</td><td>Ideal    </td><td>I</td><td>VVS1</td><td>62.2</td><td>55</td><td>2753</td><td>5.89</td><td>5.87</td><td>3.66</td></tr>\n",
       "\t<tr><td>0.70</td><td>Very Good</td><td>E</td><td>VS2 </td><td>62.4</td><td>60</td><td>2755</td><td>5.57</td><td>5.61</td><td>3.49</td></tr>\n",
       "\t<tr><td>0.70</td><td>Very Good</td><td>E</td><td>VS2 </td><td>62.8</td><td>60</td><td>2755</td><td>5.59</td><td>5.65</td><td>3.53</td></tr>\n",
       "\t<tr><td>0.70</td><td>Very Good</td><td>D</td><td>VS1 </td><td>63.1</td><td>59</td><td>2755</td><td>5.67</td><td>5.58</td><td>3.55</td></tr>\n",
       "\t<tr><td>0.73</td><td>Ideal    </td><td>I</td><td>VS2 </td><td>61.3</td><td>56</td><td>2756</td><td>5.80</td><td>5.84</td><td>3.57</td></tr>\n",
       "\t<tr><td>0.73</td><td>Ideal    </td><td>I</td><td>VS2 </td><td>61.6</td><td>55</td><td>2756</td><td>5.82</td><td>5.84</td><td>3.59</td></tr>\n",
       "\t<tr><td>0.79</td><td>Ideal    </td><td>I</td><td>SI1 </td><td>61.6</td><td>56</td><td>2756</td><td>5.95</td><td>5.97</td><td>3.67</td></tr>\n",
       "\t<tr><td>0.71</td><td>Ideal    </td><td>E</td><td>SI1 </td><td>61.9</td><td>56</td><td>2756</td><td>5.71</td><td>5.73</td><td>3.54</td></tr>\n",
       "\t<tr><td>0.79</td><td>Good     </td><td>F</td><td>SI1 </td><td>58.1</td><td>59</td><td>2756</td><td>6.06</td><td>6.13</td><td>3.54</td></tr>\n",
       "\t<tr><td>0.79</td><td>Premium  </td><td>E</td><td>SI2 </td><td>61.4</td><td>58</td><td>2756</td><td>6.03</td><td>5.96</td><td>3.68</td></tr>\n",
       "\t<tr><td>0.71</td><td>Ideal    </td><td>G</td><td>VS1 </td><td>61.4</td><td>56</td><td>2756</td><td>5.76</td><td>5.73</td><td>3.53</td></tr>\n",
       "\t<tr><td>0.71</td><td>Premium  </td><td>E</td><td>SI1 </td><td>60.5</td><td>55</td><td>2756</td><td>5.79</td><td>5.74</td><td>3.49</td></tr>\n",
       "\t<tr><td>0.71</td><td>Premium  </td><td>F</td><td>SI1 </td><td>59.8</td><td>62</td><td>2756</td><td>5.74</td><td>5.73</td><td>3.43</td></tr>\n",
       "\t<tr><td>0.70</td><td>Very Good</td><td>E</td><td>VS2 </td><td>60.5</td><td>59</td><td>2757</td><td>5.71</td><td>5.76</td><td>3.47</td></tr>\n",
       "\t<tr><td>0.70</td><td>Very Good</td><td>E</td><td>VS2 </td><td>61.2</td><td>59</td><td>2757</td><td>5.69</td><td>5.72</td><td>3.49</td></tr>\n",
       "\t<tr><td>0.72</td><td>Premium  </td><td>D</td><td>SI1 </td><td>62.7</td><td>59</td><td>2757</td><td>5.69</td><td>5.73</td><td>3.58</td></tr>\n",
       "\t<tr><td>0.72</td><td>Ideal    </td><td>D</td><td>SI1 </td><td>60.8</td><td>57</td><td>2757</td><td>5.75</td><td>5.76</td><td>3.50</td></tr>\n",
       "\t<tr><td>0.72</td><td>Good     </td><td>D</td><td>SI1 </td><td>63.1</td><td>55</td><td>2757</td><td>5.69</td><td>5.75</td><td>3.61</td></tr>\n",
       "\t<tr><td>0.70</td><td>Very Good</td><td>D</td><td>SI1 </td><td>62.8</td><td>60</td><td>2757</td><td>5.66</td><td>5.68</td><td>3.56</td></tr>\n",
       "\t<tr><td>0.86</td><td>Premium  </td><td>H</td><td>SI2 </td><td>61.0</td><td>58</td><td>2757</td><td>6.15</td><td>6.12</td><td>3.74</td></tr>\n",
       "\t<tr><td>0.75</td><td>Ideal    </td><td>D</td><td>SI2 </td><td>62.2</td><td>55</td><td>2757</td><td>5.83</td><td>5.87</td><td>3.64</td></tr>\n",
       "</tbody>\n",
       "</table>\n"
      ],
      "text/latex": [
       "A data.table: 53940 × 10\n",
       "\\begin{tabular}{llllllllll}\n",
       " carat & cut & color & clarity & depth & table & price & x & y & z\\\\\n",
       " <dbl> & <ord> & <ord> & <ord> & <dbl> & <dbl> & <int> & <dbl> & <dbl> & <dbl>\\\\\n",
       "\\hline\n",
       "\t 0.23 & Ideal     & E & SI2  & 61.5 & 55 & 326 & 3.95 & 3.98 & 2.43\\\\\n",
       "\t 0.21 & Premium   & E & SI1  & 59.8 & 61 & 326 & 3.89 & 3.84 & 2.31\\\\\n",
       "\t 0.23 & Good      & E & VS1  & 56.9 & 65 & 327 & 4.05 & 4.07 & 2.31\\\\\n",
       "\t 0.29 & Premium   & I & VS2  & 62.4 & 58 & 334 & 4.20 & 4.23 & 2.63\\\\\n",
       "\t 0.31 & Good      & J & SI2  & 63.3 & 58 & 335 & 4.34 & 4.35 & 2.75\\\\\n",
       "\t 0.24 & Very Good & J & VVS2 & 62.8 & 57 & 336 & 3.94 & 3.96 & 2.48\\\\\n",
       "\t 0.24 & Very Good & I & VVS1 & 62.3 & 57 & 336 & 3.95 & 3.98 & 2.47\\\\\n",
       "\t 0.26 & Very Good & H & SI1  & 61.9 & 55 & 337 & 4.07 & 4.11 & 2.53\\\\\n",
       "\t 0.22 & Fair      & E & VS2  & 65.1 & 61 & 337 & 3.87 & 3.78 & 2.49\\\\\n",
       "\t 0.23 & Very Good & H & VS1  & 59.4 & 61 & 338 & 4.00 & 4.05 & 2.39\\\\\n",
       "\t 0.30 & Good      & J & SI1  & 64.0 & 55 & 339 & 4.25 & 4.28 & 2.73\\\\\n",
       "\t 0.23 & Ideal     & J & VS1  & 62.8 & 56 & 340 & 3.93 & 3.90 & 2.46\\\\\n",
       "\t 0.22 & Premium   & F & SI1  & 60.4 & 61 & 342 & 3.88 & 3.84 & 2.33\\\\\n",
       "\t 0.31 & Ideal     & J & SI2  & 62.2 & 54 & 344 & 4.35 & 4.37 & 2.71\\\\\n",
       "\t 0.20 & Premium   & E & SI2  & 60.2 & 62 & 345 & 3.79 & 3.75 & 2.27\\\\\n",
       "\t 0.32 & Premium   & E & I1   & 60.9 & 58 & 345 & 4.38 & 4.42 & 2.68\\\\\n",
       "\t 0.30 & Ideal     & I & SI2  & 62.0 & 54 & 348 & 4.31 & 4.34 & 2.68\\\\\n",
       "\t 0.30 & Good      & J & SI1  & 63.4 & 54 & 351 & 4.23 & 4.29 & 2.70\\\\\n",
       "\t 0.30 & Good      & J & SI1  & 63.8 & 56 & 351 & 4.23 & 4.26 & 2.71\\\\\n",
       "\t 0.30 & Very Good & J & SI1  & 62.7 & 59 & 351 & 4.21 & 4.27 & 2.66\\\\\n",
       "\t 0.30 & Good      & I & SI2  & 63.3 & 56 & 351 & 4.26 & 4.30 & 2.71\\\\\n",
       "\t 0.23 & Very Good & E & VS2  & 63.8 & 55 & 352 & 3.85 & 3.92 & 2.48\\\\\n",
       "\t 0.23 & Very Good & H & VS1  & 61.0 & 57 & 353 & 3.94 & 3.96 & 2.41\\\\\n",
       "\t 0.31 & Very Good & J & SI1  & 59.4 & 62 & 353 & 4.39 & 4.43 & 2.62\\\\\n",
       "\t 0.31 & Very Good & J & SI1  & 58.1 & 62 & 353 & 4.44 & 4.47 & 2.59\\\\\n",
       "\t 0.23 & Very Good & G & VVS2 & 60.4 & 58 & 354 & 3.97 & 4.01 & 2.41\\\\\n",
       "\t 0.24 & Premium   & I & VS1  & 62.5 & 57 & 355 & 3.97 & 3.94 & 2.47\\\\\n",
       "\t 0.30 & Very Good & J & VS2  & 62.2 & 57 & 357 & 4.28 & 4.30 & 2.67\\\\\n",
       "\t 0.23 & Very Good & D & VS2  & 60.5 & 61 & 357 & 3.96 & 3.97 & 2.40\\\\\n",
       "\t 0.23 & Very Good & F & VS1  & 60.9 & 57 & 357 & 3.96 & 3.99 & 2.42\\\\\n",
       "\t ⋮ & ⋮ & ⋮ & ⋮ & ⋮ & ⋮ & ⋮ & ⋮ & ⋮ & ⋮\\\\\n",
       "\t 0.70 & Premium   & E & SI1  & 60.5 & 58 & 2753 & 5.74 & 5.77 & 3.48\\\\\n",
       "\t 0.57 & Premium   & E & IF   & 59.8 & 60 & 2753 & 5.43 & 5.38 & 3.23\\\\\n",
       "\t 0.61 & Premium   & F & VVS1 & 61.8 & 59 & 2753 & 5.48 & 5.40 & 3.36\\\\\n",
       "\t 0.80 & Good      & G & VS2  & 64.2 & 58 & 2753 & 5.84 & 5.81 & 3.74\\\\\n",
       "\t 0.84 & Good      & I & VS1  & 63.7 & 59 & 2753 & 5.94 & 5.90 & 3.77\\\\\n",
       "\t 0.77 & Ideal     & E & SI2  & 62.1 & 56 & 2753 & 5.84 & 5.86 & 3.63\\\\\n",
       "\t 0.74 & Good      & D & SI1  & 63.1 & 59 & 2753 & 5.71 & 5.74 & 3.61\\\\\n",
       "\t 0.90 & Very Good & J & SI1  & 63.2 & 60 & 2753 & 6.12 & 6.09 & 3.86\\\\\n",
       "\t 0.76 & Premium   & I & VS1  & 59.3 & 62 & 2753 & 5.93 & 5.85 & 3.49\\\\\n",
       "\t 0.76 & Ideal     & I & VVS1 & 62.2 & 55 & 2753 & 5.89 & 5.87 & 3.66\\\\\n",
       "\t 0.70 & Very Good & E & VS2  & 62.4 & 60 & 2755 & 5.57 & 5.61 & 3.49\\\\\n",
       "\t 0.70 & Very Good & E & VS2  & 62.8 & 60 & 2755 & 5.59 & 5.65 & 3.53\\\\\n",
       "\t 0.70 & Very Good & D & VS1  & 63.1 & 59 & 2755 & 5.67 & 5.58 & 3.55\\\\\n",
       "\t 0.73 & Ideal     & I & VS2  & 61.3 & 56 & 2756 & 5.80 & 5.84 & 3.57\\\\\n",
       "\t 0.73 & Ideal     & I & VS2  & 61.6 & 55 & 2756 & 5.82 & 5.84 & 3.59\\\\\n",
       "\t 0.79 & Ideal     & I & SI1  & 61.6 & 56 & 2756 & 5.95 & 5.97 & 3.67\\\\\n",
       "\t 0.71 & Ideal     & E & SI1  & 61.9 & 56 & 2756 & 5.71 & 5.73 & 3.54\\\\\n",
       "\t 0.79 & Good      & F & SI1  & 58.1 & 59 & 2756 & 6.06 & 6.13 & 3.54\\\\\n",
       "\t 0.79 & Premium   & E & SI2  & 61.4 & 58 & 2756 & 6.03 & 5.96 & 3.68\\\\\n",
       "\t 0.71 & Ideal     & G & VS1  & 61.4 & 56 & 2756 & 5.76 & 5.73 & 3.53\\\\\n",
       "\t 0.71 & Premium   & E & SI1  & 60.5 & 55 & 2756 & 5.79 & 5.74 & 3.49\\\\\n",
       "\t 0.71 & Premium   & F & SI1  & 59.8 & 62 & 2756 & 5.74 & 5.73 & 3.43\\\\\n",
       "\t 0.70 & Very Good & E & VS2  & 60.5 & 59 & 2757 & 5.71 & 5.76 & 3.47\\\\\n",
       "\t 0.70 & Very Good & E & VS2  & 61.2 & 59 & 2757 & 5.69 & 5.72 & 3.49\\\\\n",
       "\t 0.72 & Premium   & D & SI1  & 62.7 & 59 & 2757 & 5.69 & 5.73 & 3.58\\\\\n",
       "\t 0.72 & Ideal     & D & SI1  & 60.8 & 57 & 2757 & 5.75 & 5.76 & 3.50\\\\\n",
       "\t 0.72 & Good      & D & SI1  & 63.1 & 55 & 2757 & 5.69 & 5.75 & 3.61\\\\\n",
       "\t 0.70 & Very Good & D & SI1  & 62.8 & 60 & 2757 & 5.66 & 5.68 & 3.56\\\\\n",
       "\t 0.86 & Premium   & H & SI2  & 61.0 & 58 & 2757 & 6.15 & 6.12 & 3.74\\\\\n",
       "\t 0.75 & Ideal     & D & SI2  & 62.2 & 55 & 2757 & 5.83 & 5.87 & 3.64\\\\\n",
       "\\end{tabular}\n"
      ],
      "text/markdown": [
       "\n",
       "A data.table: 53940 × 10\n",
       "\n",
       "| carat &lt;dbl&gt; | cut &lt;ord&gt; | color &lt;ord&gt; | clarity &lt;ord&gt; | depth &lt;dbl&gt; | table &lt;dbl&gt; | price &lt;int&gt; | x &lt;dbl&gt; | y &lt;dbl&gt; | z &lt;dbl&gt; |\n",
       "|---|---|---|---|---|---|---|---|---|---|\n",
       "| 0.23 | Ideal     | E | SI2  | 61.5 | 55 | 326 | 3.95 | 3.98 | 2.43 |\n",
       "| 0.21 | Premium   | E | SI1  | 59.8 | 61 | 326 | 3.89 | 3.84 | 2.31 |\n",
       "| 0.23 | Good      | E | VS1  | 56.9 | 65 | 327 | 4.05 | 4.07 | 2.31 |\n",
       "| 0.29 | Premium   | I | VS2  | 62.4 | 58 | 334 | 4.20 | 4.23 | 2.63 |\n",
       "| 0.31 | Good      | J | SI2  | 63.3 | 58 | 335 | 4.34 | 4.35 | 2.75 |\n",
       "| 0.24 | Very Good | J | VVS2 | 62.8 | 57 | 336 | 3.94 | 3.96 | 2.48 |\n",
       "| 0.24 | Very Good | I | VVS1 | 62.3 | 57 | 336 | 3.95 | 3.98 | 2.47 |\n",
       "| 0.26 | Very Good | H | SI1  | 61.9 | 55 | 337 | 4.07 | 4.11 | 2.53 |\n",
       "| 0.22 | Fair      | E | VS2  | 65.1 | 61 | 337 | 3.87 | 3.78 | 2.49 |\n",
       "| 0.23 | Very Good | H | VS1  | 59.4 | 61 | 338 | 4.00 | 4.05 | 2.39 |\n",
       "| 0.30 | Good      | J | SI1  | 64.0 | 55 | 339 | 4.25 | 4.28 | 2.73 |\n",
       "| 0.23 | Ideal     | J | VS1  | 62.8 | 56 | 340 | 3.93 | 3.90 | 2.46 |\n",
       "| 0.22 | Premium   | F | SI1  | 60.4 | 61 | 342 | 3.88 | 3.84 | 2.33 |\n",
       "| 0.31 | Ideal     | J | SI2  | 62.2 | 54 | 344 | 4.35 | 4.37 | 2.71 |\n",
       "| 0.20 | Premium   | E | SI2  | 60.2 | 62 | 345 | 3.79 | 3.75 | 2.27 |\n",
       "| 0.32 | Premium   | E | I1   | 60.9 | 58 | 345 | 4.38 | 4.42 | 2.68 |\n",
       "| 0.30 | Ideal     | I | SI2  | 62.0 | 54 | 348 | 4.31 | 4.34 | 2.68 |\n",
       "| 0.30 | Good      | J | SI1  | 63.4 | 54 | 351 | 4.23 | 4.29 | 2.70 |\n",
       "| 0.30 | Good      | J | SI1  | 63.8 | 56 | 351 | 4.23 | 4.26 | 2.71 |\n",
       "| 0.30 | Very Good | J | SI1  | 62.7 | 59 | 351 | 4.21 | 4.27 | 2.66 |\n",
       "| 0.30 | Good      | I | SI2  | 63.3 | 56 | 351 | 4.26 | 4.30 | 2.71 |\n",
       "| 0.23 | Very Good | E | VS2  | 63.8 | 55 | 352 | 3.85 | 3.92 | 2.48 |\n",
       "| 0.23 | Very Good | H | VS1  | 61.0 | 57 | 353 | 3.94 | 3.96 | 2.41 |\n",
       "| 0.31 | Very Good | J | SI1  | 59.4 | 62 | 353 | 4.39 | 4.43 | 2.62 |\n",
       "| 0.31 | Very Good | J | SI1  | 58.1 | 62 | 353 | 4.44 | 4.47 | 2.59 |\n",
       "| 0.23 | Very Good | G | VVS2 | 60.4 | 58 | 354 | 3.97 | 4.01 | 2.41 |\n",
       "| 0.24 | Premium   | I | VS1  | 62.5 | 57 | 355 | 3.97 | 3.94 | 2.47 |\n",
       "| 0.30 | Very Good | J | VS2  | 62.2 | 57 | 357 | 4.28 | 4.30 | 2.67 |\n",
       "| 0.23 | Very Good | D | VS2  | 60.5 | 61 | 357 | 3.96 | 3.97 | 2.40 |\n",
       "| 0.23 | Very Good | F | VS1  | 60.9 | 57 | 357 | 3.96 | 3.99 | 2.42 |\n",
       "| ⋮ | ⋮ | ⋮ | ⋮ | ⋮ | ⋮ | ⋮ | ⋮ | ⋮ | ⋮ |\n",
       "| 0.70 | Premium   | E | SI1  | 60.5 | 58 | 2753 | 5.74 | 5.77 | 3.48 |\n",
       "| 0.57 | Premium   | E | IF   | 59.8 | 60 | 2753 | 5.43 | 5.38 | 3.23 |\n",
       "| 0.61 | Premium   | F | VVS1 | 61.8 | 59 | 2753 | 5.48 | 5.40 | 3.36 |\n",
       "| 0.80 | Good      | G | VS2  | 64.2 | 58 | 2753 | 5.84 | 5.81 | 3.74 |\n",
       "| 0.84 | Good      | I | VS1  | 63.7 | 59 | 2753 | 5.94 | 5.90 | 3.77 |\n",
       "| 0.77 | Ideal     | E | SI2  | 62.1 | 56 | 2753 | 5.84 | 5.86 | 3.63 |\n",
       "| 0.74 | Good      | D | SI1  | 63.1 | 59 | 2753 | 5.71 | 5.74 | 3.61 |\n",
       "| 0.90 | Very Good | J | SI1  | 63.2 | 60 | 2753 | 6.12 | 6.09 | 3.86 |\n",
       "| 0.76 | Premium   | I | VS1  | 59.3 | 62 | 2753 | 5.93 | 5.85 | 3.49 |\n",
       "| 0.76 | Ideal     | I | VVS1 | 62.2 | 55 | 2753 | 5.89 | 5.87 | 3.66 |\n",
       "| 0.70 | Very Good | E | VS2  | 62.4 | 60 | 2755 | 5.57 | 5.61 | 3.49 |\n",
       "| 0.70 | Very Good | E | VS2  | 62.8 | 60 | 2755 | 5.59 | 5.65 | 3.53 |\n",
       "| 0.70 | Very Good | D | VS1  | 63.1 | 59 | 2755 | 5.67 | 5.58 | 3.55 |\n",
       "| 0.73 | Ideal     | I | VS2  | 61.3 | 56 | 2756 | 5.80 | 5.84 | 3.57 |\n",
       "| 0.73 | Ideal     | I | VS2  | 61.6 | 55 | 2756 | 5.82 | 5.84 | 3.59 |\n",
       "| 0.79 | Ideal     | I | SI1  | 61.6 | 56 | 2756 | 5.95 | 5.97 | 3.67 |\n",
       "| 0.71 | Ideal     | E | SI1  | 61.9 | 56 | 2756 | 5.71 | 5.73 | 3.54 |\n",
       "| 0.79 | Good      | F | SI1  | 58.1 | 59 | 2756 | 6.06 | 6.13 | 3.54 |\n",
       "| 0.79 | Premium   | E | SI2  | 61.4 | 58 | 2756 | 6.03 | 5.96 | 3.68 |\n",
       "| 0.71 | Ideal     | G | VS1  | 61.4 | 56 | 2756 | 5.76 | 5.73 | 3.53 |\n",
       "| 0.71 | Premium   | E | SI1  | 60.5 | 55 | 2756 | 5.79 | 5.74 | 3.49 |\n",
       "| 0.71 | Premium   | F | SI1  | 59.8 | 62 | 2756 | 5.74 | 5.73 | 3.43 |\n",
       "| 0.70 | Very Good | E | VS2  | 60.5 | 59 | 2757 | 5.71 | 5.76 | 3.47 |\n",
       "| 0.70 | Very Good | E | VS2  | 61.2 | 59 | 2757 | 5.69 | 5.72 | 3.49 |\n",
       "| 0.72 | Premium   | D | SI1  | 62.7 | 59 | 2757 | 5.69 | 5.73 | 3.58 |\n",
       "| 0.72 | Ideal     | D | SI1  | 60.8 | 57 | 2757 | 5.75 | 5.76 | 3.50 |\n",
       "| 0.72 | Good      | D | SI1  | 63.1 | 55 | 2757 | 5.69 | 5.75 | 3.61 |\n",
       "| 0.70 | Very Good | D | SI1  | 62.8 | 60 | 2757 | 5.66 | 5.68 | 3.56 |\n",
       "| 0.86 | Premium   | H | SI2  | 61.0 | 58 | 2757 | 6.15 | 6.12 | 3.74 |\n",
       "| 0.75 | Ideal     | D | SI2  | 62.2 | 55 | 2757 | 5.83 | 5.87 | 3.64 |\n",
       "\n"
      ],
      "text/plain": [
       "      carat cut       color clarity depth table price x    y    z   \n",
       "1     0.23  Ideal     E     SI2     61.5  55    326   3.95 3.98 2.43\n",
       "2     0.21  Premium   E     SI1     59.8  61    326   3.89 3.84 2.31\n",
       "3     0.23  Good      E     VS1     56.9  65    327   4.05 4.07 2.31\n",
       "4     0.29  Premium   I     VS2     62.4  58    334   4.20 4.23 2.63\n",
       "5     0.31  Good      J     SI2     63.3  58    335   4.34 4.35 2.75\n",
       "6     0.24  Very Good J     VVS2    62.8  57    336   3.94 3.96 2.48\n",
       "7     0.24  Very Good I     VVS1    62.3  57    336   3.95 3.98 2.47\n",
       "8     0.26  Very Good H     SI1     61.9  55    337   4.07 4.11 2.53\n",
       "9     0.22  Fair      E     VS2     65.1  61    337   3.87 3.78 2.49\n",
       "10    0.23  Very Good H     VS1     59.4  61    338   4.00 4.05 2.39\n",
       "11    0.30  Good      J     SI1     64.0  55    339   4.25 4.28 2.73\n",
       "12    0.23  Ideal     J     VS1     62.8  56    340   3.93 3.90 2.46\n",
       "13    0.22  Premium   F     SI1     60.4  61    342   3.88 3.84 2.33\n",
       "14    0.31  Ideal     J     SI2     62.2  54    344   4.35 4.37 2.71\n",
       "15    0.20  Premium   E     SI2     60.2  62    345   3.79 3.75 2.27\n",
       "16    0.32  Premium   E     I1      60.9  58    345   4.38 4.42 2.68\n",
       "17    0.30  Ideal     I     SI2     62.0  54    348   4.31 4.34 2.68\n",
       "18    0.30  Good      J     SI1     63.4  54    351   4.23 4.29 2.70\n",
       "19    0.30  Good      J     SI1     63.8  56    351   4.23 4.26 2.71\n",
       "20    0.30  Very Good J     SI1     62.7  59    351   4.21 4.27 2.66\n",
       "21    0.30  Good      I     SI2     63.3  56    351   4.26 4.30 2.71\n",
       "22    0.23  Very Good E     VS2     63.8  55    352   3.85 3.92 2.48\n",
       "23    0.23  Very Good H     VS1     61.0  57    353   3.94 3.96 2.41\n",
       "24    0.31  Very Good J     SI1     59.4  62    353   4.39 4.43 2.62\n",
       "25    0.31  Very Good J     SI1     58.1  62    353   4.44 4.47 2.59\n",
       "26    0.23  Very Good G     VVS2    60.4  58    354   3.97 4.01 2.41\n",
       "27    0.24  Premium   I     VS1     62.5  57    355   3.97 3.94 2.47\n",
       "28    0.30  Very Good J     VS2     62.2  57    357   4.28 4.30 2.67\n",
       "29    0.23  Very Good D     VS2     60.5  61    357   3.96 3.97 2.40\n",
       "30    0.23  Very Good F     VS1     60.9  57    357   3.96 3.99 2.42\n",
       "⋮     ⋮     ⋮         ⋮     ⋮       ⋮     ⋮     ⋮     ⋮    ⋮    ⋮   \n",
       "53911 0.70  Premium   E     SI1     60.5  58    2753  5.74 5.77 3.48\n",
       "53912 0.57  Premium   E     IF      59.8  60    2753  5.43 5.38 3.23\n",
       "53913 0.61  Premium   F     VVS1    61.8  59    2753  5.48 5.40 3.36\n",
       "53914 0.80  Good      G     VS2     64.2  58    2753  5.84 5.81 3.74\n",
       "53915 0.84  Good      I     VS1     63.7  59    2753  5.94 5.90 3.77\n",
       "53916 0.77  Ideal     E     SI2     62.1  56    2753  5.84 5.86 3.63\n",
       "53917 0.74  Good      D     SI1     63.1  59    2753  5.71 5.74 3.61\n",
       "53918 0.90  Very Good J     SI1     63.2  60    2753  6.12 6.09 3.86\n",
       "53919 0.76  Premium   I     VS1     59.3  62    2753  5.93 5.85 3.49\n",
       "53920 0.76  Ideal     I     VVS1    62.2  55    2753  5.89 5.87 3.66\n",
       "53921 0.70  Very Good E     VS2     62.4  60    2755  5.57 5.61 3.49\n",
       "53922 0.70  Very Good E     VS2     62.8  60    2755  5.59 5.65 3.53\n",
       "53923 0.70  Very Good D     VS1     63.1  59    2755  5.67 5.58 3.55\n",
       "53924 0.73  Ideal     I     VS2     61.3  56    2756  5.80 5.84 3.57\n",
       "53925 0.73  Ideal     I     VS2     61.6  55    2756  5.82 5.84 3.59\n",
       "53926 0.79  Ideal     I     SI1     61.6  56    2756  5.95 5.97 3.67\n",
       "53927 0.71  Ideal     E     SI1     61.9  56    2756  5.71 5.73 3.54\n",
       "53928 0.79  Good      F     SI1     58.1  59    2756  6.06 6.13 3.54\n",
       "53929 0.79  Premium   E     SI2     61.4  58    2756  6.03 5.96 3.68\n",
       "53930 0.71  Ideal     G     VS1     61.4  56    2756  5.76 5.73 3.53\n",
       "53931 0.71  Premium   E     SI1     60.5  55    2756  5.79 5.74 3.49\n",
       "53932 0.71  Premium   F     SI1     59.8  62    2756  5.74 5.73 3.43\n",
       "53933 0.70  Very Good E     VS2     60.5  59    2757  5.71 5.76 3.47\n",
       "53934 0.70  Very Good E     VS2     61.2  59    2757  5.69 5.72 3.49\n",
       "53935 0.72  Premium   D     SI1     62.7  59    2757  5.69 5.73 3.58\n",
       "53936 0.72  Ideal     D     SI1     60.8  57    2757  5.75 5.76 3.50\n",
       "53937 0.72  Good      D     SI1     63.1  55    2757  5.69 5.75 3.61\n",
       "53938 0.70  Very Good D     SI1     62.8  60    2757  5.66 5.68 3.56\n",
       "53939 0.86  Premium   H     SI2     61.0  58    2757  6.15 6.12 3.74\n",
       "53940 0.75  Ideal     D     SI2     62.2  55    2757  5.83 5.87 3.64"
      ]
     },
     "metadata": {},
     "output_type": "display_data"
    }
   ],
   "source": [
    "diaDT <- data.table(diamonds)\n",
    "diaDT"
   ]
  },
  {
   "cell_type": "code",
   "execution_count": 61,
   "metadata": {},
   "outputs": [
    {
     "data": {
      "text/html": [
       "<table class=\"dataframe\">\n",
       "<caption>A data.table: 5 × 2</caption>\n",
       "<thead>\n",
       "\t<tr><th scope=col>cut</th><th scope=col>V1</th></tr>\n",
       "\t<tr><th scope=col>&lt;ord&gt;</th><th scope=col>&lt;dbl&gt;</th></tr>\n",
       "</thead>\n",
       "<tbody>\n",
       "\t<tr><td>Ideal    </td><td>3457.542</td></tr>\n",
       "\t<tr><td>Premium  </td><td>4584.258</td></tr>\n",
       "\t<tr><td>Good     </td><td>3928.864</td></tr>\n",
       "\t<tr><td>Very Good</td><td>3981.760</td></tr>\n",
       "\t<tr><td>Fair     </td><td>4358.758</td></tr>\n",
       "</tbody>\n",
       "</table>\n"
      ],
      "text/latex": [
       "A data.table: 5 × 2\n",
       "\\begin{tabular}{ll}\n",
       " cut & V1\\\\\n",
       " <ord> & <dbl>\\\\\n",
       "\\hline\n",
       "\t Ideal     & 3457.542\\\\\n",
       "\t Premium   & 4584.258\\\\\n",
       "\t Good      & 3928.864\\\\\n",
       "\t Very Good & 3981.760\\\\\n",
       "\t Fair      & 4358.758\\\\\n",
       "\\end{tabular}\n"
      ],
      "text/markdown": [
       "\n",
       "A data.table: 5 × 2\n",
       "\n",
       "| cut &lt;ord&gt; | V1 &lt;dbl&gt; |\n",
       "|---|---|\n",
       "| Ideal     | 3457.542 |\n",
       "| Premium   | 4584.258 |\n",
       "| Good      | 3928.864 |\n",
       "| Very Good | 3981.760 |\n",
       "| Fair      | 4358.758 |\n",
       "\n"
      ],
      "text/plain": [
       "  cut       V1      \n",
       "1 Ideal     3457.542\n",
       "2 Premium   4584.258\n",
       "3 Good      3928.864\n",
       "4 Very Good 3981.760\n",
       "5 Fair      4358.758"
      ]
     },
     "metadata": {},
     "output_type": "display_data"
    }
   ],
   "source": [
    "diaDT[,mean(price), by=cut]\n",
    "# 이런 식으로도 할 수 있겠다. \n",
    "# data table은 거의 가장 빠른 방법으로 통한다."
   ]
  },
  {
   "cell_type": "code",
   "execution_count": 66,
   "metadata": {},
   "outputs": [
    {
     "data": {
      "text/html": [
       "<style>\n",
       ".list-inline {list-style: none; margin:0; padding: 0}\n",
       ".list-inline>li {display: inline-block}\n",
       ".list-inline>li:not(:last-child)::after {content: \"\\00b7\"; padding: 0 .5ex}\n",
       "</style>\n",
       "<ol class=list-inline><li>6</li><li>10</li></ol>\n"
      ],
      "text/latex": [
       "\\begin{enumerate*}\n",
       "\\item 6\n",
       "\\item 10\n",
       "\\end{enumerate*}\n"
      ],
      "text/markdown": [
       "1. 6\n",
       "2. 10\n",
       "\n",
       "\n"
      ],
      "text/plain": [
       "[1]  6 10"
      ]
     },
     "metadata": {},
     "output_type": "display_data"
    }
   ],
   "source": [
    "# 파이프에 대해 배워보자.\n",
    "\n",
    "diamonds %>% head %>% dim # 이렇게 하는 게 빠르다는 얘기가 있다. "
   ]
  },
  {
   "cell_type": "code",
   "execution_count": 71,
   "metadata": {},
   "outputs": [],
   "source": [
    "require(dplyr)\n",
    "require(plyr)"
   ]
  },
  {
   "cell_type": "code",
   "execution_count": 72,
   "metadata": {},
   "outputs": [
    {
     "data": {
      "text/html": [
       "<table class=\"dataframe\">\n",
       "<caption>A tibble: 5 × 2</caption>\n",
       "<thead>\n",
       "\t<tr><th scope=col>cut</th><th scope=col>Price</th></tr>\n",
       "\t<tr><th scope=col>&lt;ord&gt;</th><th scope=col>&lt;dbl&gt;</th></tr>\n",
       "</thead>\n",
       "<tbody>\n",
       "\t<tr><td>Fair     </td><td>4358.758</td></tr>\n",
       "\t<tr><td>Good     </td><td>3928.864</td></tr>\n",
       "\t<tr><td>Very Good</td><td>3981.760</td></tr>\n",
       "\t<tr><td>Premium  </td><td>4584.258</td></tr>\n",
       "\t<tr><td>Ideal    </td><td>3457.542</td></tr>\n",
       "</tbody>\n",
       "</table>\n"
      ],
      "text/latex": [
       "A tibble: 5 × 2\n",
       "\\begin{tabular}{ll}\n",
       " cut & Price\\\\\n",
       " <ord> & <dbl>\\\\\n",
       "\\hline\n",
       "\t Fair      & 4358.758\\\\\n",
       "\t Good      & 3928.864\\\\\n",
       "\t Very Good & 3981.760\\\\\n",
       "\t Premium   & 4584.258\\\\\n",
       "\t Ideal     & 3457.542\\\\\n",
       "\\end{tabular}\n"
      ],
      "text/markdown": [
       "\n",
       "A tibble: 5 × 2\n",
       "\n",
       "| cut &lt;ord&gt; | Price &lt;dbl&gt; |\n",
       "|---|---|\n",
       "| Fair      | 4358.758 |\n",
       "| Good      | 3928.864 |\n",
       "| Very Good | 3981.760 |\n",
       "| Premium   | 4584.258 |\n",
       "| Ideal     | 3457.542 |\n",
       "\n"
      ],
      "text/plain": [
       "  cut       Price   \n",
       "1 Fair      4358.758\n",
       "2 Good      3928.864\n",
       "3 Very Good 3981.760\n",
       "4 Premium   4584.258\n",
       "5 Ideal     3457.542"
      ]
     },
     "metadata": {},
     "output_type": "display_data"
    }
   ],
   "source": [
    "diamonds %>% group_by(cut) %>% dplyr::summarize(Price=mean(price))"
   ]
  },
  {
   "cell_type": "markdown",
   "metadata": {},
   "source": [
    "dplyr를 데이터베이스에서 사용해보자."
   ]
  },
  {
   "cell_type": "code",
   "execution_count": 73,
   "metadata": {},
   "outputs": [],
   "source": [
    "download.file(\"http://www.jaredlander.com/data/diamond.db\", destfile=\"diamonds.db\", method=\"curl\")"
   ]
  },
  {
   "cell_type": "code",
   "execution_count": 74,
   "metadata": {},
   "outputs": [],
   "source": [
    "require(dplyr)"
   ]
  },
  {
   "cell_type": "code",
   "execution_count": 76,
   "metadata": {},
   "outputs": [
    {
     "ename": "ERROR",
     "evalue": "Error: The RMySQL package is required to connect to MySQL/MariaDB.\nPlease install it with `install.packages(\"RMySQL\")`\n",
     "output_type": "error",
     "traceback": [
      "Error: The RMySQL package is required to connect to MySQL/MariaDB.\nPlease install it with `install.packages(\"RMySQL\")`\nTraceback:\n",
      "1. src_mysql(\"diamonds.db\")",
      "2. check_pkg(\"RMySQL\", \"connect to MySQL/MariaDB\")",
      "3. glubort(NULL, \"The {name} package is required to {reason}.\", \n .     if (install) \"\\nPlease install it with `install.packages(\\\"{name}\\\")`\" else \"\")",
      "4. .abort(text)",
      "5. signal_abort(cnd)"
     ]
    }
   ],
   "source": [
    "diaDBSource <- src_mysql(\"diamonds.db\")"
   ]
  },
  {
   "cell_type": "code",
   "execution_count": null,
   "metadata": {},
   "outputs": [],
   "source": [
    "diaDB <- tbl(diaDBSource, \"diamonds\")"
   ]
  },
  {
   "cell_type": "code",
   "execution_count": null,
   "metadata": {},
   "outputs": [],
   "source": [
    "diaDB %>% group_by(cut) %>% dplyr::summarize(price=mean(price))\n",
    "# 이런식으로 데이터베이스에 바로 읽어오면서 \n",
    "# 우리가 원하는 연산을 바로 해줄 수도 있겠다. "
   ]
  },
  {
   "cell_type": "code",
   "execution_count": 77,
   "metadata": {},
   "outputs": [
    {
     "name": "stderr",
     "output_type": "stream",
     "text": [
      "Installing package into ‘/home/wonseok/R/x86_64-pc-linux-gnu-library/4.1’\n",
      "(as ‘lib’ is unspecified)\n",
      "\n",
      "Warning message in install.packages(\"RMySQL\"):\n",
      "“installation of package ‘RMySQL’ had non-zero exit status”\n"
     ]
    }
   ],
   "source": [
    "install.packages(\"RMySQL\")"
   ]
  },
  {
   "cell_type": "code",
   "execution_count": null,
   "metadata": {},
   "outputs": [],
   "source": []
  }
 ],
 "metadata": {
  "kernelspec": {
   "display_name": "R",
   "language": "R",
   "name": "ir"
  },
  "language_info": {
   "codemirror_mode": "r",
   "file_extension": ".r",
   "mimetype": "text/x-r-source",
   "name": "R",
   "pygments_lexer": "r",
   "version": "4.1.0"
  },
  "toc": {
   "base_numbering": 1,
   "nav_menu": {},
   "number_sections": true,
   "sideBar": true,
   "skip_h1_title": false,
   "title_cell": "Table of Contents",
   "title_sidebar": "Contents",
   "toc_cell": false,
   "toc_position": {},
   "toc_section_display": true,
   "toc_window_display": false
  }
 },
 "nbformat": 4,
 "nbformat_minor": 4
}
